{
 "cells": [
  {
   "cell_type": "code",
   "execution_count": 9,
   "id": "6931303a",
   "metadata": {},
   "outputs": [],
   "source": [
    "# Import numpy\n",
    "import numpy as np"
   ]
  },
  {
   "cell_type": "code",
   "execution_count": 18,
   "id": "65f7c739",
   "metadata": {},
   "outputs": [],
   "source": [
    "# Initialize input and weight size\n",
    "R = 30\n",
    "S = 30\n",
    "Q = 3"
   ]
  },
  {
   "cell_type": "code",
   "execution_count": 19,
   "id": "4989e852",
   "metadata": {},
   "outputs": [],
   "source": [
    "# Initialize the empty weights\n",
    "W = np.empty(shape=(R, S), dtype=float)"
   ]
  },
  {
   "cell_type": "code",
   "execution_count": 29,
   "id": "4bdbe9d8",
   "metadata": {},
   "outputs": [],
   "source": [
    "# Initialize sample inputs list\n",
    "PT = np.empty(shape=(Q, R), dtype=float)\n",
    "\n",
    "# Number zero\n",
    "PT[0] = np.array(\n",
    "       [-1,  1,  1,  1,  1, -1,\n",
    "         1, -1, -1, -1, -1,  1,\n",
    "         1, -1, -1, -1, -1,  1,\n",
    "         1, -1, -1, -1, -1,  1,\n",
    "        -1,  1,  1,  1,  1, -1]\n",
    ")\n",
    "\n",
    "# Number one\n",
    "PT[1] = np.array(\n",
    "       [-1, -1, -1, -1, -1, -1,\n",
    "         1, -1, -1, -1, -1, -1,\n",
    "         1,  1,  1,  1,  1,  1,\n",
    "         1, -1, -1, -1, -1, -1,\n",
    "        -1, -1, -1, -1, -1, -1]\n",
    ")\n",
    "\n",
    "# Number two\n",
    "PT[2] = np.array(\n",
    "       [ 1, -1, -1, -1, -1, -1,\n",
    "         1, -1, -1,  1,  1,  1,\n",
    "         1, -1, -1,  1, -1,  1,\n",
    "        -1,  1,  1, -1, -1,  1,\n",
    "        -1, -1, -1, -1, -1,  1]\n",
    ")"
   ]
  },
  {
   "cell_type": "code",
   "execution_count": 30,
   "id": "b4f36d28",
   "metadata": {},
   "outputs": [],
   "source": [
    "# Train the weights\n",
    "W = np.matmul(PT.transpose(), PT)"
   ]
  },
  {
   "cell_type": "code",
   "execution_count": null,
   "id": "d6287810",
   "metadata": {},
   "outputs": [],
   "source": [
    "# Define symetrical hardlim function\n",
    "def hardlims(x):\n",
    "    if x >= 0:\n",
    "        return 1\n",
    "    return -1\n",
    "# Define function to evaluate patterns\n",
    "def a(P):\n",
    "    "
   ]
  },
  {
   "cell_type": "code",
   "execution_count": 33,
   "id": "bd0406ae",
   "metadata": {},
   "outputs": [],
   "source": [
    "# Create 50% occluded patterns\n",
    "\n",
    "POT = np.empty(shape=(Q, R), dtype=float)\n",
    "\n",
    "# Number zero\n",
    "PT[0] = np.array(\n",
    "       [-1,  1,  1, -1, -1, -1,\n",
    "         1, -1, -1, -1, -1, -1,\n",
    "         1, -1, -1, -1, -1, -1,\n",
    "         1, -1, -1, -1, -1, -1,\n",
    "        -1,  1,  1, -1, -1, -1]\n",
    ")\n",
    "\n",
    "# Number one\n",
    "PT[1] = np.array(\n",
    "       [-1, -1, -1, -1, -1, -1,\n",
    "         1, -1, -1, -1, -1, -1,\n",
    "         1,  1,  1,  1,  1,  1,\n",
    "         1, -1, -1, -1, -1, -1,\n",
    "        -1, -1, -1, -1, -1, -1]\n",
    ")\n",
    "\n",
    "# Number two\n",
    "PT[2] = np.array(\n",
    "       [ 1, -1, -1, -1, -1, -1,\n",
    "         1, -1, -1,  1,  1,  1,\n",
    "         1, -1, -1,  1, -1,  1,\n",
    "        -1,  1,  1, -1, -1,  1,\n",
    "        -1, -1, -1, -1, -1,  1]\n",
    ")"
   ]
  },
  {
   "cell_type": "code",
   "execution_count": 36,
   "id": "0444b2d9",
   "metadata": {},
   "outputs": [],
   "source": [
    "# Test the patterns\n",
    "\n",
    "OT = np.matmul(W, POT.transpose())"
   ]
  },
  {
   "cell_type": "code",
   "execution_count": 37,
   "id": "8d1fc133",
   "metadata": {},
   "outputs": [
    {
     "data": {
      "text/plain": [
       "array([[-34., -26.,  26.],\n",
       "       [ 30., -34., -38.],\n",
       "       [ 30., -34., -38.],\n",
       "       [ 30., -34., -38.],\n",
       "       [ 30., -34., -38.],\n",
       "       [-30., -38., -34.],\n",
       "       [ 30.,  38.,  34.],\n",
       "       [-30., -38., -34.],\n",
       "       [-30., -38., -34.],\n",
       "       [-34., -26.,  26.],\n",
       "       [-34., -26.,  26.],\n",
       "       [ 26., -22.,  22.],\n",
       "       [ 30.,  38.,  34.],\n",
       "       [-26.,  22., -22.],\n",
       "       [-26.,  22., -22.],\n",
       "       [-30.,  34.,  38.],\n",
       "       [-26.,  22., -22.],\n",
       "       [ 30.,  38.,  34.],\n",
       "       [ 34.,  26., -26.],\n",
       "       [-34., -26.,  26.],\n",
       "       [-34., -26.,  26.],\n",
       "       [-30., -38., -34.],\n",
       "       [-30., -38., -34.],\n",
       "       [ 26., -22.,  22.],\n",
       "       [-30., -38., -34.],\n",
       "       [ 30., -34., -38.],\n",
       "       [ 30., -34., -38.],\n",
       "       [ 30., -34., -38.],\n",
       "       [ 30., -34., -38.],\n",
       "       [-34., -26.,  26.]])"
      ]
     },
     "execution_count": 37,
     "metadata": {},
     "output_type": "execute_result"
    }
   ],
   "source": [
    "OT"
   ]
  },
  {
   "cell_type": "code",
   "execution_count": null,
   "id": "176cc821",
   "metadata": {},
   "outputs": [],
   "source": []
  }
 ],
 "metadata": {
  "kernelspec": {
   "display_name": "tensorflow25",
   "language": "python",
   "name": "tensorflow25"
  },
  "language_info": {
   "codemirror_mode": {
    "name": "ipython",
    "version": 3
   },
   "file_extension": ".py",
   "mimetype": "text/x-python",
   "name": "python",
   "nbconvert_exporter": "python",
   "pygments_lexer": "ipython3",
   "version": "3.8.16"
  }
 },
 "nbformat": 4,
 "nbformat_minor": 5
}
