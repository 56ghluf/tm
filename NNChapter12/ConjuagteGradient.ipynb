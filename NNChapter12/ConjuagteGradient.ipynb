{
 "cells": [
  {
   "cell_type": "code",
   "execution_count": 6,
   "id": "17d0953b",
   "metadata": {},
   "outputs": [],
   "source": [
    "import numpy as np\n",
    "from sys import path\n",
    "path.append('../tools')\n",
    "from tools import logsig"
   ]
  },
  {
   "cell_type": "code",
   "execution_count": 7,
   "id": "1c737cad",
   "metadata": {},
   "outputs": [],
   "source": [
    "def get_expected_output(X):\n",
    "    return logsig(np.dot(logsig(X * np.array([10, 10]) + np.array([-5, 5])), np.array([1, 1])) + -1)"
   ]
  },
  {
   "cell_type": "code",
   "execution_count": 8,
   "id": "5704f28d",
   "metadata": {},
   "outputs": [],
   "source": [
    "vec_get_y = np.vectorize(get_expected_output)"
   ]
  },
  {
   "cell_type": "code",
   "execution_count": 9,
   "id": "91245844",
   "metadata": {},
   "outputs": [],
   "source": [
    "x_train = np.linspace(-2, 2, 82)\n",
    "y_train = vec_get_y(x_train)"
   ]
  },
  {
   "cell_type": "code",
   "execution_count": 10,
   "id": "ed880644",
   "metadata": {},
   "outputs": [],
   "source": [
    "x_train = x_train.reshape(len(x_train), 1)\n",
    "y_train = y_train.reshape(len(y_train), 1)"
   ]
  },
  {
   "cell_type": "code",
   "execution_count": 3,
   "id": "206c490d",
   "metadata": {},
   "outputs": [],
   "source": [
    "# Create the model with keras and tensorflow\n",
    "# Adapted from : https://keras.io/guides/custom_train_step_in_tensorflow/\n",
    "\n",
    "# Imports. Need to do this environment stuff for some reason\n",
    "import os\n",
    "\n",
    "os.environ[\"KERAS_BACKEND\"] = \"tensorflow\"\n",
    "\n",
    "import tensorflow as tf\n",
    "import keras\n",
    "from keras import layers"
   ]
  },
  {
   "cell_type": "code",
   "execution_count": 12,
   "id": "afe8c7e2-4d97-49ca-8cc8-db7d76fc91eb",
   "metadata": {},
   "outputs": [],
   "source": [
    "class CustomModel(keras.Model):\n",
    "    @tf.function\n",
    "    def train_step(self, data):\n",
    "        # Unpack data\n",
    "        x, y = data\n",
    "\n",
    "        # Compute the loss\n",
    "        with tf.GradientTape() as tape:\n",
    "            y_pred = self(x, training=True)\n",
    "            loss = self.compute_loss(y=y, y_pred=y_pred)\n",
    "\n",
    "        # Compute the gradient\n",
    "        gradient = tape.gradient(loss, self.trainable_variables)\n",
    "\n",
    "        # Update the weights\n",
    "        self.optimizer.apply(gradient, self.trainable_variables)\n",
    "\n",
    "        # Update metrics\n",
    "        for metric in self.metrics:\n",
    "            if metric.name == 'loss':\n",
    "                metric.update_state(loss)\n",
    "            else:\n",
    "                metric.update_state(y, y_pred)\n",
    "\n",
    "        # Return the metrics\n",
    "        return {m.name: m.result() for m in self.metrics}"
   ]
  },
  {
   "cell_type": "code",
   "execution_count": 13,
   "id": "0726cf1e",
   "metadata": {},
   "outputs": [
    {
     "name": "stdout",
     "output_type": "stream",
     "text": [
      "Epoch 1/3\n",
      "\u001b[1m3/3\u001b[0m \u001b[32m━━━━━━━━━━━━━━━━━━━━\u001b[0m\u001b[37m\u001b[0m \u001b[1m0s\u001b[0m 2ms/step - accuracy: 0.0000e+00 - mse: 2.7979 - loss: 2.7685  \n",
      "Epoch 2/3\n",
      "\u001b[1m3/3\u001b[0m \u001b[32m━━━━━━━━━━━━━━━━━━━━\u001b[0m\u001b[37m\u001b[0m \u001b[1m0s\u001b[0m 943us/step - accuracy: 0.0000e+00 - mse: 1.7943 - loss: 1.7864\n",
      "Epoch 3/3\n",
      "\u001b[1m3/3\u001b[0m \u001b[32m━━━━━━━━━━━━━━━━━━━━\u001b[0m\u001b[37m\u001b[0m \u001b[1m0s\u001b[0m 952us/step - accuracy: 0.0000e+00 - mse: 1.2364 - loss: 1.2440\n"
     ]
    },
    {
     "data": {
      "text/plain": [
       "<keras.src.callbacks.history.History at 0x169b68810>"
      ]
     },
     "execution_count": 13,
     "metadata": {},
     "output_type": "execute_result"
    }
   ],
   "source": [
    "# Construct and compile an instance of CustomModel\n",
    "inputs = keras.Input(shape=(1,))\n",
    "x = keras.layers.Dense(2)(inputs)\n",
    "outputs = keras.layers.Dense(1)(x)\n",
    "model = CustomModel(inputs, outputs)\n",
    "model.compile(optimizer=\"SGD\", loss=\"mse\", metrics=['accuracy', 'mse'])\n",
    "\n",
    "model.fit(x_train, y_train, epochs=3)"
   ]
  },
  {
   "cell_type": "code",
   "execution_count": 16,
   "id": "b73b7b64-5891-416e-8992-8caffb964520",
   "metadata": {},
   "outputs": [],
   "source": [
    "y_pred = model(x_train, training=False)"
   ]
  }
 ],
 "metadata": {
  "kernelspec": {
   "display_name": "tf216",
   "language": "python",
   "name": "tf216"
  },
  "language_info": {
   "codemirror_mode": {
    "name": "ipython",
    "version": 3
   },
   "file_extension": ".py",
   "mimetype": "text/x-python",
   "name": "python",
   "nbconvert_exporter": "python",
   "pygments_lexer": "ipython3",
   "version": "3.12.3"
  }
 },
 "nbformat": 4,
 "nbformat_minor": 5
}
