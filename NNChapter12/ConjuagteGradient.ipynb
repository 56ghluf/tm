{
 "cells": [
  {
   "cell_type": "code",
   "execution_count": 33,
   "id": "17d0953b",
   "metadata": {},
   "outputs": [],
   "source": [
    "import numpy as np\n",
    "import matplotlib.pyplot as plt\n",
    "from sys import path\n",
    "path.append('../tools')\n",
    "from tools import logsig, deriv_logsig"
   ]
  },
  {
   "cell_type": "code",
   "execution_count": 68,
   "id": "8f12b5e5",
   "metadata": {},
   "outputs": [],
   "source": [
    "layer_sizes = np.array([1, 2, 1])\n",
    "transfer_functions = np.array([logsig, logsig])\n",
    "deriv_transfer_functions = np.array([deriv_logsig, deriv_logsig])\n",
    "\n",
    "w_list = [np.random.rand(layer_sizes[i+1], layer_sizes[i]) for i in range(len(layer_sizes)-1)]\n",
    "b_list = [np.random.rand(s, 1) for s in layer_sizes[1:]]\n",
    "n_list = [np.empty((s, 1), dtype=float) for s in layer_sizes[1:]]\n",
    "a_list = [np.empty((s, 1), dtype=float) for s in layer_sizes[1:]]\n",
    "s_list = [np.empty((s, 1), dtype=float) for s in layer_sizes[1:]]"
   ]
  },
  {
   "cell_type": "code",
   "execution_count": 28,
   "id": "b5dda69d",
   "metadata": {},
   "outputs": [],
   "source": [
    "def get_output(X):\n",
    "    # Get output for initial layer\n",
    "    n_list[0] = np.matmul(w_list[0], X) + b_list[0]\n",
    "    a_list[0] = transfer_functions[0](n_list[0])\n",
    "    \n",
    "    # Get output for the rest of the layers\n",
    "    for i in range(1, len(w_list)):\n",
    "        n_list[i] = np.matmul(w_list[i], a_list[i-1]) + b_list[i]\n",
    "        a_list[i] = transfer_functions[i](n_list[i])"
   ]
  },
  {
   "cell_type": "code",
   "execution_count": 72,
   "id": "1c737cad",
   "metadata": {},
   "outputs": [],
   "source": [
    "def get_expected_output(X):\n",
    "    return logsig(np.dot(logsig(X * np.array([10, 10]) + np.array([-5, 5])), np.array([1, 1])) + -1)"
   ]
  },
  {
   "cell_type": "code",
   "execution_count": 73,
   "id": "5704f28d",
   "metadata": {},
   "outputs": [],
   "source": [
    "vec_get_y = np.vectorize(get_expected_output)"
   ]
  },
  {
   "cell_type": "code",
   "execution_count": 74,
   "id": "91245844",
   "metadata": {},
   "outputs": [],
   "source": [
    "inputs = np.linspace(-2, 2, 82)\n",
    "outputs = vec_get_y(x)"
   ]
  },
  {
   "cell_type": "code",
   "execution_count": 75,
   "id": "d4b0aec6",
   "metadata": {},
   "outputs": [
    {
     "data": {
      "text/plain": [
       "[<matplotlib.lines.Line2D at 0x27f0de0ec40>]"
      ]
     },
     "execution_count": 75,
     "metadata": {},
     "output_type": "execute_result"
    },
    {
     "data": {
      "image/png": "[encoded data removed]",
      "text/plain": [
       "<Figure size 640x480 with 1 Axes>"
      ]
     },
     "metadata": {},
     "output_type": "display_data"
    }
   ],
   "source": [
    "plt.xlim(-2, 2)\n",
    "plt.ylim(0, 1)\n",
    "plt.plot(x, y)"
   ]
  },
  {
   "cell_type": "code",
   "execution_count": 102,
   "id": "ccee0c1e",
   "metadata": {},
   "outputs": [],
   "source": [
    "def fill_F_dot(layer_number):\n",
    "    f = np.zeros((layer_sizes[layer_number], layer_sizes[layer_number]))\n",
    "    np.fill_diagonal(f, transfer_functions[layer_number-1](n_list[layer_number-1]).reshape(layer_sizes[layer_number]))\n",
    "    return f"
   ]
  },
  {
   "cell_type": "code",
   "execution_count": 103,
   "id": "2cffa9e3",
   "metadata": {},
   "outputs": [
    {
     "name": "stdout",
     "output_type": "stream",
     "text": [
      "[[0.65950807]]\n"
     ]
    }
   ],
   "source": [
    "def calc_sensibilities(X, Y):\n",
    "    get_output(X)\n",
    "    s_list[-1] = -2 * np.matmul(fill_F_dot(-1), Y - a_list[-1]))\n",
    "    \n",
    "    for i in range(len(s_list)-1, -1, -1)"
   ]
  },
  {
   "cell_type": "code",
   "execution_count": 105,
   "id": "e520ae99",
   "metadata": {},
   "outputs": [
    {
     "name": "stdout",
     "output_type": "stream",
     "text": [
      "3\n",
      "2\n",
      "1\n",
      "0\n"
     ]
    }
   ],
   "source": [
    "for i in range(3, -1, -1):\n",
    "    print(i)"
   ]
  }
 ],
 "metadata": {
  "kernelspec": {
   "display_name": "tensorflow25",
   "language": "python",
   "name": "tensorflow25"
  },
  "language_info": {
   "codemirror_mode": {
    "name": "ipython",
    "version": 3
   },
   "file_extension": ".py",
   "mimetype": "text/x-python",
   "name": "python",
   "nbconvert_exporter": "python",
   "pygments_lexer": "ipython3",
   "version": "3.8.16"
  }
 },
 "nbformat": 4,
 "nbformat_minor": 5
}
