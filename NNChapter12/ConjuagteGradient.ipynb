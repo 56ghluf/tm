{
 "cells": [
  {
   "cell_type": "code",
   "execution_count": 1,
   "id": "17d0953b",
   "metadata": {},
   "outputs": [],
   "source": [
    "import numpy as np\n",
    "from sys import path\n",
    "path.append('../tools')\n",
    "from tools import logsig"
   ]
  },
  {
   "cell_type": "code",
   "execution_count": 2,
   "id": "1c737cad",
   "metadata": {},
   "outputs": [],
   "source": [
    "def get_expected_output(X):\n",
    "    return logsig(np.dot(logsig(X * np.array([10, 10]) + np.array([-5, 5])), np.array([1, 1])) + -1)"
   ]
  },
  {
   "cell_type": "code",
   "execution_count": 3,
   "id": "5704f28d",
   "metadata": {},
   "outputs": [],
   "source": [
    "vec_get_y = np.vectorize(get_expected_output)"
   ]
  },
  {
   "cell_type": "code",
   "execution_count": 4,
   "id": "91245844",
   "metadata": {},
   "outputs": [],
   "source": [
    "x_train = np.linspace(-2, 2, 82)\n",
    "y_train = vec_get_y(x_train)"
   ]
  },
  {
   "cell_type": "code",
   "execution_count": 5,
   "id": "ed880644",
   "metadata": {},
   "outputs": [],
   "source": [
    "x_train = x_train.reshape(len(x_train), 1)\n",
    "y_train = y_train.reshape(len(y_train), 1)"
   ]
  },
  {
   "cell_type": "code",
   "execution_count": 6,
   "id": "206c490d",
   "metadata": {},
   "outputs": [],
   "source": [
    "# Create the model with keras and tensorflow\n",
    "# Adapted from : https://keras.io/guides/custom_train_step_in_tensorflow/\n",
    "\n",
    "# Imports. Need to do this environment stuff for some reason\n",
    "import os\n",
    "\n",
    "os.environ[\"KERAS_BACKEND\"] = \"tensorflow\"\n",
    "\n",
    "import tensorflow as tf\n",
    "import keras\n",
    "from keras import layers"
   ]
  },
  {
   "cell_type": "code",
   "execution_count": 54,
   "id": "afe8c7e2-4d97-49ca-8cc8-db7d76fc91eb",
   "metadata": {},
   "outputs": [],
   "source": [
    "# Create the model\n",
    "class CustomModel(keras.Model):\n",
    "    def __init__(self, *args, **kwargs):\n",
    "        super().__init__(*args, **kwargs)\n",
    "        self.search_direction = None\n",
    "        self.f_search_direction = None\n",
    "        self.beta = None\n",
    "        self.old_f_gradients = None\n",
    "    \n",
    "    def update_weights(self, lr, weights):\n",
    "        for i in range(len(self.trainable_variables)):\n",
    "            self.trainable_variables[i].assign(weights[i] + lr*self.search_direction[i])\n",
    "\n",
    "    @tf.function\n",
    "    def train_step(self, data):\n",
    "        # Unpack the data. Its structure depends on your model and\n",
    "        # on what you pass to `fit()`.\n",
    "        x, y = data\n",
    "\n",
    "        with tf.GradientTape() as tape:\n",
    "            y_pred = self(x, training=True)  # Forward pass\n",
    "            # Compute the loss value\n",
    "            # (the loss function is configured in `compile()`)\n",
    "            loss = self.compute_loss(y=y, y_pred=y_pred)\n",
    "\n",
    "        # Compute gradients\n",
    "        trainable_vars = self.trainable_variables\n",
    "        gradients = tape.gradient(loss, trainable_vars)\n",
    "        f_gradients = tf.concat([tf.reshape(gradient, [-1]) for gradient in gradients], 0)\n",
    "\n",
    "        # Get the search direction\n",
    "        if self.search_direction is None:\n",
    "            self.search_direction = [- x for x in gradients]\n",
    "            self.f_search_direction = -f_gradients\n",
    "            self.old_f_gradients = f_gradients\n",
    "    \n",
    "        if self.search_direction is not None:\n",
    "            gradient_delta = f_gradients - self.old_f_gradients\n",
    "            self.beta = tf.tensordot(gradient_delta, f_gradients, 1) / tf.tensordot(gradient_delta, self.f_search_direction, 1)\n",
    "            self.f_search_direction = -f_gradients + self.beta * self.f_search_direction\n",
    "            \n",
    "            # Unflatten the search direction\n",
    "            # Step 1: get the amount of variables needed\n",
    "            # for weight/bias matrix\n",
    "            shapes = [x.shape for x in gradients]\n",
    "            sizes = []\n",
    "            for shape in shapes:\n",
    "                prod = 1\n",
    "                for size in shape:\n",
    "                    prod *= size\n",
    "                sizes.append(prod)\n",
    "            \n",
    "            # Step 2: create the unflattened tensors\n",
    "            # and replace in search direction\n",
    "            start_slice = 0\n",
    "            end_slice = 0\n",
    "            for i in range(len(shapes)):\n",
    "                end_slice += sizes[i]\n",
    "                self.search_direction[i] = tf.reshape(self.f_search_direction[start_slice:end_slice], shapes[i])\n",
    "                start_slice += sizes[i]\n",
    "            \n",
    "        # Find interval for the best learning rate\n",
    "        if self.beta is not None:\n",
    "            # Interval search\n",
    "            # Initial guess for learning rate\n",
    "            a = 0.01\n",
    "            # Update the weights and evaluate loss\n",
    "            self.update_weights(a, trainable_vars)\n",
    "            e_a = self.compute_loss(y=y, y_pred=self(x, training=True))\n",
    "\n",
    "            # Get second bound of initial guess\n",
    "            b = 2*a\n",
    "            self.update_weights(b, trainable_vars)\n",
    "            e_b = self.compute_loss(y=y, y_pred=self(x, training=True))\n",
    "\n",
    "            for i in tf.range(10000):\n",
    "                # Update the variables\n",
    "                # Keep track of furthest back\n",
    "                old_a = a\n",
    "                old_e_a = e_a\n",
    "                # Middle bound\n",
    "                a = b\n",
    "                e_a = e_b\n",
    "                # Furthest\n",
    "                b = 2*b\n",
    "                self.update_weights(b, trainable_vars)\n",
    "                e_b = self.compute_loss(y=y, y_pred=self(x, training=True))\n",
    "\n",
    "                # Check whether the error has increased\n",
    "                if tf.math.greater(e_b, e_a):\n",
    "                    a = old_a\n",
    "                    e_a = old_e_a\n",
    "                    # We found the interval, break\n",
    "                    print('Interval found')\n",
    "                    break\n",
    "                    \n",
    "        # Update weights\n",
    "        # self.optimizer.apply([-x for x in self.search_direction], trainable_vars)\n",
    "\n",
    "        # Update metrics (includes the metric that tracks the loss)\n",
    "        for metric in self.metrics:\n",
    "            if metric.name == \"loss\":\n",
    "                metric.update_state(loss)\n",
    "            else:\n",
    "                metric.update_state(y, y_pred)\n",
    "\n",
    "        # Return a dict mapping metric names to current value\n",
    "        return {m.name: m.result() for m in self.metrics}"
   ]
  },
  {
   "cell_type": "code",
   "execution_count": 55,
   "id": "0726cf1e",
   "metadata": {},
   "outputs": [
    {
     "name": "stdout",
     "output_type": "stream",
     "text": [
      "Epoch 1/3\n",
      "Interval found\n",
      "Interval found\n"
     ]
    },
    {
     "ename": "InaccessibleTensorError",
     "evalue": "<tf.Tensor 'concat:0' shape=(7,) dtype=float32> is out of scope and cannot be used here. Use return values, explicit Python locals or TensorFlow collections to access it.\nPlease see https://www.tensorflow.org/guide/function#all_outputs_of_a_tffunction_must_be_return_values for more information.\n\n<tf.Tensor 'concat:0' shape=(7,) dtype=float32> was defined here:\n    File \"<frozen runpy>\", line 198, in _run_module_as_main\n    File \"<frozen runpy>\", line 88, in _run_code\n    File \"/Users/reid/dev/PythonCode/tm/env/lib/python3.11/site-packages/ipykernel_launcher.py\", line 17, in <module>\n    File \"/Users/reid/dev/PythonCode/tm/env/lib/python3.11/site-packages/traitlets/config/application.py\", line 1043, in launch_instance\n    File \"/Users/reid/dev/PythonCode/tm/env/lib/python3.11/site-packages/ipykernel/kernelapp.py\", line 736, in start\n    File \"/Users/reid/dev/PythonCode/tm/env/lib/python3.11/site-packages/tornado/platform/asyncio.py\", line 195, in start\n    File \"/opt/homebrew/Cellar/python@3.11/3.11.4_1/Frameworks/Python.framework/Versions/3.11/lib/python3.11/asyncio/base_events.py\", line 607, in run_forever\n    File \"/opt/homebrew/Cellar/python@3.11/3.11.4_1/Frameworks/Python.framework/Versions/3.11/lib/python3.11/asyncio/base_events.py\", line 1922, in _run_once\n    File \"/opt/homebrew/Cellar/python@3.11/3.11.4_1/Frameworks/Python.framework/Versions/3.11/lib/python3.11/asyncio/events.py\", line 80, in _run\n    File \"/Users/reid/dev/PythonCode/tm/env/lib/python3.11/site-packages/ipykernel/kernelbase.py\", line 516, in dispatch_queue\n    File \"/Users/reid/dev/PythonCode/tm/env/lib/python3.11/site-packages/ipykernel/kernelbase.py\", line 505, in process_one\n    File \"/Users/reid/dev/PythonCode/tm/env/lib/python3.11/site-packages/ipykernel/kernelbase.py\", line 412, in dispatch_shell\n    File \"/Users/reid/dev/PythonCode/tm/env/lib/python3.11/site-packages/ipykernel/kernelbase.py\", line 740, in execute_request\n    File \"/Users/reid/dev/PythonCode/tm/env/lib/python3.11/site-packages/ipykernel/ipkernel.py\", line 422, in do_execute\n    File \"/Users/reid/dev/PythonCode/tm/env/lib/python3.11/site-packages/ipykernel/zmqshell.py\", line 546, in run_cell\n    File \"/Users/reid/dev/PythonCode/tm/env/lib/python3.11/site-packages/IPython/core/interactiveshell.py\", line 3009, in run_cell\n    File \"/Users/reid/dev/PythonCode/tm/env/lib/python3.11/site-packages/IPython/core/interactiveshell.py\", line 3064, in _run_cell\n    File \"/Users/reid/dev/PythonCode/tm/env/lib/python3.11/site-packages/IPython/core/async_helpers.py\", line 129, in _pseudo_sync_runner\n    File \"/Users/reid/dev/PythonCode/tm/env/lib/python3.11/site-packages/IPython/core/interactiveshell.py\", line 3269, in run_cell_async\n    File \"/Users/reid/dev/PythonCode/tm/env/lib/python3.11/site-packages/IPython/core/interactiveshell.py\", line 3448, in run_ast_nodes\n    File \"/Users/reid/dev/PythonCode/tm/env/lib/python3.11/site-packages/IPython/core/interactiveshell.py\", line 3508, in run_code\n    File \"/var/folders/0k/bydhdy6d4rd5bgm5xr_s4tdr0000gn/T/ipykernel_1926/3632477776.py\", line 8, in <module>\n    File \"/Users/reid/dev/PythonCode/tm/env/lib/python3.11/site-packages/keras/src/utils/traceback_utils.py\", line 117, in error_handler\n    File \"/Users/reid/dev/PythonCode/tm/env/lib/python3.11/site-packages/keras/src/backend/tensorflow/trainer.py\", line 325, in fit\n    File \"/Users/reid/dev/PythonCode/tm/env/lib/python3.11/site-packages/keras/src/backend/tensorflow/trainer.py\", line 118, in one_step_on_iterator\n    File \"/Users/reid/dev/PythonCode/tm/env/lib/python3.11/site-packages/keras/src/backend/tensorflow/trainer.py\", line 106, in one_step_on_data\n    File \"/var/folders/0k/bydhdy6d4rd5bgm5xr_s4tdr0000gn/T/ipykernel_1926/3431290895.py\", line 29, in train_step\n\nThe tensor <tf.Tensor 'concat:0' shape=(7,) dtype=float32> cannot be accessed from FuncGraph(name=one_step_on_data, id=12924314944), because it was defined in FuncGraph(name=train_step, id=12901645888), which is out of scope.",
     "output_type": "error",
     "traceback": [
      "\u001b[0;31m---------------------------------------------------------------------------\u001b[0m",
      "\u001b[0;31mInaccessibleTensorError\u001b[0m                   Traceback (most recent call last)",
      "Cell \u001b[0;32mIn[55], line 8\u001b[0m\n\u001b[1;32m      5\u001b[0m model \u001b[38;5;241m=\u001b[39m CustomModel(inputs, outputs)\n\u001b[1;32m      6\u001b[0m model\u001b[38;5;241m.\u001b[39mcompile(optimizer\u001b[38;5;241m=\u001b[39m\u001b[38;5;124m\"\u001b[39m\u001b[38;5;124mSGD\u001b[39m\u001b[38;5;124m\"\u001b[39m, loss\u001b[38;5;241m=\u001b[39m\u001b[38;5;124m\"\u001b[39m\u001b[38;5;124mmse\u001b[39m\u001b[38;5;124m\"\u001b[39m, metrics\u001b[38;5;241m=\u001b[39m[\u001b[38;5;124m'\u001b[39m\u001b[38;5;124maccuracy\u001b[39m\u001b[38;5;124m'\u001b[39m, \u001b[38;5;124m'\u001b[39m\u001b[38;5;124mmse\u001b[39m\u001b[38;5;124m'\u001b[39m])\n\u001b[0;32m----> 8\u001b[0m \u001b[43mmodel\u001b[49m\u001b[38;5;241;43m.\u001b[39;49m\u001b[43mfit\u001b[49m\u001b[43m(\u001b[49m\u001b[43mx_train\u001b[49m\u001b[43m,\u001b[49m\u001b[43m \u001b[49m\u001b[43my_train\u001b[49m\u001b[43m,\u001b[49m\u001b[43m \u001b[49m\u001b[43mepochs\u001b[49m\u001b[38;5;241;43m=\u001b[39;49m\u001b[38;5;241;43m3\u001b[39;49m\u001b[43m)\u001b[49m\n",
      "File \u001b[0;32m~/dev/PythonCode/tm/env/lib/python3.11/site-packages/keras/src/utils/traceback_utils.py:122\u001b[0m, in \u001b[0;36mfilter_traceback.<locals>.error_handler\u001b[0;34m(*args, **kwargs)\u001b[0m\n\u001b[1;32m    119\u001b[0m     filtered_tb \u001b[38;5;241m=\u001b[39m _process_traceback_frames(e\u001b[38;5;241m.\u001b[39m__traceback__)\n\u001b[1;32m    120\u001b[0m     \u001b[38;5;66;03m# To get the full stack trace, call:\u001b[39;00m\n\u001b[1;32m    121\u001b[0m     \u001b[38;5;66;03m# `keras.config.disable_traceback_filtering()`\u001b[39;00m\n\u001b[0;32m--> 122\u001b[0m     \u001b[38;5;28;01mraise\u001b[39;00m e\u001b[38;5;241m.\u001b[39mwith_traceback(filtered_tb) \u001b[38;5;28;01mfrom\u001b[39;00m \u001b[38;5;28;01mNone\u001b[39;00m\n\u001b[1;32m    123\u001b[0m \u001b[38;5;28;01mfinally\u001b[39;00m:\n\u001b[1;32m    124\u001b[0m     \u001b[38;5;28;01mdel\u001b[39;00m filtered_tb\n",
      "File \u001b[0;32m~/dev/PythonCode/tm/env/lib/python3.11/site-packages/tensorflow/core/function/capture/capture_container.py:144\u001b[0m, in \u001b[0;36mFunctionCaptures.capture_by_value\u001b[0;34m(self, graph, tensor, name)\u001b[0m\n\u001b[1;32m    141\u001b[0m   \u001b[38;5;28;01mreturn\u001b[39;00m \u001b[38;5;28mself\u001b[39m\u001b[38;5;241m.\u001b[39m_create_placeholder_helper(graph, tensor, name)\n\u001b[1;32m    143\u001b[0m \u001b[38;5;28;01mif\u001b[39;00m tensor\u001b[38;5;241m.\u001b[39mgraph \u001b[38;5;129;01mis\u001b[39;00m \u001b[38;5;129;01mnot\u001b[39;00m graph:\n\u001b[0;32m--> 144\u001b[0m   \u001b[43mgraph\u001b[49m\u001b[38;5;241;43m.\u001b[39;49m\u001b[43m_validate_in_scope\u001b[49m\u001b[43m(\u001b[49m\u001b[43mtensor\u001b[49m\u001b[43m)\u001b[49m  \u001b[38;5;66;03m# pylint: disable=protected-access\u001b[39;00m\n\u001b[1;32m    145\u001b[0m   \u001b[38;5;28;01mif\u001b[39;00m name \u001b[38;5;129;01mis\u001b[39;00m \u001b[38;5;28;01mNone\u001b[39;00m:\n\u001b[1;32m    146\u001b[0m     \u001b[38;5;28;01massert\u001b[39;00m tensor\u001b[38;5;241m.\u001b[39mop \u001b[38;5;129;01mis\u001b[39;00m \u001b[38;5;129;01mnot\u001b[39;00m \u001b[38;5;28;01mNone\u001b[39;00m, (\n\u001b[1;32m    147\u001b[0m         tensor\u001b[38;5;241m.\u001b[39m\u001b[38;5;18m__class__\u001b[39m,\n\u001b[1;32m    148\u001b[0m         \u001b[38;5;28mdir\u001b[39m(tensor),\n\u001b[1;32m    149\u001b[0m         tensor\u001b[38;5;241m.\u001b[39m\u001b[38;5;18m__class__\u001b[39m\u001b[38;5;241m.\u001b[39m\u001b[38;5;18m__name__\u001b[39m,\n\u001b[1;32m    150\u001b[0m     )\n",
      "\u001b[0;31mInaccessibleTensorError\u001b[0m: <tf.Tensor 'concat:0' shape=(7,) dtype=float32> is out of scope and cannot be used here. Use return values, explicit Python locals or TensorFlow collections to access it.\nPlease see https://www.tensorflow.org/guide/function#all_outputs_of_a_tffunction_must_be_return_values for more information.\n\n<tf.Tensor 'concat:0' shape=(7,) dtype=float32> was defined here:\n    File \"<frozen runpy>\", line 198, in _run_module_as_main\n    File \"<frozen runpy>\", line 88, in _run_code\n    File \"/Users/reid/dev/PythonCode/tm/env/lib/python3.11/site-packages/ipykernel_launcher.py\", line 17, in <module>\n    File \"/Users/reid/dev/PythonCode/tm/env/lib/python3.11/site-packages/traitlets/config/application.py\", line 1043, in launch_instance\n    File \"/Users/reid/dev/PythonCode/tm/env/lib/python3.11/site-packages/ipykernel/kernelapp.py\", line 736, in start\n    File \"/Users/reid/dev/PythonCode/tm/env/lib/python3.11/site-packages/tornado/platform/asyncio.py\", line 195, in start\n    File \"/opt/homebrew/Cellar/python@3.11/3.11.4_1/Frameworks/Python.framework/Versions/3.11/lib/python3.11/asyncio/base_events.py\", line 607, in run_forever\n    File \"/opt/homebrew/Cellar/python@3.11/3.11.4_1/Frameworks/Python.framework/Versions/3.11/lib/python3.11/asyncio/base_events.py\", line 1922, in _run_once\n    File \"/opt/homebrew/Cellar/python@3.11/3.11.4_1/Frameworks/Python.framework/Versions/3.11/lib/python3.11/asyncio/events.py\", line 80, in _run\n    File \"/Users/reid/dev/PythonCode/tm/env/lib/python3.11/site-packages/ipykernel/kernelbase.py\", line 516, in dispatch_queue\n    File \"/Users/reid/dev/PythonCode/tm/env/lib/python3.11/site-packages/ipykernel/kernelbase.py\", line 505, in process_one\n    File \"/Users/reid/dev/PythonCode/tm/env/lib/python3.11/site-packages/ipykernel/kernelbase.py\", line 412, in dispatch_shell\n    File \"/Users/reid/dev/PythonCode/tm/env/lib/python3.11/site-packages/ipykernel/kernelbase.py\", line 740, in execute_request\n    File \"/Users/reid/dev/PythonCode/tm/env/lib/python3.11/site-packages/ipykernel/ipkernel.py\", line 422, in do_execute\n    File \"/Users/reid/dev/PythonCode/tm/env/lib/python3.11/site-packages/ipykernel/zmqshell.py\", line 546, in run_cell\n    File \"/Users/reid/dev/PythonCode/tm/env/lib/python3.11/site-packages/IPython/core/interactiveshell.py\", line 3009, in run_cell\n    File \"/Users/reid/dev/PythonCode/tm/env/lib/python3.11/site-packages/IPython/core/interactiveshell.py\", line 3064, in _run_cell\n    File \"/Users/reid/dev/PythonCode/tm/env/lib/python3.11/site-packages/IPython/core/async_helpers.py\", line 129, in _pseudo_sync_runner\n    File \"/Users/reid/dev/PythonCode/tm/env/lib/python3.11/site-packages/IPython/core/interactiveshell.py\", line 3269, in run_cell_async\n    File \"/Users/reid/dev/PythonCode/tm/env/lib/python3.11/site-packages/IPython/core/interactiveshell.py\", line 3448, in run_ast_nodes\n    File \"/Users/reid/dev/PythonCode/tm/env/lib/python3.11/site-packages/IPython/core/interactiveshell.py\", line 3508, in run_code\n    File \"/var/folders/0k/bydhdy6d4rd5bgm5xr_s4tdr0000gn/T/ipykernel_1926/3632477776.py\", line 8, in <module>\n    File \"/Users/reid/dev/PythonCode/tm/env/lib/python3.11/site-packages/keras/src/utils/traceback_utils.py\", line 117, in error_handler\n    File \"/Users/reid/dev/PythonCode/tm/env/lib/python3.11/site-packages/keras/src/backend/tensorflow/trainer.py\", line 325, in fit\n    File \"/Users/reid/dev/PythonCode/tm/env/lib/python3.11/site-packages/keras/src/backend/tensorflow/trainer.py\", line 118, in one_step_on_iterator\n    File \"/Users/reid/dev/PythonCode/tm/env/lib/python3.11/site-packages/keras/src/backend/tensorflow/trainer.py\", line 106, in one_step_on_data\n    File \"/var/folders/0k/bydhdy6d4rd5bgm5xr_s4tdr0000gn/T/ipykernel_1926/3431290895.py\", line 29, in train_step\n\nThe tensor <tf.Tensor 'concat:0' shape=(7,) dtype=float32> cannot be accessed from FuncGraph(name=one_step_on_data, id=12924314944), because it was defined in FuncGraph(name=train_step, id=12901645888), which is out of scope."
     ]
    }
   ],
   "source": [
    "# Construct and compile an instance of CustomModel\n",
    "inputs = keras.Input(shape=(1,))\n",
    "x = keras.layers.Dense(2)(inputs)\n",
    "outputs = keras.layers.Dense(1)(x)\n",
    "model = CustomModel(inputs, outputs)\n",
    "model.compile(optimizer=\"SGD\", loss=\"mse\", metrics=['accuracy', 'mse'])\n",
    "\n",
    "model.fit(x_train, y_train, epochs=3)"
   ]
  }
 ],
 "metadata": {
  "kernelspec": {
   "display_name": "tm",
   "language": "python",
   "name": "tm"
  },
  "language_info": {
   "codemirror_mode": {
    "name": "ipython",
    "version": 3
   },
   "file_extension": ".py",
   "mimetype": "text/x-python",
   "name": "python",
   "nbconvert_exporter": "python",
   "pygments_lexer": "ipython3",
   "version": "3.11.4"
  }
 },
 "nbformat": 4,
 "nbformat_minor": 5
}
