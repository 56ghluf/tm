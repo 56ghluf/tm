{
 "cells": [
  {
   "cell_type": "code",
   "execution_count": 1,
   "id": "b84f3c0d-0ef4-4786-a173-f84ae624f253",
   "metadata": {},
   "outputs": [],
   "source": [
    "# Imports\n",
    "import numpy as np"
   ]
  },
  {
   "cell_type": "code",
   "execution_count": 2,
   "id": "6f472b88-a3a4-4b8d-a53e-18e34ff70219",
   "metadata": {},
   "outputs": [],
   "source": [
    "# Import the tools\n",
    "from sys import path\n",
    "path.append('/Users/reid/dev/PythonCode/tm/tools')\n",
    "path.append('D:/PythonCode/tm/tools')\n",
    "from tools import gen_inputs_outputs, logsig, lin, deriv_logsig, deriv_lin, e2"
   ]
  },
  {
   "cell_type": "code",
   "execution_count": 3,
   "id": "6bfddd31-1531-4b5f-9b6e-26726405aef0",
   "metadata": {},
   "outputs": [],
   "source": [
    "# Define the size of the network\n",
    "# Order by layers (input, layer1, layer2, ...)\n",
    "# !!! No output layer yet, wait to gen inputs\n",
    "layer_sizes = [4, 7]"
   ]
  },
  {
   "cell_type": "code",
   "execution_count": 4,
   "id": "79899160-bb87-42b0-9724-442688c4fcbe",
   "metadata": {},
   "outputs": [],
   "source": [
    "# Gen inputs, outputs and size of the last layer\n",
    "inputs, outputs, S = gen_inputs_outputs(layer_sizes[0])"
   ]
  },
  {
   "cell_type": "code",
   "execution_count": 5,
   "id": "bbf53b7f-a7bc-44b9-82df-d9f112726b92",
   "metadata": {},
   "outputs": [],
   "source": [
    "# Append the output layer size\n",
    "layer_sizes = np.array(layer_sizes + [S], dtype=int)"
   ]
  },
  {
   "cell_type": "code",
   "execution_count": 6,
   "id": "3c1a6b04-33fd-4159-80c3-4590112d951b",
   "metadata": {},
   "outputs": [
    {
     "data": {
      "text/plain": [
       "array([4, 7, 3])"
      ]
     },
     "execution_count": 6,
     "metadata": {},
     "output_type": "execute_result"
    }
   ],
   "source": [
    "# Network shape\n",
    "layer_sizes"
   ]
  },
  {
   "cell_type": "code",
   "execution_count": 7,
   "id": "b93dbe42-c6ff-40d8-963b-d38d7c9c6381",
   "metadata": {},
   "outputs": [
    {
     "data": {
      "text/plain": [
       "array([[0, 0, 0, 0],\n",
       "       [0, 0, 0, 1],\n",
       "       [0, 0, 1, 0],\n",
       "       [0, 0, 1, 1],\n",
       "       [0, 1, 0, 0],\n",
       "       [0, 1, 0, 1],\n",
       "       [0, 1, 1, 0],\n",
       "       [0, 1, 1, 1],\n",
       "       [1, 0, 0, 0],\n",
       "       [1, 0, 0, 1],\n",
       "       [1, 0, 1, 0],\n",
       "       [1, 0, 1, 1],\n",
       "       [1, 1, 0, 0],\n",
       "       [1, 1, 0, 1],\n",
       "       [1, 1, 1, 0],\n",
       "       [1, 1, 1, 1]])"
      ]
     },
     "execution_count": 7,
     "metadata": {},
     "output_type": "execute_result"
    }
   ],
   "source": [
    "# Inputs\n",
    "inputs"
   ]
  },
  {
   "cell_type": "code",
   "execution_count": 8,
   "id": "ae97cbdf-c716-48e4-ae91-3d6fab5fbc0d",
   "metadata": {},
   "outputs": [
    {
     "data": {
      "text/plain": [
       "array([[0, 0, 0],\n",
       "       [0, 0, 1],\n",
       "       [0, 1, 0],\n",
       "       [0, 1, 1],\n",
       "       [0, 0, 1],\n",
       "       [0, 1, 0],\n",
       "       [0, 1, 1],\n",
       "       [1, 0, 0],\n",
       "       [0, 1, 0],\n",
       "       [0, 1, 1],\n",
       "       [1, 0, 0],\n",
       "       [1, 0, 1],\n",
       "       [0, 1, 1],\n",
       "       [1, 0, 0],\n",
       "       [1, 0, 1],\n",
       "       [1, 1, 0]])"
      ]
     },
     "execution_count": 8,
     "metadata": {},
     "output_type": "execute_result"
    }
   ],
   "source": [
    "# Outputs\n",
    "outputs"
   ]
  },
  {
   "cell_type": "code",
   "execution_count": 9,
   "id": "df41116d-c038-4df0-a8b7-bbd6672d9192",
   "metadata": {},
   "outputs": [],
   "source": [
    "# Intialize the weights and biases randomly\n",
    "# Also create the list to store the outputs of each layer\n",
    "# Store the outptut for each layer\n",
    "# Finally create the list of the sensitivities\n",
    "weights_list = []\n",
    "biases_list = []\n",
    "n_list = []\n",
    "a_list = []\n",
    "s_list = []"
   ]
  },
  {
   "cell_type": "code",
   "execution_count": 10,
   "id": "ff640418-72ed-4f90-b9eb-833bc8e09cfe",
   "metadata": {},
   "outputs": [],
   "source": [
    "# Define a function to reset all the parameters\n",
    "# This is done to test multiple different network types\n",
    "def reset_params():\n",
    "    weights_list.clear()\n",
    "    biases_list.clear()\n",
    "    n_list.clear()\n",
    "    a_list.clear()\n",
    "    s_list.clear()\n",
    "    for i in range(1, len(layer_sizes)):\n",
    "        weights_list.append(np.random.rand(layer_sizes[i], layer_sizes[i-1]))\n",
    "        biases_list.append(np.random.rand(layer_sizes[i], 1))\n",
    "        n_list.append(np.empty((layer_sizes[i], 1), dtype=float))\n",
    "        a_list.append(np.empty((layer_sizes[i], 1), dtype=float))\n",
    "        s_list.append(np.empty((layer_sizes[i], 1), dtype=float))"
   ]
  },
  {
   "cell_type": "code",
   "execution_count": 11,
   "id": "040cdd31-cac6-4a10-9c96-2948d962c54b",
   "metadata": {},
   "outputs": [],
   "source": [
    "# Define the transfer functions\n",
    "transfer_functions = [logsig, lin]"
   ]
  },
  {
   "cell_type": "code",
   "execution_count": 12,
   "id": "f34b2228",
   "metadata": {},
   "outputs": [],
   "source": [
    "# Define the vectors with the derivatives of the transfer functions\n",
    "# These need to be converted to dialation matrices\n",
    "# but this is done after the partial derivatives are calculated\n",
    "# so that the numerical values can be multiplied by the identity matrix\n",
    "# makes my life easier\n",
    "deriv_transfer_functions = [deriv_logsig, deriv_lin]"
   ]
  },
  {
   "cell_type": "code",
   "execution_count": 13,
   "id": "727d6d3b-bb81-41b1-a20e-79d86f88da64",
   "metadata": {},
   "outputs": [],
   "source": [
    "# Define a function to calculate the output of the network\n",
    "# while also saving the data\n",
    "# Assuming that the input is already a Rx1 matrix\n",
    "def run_network(X):\n",
    "    # Get the input for the first layer so that\n",
    "    # no need to use X and can calculate\n",
    "    # recursively\n",
    "    n_list[0] = np.matmul(weights_list[0], X) + biases_list[0]\n",
    "    a_list[0] = transfer_functions[0](n_list[0])\n",
    "\n",
    "    # Calculate the rest of the outptut\n",
    "    for i in range(1, len(weights_list)):\n",
    "        n_list[i] = np.matmul(weights_list[i], a_list[i-1]) + biases_list[i]\n",
    "        a_list[i] = transfer_functions[i](n_list[i])"
   ]
  },
  {
   "cell_type": "code",
   "execution_count": 14,
   "id": "430cdf1f-3c41-4f7b-8f10-7fe740c3fef5",
   "metadata": {},
   "outputs": [],
   "source": [
    "# Calculate the senstivites for the last layer\n",
    "# Write a function to fill the diagonal of the matrix\n",
    "def fill_F_dot(layer_num):\n",
    "    a = np.identity(len(n_list[layer_num]), float)\n",
    "    np.fill_diagonal(a, deriv_transfer_functions[layer_num](n_list[layer_num]).flatten())\n",
    "    return a\n",
    "\n",
    "def train_network(learning_rate=.1, epochs=1):\n",
    "    for i in range(epochs):\n",
    "        # Iterate through the inputs and outputs\n",
    "        for i in range(len(inputs)):\n",
    "            # Run the network\n",
    "            run_network(inputs[i].reshape(layer_sizes[0], 1))\n",
    "\n",
    "            # Get the dialation matrix for the last layer\n",
    "            F_dot = fill_F_dot(-1)\n",
    "\n",
    "            # Calculate the sensitivites for the last layer\n",
    "            s_list[-1] = -2 * np.matmul(F_dot, outputs[i].reshape(layer_sizes[-1], 1)-a_list[-1])\n",
    "\n",
    "            # Update the weights and biases for the last layer\n",
    "            weights_list[-1] += -learning_rate*np.matmul(s_list[-1], a_list[-2].T)\n",
    "            biases_list[-1] += -learning_rate*s_list[-1]\n",
    "\n",
    "            # Iterate through the remaining layers backwards\n",
    "            for i in range(len(n_list)-2, 0, -1):\n",
    "                s_list[i] = (1/layer_sizes[i+1]) * np.matmul(np.matmul(fill_F_dot(i), weights_list[i+1].T), s_list[i+1])\n",
    "                weights_list[i] += -learning_rate*np.matmul(s_list[i], a_list[i-1].T)\n",
    "                biases_list[i] += -learning_rate*s_list[i]"
   ]
  },
  {
   "cell_type": "code",
   "execution_count": 15,
   "id": "a2795ae9-2a81-4d6d-8985-3d59af9425e5",
   "metadata": {
    "scrolled": true
   },
   "outputs": [],
   "source": [
    "# Function to evaluate the performance\n",
    "# of the network\n",
    "def performance():\n",
    "    results = np.empty((len(inputs), layer_sizes[-1]), dtype=float)\n",
    "    for i in range(len(inputs)):\n",
    "        run_network(inputs[i].reshape(layer_sizes[0], 1))\n",
    "        results[i] = outputs[i] - a_list[-1].flatten()\n",
    "    return e2(results)"
   ]
  },
  {
   "cell_type": "code",
   "execution_count": 16,
   "id": "e825b533-0f93-4b76-8195-415d5b3b9065",
   "metadata": {},
   "outputs": [],
   "source": [
    "# Print performance\n",
    "def print_performance_dict(performance_dict):\n",
    "    for a in sorted(performance_dict.items(), key=lambda x: x[1]):\n",
    "        print(f'Error: {a[1]} | ' + a[0])"
   ]
  },
  {
   "cell_type": "code",
   "execution_count": 17,
   "id": "ac7602d8",
   "metadata": {},
   "outputs": [],
   "source": [
    "# Trains netowrk using the parameters for each bit size\n",
    "def update_performance_dict(layer_sizes_list, performance_dict):\n",
    "    for layer_sizes in layer_sizes_list:\n",
    "        # Get the inputs and outputs for the specifiq network size\n",
    "        inputs, outputs, S = gen_inputs_outputs(layer_sizes[0])\n",
    "        layer_sizes.append(S)\n",
    "    \n",
    "        # Iterate through the different learning rates\n",
    "        # and epochs\n",
    "        for rate in learning_rates:\n",
    "            for epochs in epochs_list:\n",
    "                # Reset weights and biases\n",
    "                reset_params()\n",
    "                # Train the network\n",
    "                train_network(learning_rate=rate, epochs=epochs)\n",
    "                # Update the performance dict\n",
    "                performance_dict.update({f'Layers: {layer_sizes}, Learning rate: {rate}, Epochs: {epochs}': performance()})"
   ]
  },
  {
   "cell_type": "code",
   "execution_count": 18,
   "id": "60afa525-7577-458f-b6e3-8a4cf362b952",
   "metadata": {},
   "outputs": [],
   "source": [
    "### !!! Do not run code underneath until saving to the file\n",
    "### It trains 22000 different networks\n",
    "# Performance dictionnaries of the network\n",
    "performance_dict_2bits = {}\n",
    "performance_dict_4bits = {}\n",
    "performance_dict_8bits = {}"
   ]
  },
  {
   "cell_type": "code",
   "execution_count": 19,
   "id": "957eb418-c39e-4a66-9023-4af7573462b0",
   "metadata": {},
   "outputs": [],
   "source": [
    "# Parameters that won't change despite differnt layer sizes\n",
    "# Set different learning rates\n",
    "learning_rates = [1/(16*(2**i)) for i in range(10)]\n",
    "\n",
    "# Set the diffrent epochs\n",
    "epochs_list = [i for i in range(1, 21)]"
   ]
  },
  {
   "cell_type": "code",
   "execution_count": 20,
   "id": "48a0e709",
   "metadata": {
    "scrolled": true
   },
   "outputs": [],
   "source": [
    "# Multiple different layer sizes\n",
    "# Start with 1 hidden layer\n",
    "layer_sizes_list_2bits = [[4, 2*(2**i)]for i in range(10)]\n",
    "layer_sizes_list_4bits = [[8, 2*(2**i)]for i in range(10)]\n",
    "layer_sizes_list_8bits = [[16, 2*(2**i)]for i in range(10)]"
   ]
  },
  {
   "cell_type": "code",
   "execution_count": 21,
   "id": "6d0f0575-efb5-4c96-85df-fc0e1450e68b",
   "metadata": {},
   "outputs": [],
   "source": [
    "# Calculate performance for 1 hidden layer\n",
    "# 2 bits\n",
    "update_performance_dict(layer_sizes_list_2bits, performance_dict_2bits)\n",
    "# 4 bits\n",
    "update_performance_dict(layer_sizes_list_4bits, performance_dict_4bits)\n",
    "# 8 bits\n",
    "update_performance_dict(layer_sizes_list_8bits, performance_dict_8bits)"
   ]
  },
  {
   "cell_type": "code",
   "execution_count": 22,
   "id": "c10735f5-04b3-4432-8436-af626574fe26",
   "metadata": {},
   "outputs": [],
   "source": [
    "# 2 Hidden layers\n",
    "# Redefine the transfer functions\n",
    "transfer_funtions = [logsig, logsig, lin]\n",
    "deriv_transfer_functions = [deriv_logsig, deriv_logsig, deriv_lin]\n",
    "\n",
    "# New layer sizes\n",
    "layer_sizes_list_2bits = [[4, 2*(2**i), 2*(2**j)] for j in range(10) for i in range(10)]\n",
    "layer_sizes_list_4bits = [[8, 2*(2**i), 2*(2**j)] for j in range(10) for i in range(10)]\n",
    "layer_sizes_list_8bits = [[16, 2*(2**i), 2*(2**j)] for j in range(10) for i in range(10)]"
   ]
  },
  {
   "cell_type": "code",
   "execution_count": 23,
   "id": "3f90dadf-2fc3-49be-a7c8-4248f4b59ec4",
   "metadata": {},
   "outputs": [],
   "source": [
    "# Calculate the performance for 2 hidden layers\n",
    "# 2 bits\n",
    "update_performance_dict(layer_sizes_list_2bits, performance_dict_2bits)\n",
    "# 4 bits\n",
    "update_performance_dict(layer_sizes_list_4bits, performance_dict_4bits)\n",
    "# 8 bits\n",
    "update_performance_dict(layer_sizes_list_8bits, performance_dict_8bits)"
   ]
  },
  {
   "cell_type": "code",
   "execution_count": 24,
   "id": "7df991ea-5884-49ee-b418-1e9edd3e688c",
   "metadata": {},
   "outputs": [
    {
     "name": "stderr",
     "output_type": "stream",
     "text": [
      "IOPub data rate exceeded.\n",
      "The Jupyter server will temporarily stop sending output\n",
      "to the client in order to avoid crashing it.\n",
      "To change this limit, set the config variable\n",
      "`--ServerApp.iopub_data_rate_limit`.\n",
      "\n",
      "Current values:\n",
      "ServerApp.iopub_data_rate_limit=1000000.0 (bytes/sec)\n",
      "ServerApp.rate_limit_window=3.0 (secs)\n",
      "\n"
     ]
    }
   ],
   "source": [
    "print('-'*7 + '2bits' + '-'*7)\n",
    "print_performance_dict(performance_dict_2bits)\n",
    "print('-'*7 + '4bits' + '-'*7)\n",
    "print_performance_dict(performance_dict_4bits)\n",
    "print('-'*7 + '8bits' + '-'*7)\n",
    "print_performance_dict(performance_dict_8bits)"
   ]
  },
  {
   "cell_type": "code",
   "execution_count": 25,
   "id": "bb685cf8-803e-450a-a063-e21cdd3fc840",
   "metadata": {},
   "outputs": [],
   "source": [
    "# Save the data of the performance dicts\n",
    "performance_dicts = [performance_dict_2bits, performance_dict_4bits, performance_dict_8bits]\n",
    "for i in range(len(performance_dicts)):\n",
    "    with open(f'/Users/reid/dev/PythonCode/tm/BackPropagationBinaryCalcs/data/{2**(i+1)}bit_performance.txt', 'w') as f:\n",
    "        f.write('parameters,performance\\n')\n",
    "        f.writelines([f'{x}\\n' for x in sorted(list(performance_dicts[i].items()), key=lambda x: x[1], reverse=True)])\n",
    "### You can run code below this"
   ]
  },
  {
   "cell_type": "code",
   "execution_count": 35,
   "id": "2379fd6e-0469-46dc-9b68-d910b7c469bc",
   "metadata": {},
   "outputs": [],
   "source": [
    "# Chose a few networks from the data file to run tests on\n",
    "# General parameters\n",
    "learning_rates = [0.001953125, 0.00390625, 0.0078125]\n",
    "epochs_list = [12, 15, 17, 5, 14, 19]"
   ]
  },
  {
   "cell_type": "code",
   "execution_count": 36,
   "id": "3934c577-4e55-4162-b10e-39b5740597da",
   "metadata": {},
   "outputs": [],
   "source": [
    "# Start with one hidden layer\n",
    "transfer_funtions = [logsig, lin]\n",
    "deriv_transfer_functions = [deriv_logsig, deriv_lin]\n",
    "\n",
    "layer_sizes_list_2bits = [\n",
    "    [4, 2],\n",
    "    [4, 32],\n",
    "    [4, 64],\n",
    "]\n",
    "layer_sizes_list_4bits = [\n",
    "    [8, 64],\n",
    "    [8, 2],\n",
    "    [8, 1024],\n",
    "]\n",
    "layer_sizes_list_8bits = [\n",
    "    [16, 16],\n",
    "    [16, 64],\n",
    "    [16, 4],\n",
    "]"
   ]
  },
  {
   "cell_type": "code",
   "execution_count": 37,
   "id": "b9e87e10-d95d-42b8-8073-6e2e0cee87e0",
   "metadata": {},
   "outputs": [],
   "source": [
    "# Write a function to calculate the average performance\n",
    "def update_average_performance_dict(layer_sizes_list, average_performance_dict, n_samples):\n",
    "    for layer_sizes in layer_sizes_list:\n",
    "        inputs, outputs, S = gen_inputs_outputs(layer_sizes[0])\n",
    "        layer_sizes.append(S)\n",
    "\n",
    "        cumulated_performance = 0\n",
    "        \n",
    "        for rate in learning_rates:\n",
    "                for epochs in epochs_list:\n",
    "                    for i in range(n_samples):\n",
    "                        reset_params()\n",
    "                        train_network(learning_rate=rate, epochs=epochs)\n",
    "                        cumulated_performance += performance()\n",
    "                        \n",
    "                    average_performance_dict.update({f'Layers: {layer_sizes}, Learning rate: {rate}, Epochs: {epochs}': cumulated_performance/n_samples})   "
   ]
  },
  {
   "cell_type": "code",
   "execution_count": 38,
   "id": "cc88c856-fd54-430b-8889-fec8af69db80",
   "metadata": {},
   "outputs": [],
   "source": [
    "average_performance_dict_2bits = {}\n",
    "average_performance_dict_4bits = {}\n",
    "average_performance_dict_8bits = {}"
   ]
  },
  {
   "cell_type": "code",
   "execution_count": 39,
   "id": "d8df65e5-bae1-47e5-814a-0cc1d73b5511",
   "metadata": {},
   "outputs": [],
   "source": [
    "update_average_performance_dict(layer_sizes_list_2bits, average_performance_dict_2bits, 100)\n",
    "update_average_performance_dict(layer_sizes_list_4bits, average_performance_dict_4bits, 100)\n",
    "update_average_performance_dict(layer_sizes_list_8bits, average_performance_dict_8bits, 100)"
   ]
  },
  {
   "cell_type": "code",
   "execution_count": 40,
   "id": "69fdb65c-6136-442b-8ccd-0f45f7daa461",
   "metadata": {},
   "outputs": [],
   "source": [
    "# Two hidden layers\n",
    "transfer_funtions = [logsig, logsig, lin]\n",
    "deriv_transfer_functions = [deriv_logsig, deriv_logsig, deriv_lin]\n",
    "\n",
    "layer_sizes_list_2bits = [\n",
    "    [4, 8, 2],\n",
    "    [4, 2, 128],\n",
    "    [4, 256, 32],\n",
    "]\n",
    "layer_sizes_list_4bits = [\n",
    "    [8, 32, 64],\n",
    "    [8, 1024, 64],\n",
    "    [8, 2, 256],\n",
    "]\n",
    "layer_sizes_list_8bits = [\n",
    "    [16, 8, 8],\n",
    "    [16, 2, 1024],\n",
    "    [16, 16, 4],\n",
    "]"
   ]
  },
  {
   "cell_type": "code",
   "execution_count": 41,
   "id": "b8214975-888b-47c6-a8b1-023ff536c2e4",
   "metadata": {},
   "outputs": [],
   "source": [
    "update_average_performance_dict(layer_sizes_list_2bits, average_performance_dict_2bits, 100)\n",
    "update_average_performance_dict(layer_sizes_list_4bits, average_performance_dict_4bits, 100)\n",
    "update_average_performance_dict(layer_sizes_list_8bits, average_performance_dict_8bits, 100)"
   ]
  },
  {
   "cell_type": "code",
   "execution_count": 42,
   "id": "b4f42f99-ecc1-4622-bbac-6ef2ae645b5a",
   "metadata": {},
   "outputs": [
    {
     "name": "stdout",
     "output_type": "stream",
     "text": [
      "----------2 bit average----------\n",
      "Error: 11.460068781359611 | Layers: [4, 2, 3], Learning rate: 0.001953125, Epochs: 12\n",
      "Error: 11.48203628413301 | Layers: [4, 8, 2, 3], Learning rate: 0.001953125, Epochs: 12\n",
      "Error: 11.524338593942225 | Layers: [4, 64, 3], Learning rate: 0.001953125, Epochs: 12\n",
      "Error: 11.531541756151785 | Layers: [4, 256, 32, 3], Learning rate: 0.001953125, Epochs: 12\n",
      "Error: 11.566986991316405 | Layers: [4, 2, 128, 3], Learning rate: 0.001953125, Epochs: 12\n",
      "Error: 11.576464551020958 | Layers: [4, 32, 3], Learning rate: 0.001953125, Epochs: 12\n",
      "Error: 22.887242525816713 | Layers: [4, 2, 3], Learning rate: 0.001953125, Epochs: 15\n",
      "Error: 22.943874028690683 | Layers: [4, 8, 2, 3], Learning rate: 0.001953125, Epochs: 15\n",
      "Error: 22.951411722395427 | Layers: [4, 32, 3], Learning rate: 0.001953125, Epochs: 15\n",
      "Error: 22.95310391531206 | Layers: [4, 256, 32, 3], Learning rate: 0.001953125, Epochs: 15\n",
      "Error: 22.96310516706822 | Layers: [4, 2, 128, 3], Learning rate: 0.001953125, Epochs: 15\n",
      "Error: 22.994510344201277 | Layers: [4, 64, 3], Learning rate: 0.001953125, Epochs: 15\n",
      "Error: 34.26325927252837 | Layers: [4, 2, 3], Learning rate: 0.001953125, Epochs: 17\n",
      "Error: 34.31064101171691 | Layers: [4, 256, 32, 3], Learning rate: 0.001953125, Epochs: 17\n",
      "Error: 34.34815396458068 | Layers: [4, 8, 2, 3], Learning rate: 0.001953125, Epochs: 17\n",
      "Error: 34.35071495255911 | Layers: [4, 2, 128, 3], Learning rate: 0.001953125, Epochs: 17\n",
      "Error: 34.3776866546212 | Layers: [4, 64, 3], Learning rate: 0.001953125, Epochs: 17\n",
      "Error: 34.39727645397177 | Layers: [4, 32, 3], Learning rate: 0.001953125, Epochs: 17\n",
      "Error: 58.14361994062903 | Layers: [4, 8, 2, 3], Learning rate: 0.001953125, Epochs: 5\n",
      "Error: 58.38507638751629 | Layers: [4, 2, 128, 3], Learning rate: 0.001953125, Epochs: 5\n",
      "Error: 58.51631488927753 | Layers: [4, 2, 3], Learning rate: 0.001953125, Epochs: 5\n",
      "Error: 58.575616171633335 | Layers: [4, 256, 32, 3], Learning rate: 0.001953125, Epochs: 5\n",
      "Error: 58.58120433904166 | Layers: [4, 64, 3], Learning rate: 0.001953125, Epochs: 5\n",
      "Error: 58.93606439328909 | Layers: [4, 32, 3], Learning rate: 0.001953125, Epochs: 5\n",
      "Error: 69.6156937035816 | Layers: [4, 8, 2, 3], Learning rate: 0.001953125, Epochs: 14\n",
      "Error: 69.84471800079416 | Layers: [4, 2, 128, 3], Learning rate: 0.001953125, Epochs: 14\n",
      "Error: 69.92204937037876 | Layers: [4, 2, 3], Learning rate: 0.001953125, Epochs: 14\n",
      "Error: 70.01980819534155 | Layers: [4, 256, 32, 3], Learning rate: 0.001953125, Epochs: 14\n",
      "Error: 70.03937171675437 | Layers: [4, 64, 3], Learning rate: 0.001953125, Epochs: 14\n",
      "Error: 70.41315136852249 | Layers: [4, 32, 3], Learning rate: 0.001953125, Epochs: 14\n",
      "Error: 80.94457188785773 | Layers: [4, 8, 2, 3], Learning rate: 0.001953125, Epochs: 19\n",
      "Error: 81.25518253063537 | Layers: [4, 2, 128, 3], Learning rate: 0.001953125, Epochs: 19\n",
      "Error: 81.28708354545418 | Layers: [4, 2, 3], Learning rate: 0.001953125, Epochs: 19\n",
      "Error: 81.38655172061144 | Layers: [4, 256, 32, 3], Learning rate: 0.001953125, Epochs: 19\n",
      "Error: 81.41711621705772 | Layers: [4, 64, 3], Learning rate: 0.001953125, Epochs: 19\n",
      "Error: 81.81000709121896 | Layers: [4, 32, 3], Learning rate: 0.001953125, Epochs: 19\n",
      "Error: 92.39343882550301 | Layers: [4, 8, 2, 3], Learning rate: 0.00390625, Epochs: 12\n",
      "Error: 92.63435009218574 | Layers: [4, 2, 128, 3], Learning rate: 0.00390625, Epochs: 12\n",
      "Error: 92.7392389421643 | Layers: [4, 256, 32, 3], Learning rate: 0.00390625, Epochs: 12\n",
      "Error: 92.74532104199369 | Layers: [4, 2, 3], Learning rate: 0.00390625, Epochs: 12\n",
      "Error: 92.84462834637262 | Layers: [4, 64, 3], Learning rate: 0.00390625, Epochs: 12\n",
      "Error: 93.23964327522155 | Layers: [4, 32, 3], Learning rate: 0.00390625, Epochs: 12\n",
      "Error: 103.798389087245 | Layers: [4, 8, 2, 3], Learning rate: 0.00390625, Epochs: 15\n",
      "Error: 104.03898537795281 | Layers: [4, 2, 128, 3], Learning rate: 0.00390625, Epochs: 15\n",
      "Error: 104.10718895443239 | Layers: [4, 2, 3], Learning rate: 0.00390625, Epochs: 15\n",
      "Error: 104.16817855145098 | Layers: [4, 256, 32, 3], Learning rate: 0.00390625, Epochs: 15\n",
      "Error: 104.22795771284709 | Layers: [4, 64, 3], Learning rate: 0.00390625, Epochs: 15\n",
      "Error: 104.66677773552419 | Layers: [4, 32, 3], Learning rate: 0.00390625, Epochs: 15\n",
      "Error: 115.26701496746271 | Layers: [4, 8, 2, 3], Learning rate: 0.00390625, Epochs: 17\n",
      "Error: 115.40475272544519 | Layers: [4, 2, 128, 3], Learning rate: 0.00390625, Epochs: 17\n",
      "Error: 115.51664934058252 | Layers: [4, 2, 3], Learning rate: 0.00390625, Epochs: 17\n",
      "Error: 115.56160363243133 | Layers: [4, 256, 32, 3], Learning rate: 0.00390625, Epochs: 17\n",
      "Error: 115.65327708817813 | Layers: [4, 64, 3], Learning rate: 0.00390625, Epochs: 17\n",
      "Error: 116.0793208960085 | Layers: [4, 32, 3], Learning rate: 0.00390625, Epochs: 17\n",
      "Error: 127.12240127326997 | Layers: [4, 8, 2, 3], Learning rate: 0.00390625, Epochs: 5\n",
      "Error: 127.27245136191686 | Layers: [4, 2, 128, 3], Learning rate: 0.00390625, Epochs: 5\n",
      "Error: 127.41085947998019 | Layers: [4, 2, 3], Learning rate: 0.00390625, Epochs: 5\n",
      "Error: 127.47415828154654 | Layers: [4, 256, 32, 3], Learning rate: 0.00390625, Epochs: 5\n",
      "Error: 127.54652787713718 | Layers: [4, 64, 3], Learning rate: 0.00390625, Epochs: 5\n",
      "Error: 128.04894616785225 | Layers: [4, 32, 3], Learning rate: 0.00390625, Epochs: 5\n",
      "Error: 138.53424712797568 | Layers: [4, 8, 2, 3], Learning rate: 0.00390625, Epochs: 14\n",
      "Error: 138.7064821204118 | Layers: [4, 2, 128, 3], Learning rate: 0.00390625, Epochs: 14\n",
      "Error: 138.873349996472 | Layers: [4, 2, 3], Learning rate: 0.00390625, Epochs: 14\n",
      "Error: 138.88128532589434 | Layers: [4, 256, 32, 3], Learning rate: 0.00390625, Epochs: 14\n",
      "Error: 138.9410615357443 | Layers: [4, 64, 3], Learning rate: 0.00390625, Epochs: 14\n",
      "Error: 139.4951437934081 | Layers: [4, 32, 3], Learning rate: 0.00390625, Epochs: 14\n",
      "Error: 149.92397908176733 | Layers: [4, 8, 2, 3], Learning rate: 0.00390625, Epochs: 19\n",
      "Error: 150.08130255818065 | Layers: [4, 2, 128, 3], Learning rate: 0.00390625, Epochs: 19\n",
      "Error: 150.28825451154782 | Layers: [4, 2, 3], Learning rate: 0.00390625, Epochs: 19\n",
      "Error: 150.29854961001112 | Layers: [4, 256, 32, 3], Learning rate: 0.00390625, Epochs: 19\n",
      "Error: 150.3658713998358 | Layers: [4, 64, 3], Learning rate: 0.00390625, Epochs: 19\n",
      "Error: 150.87386692217913 | Layers: [4, 32, 3], Learning rate: 0.00390625, Epochs: 19\n",
      "Error: 161.51086275385117 | Layers: [4, 8, 2, 3], Learning rate: 0.0078125, Epochs: 12\n",
      "Error: 161.5890624879181 | Layers: [4, 2, 128, 3], Learning rate: 0.0078125, Epochs: 12\n",
      "Error: 161.85712396414618 | Layers: [4, 2, 3], Learning rate: 0.0078125, Epochs: 12\n",
      "Error: 161.87341200076776 | Layers: [4, 256, 32, 3], Learning rate: 0.0078125, Epochs: 12\n",
      "Error: 161.91903811257987 | Layers: [4, 64, 3], Learning rate: 0.0078125, Epochs: 12\n",
      "Error: 162.440043360589 | Layers: [4, 32, 3], Learning rate: 0.0078125, Epochs: 12\n",
      "Error: 173.02589275497593 | Layers: [4, 8, 2, 3], Learning rate: 0.0078125, Epochs: 15\n",
      "Error: 173.16820263915758 | Layers: [4, 2, 128, 3], Learning rate: 0.0078125, Epochs: 15\n",
      "Error: 173.42380850697865 | Layers: [4, 256, 32, 3], Learning rate: 0.0078125, Epochs: 15\n",
      "Error: 173.47009507854546 | Layers: [4, 2, 3], Learning rate: 0.0078125, Epochs: 15\n",
      "Error: 173.47671968734082 | Layers: [4, 64, 3], Learning rate: 0.0078125, Epochs: 15\n",
      "Error: 173.98722796569788 | Layers: [4, 32, 3], Learning rate: 0.0078125, Epochs: 15\n",
      "Error: 184.61227908893218 | Layers: [4, 8, 2, 3], Learning rate: 0.0078125, Epochs: 17\n",
      "Error: 184.70840154453464 | Layers: [4, 2, 128, 3], Learning rate: 0.0078125, Epochs: 17\n",
      "Error: 184.91820322598088 | Layers: [4, 256, 32, 3], Learning rate: 0.0078125, Epochs: 17\n",
      "Error: 184.99109149794344 | Layers: [4, 64, 3], Learning rate: 0.0078125, Epochs: 17\n",
      "Error: 185.00882477048418 | Layers: [4, 2, 3], Learning rate: 0.0078125, Epochs: 17\n",
      "Error: 185.54048348649943 | Layers: [4, 32, 3], Learning rate: 0.0078125, Epochs: 17\n",
      "Error: 196.2448895979993 | Layers: [4, 8, 2, 3], Learning rate: 0.0078125, Epochs: 5\n",
      "Error: 196.36865477283638 | Layers: [4, 2, 128, 3], Learning rate: 0.0078125, Epochs: 5\n",
      "Error: 196.54415182534476 | Layers: [4, 256, 32, 3], Learning rate: 0.0078125, Epochs: 5\n",
      "Error: 196.635582482126 | Layers: [4, 2, 3], Learning rate: 0.0078125, Epochs: 5\n",
      "Error: 196.67147606246348 | Layers: [4, 64, 3], Learning rate: 0.0078125, Epochs: 5\n",
      "Error: 197.21961223081743 | Layers: [4, 32, 3], Learning rate: 0.0078125, Epochs: 5\n",
      "Error: 207.80839062688545 | Layers: [4, 8, 2, 3], Learning rate: 0.0078125, Epochs: 14\n",
      "Error: 207.89465828867029 | Layers: [4, 2, 128, 3], Learning rate: 0.0078125, Epochs: 14\n",
      "Error: 208.0933241962581 | Layers: [4, 256, 32, 3], Learning rate: 0.0078125, Epochs: 14\n",
      "Error: 208.18792950073387 | Layers: [4, 64, 3], Learning rate: 0.0078125, Epochs: 14\n",
      "Error: 208.20481240507567 | Layers: [4, 2, 3], Learning rate: 0.0078125, Epochs: 14\n",
      "Error: 208.72895548730423 | Layers: [4, 32, 3], Learning rate: 0.0078125, Epochs: 14\n",
      "Error: 219.33242566414347 | Layers: [4, 8, 2, 3], Learning rate: 0.0078125, Epochs: 19\n",
      "Error: 219.43162819268557 | Layers: [4, 2, 128, 3], Learning rate: 0.0078125, Epochs: 19\n",
      "Error: 219.59134032814956 | Layers: [4, 256, 32, 3], Learning rate: 0.0078125, Epochs: 19\n",
      "Error: 219.69978469704512 | Layers: [4, 2, 3], Learning rate: 0.0078125, Epochs: 19\n",
      "Error: 219.72333675939436 | Layers: [4, 64, 3], Learning rate: 0.0078125, Epochs: 19\n",
      "Error: 220.22138156413712 | Layers: [4, 32, 3], Learning rate: 0.0078125, Epochs: 19\n",
      "----------4 bit average----------\n",
      "Error: 11.501305130758572 | Layers: [8, 2, 5], Learning rate: 0.001953125, Epochs: 12\n",
      "Error: 11.512535436448136 | Layers: [8, 1024, 5], Learning rate: 0.001953125, Epochs: 12\n",
      "Error: 11.520850372361311 | Layers: [8, 1024, 64, 5], Learning rate: 0.001953125, Epochs: 12\n",
      "Error: 11.546019838933228 | Layers: [8, 64, 5], Learning rate: 0.001953125, Epochs: 12\n",
      "Error: 11.56360503576887 | Layers: [8, 2, 256, 5], Learning rate: 0.001953125, Epochs: 12\n",
      "Error: 11.568392513781896 | Layers: [8, 32, 64, 5], Learning rate: 0.001953125, Epochs: 12\n",
      "Error: 22.870061417549724 | Layers: [8, 1024, 5], Learning rate: 0.001953125, Epochs: 15\n",
      "Error: 22.92038170818915 | Layers: [8, 2, 5], Learning rate: 0.001953125, Epochs: 15\n",
      "Error: 22.931220881539378 | Layers: [8, 1024, 64, 5], Learning rate: 0.001953125, Epochs: 15\n",
      "Error: 22.972812869516446 | Layers: [8, 32, 64, 5], Learning rate: 0.001953125, Epochs: 15\n",
      "Error: 22.984225644229156 | Layers: [8, 64, 5], Learning rate: 0.001953125, Epochs: 15\n",
      "Error: 23.028009170471044 | Layers: [8, 2, 256, 5], Learning rate: 0.001953125, Epochs: 15\n",
      "Error: 34.261305890246696 | Layers: [8, 1024, 5], Learning rate: 0.001953125, Epochs: 17\n",
      "Error: 34.30156449008225 | Layers: [8, 32, 64, 5], Learning rate: 0.001953125, Epochs: 17\n",
      "Error: 34.35808129853286 | Layers: [8, 2, 5], Learning rate: 0.001953125, Epochs: 17\n",
      "Error: 34.36225680626231 | Layers: [8, 1024, 64, 5], Learning rate: 0.001953125, Epochs: 17\n",
      "Error: 34.37611803197508 | Layers: [8, 64, 5], Learning rate: 0.001953125, Epochs: 17\n",
      "Error: 34.40409165792312 | Layers: [8, 2, 256, 5], Learning rate: 0.001953125, Epochs: 17\n",
      "Error: 58.384607847665464 | Layers: [8, 32, 64, 5], Learning rate: 0.001953125, Epochs: 5\n",
      "Error: 58.67296910477613 | Layers: [8, 1024, 5], Learning rate: 0.001953125, Epochs: 5\n",
      "Error: 58.858207885254 | Layers: [8, 1024, 64, 5], Learning rate: 0.001953125, Epochs: 5\n",
      "Error: 58.886944323689484 | Layers: [8, 2, 5], Learning rate: 0.001953125, Epochs: 5\n",
      "Error: 59.18965498917868 | Layers: [8, 2, 256, 5], Learning rate: 0.001953125, Epochs: 5\n",
      "Error: 59.383768392770605 | Layers: [8, 64, 5], Learning rate: 0.001953125, Epochs: 5\n",
      "Error: 69.80913881572697 | Layers: [8, 32, 64, 5], Learning rate: 0.001953125, Epochs: 14\n",
      "Error: 70.0764840906175 | Layers: [8, 1024, 5], Learning rate: 0.001953125, Epochs: 14\n",
      "Error: 70.25925938355877 | Layers: [8, 1024, 64, 5], Learning rate: 0.001953125, Epochs: 14\n",
      "Error: 70.36093376349733 | Layers: [8, 2, 5], Learning rate: 0.001953125, Epochs: 14\n",
      "Error: 70.63111195072025 | Layers: [8, 2, 256, 5], Learning rate: 0.001953125, Epochs: 14\n",
      "Error: 70.80677050861267 | Layers: [8, 64, 5], Learning rate: 0.001953125, Epochs: 14\n",
      "Error: 81.16076612886529 | Layers: [8, 32, 64, 5], Learning rate: 0.001953125, Epochs: 19\n",
      "Error: 81.45985009479504 | Layers: [8, 1024, 5], Learning rate: 0.001953125, Epochs: 19\n",
      "Error: 81.69786743364799 | Layers: [8, 1024, 64, 5], Learning rate: 0.001953125, Epochs: 19\n",
      "Error: 81.7403503447737 | Layers: [8, 2, 5], Learning rate: 0.001953125, Epochs: 19\n",
      "Error: 81.9631901836526 | Layers: [8, 2, 256, 5], Learning rate: 0.001953125, Epochs: 19\n",
      "Error: 82.197705592945 | Layers: [8, 64, 5], Learning rate: 0.001953125, Epochs: 19\n",
      "Error: 92.62824019882432 | Layers: [8, 32, 64, 5], Learning rate: 0.00390625, Epochs: 12\n",
      "Error: 92.85849713424398 | Layers: [8, 1024, 5], Learning rate: 0.00390625, Epochs: 12\n",
      "Error: 93.14698725840324 | Layers: [8, 2, 5], Learning rate: 0.00390625, Epochs: 12\n",
      "Error: 93.1492861177285 | Layers: [8, 1024, 64, 5], Learning rate: 0.00390625, Epochs: 12\n",
      "Error: 93.40315182192536 | Layers: [8, 2, 256, 5], Learning rate: 0.00390625, Epochs: 12\n",
      "Error: 93.63321634857597 | Layers: [8, 64, 5], Learning rate: 0.00390625, Epochs: 12\n",
      "Error: 103.96622983581321 | Layers: [8, 32, 64, 5], Learning rate: 0.00390625, Epochs: 15\n",
      "Error: 104.23323481185426 | Layers: [8, 1024, 5], Learning rate: 0.00390625, Epochs: 15\n",
      "Error: 104.52941865634875 | Layers: [8, 1024, 64, 5], Learning rate: 0.00390625, Epochs: 15\n",
      "Error: 104.59157644907219 | Layers: [8, 2, 5], Learning rate: 0.00390625, Epochs: 15\n",
      "Error: 104.82840009256941 | Layers: [8, 2, 256, 5], Learning rate: 0.00390625, Epochs: 15\n",
      "Error: 105.02507137358259 | Layers: [8, 64, 5], Learning rate: 0.00390625, Epochs: 15\n",
      "Error: 115.41382653261364 | Layers: [8, 32, 64, 5], Learning rate: 0.00390625, Epochs: 17\n",
      "Error: 115.64264306645411 | Layers: [8, 1024, 5], Learning rate: 0.00390625, Epochs: 17\n",
      "Error: 115.91601863649912 | Layers: [8, 1024, 64, 5], Learning rate: 0.00390625, Epochs: 17\n",
      "Error: 115.99711426292117 | Layers: [8, 2, 5], Learning rate: 0.00390625, Epochs: 17\n",
      "Error: 116.24552402177365 | Layers: [8, 2, 256, 5], Learning rate: 0.00390625, Epochs: 17\n",
      "Error: 116.41232572091295 | Layers: [8, 64, 5], Learning rate: 0.00390625, Epochs: 17\n",
      "Error: 127.34164775882685 | Layers: [8, 32, 64, 5], Learning rate: 0.00390625, Epochs: 5\n",
      "Error: 127.58763509286419 | Layers: [8, 1024, 5], Learning rate: 0.00390625, Epochs: 5\n",
      "Error: 127.83451611277034 | Layers: [8, 1024, 64, 5], Learning rate: 0.00390625, Epochs: 5\n",
      "Error: 127.95852221630904 | Layers: [8, 2, 5], Learning rate: 0.00390625, Epochs: 5\n",
      "Error: 128.2023308744407 | Layers: [8, 2, 256, 5], Learning rate: 0.00390625, Epochs: 5\n",
      "Error: 128.34979066615205 | Layers: [8, 64, 5], Learning rate: 0.00390625, Epochs: 5\n",
      "Error: 138.8074622637932 | Layers: [8, 32, 64, 5], Learning rate: 0.00390625, Epochs: 14\n",
      "Error: 139.03116545093872 | Layers: [8, 1024, 5], Learning rate: 0.00390625, Epochs: 14\n",
      "Error: 139.2336917533783 | Layers: [8, 1024, 64, 5], Learning rate: 0.00390625, Epochs: 14\n",
      "Error: 139.37574186217518 | Layers: [8, 2, 5], Learning rate: 0.00390625, Epochs: 14\n",
      "Error: 139.6380801575497 | Layers: [8, 2, 256, 5], Learning rate: 0.00390625, Epochs: 14\n",
      "Error: 139.7800446896132 | Layers: [8, 64, 5], Learning rate: 0.00390625, Epochs: 14\n",
      "Error: 150.22715612439285 | Layers: [8, 32, 64, 5], Learning rate: 0.00390625, Epochs: 19\n",
      "Error: 150.41596550241195 | Layers: [8, 1024, 5], Learning rate: 0.00390625, Epochs: 19\n",
      "Error: 150.690815552672 | Layers: [8, 1024, 64, 5], Learning rate: 0.00390625, Epochs: 19\n",
      "Error: 150.7732613862491 | Layers: [8, 2, 5], Learning rate: 0.00390625, Epochs: 19\n",
      "Error: 151.05541810039864 | Layers: [8, 2, 256, 5], Learning rate: 0.00390625, Epochs: 19\n",
      "Error: 151.21618053910703 | Layers: [8, 64, 5], Learning rate: 0.00390625, Epochs: 19\n",
      "Error: 161.73055744088603 | Layers: [8, 32, 64, 5], Learning rate: 0.0078125, Epochs: 12\n",
      "Error: 161.93931597389636 | Layers: [8, 1024, 5], Learning rate: 0.0078125, Epochs: 12\n",
      "Error: 162.24305649927365 | Layers: [8, 1024, 64, 5], Learning rate: 0.0078125, Epochs: 12\n",
      "Error: 162.32107446074505 | Layers: [8, 2, 5], Learning rate: 0.0078125, Epochs: 12\n",
      "Error: 162.5922442809697 | Layers: [8, 2, 256, 5], Learning rate: 0.0078125, Epochs: 12\n",
      "Error: 162.8356815335331 | Layers: [8, 64, 5], Learning rate: 0.0078125, Epochs: 12\n",
      "Error: 173.27974231908968 | Layers: [8, 32, 64, 5], Learning rate: 0.0078125, Epochs: 15\n",
      "Error: 173.47426589625874 | Layers: [8, 1024, 5], Learning rate: 0.0078125, Epochs: 15\n",
      "Error: 173.78361874019419 | Layers: [8, 1024, 64, 5], Learning rate: 0.0078125, Epochs: 15\n",
      "Error: 173.8687040303614 | Layers: [8, 2, 5], Learning rate: 0.0078125, Epochs: 15\n",
      "Error: 174.10835646041377 | Layers: [8, 2, 256, 5], Learning rate: 0.0078125, Epochs: 15\n",
      "Error: 174.36892704269357 | Layers: [8, 64, 5], Learning rate: 0.0078125, Epochs: 15\n",
      "Error: 184.83115706257894 | Layers: [8, 32, 64, 5], Learning rate: 0.0078125, Epochs: 17\n",
      "Error: 184.97538312414025 | Layers: [8, 1024, 5], Learning rate: 0.0078125, Epochs: 17\n",
      "Error: 185.30798504227263 | Layers: [8, 1024, 64, 5], Learning rate: 0.0078125, Epochs: 17\n",
      "Error: 185.42882304833074 | Layers: [8, 2, 5], Learning rate: 0.0078125, Epochs: 17\n",
      "Error: 185.699861787742 | Layers: [8, 2, 256, 5], Learning rate: 0.0078125, Epochs: 17\n",
      "Error: 185.89300096524184 | Layers: [8, 64, 5], Learning rate: 0.0078125, Epochs: 17\n",
      "Error: 196.42851391954278 | Layers: [8, 32, 64, 5], Learning rate: 0.0078125, Epochs: 5\n",
      "Error: 196.58468908770274 | Layers: [8, 1024, 5], Learning rate: 0.0078125, Epochs: 5\n",
      "Error: 196.95570369952162 | Layers: [8, 1024, 64, 5], Learning rate: 0.0078125, Epochs: 5\n",
      "Error: 197.1083074940227 | Layers: [8, 2, 5], Learning rate: 0.0078125, Epochs: 5\n",
      "Error: 197.31377592780453 | Layers: [8, 2, 256, 5], Learning rate: 0.0078125, Epochs: 5\n",
      "Error: 197.53062956990195 | Layers: [8, 64, 5], Learning rate: 0.0078125, Epochs: 5\n",
      "Error: 207.9821174179289 | Layers: [8, 32, 64, 5], Learning rate: 0.0078125, Epochs: 14\n",
      "Error: 208.16320971257363 | Layers: [8, 1024, 5], Learning rate: 0.0078125, Epochs: 14\n",
      "Error: 208.5345747700079 | Layers: [8, 1024, 64, 5], Learning rate: 0.0078125, Epochs: 14\n",
      "Error: 208.64923775609878 | Layers: [8, 2, 5], Learning rate: 0.0078125, Epochs: 14\n",
      "Error: 208.90740022946176 | Layers: [8, 2, 256, 5], Learning rate: 0.0078125, Epochs: 14\n",
      "Error: 209.07150668398893 | Layers: [8, 64, 5], Learning rate: 0.0078125, Epochs: 14\n",
      "Error: 219.46627965850337 | Layers: [8, 32, 64, 5], Learning rate: 0.0078125, Epochs: 19\n",
      "Error: 219.67235264479166 | Layers: [8, 1024, 5], Learning rate: 0.0078125, Epochs: 19\n",
      "Error: 220.04940796006355 | Layers: [8, 1024, 64, 5], Learning rate: 0.0078125, Epochs: 19\n",
      "Error: 220.1464704127856 | Layers: [8, 2, 5], Learning rate: 0.0078125, Epochs: 19\n",
      "Error: 220.43061615056155 | Layers: [8, 2, 256, 5], Learning rate: 0.0078125, Epochs: 19\n",
      "Error: 220.57548915883456 | Layers: [8, 64, 5], Learning rate: 0.0078125, Epochs: 19\n",
      "----------8 bit average----------\n",
      "Error: 11.473107528592218 | Layers: [16, 4, 9], Learning rate: 0.001953125, Epochs: 12\n",
      "Error: 11.507929101071149 | Layers: [16, 64, 9], Learning rate: 0.001953125, Epochs: 12\n",
      "Error: 11.508745564289061 | Layers: [16, 16, 4, 9], Learning rate: 0.001953125, Epochs: 12\n",
      "Error: 11.526452874081661 | Layers: [16, 2, 1024, 9], Learning rate: 0.001953125, Epochs: 12\n",
      "Error: 11.542902290062736 | Layers: [16, 8, 8, 9], Learning rate: 0.001953125, Epochs: 12\n",
      "Error: 11.548113062009977 | Layers: [16, 16, 9], Learning rate: 0.001953125, Epochs: 12\n",
      "Error: 22.890070019895056 | Layers: [16, 4, 9], Learning rate: 0.001953125, Epochs: 15\n",
      "Error: 22.930284419028357 | Layers: [16, 64, 9], Learning rate: 0.001953125, Epochs: 15\n",
      "Error: 22.954812049070274 | Layers: [16, 16, 9], Learning rate: 0.001953125, Epochs: 15\n",
      "Error: 22.979868876486425 | Layers: [16, 8, 8, 9], Learning rate: 0.001953125, Epochs: 15\n",
      "Error: 22.982098136430977 | Layers: [16, 16, 4, 9], Learning rate: 0.001953125, Epochs: 15\n",
      "Error: 23.00368768917492 | Layers: [16, 2, 1024, 9], Learning rate: 0.001953125, Epochs: 15\n",
      "Error: 34.25533551978206 | Layers: [16, 4, 9], Learning rate: 0.001953125, Epochs: 17\n",
      "Error: 34.308864803555274 | Layers: [16, 16, 9], Learning rate: 0.001953125, Epochs: 17\n",
      "Error: 34.345296416818144 | Layers: [16, 64, 9], Learning rate: 0.001953125, Epochs: 17\n",
      "Error: 34.3644558857952 | Layers: [16, 16, 4, 9], Learning rate: 0.001953125, Epochs: 17\n",
      "Error: 34.37521013904502 | Layers: [16, 2, 1024, 9], Learning rate: 0.001953125, Epochs: 17\n",
      "Error: 34.37906105199041 | Layers: [16, 8, 8, 9], Learning rate: 0.001953125, Epochs: 17\n",
      "Error: 58.06854918803761 | Layers: [16, 16, 9], Learning rate: 0.001953125, Epochs: 5\n",
      "Error: 58.63301376018649 | Layers: [16, 4, 9], Learning rate: 0.001953125, Epochs: 5\n",
      "Error: 58.65499970134773 | Layers: [16, 2, 1024, 9], Learning rate: 0.001953125, Epochs: 5\n",
      "Error: 58.930582308217836 | Layers: [16, 8, 8, 9], Learning rate: 0.001953125, Epochs: 5\n",
      "Error: 59.04281685348536 | Layers: [16, 64, 9], Learning rate: 0.001953125, Epochs: 5\n",
      "Error: 59.486185612954806 | Layers: [16, 16, 4, 9], Learning rate: 0.001953125, Epochs: 5\n",
      "Error: 69.52962091840993 | Layers: [16, 16, 9], Learning rate: 0.001953125, Epochs: 14\n",
      "Error: 70.06414654265794 | Layers: [16, 4, 9], Learning rate: 0.001953125, Epochs: 14\n",
      "Error: 70.13539018882969 | Layers: [16, 2, 1024, 9], Learning rate: 0.001953125, Epochs: 14\n",
      "Error: 70.36444704952612 | Layers: [16, 8, 8, 9], Learning rate: 0.001953125, Epochs: 14\n",
      "Error: 70.5335789972962 | Layers: [16, 64, 9], Learning rate: 0.001953125, Epochs: 14\n",
      "Error: 70.9083560275785 | Layers: [16, 16, 4, 9], Learning rate: 0.001953125, Epochs: 14\n",
      "Error: 80.92168179533081 | Layers: [16, 16, 9], Learning rate: 0.001953125, Epochs: 19\n",
      "Error: 81.37748415970665 | Layers: [16, 4, 9], Learning rate: 0.001953125, Epochs: 19\n",
      "Error: 81.5068427697066 | Layers: [16, 2, 1024, 9], Learning rate: 0.001953125, Epochs: 19\n",
      "Error: 81.78201396666167 | Layers: [16, 8, 8, 9], Learning rate: 0.001953125, Epochs: 19\n",
      "Error: 81.92409370678914 | Layers: [16, 64, 9], Learning rate: 0.001953125, Epochs: 19\n",
      "Error: 82.26977930159124 | Layers: [16, 16, 4, 9], Learning rate: 0.001953125, Epochs: 19\n",
      "Error: 92.30190736864105 | Layers: [16, 16, 9], Learning rate: 0.00390625, Epochs: 12\n",
      "Error: 92.79378189711248 | Layers: [16, 4, 9], Learning rate: 0.00390625, Epochs: 12\n",
      "Error: 92.91831626703828 | Layers: [16, 2, 1024, 9], Learning rate: 0.00390625, Epochs: 12\n",
      "Error: 93.18335667227764 | Layers: [16, 8, 8, 9], Learning rate: 0.00390625, Epochs: 12\n",
      "Error: 93.32559039579345 | Layers: [16, 64, 9], Learning rate: 0.00390625, Epochs: 12\n",
      "Error: 93.67318273620813 | Layers: [16, 16, 4, 9], Learning rate: 0.00390625, Epochs: 12\n",
      "Error: 103.77536941098248 | Layers: [16, 16, 9], Learning rate: 0.00390625, Epochs: 15\n",
      "Error: 104.21829554642305 | Layers: [16, 4, 9], Learning rate: 0.00390625, Epochs: 15\n",
      "Error: 104.33659016901052 | Layers: [16, 2, 1024, 9], Learning rate: 0.00390625, Epochs: 15\n",
      "Error: 104.58499871134113 | Layers: [16, 8, 8, 9], Learning rate: 0.00390625, Epochs: 15\n",
      "Error: 104.73830794330323 | Layers: [16, 64, 9], Learning rate: 0.00390625, Epochs: 15\n",
      "Error: 105.10232335153991 | Layers: [16, 16, 4, 9], Learning rate: 0.00390625, Epochs: 15\n",
      "Error: 115.19977528439652 | Layers: [16, 16, 9], Learning rate: 0.00390625, Epochs: 17\n",
      "Error: 115.61282434953954 | Layers: [16, 4, 9], Learning rate: 0.00390625, Epochs: 17\n",
      "Error: 115.73364744773808 | Layers: [16, 2, 1024, 9], Learning rate: 0.00390625, Epochs: 17\n",
      "Error: 115.98496845966334 | Layers: [16, 8, 8, 9], Learning rate: 0.00390625, Epochs: 17\n",
      "Error: 116.10173055384915 | Layers: [16, 64, 9], Learning rate: 0.00390625, Epochs: 17\n",
      "Error: 116.50057574357612 | Layers: [16, 16, 4, 9], Learning rate: 0.00390625, Epochs: 17\n",
      "Error: 127.13188632044758 | Layers: [16, 16, 9], Learning rate: 0.00390625, Epochs: 5\n",
      "Error: 127.59307098577672 | Layers: [16, 4, 9], Learning rate: 0.00390625, Epochs: 5\n",
      "Error: 127.68416774754431 | Layers: [16, 2, 1024, 9], Learning rate: 0.00390625, Epochs: 5\n",
      "Error: 127.95645723454619 | Layers: [16, 8, 8, 9], Learning rate: 0.00390625, Epochs: 5\n",
      "Error: 128.06033604239258 | Layers: [16, 64, 9], Learning rate: 0.00390625, Epochs: 5\n",
      "Error: 128.4668961597982 | Layers: [16, 16, 4, 9], Learning rate: 0.00390625, Epochs: 5\n",
      "Error: 138.53082131884526 | Layers: [16, 16, 9], Learning rate: 0.00390625, Epochs: 14\n",
      "Error: 138.94362296283637 | Layers: [16, 4, 9], Learning rate: 0.00390625, Epochs: 14\n",
      "Error: 139.1205668142128 | Layers: [16, 2, 1024, 9], Learning rate: 0.00390625, Epochs: 14\n",
      "Error: 139.38849075249752 | Layers: [16, 8, 8, 9], Learning rate: 0.00390625, Epochs: 14\n",
      "Error: 139.45335517962522 | Layers: [16, 64, 9], Learning rate: 0.00390625, Epochs: 14\n",
      "Error: 139.91311225207212 | Layers: [16, 16, 4, 9], Learning rate: 0.00390625, Epochs: 14\n",
      "Error: 149.91519703360427 | Layers: [16, 16, 9], Learning rate: 0.00390625, Epochs: 19\n",
      "Error: 150.34908207706243 | Layers: [16, 4, 9], Learning rate: 0.00390625, Epochs: 19\n",
      "Error: 150.57420632440878 | Layers: [16, 2, 1024, 9], Learning rate: 0.00390625, Epochs: 19\n",
      "Error: 150.79060389317468 | Layers: [16, 8, 8, 9], Learning rate: 0.00390625, Epochs: 19\n",
      "Error: 150.81131730536822 | Layers: [16, 64, 9], Learning rate: 0.00390625, Epochs: 19\n",
      "Error: 151.31101815979713 | Layers: [16, 16, 4, 9], Learning rate: 0.00390625, Epochs: 19\n",
      "Error: 161.56341653266227 | Layers: [16, 16, 9], Learning rate: 0.0078125, Epochs: 12\n",
      "Error: 161.92242815747642 | Layers: [16, 4, 9], Learning rate: 0.0078125, Epochs: 12\n",
      "Error: 162.14839561329222 | Layers: [16, 2, 1024, 9], Learning rate: 0.0078125, Epochs: 12\n",
      "Error: 162.35567139004507 | Layers: [16, 8, 8, 9], Learning rate: 0.0078125, Epochs: 12\n",
      "Error: 162.41085046086906 | Layers: [16, 64, 9], Learning rate: 0.0078125, Epochs: 12\n",
      "Error: 162.95875365774904 | Layers: [16, 16, 4, 9], Learning rate: 0.0078125, Epochs: 12\n",
      "Error: 173.13139295660466 | Layers: [16, 16, 9], Learning rate: 0.0078125, Epochs: 15\n",
      "Error: 173.4906818412784 | Layers: [16, 4, 9], Learning rate: 0.0078125, Epochs: 15\n",
      "Error: 173.6991044723705 | Layers: [16, 2, 1024, 9], Learning rate: 0.0078125, Epochs: 15\n",
      "Error: 173.95125002483562 | Layers: [16, 8, 8, 9], Learning rate: 0.0078125, Epochs: 15\n",
      "Error: 173.97012785963244 | Layers: [16, 64, 9], Learning rate: 0.0078125, Epochs: 15\n",
      "Error: 174.53838282284153 | Layers: [16, 16, 4, 9], Learning rate: 0.0078125, Epochs: 15\n",
      "Error: 184.72556987074103 | Layers: [16, 16, 9], Learning rate: 0.0078125, Epochs: 17\n",
      "Error: 184.99236136497115 | Layers: [16, 4, 9], Learning rate: 0.0078125, Epochs: 17\n",
      "Error: 185.2454648936255 | Layers: [16, 2, 1024, 9], Learning rate: 0.0078125, Epochs: 17\n",
      "Error: 185.46398962132182 | Layers: [16, 8, 8, 9], Learning rate: 0.0078125, Epochs: 17\n",
      "Error: 185.4829001343014 | Layers: [16, 64, 9], Learning rate: 0.0078125, Epochs: 17\n",
      "Error: 186.09984100872344 | Layers: [16, 16, 4, 9], Learning rate: 0.0078125, Epochs: 17\n",
      "Error: 196.38787153271798 | Layers: [16, 16, 9], Learning rate: 0.0078125, Epochs: 5\n",
      "Error: 196.65202168736505 | Layers: [16, 4, 9], Learning rate: 0.0078125, Epochs: 5\n",
      "Error: 196.8706954948341 | Layers: [16, 2, 1024, 9], Learning rate: 0.0078125, Epochs: 5\n",
      "Error: 197.09689890818328 | Layers: [16, 8, 8, 9], Learning rate: 0.0078125, Epochs: 5\n",
      "Error: 197.13737061400568 | Layers: [16, 64, 9], Learning rate: 0.0078125, Epochs: 5\n",
      "Error: 197.78095770834142 | Layers: [16, 16, 4, 9], Learning rate: 0.0078125, Epochs: 5\n",
      "Error: 207.91026267612133 | Layers: [16, 16, 9], Learning rate: 0.0078125, Epochs: 14\n",
      "Error: 208.19016916010128 | Layers: [16, 4, 9], Learning rate: 0.0078125, Epochs: 14\n",
      "Error: 208.4041394126865 | Layers: [16, 2, 1024, 9], Learning rate: 0.0078125, Epochs: 14\n",
      "Error: 208.63063291661445 | Layers: [16, 8, 8, 9], Learning rate: 0.0078125, Epochs: 14\n",
      "Error: 208.71174539339114 | Layers: [16, 64, 9], Learning rate: 0.0078125, Epochs: 14\n",
      "Error: 209.3260571904501 | Layers: [16, 16, 4, 9], Learning rate: 0.0078125, Epochs: 14\n",
      "Error: 219.37470818560053 | Layers: [16, 16, 9], Learning rate: 0.0078125, Epochs: 19\n",
      "Error: 219.69852721054775 | Layers: [16, 4, 9], Learning rate: 0.0078125, Epochs: 19\n",
      "Error: 219.91880708236476 | Layers: [16, 2, 1024, 9], Learning rate: 0.0078125, Epochs: 19\n",
      "Error: 220.1040701516451 | Layers: [16, 8, 8, 9], Learning rate: 0.0078125, Epochs: 19\n",
      "Error: 220.2340981310005 | Layers: [16, 64, 9], Learning rate: 0.0078125, Epochs: 19\n",
      "Error: 220.85635618098004 | Layers: [16, 16, 4, 9], Learning rate: 0.0078125, Epochs: 19\n"
     ]
    }
   ],
   "source": [
    "print('----------2 bit average----------')\n",
    "print_performance_dict(average_performance_dict_2bits)\n",
    "print('----------4 bit average----------')\n",
    "print_performance_dict(average_performance_dict_4bits)\n",
    "print('----------8 bit average----------')\n",
    "print_performance_dict(average_performance_dict_8bits)"
   ]
  },
  {
   "cell_type": "code",
   "execution_count": 43,
   "id": "cf111c91-cfaf-4293-b004-0b1b0014e768",
   "metadata": {},
   "outputs": [],
   "source": [
    "# Save the average performance data\n",
    "performance_dicts = [average_performance_dict_2bits, average_performance_dict_4bits, average_performance_dict_8bits]\n",
    "for i in range(len(performance_dicts)):\n",
    "    with open(f'/Users/reid/dev/PythonCode/tm/BackPropagationBinaryCalcs/data/{2**(i+1)}bit_average_performance.txt', 'w') as f:\n",
    "        f.write('parameters,performance\\n')\n",
    "        f.writelines([f'{x}\\n' for x in sorted(list(performance_dicts[i].items()), key=lambda x: x[1], reverse=True)])"
   ]
  },
  {
   "cell_type": "code",
   "execution_count": 133,
   "id": "ac04ca1e-3c6b-40af-b6b7-99cb032265f2",
   "metadata": {},
   "outputs": [],
   "source": [
    "# TODO: test a stable network for extremely large epochs and compare\n",
    "# TODO: test stable network performance on hard lim transfer functions\n",
    "# TODO: redo all this with symetrical network\n",
    "# TODO: test stable network performance but training it with a hardlim transfer function last layer\n",
    "# TODO: test an extremely complexe network structure (just a lot of layers)"
   ]
  },
  {
   "cell_type": "code",
   "execution_count": 13,
   "id": "5649a34f-a7ad-463a-9402-b72e5a9e3c2c",
   "metadata": {},
   "outputs": [],
   "source": [
    "# Test the model with keras\n",
    "from tensorflow.keras.models import Sequential\n",
    "from tensorflow.keras.layers import Dense\n",
    "from tensorflow.keras.optimizers import SGD"
   ]
  },
  {
   "cell_type": "code",
   "execution_count": 14,
   "id": "18f00e57-ffe2-4019-befa-371b308d4aaa",
   "metadata": {},
   "outputs": [],
   "source": [
    "model = Sequential()\n",
    "model.add(Dense(layer_sizes[1], input_shape=(layer_sizes[0],), activation='sigmoid'))\n",
    "model.add(Dense(layer_sizes[2], activation='linear'))"
   ]
  },
  {
   "cell_type": "code",
   "execution_count": 15,
   "id": "a1461c9e-d5ff-46f6-bf5d-d3d912900cda",
   "metadata": {},
   "outputs": [
    {
     "name": "stdout",
     "output_type": "stream",
     "text": [
      "\u001b[1m1/1\u001b[0m \u001b[32m━━━━━━━━━━━━━━━━━━━━\u001b[0m\u001b[37m\u001b[0m \u001b[1m0s\u001b[0m 196ms/step - accuracy: 0.5000 - loss: 7.0425\n"
     ]
    },
    {
     "data": {
      "text/plain": [
       "<keras.src.callbacks.history.History at 0x1672a4dd0>"
      ]
     },
     "execution_count": 15,
     "metadata": {},
     "output_type": "execute_result"
    }
   ],
   "source": [
    "sdg = SGD(.9)\n",
    "model.compile(loss=\"categorical_crossentropy\", optimizer=sdg,\n",
    "\tmetrics=[\"accuracy\"])\n",
    "model.fit(inputs, outputs)"
   ]
  },
  {
   "cell_type": "code",
   "execution_count": 16,
   "id": "94cda203-692a-464f-a3e4-0ef7c23a265e",
   "metadata": {},
   "outputs": [
    {
     "name": "stdout",
     "output_type": "stream",
     "text": [
      "\u001b[1m1/1\u001b[0m \u001b[32m━━━━━━━━━━━━━━━━━━━━\u001b[0m\u001b[37m\u001b[0m \u001b[1m0s\u001b[0m 28ms/step\n"
     ]
    },
    {
     "data": {
      "text/plain": [
       "array([[ 0.01186371, -8.282264  , -1.4656483 ],\n",
       "       [ 0.0887537 , -9.469966  , -1.5549538 ],\n",
       "       [ 0.15937938, -8.323184  , -1.3819622 ],\n",
       "       [ 0.22767666, -9.4916    , -1.4718292 ],\n",
       "       [-0.01628557, -8.611647  , -1.6199257 ],\n",
       "       [ 0.04203045, -9.72632   , -1.6907108 ],\n",
       "       [ 0.14307892, -8.662352  , -1.5352875 ],\n",
       "       [ 0.20412186, -9.765932  , -1.603532  ]], dtype=float32)"
      ]
     },
     "execution_count": 16,
     "metadata": {},
     "output_type": "execute_result"
    }
   ],
   "source": [
    "model.predict(inputs)"
   ]
  }
 ],
 "metadata": {
  "kernelspec": {
   "display_name": "tm",
   "language": "python",
   "name": "tm"
  },
  "language_info": {
   "codemirror_mode": {
    "name": "ipython",
    "version": 3
   },
   "file_extension": ".py",
   "mimetype": "text/x-python",
   "name": "python",
   "nbconvert_exporter": "python",
   "pygments_lexer": "ipython3",
   "version": "3.11.4"
  }
 },
 "nbformat": 4,
 "nbformat_minor": 5
}
