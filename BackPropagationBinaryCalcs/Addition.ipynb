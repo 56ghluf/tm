{
 "cells": [
  {
   "cell_type": "code",
   "execution_count": 136,
   "id": "b84f3c0d-0ef4-4786-a173-f84ae624f253",
   "metadata": {},
   "outputs": [],
   "source": [
    "# Imports\n",
    "import numpy as np"
   ]
  },
  {
   "cell_type": "code",
   "execution_count": 137,
   "id": "6f472b88-a3a4-4b8d-a53e-18e34ff70219",
   "metadata": {},
   "outputs": [],
   "source": [
    "# Import the tools\n",
    "from sys import path\n",
    "path.append('/Users/reid/dev/PythonCode/tm/tools')\n",
    "# path.append('D:/PythonCode/tm/tools')\n",
    "from tools import gen_inputs_outputs, logsig, lin, deriv_logsig, deriv_lin"
   ]
  },
  {
   "cell_type": "code",
   "execution_count": 138,
   "id": "6bfddd31-1531-4b5f-9b6e-26726405aef0",
   "metadata": {},
   "outputs": [],
   "source": [
    "# Define the size of the network\n",
    "# Order by layers (input, layer1, layer2, ...)\n",
    "# !!! No output layer yet, wait to gen inputs\n",
    "layer_sizes = [3, 7]"
   ]
  },
  {
   "cell_type": "code",
   "execution_count": 139,
   "id": "79899160-bb87-42b0-9724-442688c4fcbe",
   "metadata": {},
   "outputs": [],
   "source": [
    "# Gen inputs, outputs and size of the last layer\n",
    "inputs, outputs, S = gen_inputs_outputs(layer_sizes[0])"
   ]
  },
  {
   "cell_type": "code",
   "execution_count": 140,
   "id": "bbf53b7f-a7bc-44b9-82df-d9f112726b92",
   "metadata": {},
   "outputs": [],
   "source": [
    "# Append the output layer size\n",
    "layer_sizes = np.array(layer_sizes + [S], dtype=int)"
   ]
  },
  {
   "cell_type": "code",
   "execution_count": 141,
   "id": "3c1a6b04-33fd-4159-80c3-4590112d951b",
   "metadata": {},
   "outputs": [
    {
     "data": {
      "text/plain": [
       "array([3, 7, 3])"
      ]
     },
     "execution_count": 141,
     "metadata": {},
     "output_type": "execute_result"
    }
   ],
   "source": [
    "# Network shape\n",
    "layer_sizes"
   ]
  },
  {
   "cell_type": "code",
   "execution_count": 142,
   "id": "ffba48b1-e056-48a3-b173-289ab719ff61",
   "metadata": {},
   "outputs": [],
   "source": [
    "#####\n",
    "# layer_sizes = np.array([1,2,1])"
   ]
  },
  {
   "cell_type": "code",
   "execution_count": 143,
   "id": "b93dbe42-c6ff-40d8-963b-d38d7c9c6381",
   "metadata": {},
   "outputs": [
    {
     "data": {
      "text/plain": [
       "array([[0, 0, 0],\n",
       "       [0, 0, 1],\n",
       "       [0, 1, 0],\n",
       "       [0, 1, 1],\n",
       "       [1, 0, 0],\n",
       "       [1, 0, 1],\n",
       "       [1, 1, 0],\n",
       "       [1, 1, 1]])"
      ]
     },
     "execution_count": 143,
     "metadata": {},
     "output_type": "execute_result"
    }
   ],
   "source": [
    "# Inputs\n",
    "inputs"
   ]
  },
  {
   "cell_type": "code",
   "execution_count": 144,
   "id": "ae97cbdf-c716-48e4-ae91-3d6fab5fbc0d",
   "metadata": {},
   "outputs": [
    {
     "data": {
      "text/plain": [
       "array([[0, 0, 0],\n",
       "       [0, 0, 1],\n",
       "       [0, 1, 0],\n",
       "       [0, 1, 1],\n",
       "       [0, 0, 1],\n",
       "       [0, 1, 0],\n",
       "       [0, 1, 1],\n",
       "       [1, 0, 0]])"
      ]
     },
     "execution_count": 144,
     "metadata": {},
     "output_type": "execute_result"
    }
   ],
   "source": [
    "# Outputs\n",
    "outputs"
   ]
  },
  {
   "cell_type": "code",
   "execution_count": 145,
   "id": "df41116d-c038-4df0-a8b7-bbd6672d9192",
   "metadata": {},
   "outputs": [],
   "source": [
    "# Intialize the weights and biases randomly\n",
    "# Also create the list to store the outputs of each layer\n",
    "# Store the outptut for each layer\n",
    "# Finally create the list of the sensitivities\n",
    "weights_list = []\n",
    "biases_list = []\n",
    "n_list = []\n",
    "a_list = []\n",
    "s_list = []"
   ]
  },
  {
   "cell_type": "code",
   "execution_count": 146,
   "id": "ff640418-72ed-4f90-b9eb-833bc8e09cfe",
   "metadata": {},
   "outputs": [],
   "source": [
    "for i in range(1, len(layer_sizes)):\n",
    "    weights_list.append(np.random.rand(layer_sizes[i], layer_sizes[i-1]))\n",
    "    biases_list.append(np.random.rand(layer_sizes[i], 1))\n",
    "    n_list.append(np.empty((layer_sizes[i], 1), dtype=float))\n",
    "    a_list.append(np.empty((layer_sizes[i], 1), dtype=float))\n",
    "    s_list.append(np.empty((layer_sizes[i], 1), dtype=float))"
   ]
  },
  {
   "cell_type": "code",
   "execution_count": 147,
   "id": "b5310046-aedc-4366-9e10-5979dede1695",
   "metadata": {},
   "outputs": [
    {
     "data": {
      "text/plain": [
       "'weights_list = [\\n    np.array([[-0.27],[-0.41]]),\\n    np.array([[0.09, -0.17]])\\n]\\nbiases_list = [\\n    np.array([[-0.48], [-0.13]]),\\n    np.array([[0.48]])\\n]\\nn_list = [\\n    np.array([[0], [0]]),\\n    np.array([[0]])\\n]\\na_list = [\\n    np.array([[0], [0]]),\\n    np.array([[0]])\\n]'"
      ]
     },
     "execution_count": 147,
     "metadata": {},
     "output_type": "execute_result"
    }
   ],
   "source": [
    "#####\n",
    "'''weights_list = [\n",
    "    np.array([[-0.27],[-0.41]]),\n",
    "    np.array([[0.09, -0.17]])\n",
    "]\n",
    "biases_list = [\n",
    "    np.array([[-0.48], [-0.13]]),\n",
    "    np.array([[0.48]])\n",
    "]\n",
    "n_list = [\n",
    "    np.array([[0], [0]]),\n",
    "    np.array([[0]])\n",
    "]\n",
    "a_list = [\n",
    "    np.array([[0], [0]]),\n",
    "    np.array([[0]])\n",
    "]'''"
   ]
  },
  {
   "cell_type": "code",
   "execution_count": 148,
   "id": "040cdd31-cac6-4a10-9c96-2948d962c54b",
   "metadata": {},
   "outputs": [],
   "source": [
    "# Define the transfer functions\n",
    "transfer_functions = [logsig, lin]"
   ]
  },
  {
   "cell_type": "code",
   "execution_count": 149,
   "id": "f34b2228",
   "metadata": {},
   "outputs": [],
   "source": [
    "# Define the vectors with the derivatives of the transfer functions\n",
    "# These need to be converted to dialation matrices\n",
    "# but this is done after the partial derivatives are calculated\n",
    "# so that the numerical values can be multiplied by the identity matrix\n",
    "# makes my life easier\n",
    "deriv_transfer_functions = [deriv_logsig, deriv_lin]"
   ]
  },
  {
   "cell_type": "code",
   "execution_count": 150,
   "id": "727d6d3b-bb81-41b1-a20e-79d86f88da64",
   "metadata": {},
   "outputs": [],
   "source": [
    "# Define a function to calculate the output of the network\n",
    "# while also saving the data\n",
    "# Assuming that the input is already a Rx1 matrix\n",
    "def run_network(X):\n",
    "    # Get the input for the first layer so that\n",
    "    # no need to use X and can calculate\n",
    "    # recursively\n",
    "    n_list[0] = np.matmul(weights_list[0], X) + biases_list[0]\n",
    "    a_list[0] = transfer_functions[0](n_list[0])\n",
    "\n",
    "    # Calculate the rest of the outptut\n",
    "    for i in range(1, len(weights_list)):\n",
    "        n_list[i] = np.matmul(weights_list[i], a_list[i-1]) + biases_list[i]\n",
    "        a_list[i] = transfer_functions[i](n_list[i])"
   ]
  },
  {
   "cell_type": "code",
   "execution_count": 151,
   "id": "8cafc430-69d4-4dfa-ac09-6a363a54a932",
   "metadata": {},
   "outputs": [
    {
     "name": "stdout",
     "output_type": "stream",
     "text": [
      "None\n"
     ]
    }
   ],
   "source": [
    "print(run_network(inputs[1].reshape(layer_sizes[0], 1)))\n",
    "####\n",
    "# run_network(np.array([2], dtype=float).reshape(1, 1))"
   ]
  },
  {
   "cell_type": "code",
   "execution_count": 152,
   "id": "e042830f-3af6-46e5-a694-04908b020278",
   "metadata": {},
   "outputs": [
    {
     "name": "stdout",
     "output_type": "stream",
     "text": [
      "[array([[1.41630058],\n",
      "       [1.83069418],\n",
      "       [0.82391872],\n",
      "       [1.80889973],\n",
      "       [1.12372829],\n",
      "       [0.96094165],\n",
      "       [1.19406118]]), array([[3.71177369],\n",
      "       [2.63951816],\n",
      "       [3.0038734 ]])]\n",
      "\n",
      "[array([[0.80475781],\n",
      "       [0.8618444 ],\n",
      "       [0.69506754],\n",
      "       [0.85922884],\n",
      "       [0.75467962],\n",
      "       [0.7233103 ],\n",
      "       [0.76746662]]), array([[3.71177369],\n",
      "       [2.63951816],\n",
      "       [3.0038734 ]])]\n"
     ]
    }
   ],
   "source": [
    "print(n_list, a_list, sep='\\n\\n')"
   ]
  },
  {
   "cell_type": "code",
   "execution_count": 153,
   "id": "430cdf1f-3c41-4f7b-8f10-7fe740c3fef5",
   "metadata": {},
   "outputs": [],
   "source": [
    "# Calculate the senstivites for the last layer\n",
    "# Write a function to fill the diagonal of the matrix\n",
    "def fill_F_dot(layer_num):\n",
    "    a = np.identity(len(n_list[layer_num]), float)\n",
    "    np.fill_diagonal(a, deriv_transfer_functions[layer_num](n_list[layer_num]).flatten())\n",
    "    return a\n",
    "\n",
    "# Iterate through the inputs and outputs\n",
    "for i in range(len(inputs)):\n",
    "    # Run the network\n",
    "    run_network(inputs[i].reshape(layer_sizes[0], 1))\n",
    "\n",
    "    # Get the dialation matrix for the last layer\n",
    "    F_dot = fill_F_dot(-1)\n",
    "    \n",
    "    # Calculate the sensitivites for the last layer\n",
    "    s_list[-1] = -2 * np.matmul(F_dot, outputs[i].reshape(layer_sizes[-1], 1)-a_list[-1])\n",
    "\n",
    "    # Update the weights and biases for the last layer\n",
    "    weights_list[-1] += -np.matmul(s_list[-1], a_list[-2].T)\n",
    "    biases_list[-1] += -s_list[-1]\n",
    "\n",
    "    # Iterate through the remaining layers backwards\n",
    "    for i in range(len(n_list)-2, 0, -1):\n",
    "        s_list[i] = np.matmul(np.matmul(fill_F_dot(i), weights_list[i+1].T), s_list[i+1])\n",
    "        weights_list[i] += -np.matmul(s_list[i], a_list[i-1].T)\n",
    "        biases_list[i] += -s_list[i]"
   ]
  },
  {
   "cell_type": "code",
   "execution_count": 154,
   "id": "f6542904-9fa8-4487-97db-b0763eb548fd",
   "metadata": {},
   "outputs": [
    {
     "name": "stdout",
     "output_type": "stream",
     "text": [
      "[array([[0.15162284, 0.74707846, 0.5501527 ],\n",
      "       [0.20445297, 0.41276994, 0.86671326],\n",
      "       [0.66912952, 0.60763746, 0.67631449],\n",
      "       [0.20233128, 0.2029852 , 0.82205314],\n",
      "       [0.39316158, 0.85341937, 0.27503746],\n",
      "       [0.93600856, 0.01169406, 0.69151063],\n",
      "       [0.91787049, 0.66244745, 0.71483689]]), array([[52761371.46946888, 53566136.43745805, 51817956.87049748,\n",
      "        52535576.08486015, 52833675.93884794, 50767697.68598682,\n",
      "        54562588.15052111],\n",
      "       [35444227.19220925, 35984854.77504028, 34810456.47291906,\n",
      "        35292540.61763653, 35492799.313944  , 34104910.04685382,\n",
      "        36654254.95901261],\n",
      "       [44435805.75074524, 45113582.39623377, 43641258.43682148,\n",
      "        44245639.73907731, 44496700.15332697, 42756727.04617014,\n",
      "        45952796.28607454]])]\n"
     ]
    }
   ],
   "source": [
    "print(weights_list)"
   ]
  },
  {
   "cell_type": "code",
   "execution_count": 155,
   "id": "a2795ae9-2a81-4d6d-8985-3d59af9425e5",
   "metadata": {},
   "outputs": [
    {
     "name": "stdout",
     "output_type": "stream",
     "text": [
      "None\n"
     ]
    }
   ],
   "source": [
    "print(run_network(inputs[1].reshape(layer_sizes[0], 1)))"
   ]
  },
  {
   "cell_type": "code",
   "execution_count": 157,
   "id": "c6b1fd17-1bd3-4cb1-bd2e-0b78811723d6",
   "metadata": {},
   "outputs": [
    {
     "name": "stdout",
     "output_type": "stream",
     "text": [
      "[[3.45922670e+08]\n",
      " [2.32385195e+08]\n",
      " [2.91337244e+08]]\n"
     ]
    }
   ],
   "source": [
    "print(a_list[-1])"
   ]
  }
 ],
 "metadata": {
  "kernelspec": {
   "display_name": "tm",
   "language": "python",
   "name": "tm"
  },
  "language_info": {
   "codemirror_mode": {
    "name": "ipython",
    "version": 3
   },
   "file_extension": ".py",
   "mimetype": "text/x-python",
   "name": "python",
   "nbconvert_exporter": "python",
   "pygments_lexer": "ipython3",
   "version": "3.11.4"
  }
 },
 "nbformat": 4,
 "nbformat_minor": 5
}
