{
 "cells": [
  {
   "cell_type": "code",
   "execution_count": 1,
   "id": "b84f3c0d-0ef4-4786-a173-f84ae624f253",
   "metadata": {},
   "outputs": [],
   "source": [
    "# Imports\n",
    "import numpy as np"
   ]
  },
  {
   "cell_type": "code",
   "execution_count": 2,
   "id": "6f472b88-a3a4-4b8d-a53e-18e34ff70219",
   "metadata": {},
   "outputs": [],
   "source": [
    "# Import the tools\n",
    "from sys import path\n",
    "path.append('/Users/reid/dev/PythonCode/tm/tools')\n",
    "path.append('D:/PythonCode/tm/tools')\n",
    "from tools import gen_inputs_outputs, logsig, lin, deriv_logsig, deriv_lin, e2, hardlim, deriv_hardlim"
   ]
  },
  {
   "cell_type": "code",
   "execution_count": 3,
   "id": "6bfddd31-1531-4b5f-9b6e-26726405aef0",
   "metadata": {},
   "outputs": [],
   "source": [
    "# Define the size of the network\n",
    "# Order by layers (input, layer1, layer2, ...)\n",
    "# !!! No output layer yet, wait to gen inputs\n",
    "layer_sizes = [4, 7]"
   ]
  },
  {
   "cell_type": "code",
   "execution_count": 4,
   "id": "79899160-bb87-42b0-9724-442688c4fcbe",
   "metadata": {},
   "outputs": [],
   "source": [
    "# Gen inputs, outputs and size of the last layer\n",
    "inputs, outputs, S = gen_inputs_outputs(layer_sizes[0])"
   ]
  },
  {
   "cell_type": "code",
   "execution_count": 5,
   "id": "bbf53b7f-a7bc-44b9-82df-d9f112726b92",
   "metadata": {},
   "outputs": [],
   "source": [
    "# Append the output layer size\n",
    "layer_sizes = np.array(layer_sizes + [S], dtype=int)"
   ]
  },
  {
   "cell_type": "code",
   "execution_count": 6,
   "id": "3c1a6b04-33fd-4159-80c3-4590112d951b",
   "metadata": {},
   "outputs": [
    {
     "data": {
      "text/plain": [
       "array([4, 7, 3])"
      ]
     },
     "execution_count": 6,
     "metadata": {},
     "output_type": "execute_result"
    }
   ],
   "source": [
    "# Network shape\n",
    "layer_sizes"
   ]
  },
  {
   "cell_type": "code",
   "execution_count": 7,
   "id": "b93dbe42-c6ff-40d8-963b-d38d7c9c6381",
   "metadata": {},
   "outputs": [
    {
     "data": {
      "text/plain": [
       "array([[0, 0, 0, 0],\n",
       "       [0, 0, 0, 1],\n",
       "       [0, 0, 1, 0],\n",
       "       [0, 0, 1, 1],\n",
       "       [0, 1, 0, 0],\n",
       "       [0, 1, 0, 1],\n",
       "       [0, 1, 1, 0],\n",
       "       [0, 1, 1, 1],\n",
       "       [1, 0, 0, 0],\n",
       "       [1, 0, 0, 1],\n",
       "       [1, 0, 1, 0],\n",
       "       [1, 0, 1, 1],\n",
       "       [1, 1, 0, 0],\n",
       "       [1, 1, 0, 1],\n",
       "       [1, 1, 1, 0],\n",
       "       [1, 1, 1, 1]])"
      ]
     },
     "execution_count": 7,
     "metadata": {},
     "output_type": "execute_result"
    }
   ],
   "source": [
    "# Inputs\n",
    "inputs"
   ]
  },
  {
   "cell_type": "code",
   "execution_count": 8,
   "id": "ae97cbdf-c716-48e4-ae91-3d6fab5fbc0d",
   "metadata": {},
   "outputs": [
    {
     "data": {
      "text/plain": [
       "array([[0, 0, 0],\n",
       "       [0, 0, 1],\n",
       "       [0, 1, 0],\n",
       "       [0, 1, 1],\n",
       "       [0, 0, 1],\n",
       "       [0, 1, 0],\n",
       "       [0, 1, 1],\n",
       "       [1, 0, 0],\n",
       "       [0, 1, 0],\n",
       "       [0, 1, 1],\n",
       "       [1, 0, 0],\n",
       "       [1, 0, 1],\n",
       "       [0, 1, 1],\n",
       "       [1, 0, 0],\n",
       "       [1, 0, 1],\n",
       "       [1, 1, 0]])"
      ]
     },
     "execution_count": 8,
     "metadata": {},
     "output_type": "execute_result"
    }
   ],
   "source": [
    "# Outputs\n",
    "outputs"
   ]
  },
  {
   "cell_type": "code",
   "execution_count": 9,
   "id": "df41116d-c038-4df0-a8b7-bbd6672d9192",
   "metadata": {},
   "outputs": [],
   "source": [
    "# Intialize the weights and biases randomly\n",
    "# Also create the list to store the outputs of each layer\n",
    "# Store the outptut for each layer\n",
    "# Finally create the list of the sensitivities\n",
    "weights_list = []\n",
    "biases_list = []\n",
    "n_list = []\n",
    "a_list = []\n",
    "s_list = []"
   ]
  },
  {
   "cell_type": "code",
   "execution_count": 10,
   "id": "ff640418-72ed-4f90-b9eb-833bc8e09cfe",
   "metadata": {},
   "outputs": [],
   "source": [
    "# Define a function to reset all the parameters\n",
    "# This is done to test multiple different network types\n",
    "def reset_params():\n",
    "    weights_list.clear()\n",
    "    biases_list.clear()\n",
    "    n_list.clear()\n",
    "    a_list.clear()\n",
    "    s_list.clear()\n",
    "    for i in range(1, len(layer_sizes)):\n",
    "        weights_list.append(np.random.rand(layer_sizes[i], layer_sizes[i-1]))\n",
    "        biases_list.append(np.random.rand(layer_sizes[i], 1))\n",
    "        n_list.append(np.empty((layer_sizes[i], 1), dtype=float))\n",
    "        a_list.append(np.empty((layer_sizes[i], 1), dtype=float))\n",
    "        s_list.append(np.empty((layer_sizes[i], 1), dtype=float))\n",
    "    a_list.append(np.empty((layer_sizes[0], 1), dtype=float))"
   ]
  },
  {
   "cell_type": "code",
   "execution_count": 11,
   "id": "040cdd31-cac6-4a10-9c96-2948d962c54b",
   "metadata": {},
   "outputs": [],
   "source": [
    "# Define the transfer functions\n",
    "transfer_functions = [logsig, lin]"
   ]
  },
  {
   "cell_type": "code",
   "execution_count": 12,
   "id": "f34b2228",
   "metadata": {},
   "outputs": [],
   "source": [
    "# Define the vectors with the derivatives of the transfer functions\n",
    "# These need to be converted to dialation matrices\n",
    "# but this is done after the partial derivatives are calculated\n",
    "# so that the numerical values can be multiplied by the identity matrix\n",
    "# makes my life easier\n",
    "deriv_transfer_functions = [deriv_logsig, deriv_lin]"
   ]
  },
  {
   "cell_type": "code",
   "execution_count": 13,
   "id": "727d6d3b-bb81-41b1-a20e-79d86f88da64",
   "metadata": {},
   "outputs": [],
   "source": [
    "# Define a function to calculate the output of the network\n",
    "# while also saving the data\n",
    "# Assuming that the input is already a Rx1 matrix\n",
    "def run_network(X):\n",
    "    # Get the input for the first layer so that\n",
    "    # no need to use X and can calculate\n",
    "    # recursively\n",
    "    n_list[0] = np.matmul(weights_list[0], X) + biases_list[0]\n",
    "    a_list[0] = transfer_functions[0](n_list[0])\n",
    "    \n",
    "    # This is important for the training later\n",
    "    a_list[-1] = X\n",
    "    \n",
    "    # Calculate the rest of the outptut\n",
    "    for i in range(1, len(weights_list)):\n",
    "        n_list[i] = np.matmul(weights_list[i], a_list[i-1]) + biases_list[i]\n",
    "        a_list[i] = transfer_functions[i](n_list[i])"
   ]
  },
  {
   "cell_type": "code",
   "execution_count": 14,
   "id": "430cdf1f-3c41-4f7b-8f10-7fe740c3fef5",
   "metadata": {},
   "outputs": [],
   "source": [
    "# Calculate the senstivites for the last layer\n",
    "# Write a function to fill the diagonal of the matrix\n",
    "def fill_F_dot(layer_num):\n",
    "    a = np.identity(len(n_list[layer_num]), float)\n",
    "    np.fill_diagonal(a, deriv_transfer_functions[layer_num](n_list[layer_num]).flatten())\n",
    "    return a\n",
    "\n",
    "def train_network(learning_rate=.1, epochs=1):\n",
    "    for i in range(epochs):\n",
    "        # Iterate through the inputs and outputs\n",
    "        for i in range(len(inputs)):\n",
    "            # Run the network\n",
    "            run_network(inputs[i].reshape(layer_sizes[0], 1))\n",
    "\n",
    "            # Get the dialation matrix for the last layer\n",
    "            F_dot = fill_F_dot(-1)\n",
    "\n",
    "            # Calculate the sensitivites for the last layer\n",
    "            s_list[-1] = -2 * np.matmul(F_dot, outputs[i].reshape(layer_sizes[-1], 1)-a_list[-2])\n",
    "\n",
    "            # Update the weights and biases for the last layer\n",
    "            weights_list[-1] += -learning_rate*np.matmul(s_list[-1], a_list[-3].T)\n",
    "            biases_list[-1] += -learning_rate*s_list[-1]\n",
    "\n",
    "            # Iterate through the remaining layers backwards\n",
    "            for i in range(len(n_list)-2, -1, -1):\n",
    "                s_list[i] = (1/layer_sizes[i+1]) * np.matmul(np.matmul(fill_F_dot(i), weights_list[i+1].T), s_list[i+1])\n",
    "                weights_list[i] += -learning_rate*np.matmul(s_list[i], a_list[i-1].T)\n",
    "                biases_list[i] += -learning_rate*s_list[i]"
   ]
  },
  {
   "cell_type": "code",
   "execution_count": 15,
   "id": "a2795ae9-2a81-4d6d-8985-3d59af9425e5",
   "metadata": {
    "scrolled": true
   },
   "outputs": [],
   "source": [
    "# Function to evaluate the performance\n",
    "# of the network\n",
    "def performance():\n",
    "    results = np.empty((len(inputs), layer_sizes[-1]), dtype=float)\n",
    "    for i in range(len(inputs)):\n",
    "        run_network(inputs[i].reshape(layer_sizes[0], 1))\n",
    "        results[i] = outputs[i] - a_list[-2].flatten()\n",
    "    return e2(results)"
   ]
  },
  {
   "cell_type": "code",
   "execution_count": 16,
   "id": "e825b533-0f93-4b76-8195-415d5b3b9065",
   "metadata": {},
   "outputs": [],
   "source": [
    "# Print performance\n",
    "def print_performance_dict(performance_dict):\n",
    "    for a in sorted(performance_dict.items(), key=lambda x: x[1]):\n",
    "        print(f'Error: {a[1]} | ' + a[0])"
   ]
  },
  {
   "cell_type": "code",
   "execution_count": 17,
   "id": "ac7602d8",
   "metadata": {},
   "outputs": [],
   "source": [
    "# Trains netowrk using the parameters for each bit size\n",
    "def update_performance_dict(layer_sizes_list, performance_dict):\n",
    "    for layer_sizes in layer_sizes_list:\n",
    "        # Get the inputs and outputs for the specifiq network size\n",
    "        inputs, outputs, S = gen_inputs_outputs(layer_sizes[0])\n",
    "        layer_sizes.append(S)\n",
    "    \n",
    "        # Iterate through the different learning rates\n",
    "        # and epochs\n",
    "        for rate in learning_rates:\n",
    "            for epochs in epochs_list:\n",
    "                # Reset weights and biases\n",
    "                reset_params()\n",
    "                # Train the network\n",
    "                train_network(learning_rate=rate, epochs=epochs)\n",
    "                # Update the performance dict\n",
    "                performance_dict.update({f'Layers: {layer_sizes}, Learning rate: {rate}, Epochs: {epochs}': performance()})"
   ]
  },
  {
   "cell_type": "code",
   "execution_count": 18,
   "id": "60afa525-7577-458f-b6e3-8a4cf362b952",
   "metadata": {},
   "outputs": [],
   "source": [
    "### !!! Do not run code underneath until saving to the file\n",
    "### It trains 22000 different networks\n",
    "# Performance dictionnaries of the network\n",
    "performance_dict_2bits = {}\n",
    "performance_dict_4bits = {}\n",
    "performance_dict_8bits = {}"
   ]
  },
  {
   "cell_type": "code",
   "execution_count": 19,
   "id": "957eb418-c39e-4a66-9023-4af7573462b0",
   "metadata": {},
   "outputs": [],
   "source": [
    "# Parameters that won't change despite differnt layer sizes\n",
    "# Set different learning rates\n",
    "learning_rates = [1/(16*(2**i)) for i in range(10)]\n",
    "\n",
    "# Set the diffrent epochs\n",
    "epochs_list = [i for i in range(1, 21)]"
   ]
  },
  {
   "cell_type": "code",
   "execution_count": 20,
   "id": "48a0e709",
   "metadata": {
    "scrolled": true
   },
   "outputs": [],
   "source": [
    "# Multiple different layer sizes\n",
    "# Start with 1 hidden layer\n",
    "layer_sizes_list_2bits = [[4, 2*(2**i)]for i in range(10)]\n",
    "layer_sizes_list_4bits = [[8, 2*(2**i)]for i in range(10)]\n",
    "layer_sizes_list_8bits = [[16, 2*(2**i)]for i in range(10)]"
   ]
  },
  {
   "cell_type": "code",
   "execution_count": 21,
   "id": "6d0f0575-efb5-4c96-85df-fc0e1450e68b",
   "metadata": {},
   "outputs": [],
   "source": [
    "# Calculate performance for 1 hidden layer\n",
    "# 2 bits\n",
    "update_performance_dict(layer_sizes_list_2bits, performance_dict_2bits)\n",
    "# 4 bits\n",
    "update_performance_dict(layer_sizes_list_4bits, performance_dict_4bits)\n",
    "# 8 bits\n",
    "update_performance_dict(layer_sizes_list_8bits, performance_dict_8bits)"
   ]
  },
  {
   "cell_type": "code",
   "execution_count": 22,
   "id": "c10735f5-04b3-4432-8436-af626574fe26",
   "metadata": {},
   "outputs": [],
   "source": [
    "# 2 Hidden layers\n",
    "# Redefine the transfer functions\n",
    "transfer_functions = [logsig, logsig, lin]\n",
    "deriv_transfer_functions = [deriv_logsig, deriv_logsig, deriv_lin]\n",
    "\n",
    "# New layer sizes\n",
    "layer_sizes_list_2bits = [[4, 2*(2**i), 2*(2**j)] for j in range(10) for i in range(10)]\n",
    "layer_sizes_list_4bits = [[8, 2*(2**i), 2*(2**j)] for j in range(10) for i in range(10)]\n",
    "layer_sizes_list_8bits = [[16, 2*(2**i), 2*(2**j)] for j in range(10) for i in range(10)]"
   ]
  },
  {
   "cell_type": "code",
   "execution_count": 23,
   "id": "3f90dadf-2fc3-49be-a7c8-4248f4b59ec4",
   "metadata": {},
   "outputs": [],
   "source": [
    "# Calculate the performance for 2 hidden layers\n",
    "# 2 bits\n",
    "update_performance_dict(layer_sizes_list_2bits, performance_dict_2bits)\n",
    "# 4 bits\n",
    "update_performance_dict(layer_sizes_list_4bits, performance_dict_4bits)\n",
    "# 8 bits\n",
    "update_performance_dict(layer_sizes_list_8bits, performance_dict_8bits)"
   ]
  },
  {
   "cell_type": "code",
   "execution_count": 24,
   "id": "7df991ea-5884-49ee-b418-1e9edd3e688c",
   "metadata": {},
   "outputs": [
    {
     "name": "stderr",
     "output_type": "stream",
     "text": [
      "IOPub data rate exceeded.\n",
      "The notebook server will temporarily stop sending output\n",
      "to the client in order to avoid crashing it.\n",
      "To change this limit, set the config variable\n",
      "`--NotebookApp.iopub_data_rate_limit`.\n",
      "\n",
      "Current values:\n",
      "NotebookApp.iopub_data_rate_limit=1000000.0 (bytes/sec)\n",
      "NotebookApp.rate_limit_window=3.0 (secs)\n",
      "\n"
     ]
    }
   ],
   "source": [
    "print('-'*7 + '2bits' + '-'*7)\n",
    "print_performance_dict(performance_dict_2bits)\n",
    "print('-'*7 + '4bits' + '-'*7)\n",
    "print_performance_dict(performance_dict_4bits)\n",
    "print('-'*7 + '8bits' + '-'*7)\n",
    "print_performance_dict(performance_dict_8bits)"
   ]
  },
  {
   "cell_type": "code",
   "execution_count": 25,
   "id": "bb685cf8-803e-450a-a063-e21cdd3fc840",
   "metadata": {},
   "outputs": [],
   "source": [
    "# Save the data of the performance dicts\n",
    "performance_dicts = [performance_dict_2bits, performance_dict_4bits, performance_dict_8bits]\n",
    "for i in range(len(performance_dicts)):\n",
    "    with open(f'./data/{2**(i+1)}bit_performance.txt', 'w') as f:\n",
    "        f.write('parameters,performance\\n')\n",
    "        f.writelines([f'{x}\\n' for x in sorted(list(performance_dicts[i].items()), key=lambda x: x[1], reverse=True)])\n",
    "### You can run code below this"
   ]
  },
  {
   "cell_type": "code",
   "execution_count": 26,
   "id": "2379fd6e-0469-46dc-9b68-d910b7c469bc",
   "metadata": {},
   "outputs": [],
   "source": [
    "# Chose a few networks from the data file to run tests on\n",
    "# General parameters\n",
    "learning_rates = [0.001953125, 0.00390625, 0.0078125]\n",
    "epochs_list = [5, 14, 19]"
   ]
  },
  {
   "cell_type": "code",
   "execution_count": 27,
   "id": "3934c577-4e55-4162-b10e-39b5740597da",
   "metadata": {},
   "outputs": [],
   "source": [
    "# Start with one hidden layer\n",
    "transfer_functions = [logsig, lin]\n",
    "deriv_transfer_functions = [deriv_logsig, deriv_lin]\n",
    "\n",
    "layer_sizes_list_2bits = [\n",
    "    [4, 2],\n",
    "    [4, 32],\n",
    "    [4, 64],\n",
    "]\n",
    "layer_sizes_list_4bits = [\n",
    "    [8, 64],\n",
    "    [8, 2],\n",
    "    [8, 1024],\n",
    "]\n",
    "layer_sizes_list_8bits = [\n",
    "    [16, 16],\n",
    "    [16, 64],\n",
    "    [16, 4],\n",
    "]"
   ]
  },
  {
   "cell_type": "code",
   "execution_count": 28,
   "id": "b9e87e10-d95d-42b8-8073-6e2e0cee87e0",
   "metadata": {},
   "outputs": [],
   "source": [
    "# Write a function to calculate the average performance\n",
    "def update_average_performance_dict(layer_sizes_list, average_performance_dict, n_samples):\n",
    "    cumulated_performance = 0\n",
    "    for layer_sizes in layer_sizes_list:\n",
    "        inputs, outputs, S = gen_inputs_outputs(layer_sizes[0])\n",
    "        layer_sizes.append(S)\n",
    "        \n",
    "        for rate in learning_rates:\n",
    "                for epochs in epochs_list:\n",
    "                    for i in range(n_samples):\n",
    "                        reset_params()\n",
    "                        train_network(learning_rate=rate, epochs=epochs)\n",
    "                        cumulated_performance += performance()\n",
    "                        \n",
    "                    average_performance_dict.update({f'Layers: {layer_sizes}, Learning rate: {rate}, Epochs: {epochs}': cumulated_performance/n_samples})\n",
    "                    cumulated_performance = 0"
   ]
  },
  {
   "cell_type": "code",
   "execution_count": 29,
   "id": "cc88c856-fd54-430b-8889-fec8af69db80",
   "metadata": {},
   "outputs": [],
   "source": [
    "average_performance_dict_2bits = {}\n",
    "average_performance_dict_4bits = {}\n",
    "average_performance_dict_8bits = {}"
   ]
  },
  {
   "cell_type": "code",
   "execution_count": 30,
   "id": "d8df65e5-bae1-47e5-814a-0cc1d73b5511",
   "metadata": {},
   "outputs": [],
   "source": [
    "update_average_performance_dict(layer_sizes_list_2bits, average_performance_dict_2bits, 500)\n",
    "update_average_performance_dict(layer_sizes_list_4bits, average_performance_dict_4bits, 500)\n",
    "update_average_performance_dict(layer_sizes_list_8bits, average_performance_dict_8bits, 500)"
   ]
  },
  {
   "cell_type": "code",
   "execution_count": 31,
   "id": "69fdb65c-6136-442b-8ccd-0f45f7daa461",
   "metadata": {},
   "outputs": [],
   "source": [
    "# Two hidden layers\n",
    "transfer_functions = [logsig, logsig, lin]\n",
    "deriv_transfer_functions = [deriv_logsig, deriv_logsig, deriv_lin]\n",
    "\n",
    "layer_sizes_list_2bits = [\n",
    "    [4, 8, 2],\n",
    "    [4, 2, 128],\n",
    "    [4, 256, 32],\n",
    "]\n",
    "layer_sizes_list_4bits = [\n",
    "    [8, 32, 64],\n",
    "    [8, 1024, 64],\n",
    "    [8, 2, 256],\n",
    "]\n",
    "layer_sizes_list_8bits = [\n",
    "    [16, 8, 8],\n",
    "    [16, 2, 1024],\n",
    "    [16, 16, 4],\n",
    "]"
   ]
  },
  {
   "cell_type": "code",
   "execution_count": 32,
   "id": "b8214975-888b-47c6-a8b1-023ff536c2e4",
   "metadata": {},
   "outputs": [],
   "source": [
    "update_average_performance_dict(layer_sizes_list_2bits, average_performance_dict_2bits, 500)\n",
    "update_average_performance_dict(layer_sizes_list_4bits, average_performance_dict_4bits, 500)\n",
    "update_average_performance_dict(layer_sizes_list_8bits, average_performance_dict_8bits, 500)"
   ]
  },
  {
   "cell_type": "code",
   "execution_count": 33,
   "id": "b4f42f99-ecc1-4622-bbac-6ef2ae645b5a",
   "metadata": {
    "scrolled": true
   },
   "outputs": [
    {
     "name": "stdout",
     "output_type": "stream",
     "text": [
      "----------2 bit average----------\n",
      "Error: 11.378101958326878 | Layers: [4, 32, 3], Learning rate: 0.00390625, Epochs: 19\n",
      "Error: 11.381782054011332 | Layers: [4, 64, 3], Learning rate: 0.001953125, Epochs: 19\n",
      "Error: 11.386975194147821 | Layers: [4, 2, 3], Learning rate: 0.001953125, Epochs: 19\n",
      "Error: 11.391219735375435 | Layers: [4, 32, 3], Learning rate: 0.001953125, Epochs: 19\n",
      "Error: 11.393108989356337 | Layers: [4, 64, 3], Learning rate: 0.00390625, Epochs: 19\n",
      "Error: 11.40265842391095 | Layers: [4, 32, 3], Learning rate: 0.00390625, Epochs: 14\n",
      "Error: 11.403546252093847 | Layers: [4, 2, 3], Learning rate: 0.00390625, Epochs: 14\n",
      "Error: 11.409708046350612 | Layers: [4, 2, 3], Learning rate: 0.00390625, Epochs: 19\n",
      "Error: 11.420142050681175 | Layers: [4, 64, 3], Learning rate: 0.00390625, Epochs: 14\n",
      "Error: 11.42079863214844 | Layers: [4, 64, 3], Learning rate: 0.001953125, Epochs: 14\n",
      "Error: 11.427880905118519 | Layers: [4, 32, 3], Learning rate: 0.001953125, Epochs: 14\n",
      "Error: 11.465212509138361 | Layers: [4, 2, 3], Learning rate: 0.001953125, Epochs: 14\n",
      "Error: 11.491564156039455 | Layers: [4, 32, 3], Learning rate: 0.0078125, Epochs: 19\n",
      "Error: 11.514994109308345 | Layers: [4, 2, 3], Learning rate: 0.0078125, Epochs: 19\n",
      "Error: 11.528518033533684 | Layers: [4, 64, 3], Learning rate: 0.0078125, Epochs: 19\n",
      "Error: 11.541071363235407 | Layers: [4, 32, 3], Learning rate: 0.0078125, Epochs: 14\n",
      "Error: 11.570155186912626 | Layers: [4, 64, 3], Learning rate: 0.0078125, Epochs: 14\n",
      "Error: 11.574853966160312 | Layers: [4, 2, 3], Learning rate: 0.0078125, Epochs: 14\n",
      "Error: 11.625664429590739 | Layers: [4, 64, 3], Learning rate: 0.0078125, Epochs: 5\n",
      "Error: 11.634971672628204 | Layers: [4, 32, 3], Learning rate: 0.0078125, Epochs: 5\n",
      "Error: 11.66044956456708 | Layers: [4, 2, 3], Learning rate: 0.0078125, Epochs: 5\n",
      "Error: 11.782480185410023 | Layers: [4, 2, 128, 3], Learning rate: 0.0078125, Epochs: 19\n",
      "Error: 11.7865529375186 | Layers: [4, 8, 2, 3], Learning rate: 0.0078125, Epochs: 19\n",
      "Error: 11.792296684275254 | Layers: [4, 256, 32, 3], Learning rate: 0.0078125, Epochs: 19\n",
      "Error: 11.812437473516791 | Layers: [4, 256, 32, 3], Learning rate: 0.0078125, Epochs: 14\n",
      "Error: 11.812450934425595 | Layers: [4, 2, 128, 3], Learning rate: 0.0078125, Epochs: 14\n",
      "Error: 11.815708016865866 | Layers: [4, 8, 2, 3], Learning rate: 0.0078125, Epochs: 14\n",
      "Error: 11.937126321706849 | Layers: [4, 32, 3], Learning rate: 0.00390625, Epochs: 5\n",
      "Error: 11.943438670196048 | Layers: [4, 8, 2, 3], Learning rate: 0.00390625, Epochs: 19\n",
      "Error: 11.948012999405194 | Layers: [4, 64, 3], Learning rate: 0.00390625, Epochs: 5\n",
      "Error: 11.95141588549636 | Layers: [4, 2, 128, 3], Learning rate: 0.00390625, Epochs: 19\n",
      "Error: 11.953506577126934 | Layers: [4, 256, 32, 3], Learning rate: 0.00390625, Epochs: 19\n",
      "Error: 11.961767646269378 | Layers: [4, 2, 3], Learning rate: 0.00390625, Epochs: 5\n",
      "Error: 12.559621455709596 | Layers: [4, 2, 128, 3], Learning rate: 0.00390625, Epochs: 14\n",
      "Error: 12.559844778424571 | Layers: [4, 8, 2, 3], Learning rate: 0.00390625, Epochs: 14\n",
      "Error: 12.563594648510728 | Layers: [4, 256, 32, 3], Learning rate: 0.00390625, Epochs: 14\n",
      "Error: 14.238997917607904 | Layers: [4, 2, 128, 3], Learning rate: 0.0078125, Epochs: 5\n",
      "Error: 14.244988381317915 | Layers: [4, 8, 2, 3], Learning rate: 0.0078125, Epochs: 5\n",
      "Error: 14.265770056231599 | Layers: [4, 256, 32, 3], Learning rate: 0.0078125, Epochs: 5\n",
      "Error: 14.51533951612874 | Layers: [4, 2, 128, 3], Learning rate: 0.001953125, Epochs: 19\n",
      "Error: 14.5429292015063 | Layers: [4, 256, 32, 3], Learning rate: 0.001953125, Epochs: 19\n",
      "Error: 14.54641850335022 | Layers: [4, 8, 2, 3], Learning rate: 0.001953125, Epochs: 19\n",
      "Error: 16.66256777589982 | Layers: [4, 2, 128, 3], Learning rate: 0.001953125, Epochs: 14\n",
      "Error: 16.715952707469366 | Layers: [4, 256, 32, 3], Learning rate: 0.001953125, Epochs: 14\n",
      "Error: 16.754176726360402 | Layers: [4, 8, 2, 3], Learning rate: 0.001953125, Epochs: 14\n",
      "Error: 18.84859055111604 | Layers: [4, 256, 32, 3], Learning rate: 0.00390625, Epochs: 5\n",
      "Error: 19.023642406244086 | Layers: [4, 2, 128, 3], Learning rate: 0.00390625, Epochs: 5\n",
      "Error: 19.03640430335145 | Layers: [4, 8, 2, 3], Learning rate: 0.00390625, Epochs: 5\n",
      "Error: 21.53874084088916 | Layers: [4, 2, 128, 3], Learning rate: 0.001953125, Epochs: 5\n",
      "Error: 21.55551185783294 | Layers: [4, 8, 2, 3], Learning rate: 0.001953125, Epochs: 5\n",
      "Error: 21.637647607059854 | Layers: [4, 256, 32, 3], Learning rate: 0.001953125, Epochs: 5\n",
      "Error: 24.34825979952561 | Layers: [4, 2, 3], Learning rate: 0.001953125, Epochs: 5\n",
      "Error: 24.39555455118816 | Layers: [4, 64, 3], Learning rate: 0.001953125, Epochs: 5\n",
      "Error: 24.542208936702227 | Layers: [4, 32, 3], Learning rate: 0.001953125, Epochs: 5\n",
      "----------4 bit average----------\n",
      "Error: 11.358678363444211 | Layers: [8, 64, 5], Learning rate: 0.00390625, Epochs: 19\n",
      "Error: 11.374606235463522 | Layers: [8, 1024, 5], Learning rate: 0.00390625, Epochs: 19\n",
      "Error: 11.394463400488535 | Layers: [8, 1024, 5], Learning rate: 0.001953125, Epochs: 19\n",
      "Error: 11.396326795288305 | Layers: [8, 64, 5], Learning rate: 0.001953125, Epochs: 19\n",
      "Error: 11.39850359616898 | Layers: [8, 2, 5], Learning rate: 0.00390625, Epochs: 19\n",
      "Error: 11.406137655430697 | Layers: [8, 2, 5], Learning rate: 0.001953125, Epochs: 19\n",
      "Error: 11.407414128065273 | Layers: [8, 1024, 5], Learning rate: 0.00390625, Epochs: 14\n",
      "Error: 11.418329764856963 | Layers: [8, 64, 5], Learning rate: 0.00390625, Epochs: 14\n",
      "Error: 11.420405014415133 | Layers: [8, 2, 5], Learning rate: 0.001953125, Epochs: 14\n",
      "Error: 11.434642798806433 | Layers: [8, 1024, 5], Learning rate: 0.001953125, Epochs: 14\n",
      "Error: 11.436563360580305 | Layers: [8, 2, 5], Learning rate: 0.00390625, Epochs: 14\n",
      "Error: 11.444455505400594 | Layers: [8, 64, 5], Learning rate: 0.001953125, Epochs: 14\n",
      "Error: 11.494793764684943 | Layers: [8, 1024, 5], Learning rate: 0.0078125, Epochs: 19\n",
      "Error: 11.495455715669502 | Layers: [8, 2, 5], Learning rate: 0.0078125, Epochs: 19\n",
      "Error: 11.54876235382223 | Layers: [8, 2, 5], Learning rate: 0.0078125, Epochs: 14\n",
      "Error: 11.552126141441047 | Layers: [8, 1024, 5], Learning rate: 0.0078125, Epochs: 14\n",
      "Error: 11.556565063135707 | Layers: [8, 64, 5], Learning rate: 0.0078125, Epochs: 19\n",
      "Error: 11.573477233875444 | Layers: [8, 64, 5], Learning rate: 0.0078125, Epochs: 14\n",
      "Error: 11.618744168296756 | Layers: [8, 1024, 5], Learning rate: 0.0078125, Epochs: 5\n",
      "Error: 11.631732278401945 | Layers: [8, 64, 5], Learning rate: 0.0078125, Epochs: 5\n",
      "Error: 11.672924915148002 | Layers: [8, 2, 5], Learning rate: 0.0078125, Epochs: 5\n",
      "Error: 11.785426813879921 | Layers: [8, 2, 256, 5], Learning rate: 0.0078125, Epochs: 19\n",
      "Error: 11.788241141332874 | Layers: [8, 1024, 64, 5], Learning rate: 0.0078125, Epochs: 19\n",
      "Error: 11.791268103601416 | Layers: [8, 32, 64, 5], Learning rate: 0.0078125, Epochs: 19\n",
      "Error: 11.811259798375596 | Layers: [8, 1024, 64, 5], Learning rate: 0.0078125, Epochs: 14\n",
      "Error: 11.812331280527143 | Layers: [8, 32, 64, 5], Learning rate: 0.0078125, Epochs: 14\n",
      "Error: 11.813145150163901 | Layers: [8, 2, 256, 5], Learning rate: 0.0078125, Epochs: 14\n",
      "Error: 11.948666659983193 | Layers: [8, 2, 256, 5], Learning rate: 0.00390625, Epochs: 19\n",
      "Error: 11.952152310490852 | Layers: [8, 2, 5], Learning rate: 0.00390625, Epochs: 5\n",
      "Error: 11.95374545546088 | Layers: [8, 1024, 5], Learning rate: 0.00390625, Epochs: 5\n",
      "Error: 11.954772431294742 | Layers: [8, 64, 5], Learning rate: 0.00390625, Epochs: 5\n",
      "Error: 11.954921633721753 | Layers: [8, 32, 64, 5], Learning rate: 0.00390625, Epochs: 19\n",
      "Error: 11.961307024003807 | Layers: [8, 1024, 64, 5], Learning rate: 0.00390625, Epochs: 19\n",
      "Error: 12.545718854254373 | Layers: [8, 32, 64, 5], Learning rate: 0.00390625, Epochs: 14\n",
      "Error: 12.547816041802866 | Layers: [8, 1024, 64, 5], Learning rate: 0.00390625, Epochs: 14\n",
      "Error: 12.552774036053528 | Layers: [8, 2, 256, 5], Learning rate: 0.00390625, Epochs: 14\n",
      "Error: 14.263583053211502 | Layers: [8, 2, 256, 5], Learning rate: 0.0078125, Epochs: 5\n",
      "Error: 14.289299098548076 | Layers: [8, 32, 64, 5], Learning rate: 0.0078125, Epochs: 5\n",
      "Error: 14.291979018698948 | Layers: [8, 1024, 64, 5], Learning rate: 0.0078125, Epochs: 5\n",
      "Error: 14.485503373610168 | Layers: [8, 2, 256, 5], Learning rate: 0.001953125, Epochs: 19\n",
      "Error: 14.540701259882505 | Layers: [8, 32, 64, 5], Learning rate: 0.001953125, Epochs: 19\n",
      "Error: 14.547034911103907 | Layers: [8, 1024, 64, 5], Learning rate: 0.001953125, Epochs: 19\n",
      "Error: 16.6894307274195 | Layers: [8, 1024, 64, 5], Learning rate: 0.001953125, Epochs: 14\n",
      "Error: 16.72849867866917 | Layers: [8, 32, 64, 5], Learning rate: 0.001953125, Epochs: 14\n",
      "Error: 16.76480353478623 | Layers: [8, 2, 256, 5], Learning rate: 0.001953125, Epochs: 14\n",
      "Error: 18.884475468644588 | Layers: [8, 1024, 64, 5], Learning rate: 0.00390625, Epochs: 5\n",
      "Error: 18.888906911582342 | Layers: [8, 32, 64, 5], Learning rate: 0.00390625, Epochs: 5\n",
      "Error: 18.915683437377382 | Layers: [8, 2, 256, 5], Learning rate: 0.00390625, Epochs: 5\n",
      "Error: 21.604165513223467 | Layers: [8, 2, 256, 5], Learning rate: 0.001953125, Epochs: 5\n",
      "Error: 21.64618777460692 | Layers: [8, 32, 64, 5], Learning rate: 0.001953125, Epochs: 5\n",
      "Error: 21.675473054461627 | Layers: [8, 1024, 64, 5], Learning rate: 0.001953125, Epochs: 5\n",
      "Error: 24.399208579456577 | Layers: [8, 2, 5], Learning rate: 0.001953125, Epochs: 5\n",
      "Error: 24.40161582422199 | Layers: [8, 1024, 5], Learning rate: 0.001953125, Epochs: 5\n",
      "Error: 24.571646518580053 | Layers: [8, 64, 5], Learning rate: 0.001953125, Epochs: 5\n",
      "----------8 bit average----------\n",
      "Error: 11.374800399396886 | Layers: [16, 16, 9], Learning rate: 0.00390625, Epochs: 19\n",
      "Error: 11.388198868026386 | Layers: [16, 4, 9], Learning rate: 0.00390625, Epochs: 19\n",
      "Error: 11.391822881970512 | Layers: [16, 4, 9], Learning rate: 0.001953125, Epochs: 19\n",
      "Error: 11.392052527762145 | Layers: [16, 64, 9], Learning rate: 0.001953125, Epochs: 19\n",
      "Error: 11.392349853641878 | Layers: [16, 64, 9], Learning rate: 0.00390625, Epochs: 19\n",
      "Error: 11.395050934374723 | Layers: [16, 16, 9], Learning rate: 0.001953125, Epochs: 19\n",
      "Error: 11.426317443795659 | Layers: [16, 16, 9], Learning rate: 0.001953125, Epochs: 14\n",
      "Error: 11.428385445074003 | Layers: [16, 4, 9], Learning rate: 0.00390625, Epochs: 14\n",
      "Error: 11.42909736635409 | Layers: [16, 64, 9], Learning rate: 0.001953125, Epochs: 14\n",
      "Error: 11.430713509649767 | Layers: [16, 4, 9], Learning rate: 0.001953125, Epochs: 14\n",
      "Error: 11.432056102381486 | Layers: [16, 64, 9], Learning rate: 0.00390625, Epochs: 14\n",
      "Error: 11.445352653685807 | Layers: [16, 16, 9], Learning rate: 0.00390625, Epochs: 14\n",
      "Error: 11.485694183685544 | Layers: [16, 16, 9], Learning rate: 0.0078125, Epochs: 19\n",
      "Error: 11.505109197013494 | Layers: [16, 64, 9], Learning rate: 0.0078125, Epochs: 19\n",
      "Error: 11.530974624046385 | Layers: [16, 16, 9], Learning rate: 0.0078125, Epochs: 14\n",
      "Error: 11.53342266484253 | Layers: [16, 4, 9], Learning rate: 0.0078125, Epochs: 19\n",
      "Error: 11.547139040754328 | Layers: [16, 64, 9], Learning rate: 0.0078125, Epochs: 14\n",
      "Error: 11.57394080646537 | Layers: [16, 4, 9], Learning rate: 0.0078125, Epochs: 14\n",
      "Error: 11.637128502201065 | Layers: [16, 16, 9], Learning rate: 0.0078125, Epochs: 5\n",
      "Error: 11.643908358632931 | Layers: [16, 4, 9], Learning rate: 0.0078125, Epochs: 5\n",
      "Error: 11.658627418325539 | Layers: [16, 64, 9], Learning rate: 0.0078125, Epochs: 5\n",
      "Error: 11.782547461896138 | Layers: [16, 8, 8, 9], Learning rate: 0.0078125, Epochs: 19\n",
      "Error: 11.785693737729218 | Layers: [16, 16, 4, 9], Learning rate: 0.0078125, Epochs: 19\n",
      "Error: 11.786614212537817 | Layers: [16, 2, 1024, 9], Learning rate: 0.0078125, Epochs: 19\n",
      "Error: 11.816680772874337 | Layers: [16, 16, 4, 9], Learning rate: 0.0078125, Epochs: 14\n",
      "Error: 11.818602737200388 | Layers: [16, 2, 1024, 9], Learning rate: 0.0078125, Epochs: 14\n",
      "Error: 11.822792740434188 | Layers: [16, 8, 8, 9], Learning rate: 0.0078125, Epochs: 14\n",
      "Error: 11.917502511212449 | Layers: [16, 64, 9], Learning rate: 0.00390625, Epochs: 5\n",
      "Error: 11.93085065057003 | Layers: [16, 4, 9], Learning rate: 0.00390625, Epochs: 5\n",
      "Error: 11.949281854930941 | Layers: [16, 16, 9], Learning rate: 0.00390625, Epochs: 5\n",
      "Error: 11.950710563424462 | Layers: [16, 2, 1024, 9], Learning rate: 0.00390625, Epochs: 19\n",
      "Error: 11.951713915297299 | Layers: [16, 16, 4, 9], Learning rate: 0.00390625, Epochs: 19\n",
      "Error: 11.954738887124204 | Layers: [16, 8, 8, 9], Learning rate: 0.00390625, Epochs: 19\n",
      "Error: 12.51924355420283 | Layers: [16, 2, 1024, 9], Learning rate: 0.00390625, Epochs: 14\n",
      "Error: 12.533935283652184 | Layers: [16, 8, 8, 9], Learning rate: 0.00390625, Epochs: 14\n",
      "Error: 12.588222925953541 | Layers: [16, 16, 4, 9], Learning rate: 0.00390625, Epochs: 14\n",
      "Error: 14.218586715789133 | Layers: [16, 2, 1024, 9], Learning rate: 0.0078125, Epochs: 5\n",
      "Error: 14.23707111734662 | Layers: [16, 8, 8, 9], Learning rate: 0.0078125, Epochs: 5\n",
      "Error: 14.268495290264443 | Layers: [16, 16, 4, 9], Learning rate: 0.0078125, Epochs: 5\n",
      "Error: 14.507435550016893 | Layers: [16, 2, 1024, 9], Learning rate: 0.001953125, Epochs: 19\n",
      "Error: 14.523901974131457 | Layers: [16, 8, 8, 9], Learning rate: 0.001953125, Epochs: 19\n",
      "Error: 14.53936794844496 | Layers: [16, 16, 4, 9], Learning rate: 0.001953125, Epochs: 19\n",
      "Error: 16.73793591157221 | Layers: [16, 2, 1024, 9], Learning rate: 0.001953125, Epochs: 14\n",
      "Error: 16.802607121884982 | Layers: [16, 16, 4, 9], Learning rate: 0.001953125, Epochs: 14\n",
      "Error: 16.835572149929966 | Layers: [16, 8, 8, 9], Learning rate: 0.001953125, Epochs: 14\n",
      "Error: 18.875335314717223 | Layers: [16, 8, 8, 9], Learning rate: 0.00390625, Epochs: 5\n",
      "Error: 18.875962832691947 | Layers: [16, 16, 4, 9], Learning rate: 0.00390625, Epochs: 5\n",
      "Error: 18.965162484177096 | Layers: [16, 2, 1024, 9], Learning rate: 0.00390625, Epochs: 5\n",
      "Error: 21.5622313915356 | Layers: [16, 8, 8, 9], Learning rate: 0.001953125, Epochs: 5\n",
      "Error: 21.65881460045298 | Layers: [16, 2, 1024, 9], Learning rate: 0.001953125, Epochs: 5\n",
      "Error: 21.6721864025804 | Layers: [16, 16, 4, 9], Learning rate: 0.001953125, Epochs: 5\n",
      "Error: 24.31820521133367 | Layers: [16, 4, 9], Learning rate: 0.001953125, Epochs: 5\n",
      "Error: 24.522455132567714 | Layers: [16, 16, 9], Learning rate: 0.001953125, Epochs: 5\n",
      "Error: 24.65711458156946 | Layers: [16, 64, 9], Learning rate: 0.001953125, Epochs: 5\n"
     ]
    }
   ],
   "source": [
    "print('----------2 bit average----------')\n",
    "print_performance_dict(average_performance_dict_2bits)\n",
    "print('----------4 bit average----------')\n",
    "print_performance_dict(average_performance_dict_4bits)\n",
    "print('----------8 bit average----------')\n",
    "print_performance_dict(average_performance_dict_8bits)"
   ]
  },
  {
   "cell_type": "code",
   "execution_count": 34,
   "id": "cf111c91-cfaf-4293-b004-0b1b0014e768",
   "metadata": {},
   "outputs": [],
   "source": [
    "# Save the average performance data\n",
    "performance_dicts = [average_performance_dict_2bits, average_performance_dict_4bits, average_performance_dict_8bits]\n",
    "for i in range(len(performance_dicts)):\n",
    "    with open(f'./data/{2**(i+1)}bit_average_performance.txt', 'w') as f:\n",
    "        f.write('parameters,performance\\n')\n",
    "        f.writelines([f'{x}\\n' for x in sorted(list(performance_dicts[i].items()), key=lambda x: x[1], reverse=True)])"
   ]
  },
  {
   "cell_type": "code",
   "execution_count": 35,
   "id": "b5a7bbf0-8060-4564-8e3b-c6ebc72139c5",
   "metadata": {},
   "outputs": [],
   "source": [
    "# Perform ceteris paribus test for 2 bist\n",
    "# Read the average performance:\n",
    "with open(f'./data/2bit_average_performance.txt', 'r') as f:\n",
    "    average_performance = list(f)\n",
    "    average_performance = [line.rstrip() for line in average_performance][1:]"
   ]
  },
  {
   "cell_type": "code",
   "execution_count": 36,
   "id": "2086f6b0",
   "metadata": {},
   "outputs": [
    {
     "name": "stdout",
     "output_type": "stream",
     "text": [
      "----------Error variation across epochs----------\n",
      "Network 1\n",
      "('Layers: [4, 32, 3], Learning rate: 0.00390625, Epochs: 5', 11.937126321706849)\n",
      "('Layers: [4, 32, 3], Learning rate: 0.00390625, Epochs: 14', 11.40265842391095)\n",
      "('Layers: [4, 32, 3], Learning rate: 0.00390625, Epochs: 19', 11.378101958326878)\n",
      "Network 2\n",
      "('Layers: [4, 256, 32, 3], Learning rate: 0.001953125, Epochs: 5', 21.637647607059854)\n",
      "('Layers: [4, 256, 32, 3], Learning rate: 0.001953125, Epochs: 14', 16.715952707469366)\n",
      "('Layers: [4, 256, 32, 3], Learning rate: 0.001953125, Epochs: 19', 14.5429292015063)\n",
      "Network 3\n",
      "('Layers: [4, 2, 3], Learning rate: 0.0078125, Epochs: 5', 11.66044956456708)\n",
      "('Layers: [4, 2, 3], Learning rate: 0.0078125, Epochs: 14', 11.574853966160312)\n",
      "('Layers: [4, 2, 3], Learning rate: 0.0078125, Epochs: 19', 11.514994109308345)\n",
      "----------Error variation across learning rates----------\n",
      "Network 1\n",
      "('Layers: [4, 32, 3], Learning rate: 0.0078125, Epochs: 19', 11.491564156039455)\n",
      "('Layers: [4, 32, 3], Learning rate: 0.001953125, Epochs: 19', 11.391219735375435)\n",
      "('Layers: [4, 32, 3], Learning rate: 0.00390625, Epochs: 19', 11.378101958326878)\n",
      "Network 2\n",
      "('Layers: [4, 256, 32, 3], Learning rate: 0.001953125, Epochs: 14', 16.715952707469366)\n",
      "('Layers: [4, 256, 32, 3], Learning rate: 0.00390625, Epochs: 14', 12.563594648510728)\n",
      "('Layers: [4, 256, 32, 3], Learning rate: 0.0078125, Epochs: 14', 11.812437473516791)\n",
      "Network 3\n",
      "('Layers: [4, 2, 3], Learning rate: 0.001953125, Epochs: 5', 24.34825979952561)\n",
      "('Layers: [4, 2, 3], Learning rate: 0.00390625, Epochs: 5', 11.961767646269378)\n",
      "('Layers: [4, 2, 3], Learning rate: 0.0078125, Epochs: 5', 11.66044956456708)\n",
      "----------Error variation across epochs----------\n",
      "Network 1\n",
      "('Layers: [4, 256, 32, 3], Learning rate: 0.00390625, Epochs: 19', 11.953506577126934)\n",
      "('Layers: [4, 2, 128, 3], Learning rate: 0.00390625, Epochs: 19', 11.95141588549636)\n",
      "('Layers: [4, 8, 2, 3], Learning rate: 0.00390625, Epochs: 19', 11.943438670196048)\n",
      "('Layers: [4, 2, 3], Learning rate: 0.00390625, Epochs: 19', 11.409708046350612)\n",
      "('Layers: [4, 64, 3], Learning rate: 0.00390625, Epochs: 19', 11.393108989356337)\n",
      "('Layers: [4, 32, 3], Learning rate: 0.00390625, Epochs: 19', 11.378101958326878)\n",
      "Network 2\n",
      "('Layers: [4, 8, 2, 3], Learning rate: 0.001953125, Epochs: 14', 16.754176726360402)\n",
      "('Layers: [4, 256, 32, 3], Learning rate: 0.001953125, Epochs: 14', 16.715952707469366)\n",
      "('Layers: [4, 2, 128, 3], Learning rate: 0.001953125, Epochs: 14', 16.66256777589982)\n",
      "('Layers: [4, 2, 3], Learning rate: 0.001953125, Epochs: 14', 11.465212509138361)\n",
      "('Layers: [4, 32, 3], Learning rate: 0.001953125, Epochs: 14', 11.427880905118519)\n",
      "('Layers: [4, 64, 3], Learning rate: 0.001953125, Epochs: 14', 11.42079863214844)\n",
      "Network 3\n",
      "('Layers: [4, 256, 32, 3], Learning rate: 0.0078125, Epochs: 5', 14.265770056231599)\n",
      "('Layers: [4, 8, 2, 3], Learning rate: 0.0078125, Epochs: 5', 14.244988381317915)\n",
      "('Layers: [4, 2, 128, 3], Learning rate: 0.0078125, Epochs: 5', 14.238997917607904)\n",
      "('Layers: [4, 2, 3], Learning rate: 0.0078125, Epochs: 5', 11.66044956456708)\n",
      "('Layers: [4, 32, 3], Learning rate: 0.0078125, Epochs: 5', 11.634971672628204)\n",
      "('Layers: [4, 64, 3], Learning rate: 0.0078125, Epochs: 5', 11.625664429590739)\n"
     ]
    }
   ],
   "source": [
    "# Chose for which networks to test\n",
    "test_layers = [\n",
    "    [4, 32, 3],\n",
    "    [4, 256, 32, 3],\n",
    "    [4, 2, 3],\n",
    "]\n",
    "\n",
    "test_learning_rates = [\n",
    "    0.00390625,\n",
    "    0.001953125,\n",
    "    0.0078125,\n",
    "]\n",
    "\n",
    "test_epochs = [\n",
    "    19,\n",
    "    14,\n",
    "    5,\n",
    "]\n",
    "\n",
    "def check_error_variation_over_paramater(const1, const2, name1, name2, name_test):\n",
    "    print(f'----------Error variation across {name_test}----------')\n",
    "    for i in range(len(const1)):\n",
    "        print(f'Network {i+1}')\n",
    "        for performance in average_performance:\n",
    "            if f'{name1}: {const1[i]}' in performance and f'{name2}: {const2[i]}' in performance:\n",
    "                print(performance)\n",
    "\n",
    "check_error_variation_over_paramater(test_layers, test_learning_rates, 'Layers', 'Learning rate', 'epochs')\n",
    "check_error_variation_over_paramater(test_layers, test_epochs, 'Layers', 'Epochs', 'learning rates')\n",
    "check_error_variation_over_paramater(test_epochs, test_learning_rates, 'Epochs', 'Learning rate', 'epochs')"
   ]
  },
  {
   "cell_type": "code",
   "execution_count": 37,
   "id": "8fe062b3",
   "metadata": {},
   "outputs": [],
   "source": [
    "# Perform the same test for 4 bits\n",
    "# Read the average performance:\n",
    "with open(f'./data/4bit_average_performance.txt', 'r') as f:\n",
    "    average_performance = list(f)\n",
    "    average_performance = [line.rstrip() for line in average_performance][1:]"
   ]
  },
  {
   "cell_type": "code",
   "execution_count": 38,
   "id": "da3dbe5b",
   "metadata": {},
   "outputs": [
    {
     "name": "stdout",
     "output_type": "stream",
     "text": [
      "----------Error variation across epochs----------\n",
      "Network 1\n",
      "('Layers: [8, 2, 5], Learning rate: 0.0078125, Epochs: 5', 11.672924915148002)\n",
      "('Layers: [8, 2, 5], Learning rate: 0.0078125, Epochs: 14', 11.54876235382223)\n",
      "('Layers: [8, 2, 5], Learning rate: 0.0078125, Epochs: 19', 11.495455715669502)\n",
      "Network 2\n",
      "('Layers: [8, 64, 5], Learning rate: 0.001953125, Epochs: 5', 24.571646518580053)\n",
      "('Layers: [8, 64, 5], Learning rate: 0.001953125, Epochs: 14', 11.444455505400594)\n",
      "('Layers: [8, 64, 5], Learning rate: 0.001953125, Epochs: 19', 11.396326795288305)\n",
      "Network 3\n",
      "('Layers: [8, 32, 64, 5], Learning rate: 0.00390625, Epochs: 5', 18.888906911582342)\n",
      "('Layers: [8, 32, 64, 5], Learning rate: 0.00390625, Epochs: 14', 12.545718854254373)\n",
      "('Layers: [8, 32, 64, 5], Learning rate: 0.00390625, Epochs: 19', 11.954921633721753)\n",
      "----------Error variation across learning rates----------\n",
      "Network 1\n",
      "('Layers: [8, 2, 5], Learning rate: 0.0078125, Epochs: 19', 11.495455715669502)\n",
      "('Layers: [8, 2, 5], Learning rate: 0.001953125, Epochs: 19', 11.406137655430697)\n",
      "('Layers: [8, 2, 5], Learning rate: 0.00390625, Epochs: 19', 11.39850359616898)\n",
      "Network 2\n",
      "('Layers: [8, 64, 5], Learning rate: 0.0078125, Epochs: 14', 11.573477233875444)\n",
      "('Layers: [8, 64, 5], Learning rate: 0.001953125, Epochs: 14', 11.444455505400594)\n",
      "('Layers: [8, 64, 5], Learning rate: 0.00390625, Epochs: 14', 11.418329764856963)\n",
      "Network 3\n",
      "('Layers: [8, 32, 64, 5], Learning rate: 0.001953125, Epochs: 5', 21.64618777460692)\n",
      "('Layers: [8, 32, 64, 5], Learning rate: 0.00390625, Epochs: 5', 18.888906911582342)\n",
      "('Layers: [8, 32, 64, 5], Learning rate: 0.0078125, Epochs: 5', 14.289299098548076)\n",
      "----------Error variation across epochs----------\n",
      "Network 1\n",
      "('Layers: [8, 32, 64, 5], Learning rate: 0.0078125, Epochs: 19', 11.791268103601416)\n",
      "('Layers: [8, 1024, 64, 5], Learning rate: 0.0078125, Epochs: 19', 11.788241141332874)\n",
      "('Layers: [8, 2, 256, 5], Learning rate: 0.0078125, Epochs: 19', 11.785426813879921)\n",
      "('Layers: [8, 64, 5], Learning rate: 0.0078125, Epochs: 19', 11.556565063135707)\n",
      "('Layers: [8, 2, 5], Learning rate: 0.0078125, Epochs: 19', 11.495455715669502)\n",
      "('Layers: [8, 1024, 5], Learning rate: 0.0078125, Epochs: 19', 11.494793764684943)\n",
      "Network 2\n",
      "('Layers: [8, 2, 256, 5], Learning rate: 0.001953125, Epochs: 14', 16.76480353478623)\n",
      "('Layers: [8, 32, 64, 5], Learning rate: 0.001953125, Epochs: 14', 16.72849867866917)\n",
      "('Layers: [8, 1024, 64, 5], Learning rate: 0.001953125, Epochs: 14', 16.6894307274195)\n",
      "('Layers: [8, 64, 5], Learning rate: 0.001953125, Epochs: 14', 11.444455505400594)\n",
      "('Layers: [8, 1024, 5], Learning rate: 0.001953125, Epochs: 14', 11.434642798806433)\n",
      "('Layers: [8, 2, 5], Learning rate: 0.001953125, Epochs: 14', 11.420405014415133)\n",
      "Network 3\n",
      "('Layers: [8, 2, 256, 5], Learning rate: 0.00390625, Epochs: 5', 18.915683437377382)\n",
      "('Layers: [8, 32, 64, 5], Learning rate: 0.00390625, Epochs: 5', 18.888906911582342)\n",
      "('Layers: [8, 1024, 64, 5], Learning rate: 0.00390625, Epochs: 5', 18.884475468644588)\n",
      "('Layers: [8, 64, 5], Learning rate: 0.00390625, Epochs: 5', 11.954772431294742)\n",
      "('Layers: [8, 1024, 5], Learning rate: 0.00390625, Epochs: 5', 11.95374545546088)\n",
      "('Layers: [8, 2, 5], Learning rate: 0.00390625, Epochs: 5', 11.952152310490852)\n"
     ]
    }
   ],
   "source": [
    "# Define the parameters\n",
    "test_layers = [\n",
    "    [8, 2, 5],\n",
    "    [8, 64, 5],\n",
    "    [8, 32, 64, 5],\n",
    "]\n",
    "\n",
    "test_learning_rates = [\n",
    "    0.0078125,\n",
    "    0.001953125,\n",
    "    0.00390625,\n",
    "]\n",
    "\n",
    "test_epochs = [\n",
    "    19,\n",
    "    14,\n",
    "    5,\n",
    "]\n",
    "\n",
    "# Check error variation over epochs, learning rate and layers\n",
    "check_error_variation_over_paramater(test_layers, test_learning_rates, 'Layers', 'Learning rate', 'epochs')\n",
    "check_error_variation_over_paramater(test_layers, test_epochs, 'Layers', 'Epochs', 'learning rates')\n",
    "check_error_variation_over_paramater(test_epochs, test_learning_rates, 'Epochs', 'Learning rate', 'epochs')"
   ]
  },
  {
   "cell_type": "code",
   "execution_count": 39,
   "id": "0f69c9a2",
   "metadata": {},
   "outputs": [],
   "source": [
    "# Perform the same test for 8 bits\n",
    "# Read the average performance:\n",
    "with open(f'./data/8bit_average_performance.txt', 'r') as f:\n",
    "    average_performance = list(f)\n",
    "    average_performance = [line.rstrip() for line in average_performance][1:]"
   ]
  },
  {
   "cell_type": "code",
   "execution_count": 40,
   "id": "1f6b6a69",
   "metadata": {},
   "outputs": [
    {
     "name": "stdout",
     "output_type": "stream",
     "text": [
      "----------Error variation across epochs----------\n",
      "Network 1\n",
      "('Layers: [16, 4, 9], Learning rate: 0.0078125, Epochs: 5', 11.643908358632931)\n",
      "('Layers: [16, 4, 9], Learning rate: 0.0078125, Epochs: 14', 11.57394080646537)\n",
      "('Layers: [16, 4, 9], Learning rate: 0.0078125, Epochs: 19', 11.53342266484253)\n",
      "Network 2\n",
      "('Layers: [16, 64, 9], Learning rate: 0.001953125, Epochs: 5', 24.65711458156946)\n",
      "('Layers: [16, 64, 9], Learning rate: 0.001953125, Epochs: 14', 11.42909736635409)\n",
      "('Layers: [16, 64, 9], Learning rate: 0.001953125, Epochs: 19', 11.392052527762145)\n",
      "Network 3\n",
      "('Layers: [16, 2, 1024, 9], Learning rate: 0.00390625, Epochs: 5', 18.965162484177096)\n",
      "('Layers: [16, 2, 1024, 9], Learning rate: 0.00390625, Epochs: 14', 12.51924355420283)\n",
      "('Layers: [16, 2, 1024, 9], Learning rate: 0.00390625, Epochs: 19', 11.950710563424462)\n",
      "----------Error variation across learning rates----------\n",
      "Network 1\n",
      "('Layers: [16, 4, 9], Learning rate: 0.0078125, Epochs: 19', 11.53342266484253)\n",
      "('Layers: [16, 4, 9], Learning rate: 0.001953125, Epochs: 19', 11.391822881970512)\n",
      "('Layers: [16, 4, 9], Learning rate: 0.00390625, Epochs: 19', 11.388198868026386)\n",
      "Network 2\n",
      "('Layers: [16, 64, 9], Learning rate: 0.0078125, Epochs: 14', 11.547139040754328)\n",
      "('Layers: [16, 64, 9], Learning rate: 0.00390625, Epochs: 14', 11.432056102381486)\n",
      "('Layers: [16, 64, 9], Learning rate: 0.001953125, Epochs: 14', 11.42909736635409)\n",
      "Network 3\n",
      "('Layers: [16, 2, 1024, 9], Learning rate: 0.001953125, Epochs: 5', 21.65881460045298)\n",
      "('Layers: [16, 2, 1024, 9], Learning rate: 0.00390625, Epochs: 5', 18.965162484177096)\n",
      "('Layers: [16, 2, 1024, 9], Learning rate: 0.0078125, Epochs: 5', 14.218586715789133)\n",
      "----------Error variation across epochs----------\n",
      "Network 1\n",
      "('Layers: [16, 2, 1024, 9], Learning rate: 0.0078125, Epochs: 19', 11.786614212537817)\n",
      "('Layers: [16, 16, 4, 9], Learning rate: 0.0078125, Epochs: 19', 11.785693737729218)\n",
      "('Layers: [16, 8, 8, 9], Learning rate: 0.0078125, Epochs: 19', 11.782547461896138)\n",
      "('Layers: [16, 4, 9], Learning rate: 0.0078125, Epochs: 19', 11.53342266484253)\n",
      "('Layers: [16, 64, 9], Learning rate: 0.0078125, Epochs: 19', 11.505109197013494)\n",
      "('Layers: [16, 16, 9], Learning rate: 0.0078125, Epochs: 19', 11.485694183685544)\n",
      "Network 2\n",
      "('Layers: [16, 8, 8, 9], Learning rate: 0.001953125, Epochs: 14', 16.835572149929966)\n",
      "('Layers: [16, 16, 4, 9], Learning rate: 0.001953125, Epochs: 14', 16.802607121884982)\n",
      "('Layers: [16, 2, 1024, 9], Learning rate: 0.001953125, Epochs: 14', 16.73793591157221)\n",
      "('Layers: [16, 4, 9], Learning rate: 0.001953125, Epochs: 14', 11.430713509649767)\n",
      "('Layers: [16, 64, 9], Learning rate: 0.001953125, Epochs: 14', 11.42909736635409)\n",
      "('Layers: [16, 16, 9], Learning rate: 0.001953125, Epochs: 14', 11.426317443795659)\n",
      "Network 3\n",
      "('Layers: [16, 2, 1024, 9], Learning rate: 0.00390625, Epochs: 5', 18.965162484177096)\n",
      "('Layers: [16, 16, 4, 9], Learning rate: 0.00390625, Epochs: 5', 18.875962832691947)\n",
      "('Layers: [16, 8, 8, 9], Learning rate: 0.00390625, Epochs: 5', 18.875335314717223)\n",
      "('Layers: [16, 16, 9], Learning rate: 0.00390625, Epochs: 5', 11.949281854930941)\n",
      "('Layers: [16, 4, 9], Learning rate: 0.00390625, Epochs: 5', 11.93085065057003)\n",
      "('Layers: [16, 64, 9], Learning rate: 0.00390625, Epochs: 5', 11.917502511212449)\n"
     ]
    }
   ],
   "source": [
    "# Define the parameters\n",
    "test_layers = [\n",
    "    [16, 4, 9],\n",
    "    [16, 64, 9],\n",
    "    [16, 2, 1024, 9],\n",
    "]\n",
    "\n",
    "test_learning_rates = [\n",
    "    0.0078125,\n",
    "    0.001953125,\n",
    "    0.00390625,\n",
    "]\n",
    "\n",
    "test_epochs = [\n",
    "    19,\n",
    "    14,\n",
    "    5,\n",
    "]\n",
    "\n",
    "# Check error variation over epochs, learning rate and layers\n",
    "check_error_variation_over_paramater(test_layers, test_learning_rates, 'Layers', 'Learning rate', 'epochs')\n",
    "check_error_variation_over_paramater(test_layers, test_epochs, 'Layers', 'Epochs', 'learning rates')\n",
    "check_error_variation_over_paramater(test_epochs, test_learning_rates, 'Epochs', 'Learning rate', 'epochs')"
   ]
  },
  {
   "cell_type": "code",
   "execution_count": 41,
   "id": "0409a1a2",
   "metadata": {},
   "outputs": [],
   "source": [
    "# Come back and test all the 2 bit network networks\n",
    "# over the learning rates\n",
    "# Define parameters\n",
    "test_layers = [\n",
    "    [4, 2, 3],\n",
    "    [4, 32, 3],\n",
    "    [4, 64, 3],\n",
    "    [4, 8, 2, 3],\n",
    "    [4, 2, 128, 3],\n",
    "    [4, 256, 32, 3],\n",
    "]\n",
    "\n",
    "test_epochs = [\n",
    "    5, \n",
    "    14, \n",
    "    19\n",
    "]"
   ]
  },
  {
   "cell_type": "code",
   "execution_count": 43,
   "id": "e8a69d98",
   "metadata": {},
   "outputs": [
    {
     "name": "stdout",
     "output_type": "stream",
     "text": [
      "Network 1\n",
      "Layers: [4, 2, 3] | Epochs: 5\n",
      "Network 2\n",
      "Layers: [4, 2, 3] | Epochs: 14\n",
      "Network 3\n",
      "Layers: [4, 2, 3] | Epochs: 19\n",
      "Network 4\n",
      "Layers: [4, 32, 3] | Epochs: 5\n",
      "Network 5\n",
      "Layers: [4, 32, 3] | Epochs: 14\n",
      "Network 6\n",
      "Layers: [4, 32, 3] | Epochs: 19\n",
      "Network 7\n",
      "Layers: [4, 64, 3] | Epochs: 5\n",
      "Network 8\n",
      "Layers: [4, 64, 3] | Epochs: 14\n",
      "Network 9\n",
      "Layers: [4, 64, 3] | Epochs: 19\n",
      "Network 10\n",
      "Layers: [4, 8, 2, 3] | Epochs: 5\n",
      "Network 11\n",
      "Layers: [4, 8, 2, 3] | Epochs: 14\n",
      "Network 12\n",
      "Layers: [4, 8, 2, 3] | Epochs: 19\n",
      "Network 13\n",
      "Layers: [4, 2, 128, 3] | Epochs: 5\n",
      "Network 14\n",
      "Layers: [4, 2, 128, 3] | Epochs: 14\n",
      "Network 15\n",
      "Layers: [4, 2, 128, 3] | Epochs: 19\n",
      "Network 16\n",
      "Layers: [4, 256, 32, 3] | Epochs: 5\n",
      "Network 17\n",
      "Layers: [4, 256, 32, 3] | Epochs: 14\n",
      "Network 18\n",
      "Layers: [4, 256, 32, 3] | Epochs: 19\n"
     ]
    }
   ],
   "source": [
    "# Order network performance for all the corresponding networks\n",
    "for i, layers in enumerate(test_layers):\n",
    "    for j, epochs in enumerate(test_epochs):\n",
    "        print(f'Network {i*len(test_epochs) + j + 1}\\nLayers: {layers} | Epochs: {epochs}')\n",
    "        for performance in average_performance:\n",
    "                    if f'Layers: {layers}' in performance and f'Epochs: {epochs}' in performance:\n",
    "                        print(performance)"
   ]
  },
  {
   "cell_type": "code",
   "execution_count": null,
   "id": "ac04ca1e-3c6b-40af-b6b7-99cb032265f2",
   "metadata": {},
   "outputs": [],
   "source": [
    "# TODO: test stable network for whole range of epochs and record results\n",
    "# TODO: test extremely simplified network structures see beneath as well\n",
    "# TODO: test an extremely complexe network structure (just a lot of layers)\n",
    "# TODO: test stable network performance on hard lim transfer functions\n",
    "# TODO: test stable network performance but training it with a hardlim transfer function last layer\n",
    "# TODO: redo all this with symetrical network"
   ]
  },
  {
   "cell_type": "code",
   "execution_count": null,
   "id": "9f88e41d",
   "metadata": {},
   "outputs": [],
   "source": [
    "# Testing network structures trained with huge numbers of epochs\n",
    "# Define layers\n",
    "layer_sizes = [4, 32]\n",
    "\n",
    "# Get inputs and outputs\n",
    "inputs, outputs, S = gen_inputs_outputs(layer_sizes[0])\n",
    "\n",
    "# Append last layer size\n",
    "layer_sizes = np.array(layer_sizes + [S], dtype=int)\n",
    "\n",
    "# Define transfer functions\n",
    "transfer_functions = [logsig, lin]\n",
    "deriv_transfer_functions = [deriv_logsig, deriv_lin]"
   ]
  },
  {
   "cell_type": "code",
   "execution_count": null,
   "id": "ba91f7cb",
   "metadata": {
    "scrolled": true
   },
   "outputs": [],
   "source": [
    "# Test for epochs going from 100 to 5000\n",
    "for i in range(1, 51):\n",
    "    # Reset all network parameters\n",
    "    reset_params()\n",
    "    \n",
    "    print(f'-----Epochs: {i*100}-----')\n",
    "    \n",
    "    # Train the network\n",
    "    train_network(learning_rate=0.00390625, epochs=i*100)\n",
    "\n",
    "    # Get performance\n",
    "    print(performance())"
   ]
  },
  {
   "cell_type": "code",
   "execution_count": null,
   "id": "5649a34f-a7ad-463a-9402-b72e5a9e3c2c",
   "metadata": {},
   "outputs": [],
   "source": [
    "# Test the model with keras\n",
    "from tensorflow.keras.models import Sequential\n",
    "from tensorflow.keras.layers import Dense\n",
    "from tensorflow.keras.optimizers import SGD"
   ]
  },
  {
   "cell_type": "code",
   "execution_count": null,
   "id": "18f00e57-ffe2-4019-befa-371b308d4aaa",
   "metadata": {},
   "outputs": [],
   "source": [
    "model = Sequential()\n",
    "model.add(Dense(layer_sizes[1], input_shape=(layer_sizes[0],), activation='sigmoid'))\n",
    "model.add(Dense(layer_sizes[2], activation='linear'))"
   ]
  },
  {
   "cell_type": "code",
   "execution_count": null,
   "id": "a1461c9e-d5ff-46f6-bf5d-d3d912900cda",
   "metadata": {},
   "outputs": [],
   "source": [
    "sdg = SGD(.9)\n",
    "model.compile(loss=\"categorical_crossentropy\", optimizer=sdg,\n",
    "\tmetrics=[\"accuracy\"])\n",
    "model.fit(inputs, outputs)"
   ]
  },
  {
   "cell_type": "code",
   "execution_count": null,
   "id": "94cda203-692a-464f-a3e4-0ef7c23a265e",
   "metadata": {},
   "outputs": [],
   "source": [
    "model.predict(inputs)"
   ]
  }
 ],
 "metadata": {
  "kernelspec": {
   "display_name": "tensorflow25",
   "language": "python",
   "name": "tensorflow25"
  },
  "language_info": {
   "codemirror_mode": {
    "name": "ipython",
    "version": 3
   },
   "file_extension": ".py",
   "mimetype": "text/x-python",
   "name": "python",
   "nbconvert_exporter": "python",
   "pygments_lexer": "ipython3",
   "version": "3.8.16"
  }
 },
 "nbformat": 4,
 "nbformat_minor": 5
}
