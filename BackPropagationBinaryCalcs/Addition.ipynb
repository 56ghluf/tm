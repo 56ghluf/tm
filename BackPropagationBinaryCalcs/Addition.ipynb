{
 "cells": [
  {
   "cell_type": "code",
   "execution_count": 1,
   "id": "b84f3c0d-0ef4-4786-a173-f84ae624f253",
   "metadata": {},
   "outputs": [],
   "source": [
    "# Imports\n",
    "import numpy as np"
   ]
  },
  {
   "cell_type": "code",
   "execution_count": 2,
   "id": "6f472b88-a3a4-4b8d-a53e-18e34ff70219",
   "metadata": {},
   "outputs": [],
   "source": [
    "# Import the tools\n",
    "from sys import path\n",
    "path.append('/Users/reid/dev/PythonCode/tm/tools')\n",
    "path.append('D:/PythonCode/tm/tools')\n",
    "from tools import gen_inputs_outputs, logsig, lin, deriv_logsig, deriv_lin, e2, hardlim"
   ]
  },
  {
   "cell_type": "code",
   "execution_count": 3,
   "id": "6bfddd31-1531-4b5f-9b6e-26726405aef0",
   "metadata": {},
   "outputs": [],
   "source": [
    "# Define the size of the network\n",
    "# Order by layers (input, layer1, layer2, ...)\n",
    "# !!! No output layer yet, wait to gen inputs\n",
    "layer_sizes = [4, 7]"
   ]
  },
  {
   "cell_type": "code",
   "execution_count": 4,
   "id": "79899160-bb87-42b0-9724-442688c4fcbe",
   "metadata": {},
   "outputs": [],
   "source": [
    "# Gen inputs, outputs and size of the last layer\n",
    "inputs, outputs, S = gen_inputs_outputs(layer_sizes[0])"
   ]
  },
  {
   "cell_type": "code",
   "execution_count": 5,
   "id": "bbf53b7f-a7bc-44b9-82df-d9f112726b92",
   "metadata": {},
   "outputs": [],
   "source": [
    "# Append the output layer size\n",
    "layer_sizes = np.array(layer_sizes + [S], dtype=int)"
   ]
  },
  {
   "cell_type": "code",
   "execution_count": 6,
   "id": "3c1a6b04-33fd-4159-80c3-4590112d951b",
   "metadata": {},
   "outputs": [
    {
     "data": {
      "text/plain": [
       "array([4, 7, 3])"
      ]
     },
     "execution_count": 6,
     "metadata": {},
     "output_type": "execute_result"
    }
   ],
   "source": [
    "# Network shape\n",
    "layer_sizes"
   ]
  },
  {
   "cell_type": "code",
   "execution_count": 7,
   "id": "b93dbe42-c6ff-40d8-963b-d38d7c9c6381",
   "metadata": {},
   "outputs": [
    {
     "data": {
      "text/plain": [
       "array([[0, 0, 0, 0],\n",
       "       [0, 0, 0, 1],\n",
       "       [0, 0, 1, 0],\n",
       "       [0, 0, 1, 1],\n",
       "       [0, 1, 0, 0],\n",
       "       [0, 1, 0, 1],\n",
       "       [0, 1, 1, 0],\n",
       "       [0, 1, 1, 1],\n",
       "       [1, 0, 0, 0],\n",
       "       [1, 0, 0, 1],\n",
       "       [1, 0, 1, 0],\n",
       "       [1, 0, 1, 1],\n",
       "       [1, 1, 0, 0],\n",
       "       [1, 1, 0, 1],\n",
       "       [1, 1, 1, 0],\n",
       "       [1, 1, 1, 1]])"
      ]
     },
     "execution_count": 7,
     "metadata": {},
     "output_type": "execute_result"
    }
   ],
   "source": [
    "# Inputs\n",
    "inputs"
   ]
  },
  {
   "cell_type": "code",
   "execution_count": 8,
   "id": "ae97cbdf-c716-48e4-ae91-3d6fab5fbc0d",
   "metadata": {},
   "outputs": [
    {
     "data": {
      "text/plain": [
       "array([[0, 0, 0],\n",
       "       [0, 0, 1],\n",
       "       [0, 1, 0],\n",
       "       [0, 1, 1],\n",
       "       [0, 0, 1],\n",
       "       [0, 1, 0],\n",
       "       [0, 1, 1],\n",
       "       [1, 0, 0],\n",
       "       [0, 1, 0],\n",
       "       [0, 1, 1],\n",
       "       [1, 0, 0],\n",
       "       [1, 0, 1],\n",
       "       [0, 1, 1],\n",
       "       [1, 0, 0],\n",
       "       [1, 0, 1],\n",
       "       [1, 1, 0]])"
      ]
     },
     "execution_count": 8,
     "metadata": {},
     "output_type": "execute_result"
    }
   ],
   "source": [
    "# Outputs\n",
    "outputs"
   ]
  },
  {
   "cell_type": "code",
   "execution_count": 9,
   "id": "df41116d-c038-4df0-a8b7-bbd6672d9192",
   "metadata": {},
   "outputs": [],
   "source": [
    "# Intialize the weights and biases randomly\n",
    "# Also create the list to store the outputs of each layer\n",
    "# Store the outptut for each layer\n",
    "# Finally create the list of the sensitivities\n",
    "weights_list = []\n",
    "biases_list = []\n",
    "n_list = []\n",
    "a_list = []\n",
    "s_list = []"
   ]
  },
  {
   "cell_type": "code",
   "execution_count": 10,
   "id": "ff640418-72ed-4f90-b9eb-833bc8e09cfe",
   "metadata": {},
   "outputs": [],
   "source": [
    "# Define a function to reset all the parameters\n",
    "# This is done to test multiple different network types\n",
    "def reset_params():\n",
    "    weights_list.clear()\n",
    "    biases_list.clear()\n",
    "    n_list.clear()\n",
    "    a_list.clear()\n",
    "    s_list.clear()\n",
    "    for i in range(1, len(layer_sizes)):\n",
    "        weights_list.append(np.random.rand(layer_sizes[i], layer_sizes[i-1]))\n",
    "        biases_list.append(np.random.rand(layer_sizes[i], 1))\n",
    "        n_list.append(np.empty((layer_sizes[i], 1), dtype=float))\n",
    "        a_list.append(np.empty((layer_sizes[i], 1), dtype=float))\n",
    "        s_list.append(np.empty((layer_sizes[i], 1), dtype=float))"
   ]
  },
  {
   "cell_type": "code",
   "execution_count": 11,
   "id": "040cdd31-cac6-4a10-9c96-2948d962c54b",
   "metadata": {},
   "outputs": [],
   "source": [
    "# Define the transfer functions\n",
    "transfer_functions = [logsig, lin]"
   ]
  },
  {
   "cell_type": "code",
   "execution_count": 12,
   "id": "f34b2228",
   "metadata": {},
   "outputs": [],
   "source": [
    "# Define the vectors with the derivatives of the transfer functions\n",
    "# These need to be converted to dialation matrices\n",
    "# but this is done after the partial derivatives are calculated\n",
    "# so that the numerical values can be multiplied by the identity matrix\n",
    "# makes my life easier\n",
    "deriv_transfer_functions = [deriv_logsig, deriv_lin]"
   ]
  },
  {
   "cell_type": "code",
   "execution_count": 13,
   "id": "727d6d3b-bb81-41b1-a20e-79d86f88da64",
   "metadata": {},
   "outputs": [],
   "source": [
    "# Define a function to calculate the output of the network\n",
    "# while also saving the data\n",
    "# Assuming that the input is already a Rx1 matrix\n",
    "def run_network(X):\n",
    "    # Get the input for the first layer so that\n",
    "    # no need to use X and can calculate\n",
    "    # recursively\n",
    "    n_list[0] = np.matmul(weights_list[0], X) + biases_list[0]\n",
    "    a_list[0] = transfer_functions[0](n_list[0])\n",
    "\n",
    "    # Calculate the rest of the outptut\n",
    "    for i in range(1, len(weights_list)):\n",
    "        n_list[i] = np.matmul(weights_list[i], a_list[i-1]) + biases_list[i]\n",
    "        a_list[i] = transfer_functions[i](n_list[i])"
   ]
  },
  {
   "cell_type": "code",
   "execution_count": 14,
   "id": "430cdf1f-3c41-4f7b-8f10-7fe740c3fef5",
   "metadata": {},
   "outputs": [],
   "source": [
    "# Calculate the senstivites for the last layer\n",
    "# Write a function to fill the diagonal of the matrix\n",
    "def fill_F_dot(layer_num):\n",
    "    a = np.identity(len(n_list[layer_num]), float)\n",
    "    np.fill_diagonal(a, deriv_transfer_functions[layer_num](n_list[layer_num]).flatten())\n",
    "    return a\n",
    "\n",
    "def train_network(learning_rate=.1, epochs=1):\n",
    "    for i in range(epochs):\n",
    "        # Iterate through the inputs and outputs\n",
    "        for i in range(len(inputs)):\n",
    "            # Run the network\n",
    "            run_network(inputs[i].reshape(layer_sizes[0], 1))\n",
    "\n",
    "            # Get the dialation matrix for the last layer\n",
    "            F_dot = fill_F_dot(-1)\n",
    "\n",
    "            # Calculate the sensitivites for the last layer\n",
    "            s_list[-1] = -2 * np.matmul(F_dot, outputs[i].reshape(layer_sizes[-1], 1)-a_list[-1])\n",
    "\n",
    "            # Update the weights and biases for the last layer\n",
    "            weights_list[-1] += -learning_rate*np.matmul(s_list[-1], a_list[-2].T)\n",
    "            biases_list[-1] += -learning_rate*s_list[-1]\n",
    "\n",
    "            # Iterate through the remaining layers backwards\n",
    "            for i in range(len(n_list)-2, 0, -1):\n",
    "                s_list[i] = (1/layer_sizes[i+1]) * np.matmul(np.matmul(fill_F_dot(i), weights_list[i+1].T), s_list[i+1])\n",
    "                weights_list[i] += -learning_rate*np.matmul(s_list[i], a_list[i-1].T)\n",
    "                biases_list[i] += -learning_rate*s_list[i]"
   ]
  },
  {
   "cell_type": "code",
   "execution_count": 15,
   "id": "a2795ae9-2a81-4d6d-8985-3d59af9425e5",
   "metadata": {
    "scrolled": true
   },
   "outputs": [],
   "source": [
    "# Function to evaluate the performance\n",
    "# of the network\n",
    "def performance():\n",
    "    results = np.empty((len(inputs), layer_sizes[-1]), dtype=float)\n",
    "    for i in range(len(inputs)):\n",
    "        run_network(inputs[i].reshape(layer_sizes[0], 1))\n",
    "        results[i] = outputs[i] - a_list[-1].flatten()\n",
    "    return e2(results)"
   ]
  },
  {
   "cell_type": "code",
   "execution_count": 17,
   "id": "e825b533-0f93-4b76-8195-415d5b3b9065",
   "metadata": {},
   "outputs": [],
   "source": [
    "# Print performance\n",
    "def print_performance_dict(performance_dict):\n",
    "    for a in sorted(performance_dict.items(), key=lambda x: x[1]):\n",
    "        print(f'Error: {a[1]} | ' + a[0])"
   ]
  },
  {
   "cell_type": "code",
   "execution_count": 18,
   "id": "ac7602d8",
   "metadata": {},
   "outputs": [],
   "source": [
    "# Trains netowrk using the parameters for each bit size\n",
    "def update_performance_dict(layer_sizes_list, performance_dict):\n",
    "    for layer_sizes in layer_sizes_list:\n",
    "        # Get the inputs and outputs for the specifiq network size\n",
    "        inputs, outputs, S = gen_inputs_outputs(layer_sizes[0])\n",
    "        layer_sizes.append(S)\n",
    "    \n",
    "        # Iterate through the different learning rates\n",
    "        # and epochs\n",
    "        for rate in learning_rates:\n",
    "            for epochs in epochs_list:\n",
    "                # Reset weights and biases\n",
    "                reset_params()\n",
    "                # Train the network\n",
    "                train_network(learning_rate=rate, epochs=epochs)\n",
    "                # Update the performance dict\n",
    "                performance_dict.update({f'Layers: {layer_sizes}, Learning rate: {rate}, Epochs: {epochs}': performance()})"
   ]
  },
  {
   "cell_type": "code",
   "execution_count": 18,
   "id": "60afa525-7577-458f-b6e3-8a4cf362b952",
   "metadata": {},
   "outputs": [],
   "source": [
    "### !!! Do not run code underneath until saving to the file\n",
    "### It trains 22000 different networks\n",
    "# Performance dictionnaries of the network\n",
    "performance_dict_2bits = {}\n",
    "performance_dict_4bits = {}\n",
    "performance_dict_8bits = {}"
   ]
  },
  {
   "cell_type": "code",
   "execution_count": 19,
   "id": "957eb418-c39e-4a66-9023-4af7573462b0",
   "metadata": {},
   "outputs": [],
   "source": [
    "# Parameters that won't change despite differnt layer sizes\n",
    "# Set different learning rates\n",
    "learning_rates = [1/(16*(2**i)) for i in range(10)]\n",
    "\n",
    "# Set the diffrent epochs\n",
    "epochs_list = [i for i in range(1, 21)]"
   ]
  },
  {
   "cell_type": "code",
   "execution_count": 20,
   "id": "48a0e709",
   "metadata": {
    "scrolled": true
   },
   "outputs": [],
   "source": [
    "# Multiple different layer sizes\n",
    "# Start with 1 hidden layer\n",
    "layer_sizes_list_2bits = [[4, 2*(2**i)]for i in range(10)]\n",
    "layer_sizes_list_4bits = [[8, 2*(2**i)]for i in range(10)]\n",
    "layer_sizes_list_8bits = [[16, 2*(2**i)]for i in range(10)]"
   ]
  },
  {
   "cell_type": "code",
   "execution_count": 21,
   "id": "6d0f0575-efb5-4c96-85df-fc0e1450e68b",
   "metadata": {},
   "outputs": [],
   "source": [
    "# Calculate performance for 1 hidden layer\n",
    "# 2 bits\n",
    "update_performance_dict(layer_sizes_list_2bits, performance_dict_2bits)\n",
    "# 4 bits\n",
    "update_performance_dict(layer_sizes_list_4bits, performance_dict_4bits)\n",
    "# 8 bits\n",
    "update_performance_dict(layer_sizes_list_8bits, performance_dict_8bits)"
   ]
  },
  {
   "cell_type": "code",
   "execution_count": 22,
   "id": "c10735f5-04b3-4432-8436-af626574fe26",
   "metadata": {},
   "outputs": [],
   "source": [
    "# 2 Hidden layers\n",
    "# Redefine the transfer functions\n",
    "transfer_functions = [logsig, logsig, lin]\n",
    "deriv_transfer_functions = [deriv_logsig, deriv_logsig, deriv_lin]\n",
    "\n",
    "# New layer sizes\n",
    "layer_sizes_list_2bits = [[4, 2*(2**i), 2*(2**j)] for j in range(10) for i in range(10)]\n",
    "layer_sizes_list_4bits = [[8, 2*(2**i), 2*(2**j)] for j in range(10) for i in range(10)]\n",
    "layer_sizes_list_8bits = [[16, 2*(2**i), 2*(2**j)] for j in range(10) for i in range(10)]"
   ]
  },
  {
   "cell_type": "code",
   "execution_count": 23,
   "id": "3f90dadf-2fc3-49be-a7c8-4248f4b59ec4",
   "metadata": {},
   "outputs": [],
   "source": [
    "# Calculate the performance for 2 hidden layers\n",
    "# 2 bits\n",
    "update_performance_dict(layer_sizes_list_2bits, performance_dict_2bits)\n",
    "# 4 bits\n",
    "update_performance_dict(layer_sizes_list_4bits, performance_dict_4bits)\n",
    "# 8 bits\n",
    "update_performance_dict(layer_sizes_list_8bits, performance_dict_8bits)"
   ]
  },
  {
   "cell_type": "code",
   "execution_count": 24,
   "id": "7df991ea-5884-49ee-b418-1e9edd3e688c",
   "metadata": {},
   "outputs": [
    {
     "name": "stderr",
     "output_type": "stream",
     "text": [
      "IOPub data rate exceeded.\n",
      "The Jupyter server will temporarily stop sending output\n",
      "to the client in order to avoid crashing it.\n",
      "To change this limit, set the config variable\n",
      "`--ServerApp.iopub_data_rate_limit`.\n",
      "\n",
      "Current values:\n",
      "ServerApp.iopub_data_rate_limit=1000000.0 (bytes/sec)\n",
      "ServerApp.rate_limit_window=3.0 (secs)\n",
      "\n"
     ]
    }
   ],
   "source": [
    "print('-'*7 + '2bits' + '-'*7)\n",
    "print_performance_dict(performance_dict_2bits)\n",
    "print('-'*7 + '4bits' + '-'*7)\n",
    "print_performance_dict(performance_dict_4bits)\n",
    "print('-'*7 + '8bits' + '-'*7)\n",
    "print_performance_dict(performance_dict_8bits)"
   ]
  },
  {
   "cell_type": "code",
   "execution_count": 25,
   "id": "bb685cf8-803e-450a-a063-e21cdd3fc840",
   "metadata": {},
   "outputs": [],
   "source": [
    "# Save the data of the performance dicts\n",
    "performance_dicts = [performance_dict_2bits, performance_dict_4bits, performance_dict_8bits]\n",
    "for i in range(len(performance_dicts)):\n",
    "    with open(f'/Users/reid/dev/PythonCode/tm/BackPropagationBinaryCalcs/data/{2**(i+1)}bit_performance.txt', 'w') as f:\n",
    "        f.write('parameters,performance\\n')\n",
    "        f.writelines([f'{x}\\n' for x in sorted(list(performance_dicts[i].items()), key=lambda x: x[1], reverse=True)])\n",
    "### You can run code below this"
   ]
  },
  {
   "cell_type": "code",
   "execution_count": 73,
   "id": "2379fd6e-0469-46dc-9b68-d910b7c469bc",
   "metadata": {},
   "outputs": [],
   "source": [
    "# Chose a few networks from the data file to run tests on\n",
    "# General parameters\n",
    "learning_rates = [0.001953125, 0.00390625, 0.0078125]\n",
    "epochs_list = [5, 14, 19]"
   ]
  },
  {
   "cell_type": "code",
   "execution_count": 74,
   "id": "3934c577-4e55-4162-b10e-39b5740597da",
   "metadata": {},
   "outputs": [],
   "source": [
    "# Start with one hidden layer\n",
    "transfer_functions = [logsig, lin]\n",
    "deriv_transfer_functions = [deriv_logsig, deriv_lin]\n",
    "\n",
    "layer_sizes_list_2bits = [\n",
    "    [4, 2],\n",
    "    [4, 32],\n",
    "    [4, 64],\n",
    "]\n",
    "layer_sizes_list_4bits = [\n",
    "    [8, 64],\n",
    "    [8, 2],\n",
    "    [8, 1024],\n",
    "]\n",
    "layer_sizes_list_8bits = [\n",
    "    [16, 16],\n",
    "    [16, 64],\n",
    "    [16, 4],\n",
    "]"
   ]
  },
  {
   "cell_type": "code",
   "execution_count": 75,
   "id": "b9e87e10-d95d-42b8-8073-6e2e0cee87e0",
   "metadata": {},
   "outputs": [],
   "source": [
    "# Write a function to calculate the average performance\n",
    "def update_average_performance_dict(layer_sizes_list, average_performance_dict, n_samples):\n",
    "    cumulated_performance = 0\n",
    "    for layer_sizes in layer_sizes_list:\n",
    "        inputs, outputs, S = gen_inputs_outputs(layer_sizes[0])\n",
    "        layer_sizes.append(S)\n",
    "        \n",
    "        for rate in learning_rates:\n",
    "                for epochs in epochs_list:\n",
    "                    for i in range(n_samples):\n",
    "                        reset_params()\n",
    "                        train_network(learning_rate=rate, epochs=epochs)\n",
    "                        cumulated_performance += performance()\n",
    "                        \n",
    "                    average_performance_dict.update({f'Layers: {layer_sizes}, Learning rate: {rate}, Epochs: {epochs}': cumulated_performance/n_samples})\n",
    "                    cumulated_performance = 0"
   ]
  },
  {
   "cell_type": "code",
   "execution_count": 76,
   "id": "cc88c856-fd54-430b-8889-fec8af69db80",
   "metadata": {},
   "outputs": [],
   "source": [
    "average_performance_dict_2bits = {}\n",
    "average_performance_dict_4bits = {}\n",
    "average_performance_dict_8bits = {}"
   ]
  },
  {
   "cell_type": "code",
   "execution_count": 77,
   "id": "d8df65e5-bae1-47e5-814a-0cc1d73b5511",
   "metadata": {},
   "outputs": [],
   "source": [
    "update_average_performance_dict(layer_sizes_list_2bits, average_performance_dict_2bits, 500)\n",
    "update_average_performance_dict(layer_sizes_list_4bits, average_performance_dict_4bits, 500)\n",
    "update_average_performance_dict(layer_sizes_list_8bits, average_performance_dict_8bits, 500)"
   ]
  },
  {
   "cell_type": "code",
   "execution_count": 78,
   "id": "69fdb65c-6136-442b-8ccd-0f45f7daa461",
   "metadata": {},
   "outputs": [],
   "source": [
    "# Two hidden layers\n",
    "transfer_functions = [logsig, logsig, lin]\n",
    "deriv_transfer_functions = [deriv_logsig, deriv_logsig, deriv_lin]\n",
    "\n",
    "layer_sizes_list_2bits = [\n",
    "    [4, 8, 2],\n",
    "    [4, 2, 128],\n",
    "    [4, 256, 32],\n",
    "]\n",
    "layer_sizes_list_4bits = [\n",
    "    [8, 32, 64],\n",
    "    [8, 1024, 64],\n",
    "    [8, 2, 256],\n",
    "]\n",
    "layer_sizes_list_8bits = [\n",
    "    [16, 8, 8],\n",
    "    [16, 2, 1024],\n",
    "    [16, 16, 4],\n",
    "]"
   ]
  },
  {
   "cell_type": "code",
   "execution_count": 79,
   "id": "b8214975-888b-47c6-a8b1-023ff536c2e4",
   "metadata": {},
   "outputs": [],
   "source": [
    "update_average_performance_dict(layer_sizes_list_2bits, average_performance_dict_2bits, 500)\n",
    "update_average_performance_dict(layer_sizes_list_4bits, average_performance_dict_4bits, 500)\n",
    "update_average_performance_dict(layer_sizes_list_8bits, average_performance_dict_8bits, 500)"
   ]
  },
  {
   "cell_type": "code",
   "execution_count": 80,
   "id": "b4f42f99-ecc1-4622-bbac-6ef2ae645b5a",
   "metadata": {
    "scrolled": true
   },
   "outputs": [
    {
     "name": "stdout",
     "output_type": "stream",
     "text": [
      "----------2 bit average----------\n",
      "Error: 11.438259048327764 | Layers: [4, 32, 3], Learning rate: 0.00390625, Epochs: 19\n",
      "Error: 11.439852987994302 | Layers: [4, 64, 3], Learning rate: 0.0078125, Epochs: 19\n",
      "Error: 11.442361063591502 | Layers: [4, 64, 3], Learning rate: 0.00390625, Epochs: 19\n",
      "Error: 11.448469846065574 | Layers: [4, 2, 3], Learning rate: 0.0078125, Epochs: 19\n",
      "Error: 11.453687797505607 | Layers: [4, 32, 3], Learning rate: 0.0078125, Epochs: 19\n",
      "Error: 11.46746438596071 | Layers: [4, 2, 3], Learning rate: 0.0078125, Epochs: 14\n",
      "Error: 11.467831277122947 | Layers: [4, 64, 3], Learning rate: 0.0078125, Epochs: 14\n",
      "Error: 11.472675909257687 | Layers: [4, 32, 3], Learning rate: 0.0078125, Epochs: 14\n",
      "Error: 11.47586655242761 | Layers: [4, 2, 3], Learning rate: 0.00390625, Epochs: 19\n",
      "Error: 11.484570937473897 | Layers: [4, 2, 3], Learning rate: 0.00390625, Epochs: 14\n",
      "Error: 11.492762643650366 | Layers: [4, 64, 3], Learning rate: 0.00390625, Epochs: 14\n",
      "Error: 11.496060584687758 | Layers: [4, 32, 3], Learning rate: 0.00390625, Epochs: 14\n",
      "Error: 11.66557196135084 | Layers: [4, 64, 3], Learning rate: 0.001953125, Epochs: 19\n",
      "Error: 11.669080706327712 | Layers: [4, 32, 3], Learning rate: 0.001953125, Epochs: 19\n",
      "Error: 11.68712032655317 | Layers: [4, 2, 3], Learning rate: 0.001953125, Epochs: 19\n",
      "Error: 11.69047021014949 | Layers: [4, 64, 3], Learning rate: 0.0078125, Epochs: 5\n",
      "Error: 11.699962929062028 | Layers: [4, 2, 3], Learning rate: 0.0078125, Epochs: 5\n",
      "Error: 11.713037532263066 | Layers: [4, 32, 3], Learning rate: 0.0078125, Epochs: 5\n",
      "Error: 11.821312835364491 | Layers: [4, 256, 32, 3], Learning rate: 0.0078125, Epochs: 19\n",
      "Error: 11.82408783495297 | Layers: [4, 8, 2, 3], Learning rate: 0.0078125, Epochs: 19\n",
      "Error: 11.826164783362216 | Layers: [4, 2, 128, 3], Learning rate: 0.0078125, Epochs: 19\n",
      "Error: 11.949700746455663 | Layers: [4, 2, 128, 3], Learning rate: 0.0078125, Epochs: 14\n",
      "Error: 11.949934042067056 | Layers: [4, 8, 2, 3], Learning rate: 0.0078125, Epochs: 14\n",
      "Error: 11.951951083101001 | Layers: [4, 256, 32, 3], Learning rate: 0.0078125, Epochs: 14\n",
      "Error: 12.26090472721511 | Layers: [4, 32, 3], Learning rate: 0.001953125, Epochs: 14\n",
      "Error: 12.261544265390624 | Layers: [4, 64, 3], Learning rate: 0.001953125, Epochs: 14\n",
      "Error: 12.26949627279391 | Layers: [4, 2, 3], Learning rate: 0.001953125, Epochs: 14\n",
      "Error: 12.308289997763627 | Layers: [4, 8, 2, 3], Learning rate: 0.00390625, Epochs: 19\n",
      "Error: 12.326219094158882 | Layers: [4, 256, 32, 3], Learning rate: 0.00390625, Epochs: 19\n",
      "Error: 12.326786273484512 | Layers: [4, 2, 128, 3], Learning rate: 0.00390625, Epochs: 19\n",
      "Error: 12.837324051781328 | Layers: [4, 8, 2, 3], Learning rate: 0.00390625, Epochs: 14\n",
      "Error: 12.838800679344674 | Layers: [4, 256, 32, 3], Learning rate: 0.00390625, Epochs: 14\n",
      "Error: 12.858725190617509 | Layers: [4, 2, 128, 3], Learning rate: 0.00390625, Epochs: 14\n",
      "Error: 13.535759632575095 | Layers: [4, 256, 32, 3], Learning rate: 0.0078125, Epochs: 5\n",
      "Error: 13.55279883410054 | Layers: [4, 2, 128, 3], Learning rate: 0.0078125, Epochs: 5\n",
      "Error: 13.556718729825567 | Layers: [4, 8, 2, 3], Learning rate: 0.0078125, Epochs: 5\n",
      "Error: 13.60601193470944 | Layers: [4, 8, 2, 3], Learning rate: 0.001953125, Epochs: 19\n",
      "Error: 13.615413549008265 | Layers: [4, 2, 128, 3], Learning rate: 0.001953125, Epochs: 19\n",
      "Error: 13.680439863167805 | Layers: [4, 256, 32, 3], Learning rate: 0.001953125, Epochs: 19\n",
      "Error: 13.938296407927314 | Layers: [4, 2, 3], Learning rate: 0.00390625, Epochs: 5\n",
      "Error: 13.96723969350817 | Layers: [4, 32, 3], Learning rate: 0.00390625, Epochs: 5\n",
      "Error: 14.0090809050153 | Layers: [4, 64, 3], Learning rate: 0.00390625, Epochs: 5\n",
      "Error: 14.21260638906354 | Layers: [4, 2, 128, 3], Learning rate: 0.001953125, Epochs: 14\n",
      "Error: 14.25996185127966 | Layers: [4, 8, 2, 3], Learning rate: 0.001953125, Epochs: 14\n",
      "Error: 14.292881999375885 | Layers: [4, 256, 32, 3], Learning rate: 0.001953125, Epochs: 14\n",
      "Error: 14.919422984236546 | Layers: [4, 2, 128, 3], Learning rate: 0.00390625, Epochs: 5\n",
      "Error: 14.922835554609915 | Layers: [4, 8, 2, 3], Learning rate: 0.00390625, Epochs: 5\n",
      "Error: 14.978313820484592 | Layers: [4, 256, 32, 3], Learning rate: 0.00390625, Epochs: 5\n",
      "Error: 15.789468449401026 | Layers: [4, 8, 2, 3], Learning rate: 0.001953125, Epochs: 5\n",
      "Error: 15.881284908332372 | Layers: [4, 256, 32, 3], Learning rate: 0.001953125, Epochs: 5\n",
      "Error: 15.88180394757564 | Layers: [4, 2, 128, 3], Learning rate: 0.001953125, Epochs: 5\n",
      "Error: 21.49681846289604 | Layers: [4, 2, 3], Learning rate: 0.001953125, Epochs: 5\n",
      "Error: 21.635177147949204 | Layers: [4, 64, 3], Learning rate: 0.001953125, Epochs: 5\n",
      "Error: 22.04548981749302 | Layers: [4, 32, 3], Learning rate: 0.001953125, Epochs: 5\n",
      "----------4 bit average----------\n",
      "Error: 11.433945720047964 | Layers: [8, 2, 5], Learning rate: 0.0078125, Epochs: 19\n",
      "Error: 11.436745719788522 | Layers: [8, 64, 5], Learning rate: 0.0078125, Epochs: 19\n",
      "Error: 11.445806146784163 | Layers: [8, 1024, 5], Learning rate: 0.0078125, Epochs: 19\n",
      "Error: 11.4467677587173 | Layers: [8, 2, 5], Learning rate: 0.00390625, Epochs: 19\n",
      "Error: 11.449750883253605 | Layers: [8, 64, 5], Learning rate: 0.0078125, Epochs: 14\n",
      "Error: 11.45089054616811 | Layers: [8, 64, 5], Learning rate: 0.00390625, Epochs: 19\n",
      "Error: 11.45466469257051 | Layers: [8, 1024, 5], Learning rate: 0.00390625, Epochs: 19\n",
      "Error: 11.461402894512187 | Layers: [8, 64, 5], Learning rate: 0.00390625, Epochs: 14\n",
      "Error: 11.462021206073375 | Layers: [8, 2, 5], Learning rate: 0.0078125, Epochs: 14\n",
      "Error: 11.469990032211935 | Layers: [8, 1024, 5], Learning rate: 0.0078125, Epochs: 14\n",
      "Error: 11.47433705737525 | Layers: [8, 2, 5], Learning rate: 0.00390625, Epochs: 14\n",
      "Error: 11.494888303735797 | Layers: [8, 1024, 5], Learning rate: 0.00390625, Epochs: 14\n",
      "Error: 11.673666686532453 | Layers: [8, 64, 5], Learning rate: 0.001953125, Epochs: 19\n",
      "Error: 11.67550311674572 | Layers: [8, 2, 5], Learning rate: 0.001953125, Epochs: 19\n",
      "Error: 11.68390788281581 | Layers: [8, 1024, 5], Learning rate: 0.001953125, Epochs: 19\n",
      "Error: 11.69944871353964 | Layers: [8, 1024, 5], Learning rate: 0.0078125, Epochs: 5\n",
      "Error: 11.704525991789666 | Layers: [8, 2, 5], Learning rate: 0.0078125, Epochs: 5\n",
      "Error: 11.713564964440755 | Layers: [8, 64, 5], Learning rate: 0.0078125, Epochs: 5\n",
      "Error: 11.822440382716923 | Layers: [8, 32, 64, 5], Learning rate: 0.0078125, Epochs: 19\n",
      "Error: 11.825232125119792 | Layers: [8, 1024, 64, 5], Learning rate: 0.0078125, Epochs: 19\n",
      "Error: 11.825613890248334 | Layers: [8, 2, 256, 5], Learning rate: 0.0078125, Epochs: 19\n",
      "Error: 11.952659024552842 | Layers: [8, 2, 256, 5], Learning rate: 0.0078125, Epochs: 14\n",
      "Error: 11.953953268055256 | Layers: [8, 32, 64, 5], Learning rate: 0.0078125, Epochs: 14\n",
      "Error: 11.956771510457532 | Layers: [8, 1024, 64, 5], Learning rate: 0.0078125, Epochs: 14\n",
      "Error: 12.272905862141268 | Layers: [8, 2, 5], Learning rate: 0.001953125, Epochs: 14\n",
      "Error: 12.28175812845799 | Layers: [8, 1024, 5], Learning rate: 0.001953125, Epochs: 14\n",
      "Error: 12.290378378945464 | Layers: [8, 64, 5], Learning rate: 0.001953125, Epochs: 14\n",
      "Error: 12.318327628507607 | Layers: [8, 32, 64, 5], Learning rate: 0.00390625, Epochs: 19\n",
      "Error: 12.33444846086366 | Layers: [8, 1024, 64, 5], Learning rate: 0.00390625, Epochs: 19\n",
      "Error: 12.335550618475281 | Layers: [8, 2, 256, 5], Learning rate: 0.00390625, Epochs: 19\n",
      "Error: 12.829152086437634 | Layers: [8, 2, 256, 5], Learning rate: 0.00390625, Epochs: 14\n",
      "Error: 12.840698829154384 | Layers: [8, 1024, 64, 5], Learning rate: 0.00390625, Epochs: 14\n",
      "Error: 12.857085247778597 | Layers: [8, 32, 64, 5], Learning rate: 0.00390625, Epochs: 14\n",
      "Error: 13.529405499635775 | Layers: [8, 2, 256, 5], Learning rate: 0.0078125, Epochs: 5\n",
      "Error: 13.570180520316505 | Layers: [8, 1024, 64, 5], Learning rate: 0.0078125, Epochs: 5\n",
      "Error: 13.570397554911594 | Layers: [8, 32, 64, 5], Learning rate: 0.0078125, Epochs: 5\n",
      "Error: 13.608752578128252 | Layers: [8, 32, 64, 5], Learning rate: 0.001953125, Epochs: 19\n",
      "Error: 13.611305773527468 | Layers: [8, 2, 256, 5], Learning rate: 0.001953125, Epochs: 19\n",
      "Error: 13.643605915135716 | Layers: [8, 1024, 64, 5], Learning rate: 0.001953125, Epochs: 19\n",
      "Error: 13.96046447723394 | Layers: [8, 2, 5], Learning rate: 0.00390625, Epochs: 5\n",
      "Error: 13.97653975594678 | Layers: [8, 1024, 5], Learning rate: 0.00390625, Epochs: 5\n",
      "Error: 14.001600988428223 | Layers: [8, 64, 5], Learning rate: 0.00390625, Epochs: 5\n",
      "Error: 14.253911914707771 | Layers: [8, 1024, 64, 5], Learning rate: 0.001953125, Epochs: 14\n",
      "Error: 14.267779499595573 | Layers: [8, 2, 256, 5], Learning rate: 0.001953125, Epochs: 14\n",
      "Error: 14.30144090987449 | Layers: [8, 32, 64, 5], Learning rate: 0.001953125, Epochs: 14\n",
      "Error: 14.889597594274765 | Layers: [8, 2, 256, 5], Learning rate: 0.00390625, Epochs: 5\n",
      "Error: 14.90347309946306 | Layers: [8, 32, 64, 5], Learning rate: 0.00390625, Epochs: 5\n",
      "Error: 14.993515550991063 | Layers: [8, 1024, 64, 5], Learning rate: 0.00390625, Epochs: 5\n",
      "Error: 15.802821502036961 | Layers: [8, 1024, 64, 5], Learning rate: 0.001953125, Epochs: 5\n",
      "Error: 15.803117099330386 | Layers: [8, 32, 64, 5], Learning rate: 0.001953125, Epochs: 5\n",
      "Error: 15.870394794747854 | Layers: [8, 2, 256, 5], Learning rate: 0.001953125, Epochs: 5\n",
      "Error: 21.584032989368577 | Layers: [8, 2, 5], Learning rate: 0.001953125, Epochs: 5\n",
      "Error: 21.746346232443155 | Layers: [8, 64, 5], Learning rate: 0.001953125, Epochs: 5\n",
      "Error: 21.850611963897002 | Layers: [8, 1024, 5], Learning rate: 0.001953125, Epochs: 5\n",
      "----------8 bit average----------\n",
      "Error: 11.424976080084498 | Layers: [16, 4, 9], Learning rate: 0.0078125, Epochs: 19\n",
      "Error: 11.437294110631164 | Layers: [16, 16, 9], Learning rate: 0.0078125, Epochs: 19\n",
      "Error: 11.438050455063678 | Layers: [16, 64, 9], Learning rate: 0.0078125, Epochs: 19\n",
      "Error: 11.450431622647473 | Layers: [16, 16, 9], Learning rate: 0.00390625, Epochs: 19\n",
      "Error: 11.459906541358789 | Layers: [16, 64, 9], Learning rate: 0.0078125, Epochs: 14\n",
      "Error: 11.461336840374083 | Layers: [16, 4, 9], Learning rate: 0.00390625, Epochs: 19\n",
      "Error: 11.464410067073116 | Layers: [16, 64, 9], Learning rate: 0.00390625, Epochs: 19\n",
      "Error: 11.47640130528774 | Layers: [16, 16, 9], Learning rate: 0.0078125, Epochs: 14\n",
      "Error: 11.479390423462124 | Layers: [16, 4, 9], Learning rate: 0.0078125, Epochs: 14\n",
      "Error: 11.484189223346696 | Layers: [16, 4, 9], Learning rate: 0.00390625, Epochs: 14\n",
      "Error: 11.490975869991923 | Layers: [16, 16, 9], Learning rate: 0.00390625, Epochs: 14\n",
      "Error: 11.496237389744817 | Layers: [16, 64, 9], Learning rate: 0.00390625, Epochs: 14\n",
      "Error: 11.670402302770329 | Layers: [16, 4, 9], Learning rate: 0.001953125, Epochs: 19\n",
      "Error: 11.682422735712056 | Layers: [16, 16, 9], Learning rate: 0.001953125, Epochs: 19\n",
      "Error: 11.685280313203044 | Layers: [16, 64, 9], Learning rate: 0.001953125, Epochs: 19\n",
      "Error: 11.685835594479505 | Layers: [16, 4, 9], Learning rate: 0.0078125, Epochs: 5\n",
      "Error: 11.696823997847051 | Layers: [16, 64, 9], Learning rate: 0.0078125, Epochs: 5\n",
      "Error: 11.704022786408725 | Layers: [16, 16, 9], Learning rate: 0.0078125, Epochs: 5\n",
      "Error: 11.817882108002877 | Layers: [16, 16, 4, 9], Learning rate: 0.0078125, Epochs: 19\n",
      "Error: 11.820959657127641 | Layers: [16, 2, 1024, 9], Learning rate: 0.0078125, Epochs: 19\n",
      "Error: 11.823378446794704 | Layers: [16, 8, 8, 9], Learning rate: 0.0078125, Epochs: 19\n",
      "Error: 11.949841083440154 | Layers: [16, 16, 4, 9], Learning rate: 0.0078125, Epochs: 14\n",
      "Error: 11.955751032213954 | Layers: [16, 8, 8, 9], Learning rate: 0.0078125, Epochs: 14\n",
      "Error: 11.96028197017421 | Layers: [16, 2, 1024, 9], Learning rate: 0.0078125, Epochs: 14\n",
      "Error: 12.270337714523675 | Layers: [16, 16, 9], Learning rate: 0.001953125, Epochs: 14\n",
      "Error: 12.288844022142824 | Layers: [16, 4, 9], Learning rate: 0.001953125, Epochs: 14\n",
      "Error: 12.307892859410407 | Layers: [16, 64, 9], Learning rate: 0.001953125, Epochs: 14\n",
      "Error: 12.317220330717205 | Layers: [16, 8, 8, 9], Learning rate: 0.00390625, Epochs: 19\n",
      "Error: 12.319398508675416 | Layers: [16, 16, 4, 9], Learning rate: 0.00390625, Epochs: 19\n",
      "Error: 12.323777815955141 | Layers: [16, 2, 1024, 9], Learning rate: 0.00390625, Epochs: 19\n",
      "Error: 12.825856862625956 | Layers: [16, 2, 1024, 9], Learning rate: 0.00390625, Epochs: 14\n",
      "Error: 12.830696193108388 | Layers: [16, 16, 4, 9], Learning rate: 0.00390625, Epochs: 14\n",
      "Error: 12.842052050069167 | Layers: [16, 8, 8, 9], Learning rate: 0.00390625, Epochs: 14\n",
      "Error: 13.543291543619622 | Layers: [16, 2, 1024, 9], Learning rate: 0.0078125, Epochs: 5\n",
      "Error: 13.551062451196445 | Layers: [16, 16, 4, 9], Learning rate: 0.0078125, Epochs: 5\n",
      "Error: 13.57329630502187 | Layers: [16, 8, 8, 9], Learning rate: 0.0078125, Epochs: 5\n",
      "Error: 13.577080220014269 | Layers: [16, 2, 1024, 9], Learning rate: 0.001953125, Epochs: 19\n",
      "Error: 13.652340602670247 | Layers: [16, 16, 4, 9], Learning rate: 0.001953125, Epochs: 19\n",
      "Error: 13.66146308910116 | Layers: [16, 8, 8, 9], Learning rate: 0.001953125, Epochs: 19\n",
      "Error: 13.915365874755057 | Layers: [16, 4, 9], Learning rate: 0.00390625, Epochs: 5\n",
      "Error: 14.013028203569169 | Layers: [16, 64, 9], Learning rate: 0.00390625, Epochs: 5\n",
      "Error: 14.087477033699269 | Layers: [16, 16, 9], Learning rate: 0.00390625, Epochs: 5\n",
      "Error: 14.239916000895386 | Layers: [16, 2, 1024, 9], Learning rate: 0.001953125, Epochs: 14\n",
      "Error: 14.294501077500794 | Layers: [16, 8, 8, 9], Learning rate: 0.001953125, Epochs: 14\n",
      "Error: 14.309892134279306 | Layers: [16, 16, 4, 9], Learning rate: 0.001953125, Epochs: 14\n",
      "Error: 14.865160315097773 | Layers: [16, 16, 4, 9], Learning rate: 0.00390625, Epochs: 5\n",
      "Error: 14.928288258772605 | Layers: [16, 2, 1024, 9], Learning rate: 0.00390625, Epochs: 5\n",
      "Error: 14.928406360871467 | Layers: [16, 8, 8, 9], Learning rate: 0.00390625, Epochs: 5\n",
      "Error: 15.82941091686392 | Layers: [16, 16, 4, 9], Learning rate: 0.001953125, Epochs: 5\n",
      "Error: 15.843949629815638 | Layers: [16, 8, 8, 9], Learning rate: 0.001953125, Epochs: 5\n",
      "Error: 15.904036641680994 | Layers: [16, 2, 1024, 9], Learning rate: 0.001953125, Epochs: 5\n",
      "Error: 21.436520793179863 | Layers: [16, 4, 9], Learning rate: 0.001953125, Epochs: 5\n",
      "Error: 21.704807836707953 | Layers: [16, 64, 9], Learning rate: 0.001953125, Epochs: 5\n",
      "Error: 21.830949800091705 | Layers: [16, 16, 9], Learning rate: 0.001953125, Epochs: 5\n"
     ]
    }
   ],
   "source": [
    "print('----------2 bit average----------')\n",
    "print_performance_dict(average_performance_dict_2bits)\n",
    "print('----------4 bit average----------')\n",
    "print_performance_dict(average_performance_dict_4bits)\n",
    "print('----------8 bit average----------')\n",
    "print_performance_dict(average_performance_dict_8bits)"
   ]
  },
  {
   "cell_type": "code",
   "execution_count": 81,
   "id": "cf111c91-cfaf-4293-b004-0b1b0014e768",
   "metadata": {},
   "outputs": [],
   "source": [
    "# Save the average performance data\n",
    "performance_dicts = [average_performance_dict_2bits, average_performance_dict_4bits, average_performance_dict_8bits]\n",
    "for i in range(len(performance_dicts)):\n",
    "    with open(f'./data/{2**(i+1)}bit_average_performance.txt', 'w') as f:\n",
    "        f.write('parameters,performance\\n')\n",
    "        f.writelines([f'{x}\\n' for x in sorted(list(performance_dicts[i].items()), key=lambda x: x[1], reverse=True)])"
   ]
  },
  {
   "cell_type": "code",
   "execution_count": 2,
   "id": "b5a7bbf0-8060-4564-8e3b-c6ebc72139c5",
   "metadata": {},
   "outputs": [],
   "source": [
    "# Perform ceteris paribus test for 2 bist\n",
    "# Read the average performance:\n",
    "with open(f'./data/2bit_average_performance.txt', 'r') as f:\n",
    "    average_performance = list(f)\n",
    "    average_performance = [line.rstrip() for line in average_performance][1:]"
   ]
  },
  {
   "cell_type": "code",
   "execution_count": 16,
   "id": "2086f6b0",
   "metadata": {},
   "outputs": [
    {
     "name": "stdout",
     "output_type": "stream",
     "text": [
      "----------Error variation across epochs----------\n",
      "Network 1\n",
      "('Layers: [4, 32, 3], Learning rate: 0.00390625, Epochs: 5', 13.96723969350817)\n",
      "('Layers: [4, 32, 3], Learning rate: 0.00390625, Epochs: 14', 11.496060584687758)\n",
      "('Layers: [4, 32, 3], Learning rate: 0.00390625, Epochs: 19', 11.438259048327764)\n",
      "Network 2\n",
      "('Layers: [4, 256, 32, 3], Learning rate: 0.001953125, Epochs: 5', 15.881284908332372)\n",
      "('Layers: [4, 256, 32, 3], Learning rate: 0.001953125, Epochs: 14', 14.292881999375885)\n",
      "('Layers: [4, 256, 32, 3], Learning rate: 0.001953125, Epochs: 19', 13.680439863167805)\n",
      "Network 3\n",
      "('Layers: [4, 2, 3], Learning rate: 0.0078125, Epochs: 5', 11.699962929062028)\n",
      "('Layers: [4, 2, 3], Learning rate: 0.0078125, Epochs: 14', 11.46746438596071)\n",
      "('Layers: [4, 2, 3], Learning rate: 0.0078125, Epochs: 19', 11.448469846065574)\n",
      "----------Error variation across learning rates----------\n",
      "Network 1\n",
      "('Layers: [4, 32, 3], Learning rate: 0.001953125, Epochs: 19', 11.669080706327712)\n",
      "('Layers: [4, 32, 3], Learning rate: 0.0078125, Epochs: 19', 11.453687797505607)\n",
      "('Layers: [4, 32, 3], Learning rate: 0.00390625, Epochs: 19', 11.438259048327764)\n",
      "Network 2\n",
      "('Layers: [4, 256, 32, 3], Learning rate: 0.001953125, Epochs: 14', 14.292881999375885)\n",
      "('Layers: [4, 256, 32, 3], Learning rate: 0.00390625, Epochs: 14', 12.838800679344674)\n",
      "('Layers: [4, 256, 32, 3], Learning rate: 0.0078125, Epochs: 14', 11.951951083101001)\n",
      "Network 3\n",
      "('Layers: [4, 2, 3], Learning rate: 0.001953125, Epochs: 5', 21.49681846289604)\n",
      "('Layers: [4, 2, 3], Learning rate: 0.00390625, Epochs: 5', 13.938296407927314)\n",
      "('Layers: [4, 2, 3], Learning rate: 0.0078125, Epochs: 5', 11.699962929062028)\n",
      "----------Error variation across epochs----------\n",
      "Network 1\n",
      "('Layers: [4, 2, 128, 3], Learning rate: 0.00390625, Epochs: 19', 12.326786273484512)\n",
      "('Layers: [4, 256, 32, 3], Learning rate: 0.00390625, Epochs: 19', 12.326219094158882)\n",
      "('Layers: [4, 8, 2, 3], Learning rate: 0.00390625, Epochs: 19', 12.308289997763627)\n",
      "('Layers: [4, 2, 3], Learning rate: 0.00390625, Epochs: 19', 11.47586655242761)\n",
      "('Layers: [4, 64, 3], Learning rate: 0.00390625, Epochs: 19', 11.442361063591502)\n",
      "('Layers: [4, 32, 3], Learning rate: 0.00390625, Epochs: 19', 11.438259048327764)\n",
      "Network 2\n",
      "('Layers: [4, 256, 32, 3], Learning rate: 0.001953125, Epochs: 14', 14.292881999375885)\n",
      "('Layers: [4, 8, 2, 3], Learning rate: 0.001953125, Epochs: 14', 14.25996185127966)\n",
      "('Layers: [4, 2, 128, 3], Learning rate: 0.001953125, Epochs: 14', 14.21260638906354)\n",
      "('Layers: [4, 2, 3], Learning rate: 0.001953125, Epochs: 14', 12.26949627279391)\n",
      "('Layers: [4, 64, 3], Learning rate: 0.001953125, Epochs: 14', 12.261544265390624)\n",
      "('Layers: [4, 32, 3], Learning rate: 0.001953125, Epochs: 14', 12.26090472721511)\n",
      "Network 3\n",
      "('Layers: [4, 8, 2, 3], Learning rate: 0.0078125, Epochs: 5', 13.556718729825567)\n",
      "('Layers: [4, 2, 128, 3], Learning rate: 0.0078125, Epochs: 5', 13.55279883410054)\n",
      "('Layers: [4, 256, 32, 3], Learning rate: 0.0078125, Epochs: 5', 13.535759632575095)\n",
      "('Layers: [4, 32, 3], Learning rate: 0.0078125, Epochs: 5', 11.713037532263066)\n",
      "('Layers: [4, 2, 3], Learning rate: 0.0078125, Epochs: 5', 11.699962929062028)\n",
      "('Layers: [4, 64, 3], Learning rate: 0.0078125, Epochs: 5', 11.69047021014949)\n"
     ]
    }
   ],
   "source": [
    "# Chose for which networks to test\n",
    "test_layers = [\n",
    "    [4, 32, 3],\n",
    "    [4, 256, 32, 3],\n",
    "    [4, 2, 3],\n",
    "]\n",
    "\n",
    "test_learning_rates = [\n",
    "    0.00390625,\n",
    "    0.001953125,\n",
    "    0.0078125,\n",
    "]\n",
    "\n",
    "test_epochs = [\n",
    "    19,\n",
    "    14,\n",
    "    5,\n",
    "]\n",
    "\n",
    "def check_error_variation_over_paramater(const1, const2, name1, name2, name_test):\n",
    "    print(f'----------Error variation across {name_test}----------')\n",
    "    for i in range(len(const1)):\n",
    "        print(f'Network {i+1}')\n",
    "        for performance in average_performance:\n",
    "            if f'{name1}: {const1[i]}' in performance and f'{name2}: {const2[i]}' in performance:\n",
    "                print(performance)\n",
    "\n",
    "check_error_variation_over_paramater(test_layers, test_learning_rates, 'Layers', 'Learning rate', 'epochs')\n",
    "check_error_variation_over_paramater(test_layers, test_epochs, 'Layers', 'Epochs', 'learning rates')\n",
    "check_error_variation_over_paramater(test_epochs, test_learning_rates, 'Epochs', 'Learning rate', 'epochs')"
   ]
  },
  {
   "cell_type": "code",
   "execution_count": 17,
   "id": "8fe062b3",
   "metadata": {},
   "outputs": [],
   "source": [
    "# Perform the same test for 4 bits\n",
    "# Read the average performance:\n",
    "with open(f'./data/4bit_average_performance.txt', 'r') as f:\n",
    "    average_performance = list(f)\n",
    "    average_performance = [line.rstrip() for line in average_performance][1:]"
   ]
  },
  {
   "cell_type": "code",
   "execution_count": 18,
   "id": "da3dbe5b",
   "metadata": {},
   "outputs": [
    {
     "name": "stdout",
     "output_type": "stream",
     "text": [
      "----------Error variation across epochs----------\n",
      "Network 1\n",
      "('Layers: [8, 2, 5], Learning rate: 0.0078125, Epochs: 5', 11.704525991789666)\n",
      "('Layers: [8, 2, 5], Learning rate: 0.0078125, Epochs: 14', 11.462021206073375)\n",
      "('Layers: [8, 2, 5], Learning rate: 0.0078125, Epochs: 19', 11.433945720047964)\n",
      "Network 2\n",
      "('Layers: [8, 64, 5], Learning rate: 0.001953125, Epochs: 5', 21.746346232443155)\n",
      "('Layers: [8, 64, 5], Learning rate: 0.001953125, Epochs: 14', 12.290378378945464)\n",
      "('Layers: [8, 64, 5], Learning rate: 0.001953125, Epochs: 19', 11.673666686532453)\n",
      "Network 3\n",
      "('Layers: [8, 32, 64, 5], Learning rate: 0.00390625, Epochs: 5', 14.90347309946306)\n",
      "('Layers: [8, 32, 64, 5], Learning rate: 0.00390625, Epochs: 14', 12.857085247778597)\n",
      "('Layers: [8, 32, 64, 5], Learning rate: 0.00390625, Epochs: 19', 12.318327628507607)\n",
      "----------Error variation across learning rates----------\n",
      "Network 1\n",
      "('Layers: [8, 2, 5], Learning rate: 0.001953125, Epochs: 19', 11.67550311674572)\n",
      "('Layers: [8, 2, 5], Learning rate: 0.00390625, Epochs: 19', 11.4467677587173)\n",
      "('Layers: [8, 2, 5], Learning rate: 0.0078125, Epochs: 19', 11.433945720047964)\n",
      "Network 2\n",
      "('Layers: [8, 64, 5], Learning rate: 0.001953125, Epochs: 14', 12.290378378945464)\n",
      "('Layers: [8, 64, 5], Learning rate: 0.00390625, Epochs: 14', 11.461402894512187)\n",
      "('Layers: [8, 64, 5], Learning rate: 0.0078125, Epochs: 14', 11.449750883253605)\n",
      "Network 3\n",
      "('Layers: [8, 32, 64, 5], Learning rate: 0.001953125, Epochs: 5', 15.803117099330386)\n",
      "('Layers: [8, 32, 64, 5], Learning rate: 0.00390625, Epochs: 5', 14.90347309946306)\n",
      "('Layers: [8, 32, 64, 5], Learning rate: 0.0078125, Epochs: 5', 13.570397554911594)\n",
      "----------Error variation across epochs----------\n",
      "Network 1\n",
      "('Layers: [8, 2, 256, 5], Learning rate: 0.0078125, Epochs: 19', 11.825613890248334)\n",
      "('Layers: [8, 1024, 64, 5], Learning rate: 0.0078125, Epochs: 19', 11.825232125119792)\n",
      "('Layers: [8, 32, 64, 5], Learning rate: 0.0078125, Epochs: 19', 11.822440382716923)\n",
      "('Layers: [8, 1024, 5], Learning rate: 0.0078125, Epochs: 19', 11.445806146784163)\n",
      "('Layers: [8, 64, 5], Learning rate: 0.0078125, Epochs: 19', 11.436745719788522)\n",
      "('Layers: [8, 2, 5], Learning rate: 0.0078125, Epochs: 19', 11.433945720047964)\n",
      "Network 2\n",
      "('Layers: [8, 32, 64, 5], Learning rate: 0.001953125, Epochs: 14', 14.30144090987449)\n",
      "('Layers: [8, 2, 256, 5], Learning rate: 0.001953125, Epochs: 14', 14.267779499595573)\n",
      "('Layers: [8, 1024, 64, 5], Learning rate: 0.001953125, Epochs: 14', 14.253911914707771)\n",
      "('Layers: [8, 64, 5], Learning rate: 0.001953125, Epochs: 14', 12.290378378945464)\n",
      "('Layers: [8, 1024, 5], Learning rate: 0.001953125, Epochs: 14', 12.28175812845799)\n",
      "('Layers: [8, 2, 5], Learning rate: 0.001953125, Epochs: 14', 12.272905862141268)\n",
      "Network 3\n",
      "('Layers: [8, 1024, 64, 5], Learning rate: 0.00390625, Epochs: 5', 14.993515550991063)\n",
      "('Layers: [8, 32, 64, 5], Learning rate: 0.00390625, Epochs: 5', 14.90347309946306)\n",
      "('Layers: [8, 2, 256, 5], Learning rate: 0.00390625, Epochs: 5', 14.889597594274765)\n",
      "('Layers: [8, 64, 5], Learning rate: 0.00390625, Epochs: 5', 14.001600988428223)\n",
      "('Layers: [8, 1024, 5], Learning rate: 0.00390625, Epochs: 5', 13.97653975594678)\n",
      "('Layers: [8, 2, 5], Learning rate: 0.00390625, Epochs: 5', 13.96046447723394)\n"
     ]
    }
   ],
   "source": [
    "# Define the parameters\n",
    "test_layers = [\n",
    "    [8, 2, 5],\n",
    "    [8, 64, 5],\n",
    "    [8, 32, 64, 5],\n",
    "]\n",
    "\n",
    "test_learning_rates = [\n",
    "    0.0078125,\n",
    "    0.001953125,\n",
    "    0.00390625,\n",
    "]\n",
    "\n",
    "test_epochs = [\n",
    "    19,\n",
    "    14,\n",
    "    5,\n",
    "]\n",
    "\n",
    "# Check error variation over epochs, learning rate and layers\n",
    "check_error_variation_over_paramater(test_layers, test_learning_rates, 'Layers', 'Learning rate', 'epochs')\n",
    "check_error_variation_over_paramater(test_layers, test_epochs, 'Layers', 'Epochs', 'learning rates')\n",
    "check_error_variation_over_paramater(test_epochs, test_learning_rates, 'Epochs', 'Learning rate', 'epochs')"
   ]
  },
  {
   "cell_type": "code",
   "execution_count": 21,
   "id": "0f69c9a2",
   "metadata": {},
   "outputs": [],
   "source": [
    "# Perform the same test for 8 bits\n",
    "# Read the average performance:\n",
    "with open(f'./data/8bit_average_performance.txt', 'r') as f:\n",
    "    average_performance = list(f)\n",
    "    average_performance = [line.rstrip() for line in average_performance][1:]"
   ]
  },
  {
   "cell_type": "code",
   "execution_count": 22,
   "id": "1f6b6a69",
   "metadata": {},
   "outputs": [
    {
     "name": "stdout",
     "output_type": "stream",
     "text": [
      "----------Error variation across epochs----------\n",
      "Network 1\n",
      "('Layers: [16, 4, 9], Learning rate: 0.0078125, Epochs: 5', 11.685835594479505)\n",
      "('Layers: [16, 4, 9], Learning rate: 0.0078125, Epochs: 14', 11.479390423462124)\n",
      "('Layers: [16, 4, 9], Learning rate: 0.0078125, Epochs: 19', 11.424976080084498)\n",
      "Network 2\n",
      "('Layers: [16, 64, 9], Learning rate: 0.001953125, Epochs: 5', 21.704807836707953)\n",
      "('Layers: [16, 64, 9], Learning rate: 0.001953125, Epochs: 14', 12.307892859410407)\n",
      "('Layers: [16, 64, 9], Learning rate: 0.001953125, Epochs: 19', 11.685280313203044)\n",
      "Network 3\n",
      "('Layers: [16, 2, 1024, 9], Learning rate: 0.00390625, Epochs: 5', 14.928288258772605)\n",
      "('Layers: [16, 2, 1024, 9], Learning rate: 0.00390625, Epochs: 14', 12.825856862625956)\n",
      "('Layers: [16, 2, 1024, 9], Learning rate: 0.00390625, Epochs: 19', 12.323777815955141)\n",
      "----------Error variation across learning rates----------\n",
      "Network 1\n",
      "('Layers: [16, 4, 9], Learning rate: 0.001953125, Epochs: 19', 11.670402302770329)\n",
      "('Layers: [16, 4, 9], Learning rate: 0.00390625, Epochs: 19', 11.461336840374083)\n",
      "('Layers: [16, 4, 9], Learning rate: 0.0078125, Epochs: 19', 11.424976080084498)\n",
      "Network 2\n",
      "('Layers: [16, 64, 9], Learning rate: 0.001953125, Epochs: 14', 12.307892859410407)\n",
      "('Layers: [16, 64, 9], Learning rate: 0.00390625, Epochs: 14', 11.496237389744817)\n",
      "('Layers: [16, 64, 9], Learning rate: 0.0078125, Epochs: 14', 11.459906541358789)\n",
      "Network 3\n",
      "('Layers: [16, 2, 1024, 9], Learning rate: 0.001953125, Epochs: 5', 15.904036641680994)\n",
      "('Layers: [16, 2, 1024, 9], Learning rate: 0.00390625, Epochs: 5', 14.928288258772605)\n",
      "('Layers: [16, 2, 1024, 9], Learning rate: 0.0078125, Epochs: 5', 13.543291543619622)\n",
      "----------Error variation across epochs----------\n",
      "Network 1\n",
      "('Layers: [16, 8, 8, 9], Learning rate: 0.0078125, Epochs: 19', 11.823378446794704)\n",
      "('Layers: [16, 2, 1024, 9], Learning rate: 0.0078125, Epochs: 19', 11.820959657127641)\n",
      "('Layers: [16, 16, 4, 9], Learning rate: 0.0078125, Epochs: 19', 11.817882108002877)\n",
      "('Layers: [16, 64, 9], Learning rate: 0.0078125, Epochs: 19', 11.438050455063678)\n",
      "('Layers: [16, 16, 9], Learning rate: 0.0078125, Epochs: 19', 11.437294110631164)\n",
      "('Layers: [16, 4, 9], Learning rate: 0.0078125, Epochs: 19', 11.424976080084498)\n",
      "Network 2\n",
      "('Layers: [16, 16, 4, 9], Learning rate: 0.001953125, Epochs: 14', 14.309892134279306)\n",
      "('Layers: [16, 8, 8, 9], Learning rate: 0.001953125, Epochs: 14', 14.294501077500794)\n",
      "('Layers: [16, 2, 1024, 9], Learning rate: 0.001953125, Epochs: 14', 14.239916000895386)\n",
      "('Layers: [16, 64, 9], Learning rate: 0.001953125, Epochs: 14', 12.307892859410407)\n",
      "('Layers: [16, 4, 9], Learning rate: 0.001953125, Epochs: 14', 12.288844022142824)\n",
      "('Layers: [16, 16, 9], Learning rate: 0.001953125, Epochs: 14', 12.270337714523675)\n",
      "Network 3\n",
      "('Layers: [16, 8, 8, 9], Learning rate: 0.00390625, Epochs: 5', 14.928406360871467)\n",
      "('Layers: [16, 2, 1024, 9], Learning rate: 0.00390625, Epochs: 5', 14.928288258772605)\n",
      "('Layers: [16, 16, 4, 9], Learning rate: 0.00390625, Epochs: 5', 14.865160315097773)\n",
      "('Layers: [16, 16, 9], Learning rate: 0.00390625, Epochs: 5', 14.087477033699269)\n",
      "('Layers: [16, 64, 9], Learning rate: 0.00390625, Epochs: 5', 14.013028203569169)\n",
      "('Layers: [16, 4, 9], Learning rate: 0.00390625, Epochs: 5', 13.915365874755057)\n"
     ]
    }
   ],
   "source": [
    "# Define the parameters\n",
    "test_layers = [\n",
    "    [16, 4, 9],\n",
    "    [16, 64, 9],\n",
    "    [16, 2, 1024, 9],\n",
    "]\n",
    "\n",
    "test_learning_rates = [\n",
    "    0.0078125,\n",
    "    0.001953125,\n",
    "    0.00390625,\n",
    "]\n",
    "\n",
    "test_epochs = [\n",
    "    19,\n",
    "    14,\n",
    "    5,\n",
    "]\n",
    "\n",
    "# Check error variation over epochs, learning rate and layers\n",
    "check_error_variation_over_paramater(test_layers, test_learning_rates, 'Layers', 'Learning rate', 'epochs')\n",
    "check_error_variation_over_paramater(test_layers, test_epochs, 'Layers', 'Epochs', 'learning rates')\n",
    "check_error_variation_over_paramater(test_epochs, test_learning_rates, 'Epochs', 'Learning rate', 'epochs')"
   ]
  },
  {
   "cell_type": "code",
   "execution_count": 6,
   "id": "0409a1a2",
   "metadata": {},
   "outputs": [],
   "source": [
    "# Come back and test all the 2 bit network networks\n",
    "# over the learning rates\n",
    "# Define parameters\n",
    "test_layers = [\n",
    "    [4, 2, 3],\n",
    "    [4, 32, 3],\n",
    "    [4, 64, 3],\n",
    "    [4, 8, 2, 3],\n",
    "    [4, 2, 128, 3],\n",
    "    [4, 256, 32, 3],\n",
    "]\n",
    "\n",
    "test_epochs = [\n",
    "    5, \n",
    "    14, \n",
    "    19\n",
    "]"
   ]
  },
  {
   "cell_type": "code",
   "execution_count": 15,
   "id": "e8a69d98",
   "metadata": {},
   "outputs": [
    {
     "name": "stdout",
     "output_type": "stream",
     "text": [
      "Network 1\n",
      "Layers: [4, 2, 3] | Epochs: 5\n",
      "('Layers: [4, 2, 3], Learning rate: 0.001953125, Epochs: 5', 21.49681846289604)\n",
      "('Layers: [4, 2, 3], Learning rate: 0.00390625, Epochs: 5', 13.938296407927314)\n",
      "('Layers: [4, 2, 3], Learning rate: 0.0078125, Epochs: 5', 11.699962929062028)\n",
      "Network 2\n",
      "Layers: [4, 2, 3] | Epochs: 14\n",
      "('Layers: [4, 2, 3], Learning rate: 0.001953125, Epochs: 14', 12.26949627279391)\n",
      "('Layers: [4, 2, 3], Learning rate: 0.00390625, Epochs: 14', 11.484570937473897)\n",
      "('Layers: [4, 2, 3], Learning rate: 0.0078125, Epochs: 14', 11.46746438596071)\n",
      "Network 3\n",
      "Layers: [4, 2, 3] | Epochs: 19\n",
      "('Layers: [4, 2, 3], Learning rate: 0.001953125, Epochs: 19', 11.68712032655317)\n",
      "('Layers: [4, 2, 3], Learning rate: 0.00390625, Epochs: 19', 11.47586655242761)\n",
      "('Layers: [4, 2, 3], Learning rate: 0.0078125, Epochs: 19', 11.448469846065574)\n",
      "Network 4\n",
      "Layers: [4, 32, 3] | Epochs: 5\n",
      "('Layers: [4, 32, 3], Learning rate: 0.001953125, Epochs: 5', 22.04548981749302)\n",
      "('Layers: [4, 32, 3], Learning rate: 0.00390625, Epochs: 5', 13.96723969350817)\n",
      "('Layers: [4, 32, 3], Learning rate: 0.0078125, Epochs: 5', 11.713037532263066)\n",
      "Network 5\n",
      "Layers: [4, 32, 3] | Epochs: 14\n",
      "('Layers: [4, 32, 3], Learning rate: 0.001953125, Epochs: 14', 12.26090472721511)\n",
      "('Layers: [4, 32, 3], Learning rate: 0.00390625, Epochs: 14', 11.496060584687758)\n",
      "('Layers: [4, 32, 3], Learning rate: 0.0078125, Epochs: 14', 11.472675909257687)\n",
      "Network 6\n",
      "Layers: [4, 32, 3] | Epochs: 19\n",
      "('Layers: [4, 32, 3], Learning rate: 0.001953125, Epochs: 19', 11.669080706327712)\n",
      "('Layers: [4, 32, 3], Learning rate: 0.0078125, Epochs: 19', 11.453687797505607)\n",
      "('Layers: [4, 32, 3], Learning rate: 0.00390625, Epochs: 19', 11.438259048327764)\n",
      "Network 7\n",
      "Layers: [4, 64, 3] | Epochs: 5\n",
      "('Layers: [4, 64, 3], Learning rate: 0.001953125, Epochs: 5', 21.635177147949204)\n",
      "('Layers: [4, 64, 3], Learning rate: 0.00390625, Epochs: 5', 14.0090809050153)\n",
      "('Layers: [4, 64, 3], Learning rate: 0.0078125, Epochs: 5', 11.69047021014949)\n",
      "Network 8\n",
      "Layers: [4, 64, 3] | Epochs: 14\n",
      "('Layers: [4, 64, 3], Learning rate: 0.001953125, Epochs: 14', 12.261544265390624)\n",
      "('Layers: [4, 64, 3], Learning rate: 0.00390625, Epochs: 14', 11.492762643650366)\n",
      "('Layers: [4, 64, 3], Learning rate: 0.0078125, Epochs: 14', 11.467831277122947)\n",
      "Network 9\n",
      "Layers: [4, 64, 3] | Epochs: 19\n",
      "('Layers: [4, 64, 3], Learning rate: 0.001953125, Epochs: 19', 11.66557196135084)\n",
      "('Layers: [4, 64, 3], Learning rate: 0.00390625, Epochs: 19', 11.442361063591502)\n",
      "('Layers: [4, 64, 3], Learning rate: 0.0078125, Epochs: 19', 11.439852987994302)\n",
      "Network 10\n",
      "Layers: [4, 8, 2, 3] | Epochs: 5\n",
      "('Layers: [4, 8, 2, 3], Learning rate: 0.001953125, Epochs: 5', 15.789468449401026)\n",
      "('Layers: [4, 8, 2, 3], Learning rate: 0.00390625, Epochs: 5', 14.922835554609915)\n",
      "('Layers: [4, 8, 2, 3], Learning rate: 0.0078125, Epochs: 5', 13.556718729825567)\n",
      "Network 11\n",
      "Layers: [4, 8, 2, 3] | Epochs: 14\n",
      "('Layers: [4, 8, 2, 3], Learning rate: 0.001953125, Epochs: 14', 14.25996185127966)\n",
      "('Layers: [4, 8, 2, 3], Learning rate: 0.00390625, Epochs: 14', 12.837324051781328)\n",
      "('Layers: [4, 8, 2, 3], Learning rate: 0.0078125, Epochs: 14', 11.949934042067056)\n",
      "Network 12\n",
      "Layers: [4, 8, 2, 3] | Epochs: 19\n",
      "('Layers: [4, 8, 2, 3], Learning rate: 0.001953125, Epochs: 19', 13.60601193470944)\n",
      "('Layers: [4, 8, 2, 3], Learning rate: 0.00390625, Epochs: 19', 12.308289997763627)\n",
      "('Layers: [4, 8, 2, 3], Learning rate: 0.0078125, Epochs: 19', 11.82408783495297)\n",
      "Network 13\n",
      "Layers: [4, 2, 128, 3] | Epochs: 5\n",
      "('Layers: [4, 2, 128, 3], Learning rate: 0.001953125, Epochs: 5', 15.88180394757564)\n",
      "('Layers: [4, 2, 128, 3], Learning rate: 0.00390625, Epochs: 5', 14.919422984236546)\n",
      "('Layers: [4, 2, 128, 3], Learning rate: 0.0078125, Epochs: 5', 13.55279883410054)\n",
      "Network 14\n",
      "Layers: [4, 2, 128, 3] | Epochs: 14\n",
      "('Layers: [4, 2, 128, 3], Learning rate: 0.001953125, Epochs: 14', 14.21260638906354)\n",
      "('Layers: [4, 2, 128, 3], Learning rate: 0.00390625, Epochs: 14', 12.858725190617509)\n",
      "('Layers: [4, 2, 128, 3], Learning rate: 0.0078125, Epochs: 14', 11.949700746455663)\n",
      "Network 15\n",
      "Layers: [4, 2, 128, 3] | Epochs: 19\n",
      "('Layers: [4, 2, 128, 3], Learning rate: 0.001953125, Epochs: 19', 13.615413549008265)\n",
      "('Layers: [4, 2, 128, 3], Learning rate: 0.00390625, Epochs: 19', 12.326786273484512)\n",
      "('Layers: [4, 2, 128, 3], Learning rate: 0.0078125, Epochs: 19', 11.826164783362216)\n",
      "Network 16\n",
      "Layers: [4, 256, 32, 3] | Epochs: 5\n",
      "('Layers: [4, 256, 32, 3], Learning rate: 0.001953125, Epochs: 5', 15.881284908332372)\n",
      "('Layers: [4, 256, 32, 3], Learning rate: 0.00390625, Epochs: 5', 14.978313820484592)\n",
      "('Layers: [4, 256, 32, 3], Learning rate: 0.0078125, Epochs: 5', 13.535759632575095)\n",
      "Network 17\n",
      "Layers: [4, 256, 32, 3] | Epochs: 14\n",
      "('Layers: [4, 256, 32, 3], Learning rate: 0.001953125, Epochs: 14', 14.292881999375885)\n",
      "('Layers: [4, 256, 32, 3], Learning rate: 0.00390625, Epochs: 14', 12.838800679344674)\n",
      "('Layers: [4, 256, 32, 3], Learning rate: 0.0078125, Epochs: 14', 11.951951083101001)\n",
      "Network 18\n",
      "Layers: [4, 256, 32, 3] | Epochs: 19\n",
      "('Layers: [4, 256, 32, 3], Learning rate: 0.001953125, Epochs: 19', 13.680439863167805)\n",
      "('Layers: [4, 256, 32, 3], Learning rate: 0.00390625, Epochs: 19', 12.326219094158882)\n",
      "('Layers: [4, 256, 32, 3], Learning rate: 0.0078125, Epochs: 19', 11.821312835364491)\n"
     ]
    }
   ],
   "source": [
    "# Order network performance for all the corresponding networks\n",
    "for i, layers in enumerate(test_layers):\n",
    "    for j, epochs in enumerate(test_epochs):\n",
    "        print(f'Network {i*len(test_epochs) + j + 1}\\nLayers: {layers} | Epochs: {epochs}')\n",
    "        count += 1\n",
    "        for performance in average_performance:\n",
    "                    if f'Layers: {layers}' in performance and f'Epochs: {epochs}' in performance:\n",
    "                        print(performance)"
   ]
  },
  {
   "cell_type": "code",
   "execution_count": 133,
   "id": "ac04ca1e-3c6b-40af-b6b7-99cb032265f2",
   "metadata": {},
   "outputs": [],
   "source": [
    "# TODO: test stable network for whole range of epochs and record results\n",
    "# TODO: test extremely simplified network structures see beneath as well\n",
    "# TODO: test an extremely complexe network structure (just a lot of layers)\n",
    "# TODO: test stable network performance on hard lim transfer functions\n",
    "# TODO: test stable network performance but training it with a hardlim transfer function last layer\n",
    "# TODO: redo all this with symetrical network"
   ]
  },
  {
   "cell_type": "code",
   "execution_count": 77,
   "id": "9f88e41d",
   "metadata": {},
   "outputs": [],
   "source": [
    "# Testing two network structures trained with huge numbers of epochs\n",
    "# Network 1:\n",
    "# Define layers\n",
    "layer_sizes = [4, 32]\n",
    "\n",
    "# Get inputs and outputs\n",
    "inputs, outputs, S = gen_inputs_outputs(layer_sizes[0])\n",
    "\n",
    "# Append last layer size\n",
    "layer_sizes = np.array(layer_sizes + [S], dtype=int)\n",
    "\n",
    "# Define transfer functions\n",
    "transfer_functions = [logsig, lin]\n",
    "deriv_transfer_functions = [deriv_logsig, deriv_lin]"
   ]
  },
  {
   "cell_type": "code",
   "execution_count": 79,
   "id": "ba91f7cb",
   "metadata": {
    "scrolled": true
   },
   "outputs": [
    {
     "name": "stdout",
     "output_type": "stream",
     "text": [
      "-----Epochs: 100-----\n",
      "11.473762959309722\n",
      "-----Epochs: 200-----\n",
      "10.532396406522869\n",
      "-----Epochs: 300-----\n",
      "10.12144204062843\n",
      "-----Epochs: 400-----\n",
      "10.290725748428743\n",
      "-----Epochs: 500-----\n",
      "10.104415746563296\n",
      "-----Epochs: 600-----\n",
      "9.309831364143424\n",
      "-----Epochs: 700-----\n",
      "9.764292849680155\n",
      "-----Epochs: 800-----\n",
      "9.38949387499126\n",
      "-----Epochs: 900-----\n",
      "8.94903054696219\n",
      "-----Epochs: 1000-----\n",
      "9.226459386467514\n",
      "-----Epochs: 1100-----\n",
      "9.058519106846475\n",
      "-----Epochs: 1200-----\n",
      "9.32118015975078\n",
      "-----Epochs: 1300-----\n",
      "9.162462348419588\n",
      "-----Epochs: 1400-----\n",
      "9.113487149803225\n",
      "-----Epochs: 1500-----\n",
      "8.778421413974739\n",
      "-----Epochs: 1600-----\n",
      "8.837510256295028\n",
      "-----Epochs: 1700-----\n",
      "9.034953626484196\n",
      "-----Epochs: 1800-----\n",
      "9.014154445549504\n",
      "-----Epochs: 1900-----\n",
      "8.714761581070508\n",
      "-----Epochs: 2000-----\n",
      "8.73954371335011\n",
      "-----Epochs: 2100-----\n",
      "8.934335997599733\n",
      "-----Epochs: 2200-----\n",
      "8.953927938700605\n",
      "-----Epochs: 2300-----\n",
      "8.538826558788962\n",
      "-----Epochs: 2400-----\n",
      "8.714385182387483\n",
      "-----Epochs: 2500-----\n",
      "8.604661716190478\n",
      "-----Epochs: 2600-----\n",
      "8.669115054331256\n",
      "-----Epochs: 2700-----\n",
      "8.793604772866576\n",
      "-----Epochs: 2800-----\n",
      "8.854485050080749\n",
      "-----Epochs: 2900-----\n",
      "8.836702366277674\n",
      "-----Epochs: 3000-----\n",
      "8.74334160314912\n",
      "-----Epochs: 3100-----\n",
      "8.181811010692567\n",
      "-----Epochs: 3200-----\n",
      "8.58258080822563\n",
      "-----Epochs: 3300-----\n",
      "8.361824112970933\n",
      "-----Epochs: 3400-----\n",
      "8.47468687123658\n",
      "-----Epochs: 3500-----\n",
      "8.188522230682938\n",
      "-----Epochs: 3600-----\n",
      "8.631746871964772\n",
      "-----Epochs: 3700-----\n",
      "7.856065097105959\n",
      "-----Epochs: 3800-----\n",
      "8.678557034449156\n",
      "-----Epochs: 3900-----\n",
      "8.20282162045703\n",
      "-----Epochs: 4000-----\n",
      "8.455540029534905\n",
      "-----Epochs: 4100-----\n",
      "8.505027754502969\n",
      "-----Epochs: 4200-----\n",
      "8.261110862015322\n",
      "-----Epochs: 4300-----\n",
      "8.487708196233896\n",
      "-----Epochs: 4400-----\n",
      "7.939189637287716\n",
      "-----Epochs: 4500-----\n",
      "7.837344036935352\n",
      "-----Epochs: 4600-----\n",
      "8.233512403675318\n",
      "-----Epochs: 4700-----\n",
      "8.233265992295848\n",
      "-----Epochs: 4800-----\n",
      "8.298708933074089\n",
      "-----Epochs: 4900-----\n",
      "8.180853760218048\n",
      "-----Epochs: 5000-----\n",
      "8.242589824989192\n"
     ]
    }
   ],
   "source": [
    "# Test for epochs going from 100 to 5000\n",
    "for i in range(1, 51):\n",
    "    # Reset all network parameters\n",
    "    reset_params()\n",
    "    \n",
    "    print(f'-----Epochs: {i*100}-----')\n",
    "    \n",
    "    # Train the network\n",
    "    train_network(learning_rate=0.00390625, epochs=i*100)\n",
    "\n",
    "    # Get performance\n",
    "    print(performance())"
   ]
  },
  {
   "cell_type": "code",
   "execution_count": 41,
   "id": "118b43df",
   "metadata": {},
   "outputs": [],
   "source": [
    "# Netowrk 2:\n",
    "# Layer sizes\n",
    "layer_sizes = [4, 256, 32]\n",
    "\n",
    "# Inputs and outputs\n",
    "inputs, outputs, S = gen_inputs_outputs(layer_sizes[0])\n",
    "\n",
    "# Append S\n",
    "layer_sizes = np.array(layer_sizes + [S], dtype=int)\n",
    "\n",
    "# Define transfer functions\n",
    "transfer_functions = [logsig, logsig, lin]\n",
    "deriv_transfer_functions = [deriv_logsig, deriv_logsig, deriv_lin]"
   ]
  },
  {
   "cell_type": "code",
   "execution_count": 30,
   "id": "30ff7e00",
   "metadata": {
    "scrolled": true
   },
   "outputs": [
    {
     "name": "stdout",
     "output_type": "stream",
     "text": [
      "-----Epochs: 100-----\n",
      "37.236467515819584\n",
      "-----Epochs: 200-----\n",
      "35.786332583191516\n",
      "-----Epochs: 300-----\n",
      "34.13565569717387\n",
      "-----Epochs: 400-----\n",
      "40.34397612097744\n",
      "-----Epochs: 500-----\n",
      "36.00178298953087\n",
      "-----Epochs: 600-----\n",
      "31.32184158323833\n",
      "-----Epochs: 700-----\n",
      "35.6275961581573\n",
      "-----Epochs: 800-----\n"
     ]
    },
    {
     "ename": "KeyboardInterrupt",
     "evalue": "",
     "output_type": "error",
     "traceback": [
      "\u001b[0;31m---------------------------------------------------------------------------\u001b[0m",
      "\u001b[0;31mKeyboardInterrupt\u001b[0m                         Traceback (most recent call last)",
      "Cell \u001b[0;32mIn[30], line 9\u001b[0m\n\u001b[1;32m      6\u001b[0m \u001b[38;5;28mprint\u001b[39m(\u001b[38;5;124mf\u001b[39m\u001b[38;5;124m'\u001b[39m\u001b[38;5;124m-----Epochs: \u001b[39m\u001b[38;5;132;01m{\u001b[39;00mi\u001b[38;5;241m*\u001b[39m\u001b[38;5;241m100\u001b[39m\u001b[38;5;132;01m}\u001b[39;00m\u001b[38;5;124m-----\u001b[39m\u001b[38;5;124m'\u001b[39m)\n\u001b[1;32m      8\u001b[0m \u001b[38;5;66;03m# Train the network\u001b[39;00m\n\u001b[0;32m----> 9\u001b[0m \u001b[43mtrain_network\u001b[49m\u001b[43m(\u001b[49m\u001b[43mlearning_rate\u001b[49m\u001b[38;5;241;43m=\u001b[39;49m\u001b[38;5;241;43m0.0078125\u001b[39;49m\u001b[43m,\u001b[49m\u001b[43m \u001b[49m\u001b[43mepochs\u001b[49m\u001b[38;5;241;43m=\u001b[39;49m\u001b[43mi\u001b[49m\u001b[38;5;241;43m*\u001b[39;49m\u001b[38;5;241;43m100\u001b[39;49m\u001b[43m)\u001b[49m\n\u001b[1;32m     11\u001b[0m \u001b[38;5;66;03m# Get performance\u001b[39;00m\n\u001b[1;32m     12\u001b[0m \u001b[38;5;28mprint\u001b[39m(performance())\n",
      "Cell \u001b[0;32mIn[14], line 27\u001b[0m, in \u001b[0;36mtrain_network\u001b[0;34m(learning_rate, epochs)\u001b[0m\n\u001b[1;32m     25\u001b[0m \u001b[38;5;66;03m# Iterate through the remaining layers backwards\u001b[39;00m\n\u001b[1;32m     26\u001b[0m \u001b[38;5;28;01mfor\u001b[39;00m i \u001b[38;5;129;01min\u001b[39;00m \u001b[38;5;28mrange\u001b[39m(\u001b[38;5;28mlen\u001b[39m(n_list)\u001b[38;5;241m-\u001b[39m\u001b[38;5;241m2\u001b[39m, \u001b[38;5;241m0\u001b[39m, \u001b[38;5;241m-\u001b[39m\u001b[38;5;241m1\u001b[39m):\n\u001b[0;32m---> 27\u001b[0m     s_list[i] \u001b[38;5;241m=\u001b[39m (\u001b[38;5;241m1\u001b[39m\u001b[38;5;241m/\u001b[39mlayer_sizes[i\u001b[38;5;241m+\u001b[39m\u001b[38;5;241m1\u001b[39m]) \u001b[38;5;241m*\u001b[39m np\u001b[38;5;241m.\u001b[39mmatmul(np\u001b[38;5;241m.\u001b[39mmatmul(\u001b[43mfill_F_dot\u001b[49m\u001b[43m(\u001b[49m\u001b[43mi\u001b[49m\u001b[43m)\u001b[49m, weights_list[i\u001b[38;5;241m+\u001b[39m\u001b[38;5;241m1\u001b[39m]\u001b[38;5;241m.\u001b[39mT), s_list[i\u001b[38;5;241m+\u001b[39m\u001b[38;5;241m1\u001b[39m])\n\u001b[1;32m     28\u001b[0m     weights_list[i] \u001b[38;5;241m+\u001b[39m\u001b[38;5;241m=\u001b[39m \u001b[38;5;241m-\u001b[39mlearning_rate\u001b[38;5;241m*\u001b[39mnp\u001b[38;5;241m.\u001b[39mmatmul(s_list[i], a_list[i\u001b[38;5;241m-\u001b[39m\u001b[38;5;241m1\u001b[39m]\u001b[38;5;241m.\u001b[39mT)\n\u001b[1;32m     29\u001b[0m     biases_list[i] \u001b[38;5;241m+\u001b[39m\u001b[38;5;241m=\u001b[39m \u001b[38;5;241m-\u001b[39mlearning_rate\u001b[38;5;241m*\u001b[39ms_list[i]\n",
      "Cell \u001b[0;32mIn[14], line 5\u001b[0m, in \u001b[0;36mfill_F_dot\u001b[0;34m(layer_num)\u001b[0m\n\u001b[1;32m      3\u001b[0m \u001b[38;5;28;01mdef\u001b[39;00m \u001b[38;5;21mfill_F_dot\u001b[39m(layer_num):\n\u001b[1;32m      4\u001b[0m     a \u001b[38;5;241m=\u001b[39m np\u001b[38;5;241m.\u001b[39midentity(\u001b[38;5;28mlen\u001b[39m(n_list[layer_num]), \u001b[38;5;28mfloat\u001b[39m)\n\u001b[0;32m----> 5\u001b[0m     np\u001b[38;5;241m.\u001b[39mfill_diagonal(a, \u001b[43mderiv_transfer_functions\u001b[49m\u001b[43m[\u001b[49m\u001b[43mlayer_num\u001b[49m\u001b[43m]\u001b[49m\u001b[43m(\u001b[49m\u001b[43mn_list\u001b[49m\u001b[43m[\u001b[49m\u001b[43mlayer_num\u001b[49m\u001b[43m]\u001b[49m\u001b[43m)\u001b[49m\u001b[38;5;241m.\u001b[39mflatten())\n\u001b[1;32m      6\u001b[0m     \u001b[38;5;28;01mreturn\u001b[39;00m a\n",
      "File \u001b[0;32m~/dev/PythonCode/tm/env/lib/python3.11/site-packages/numpy/lib/function_base.py:2372\u001b[0m, in \u001b[0;36mvectorize.__call__\u001b[0;34m(self, *args, **kwargs)\u001b[0m\n\u001b[1;32m   2369\u001b[0m     \u001b[38;5;28mself\u001b[39m\u001b[38;5;241m.\u001b[39m_init_stage_2(\u001b[38;5;241m*\u001b[39margs, \u001b[38;5;241m*\u001b[39m\u001b[38;5;241m*\u001b[39mkwargs)\n\u001b[1;32m   2370\u001b[0m     \u001b[38;5;28;01mreturn\u001b[39;00m \u001b[38;5;28mself\u001b[39m\n\u001b[0;32m-> 2372\u001b[0m \u001b[38;5;28;01mreturn\u001b[39;00m \u001b[38;5;28;43mself\u001b[39;49m\u001b[38;5;241;43m.\u001b[39;49m\u001b[43m_call_as_normal\u001b[49m\u001b[43m(\u001b[49m\u001b[38;5;241;43m*\u001b[39;49m\u001b[43margs\u001b[49m\u001b[43m,\u001b[49m\u001b[43m \u001b[49m\u001b[38;5;241;43m*\u001b[39;49m\u001b[38;5;241;43m*\u001b[39;49m\u001b[43mkwargs\u001b[49m\u001b[43m)\u001b[49m\n",
      "File \u001b[0;32m~/dev/PythonCode/tm/env/lib/python3.11/site-packages/numpy/lib/function_base.py:2365\u001b[0m, in \u001b[0;36mvectorize._call_as_normal\u001b[0;34m(self, *args, **kwargs)\u001b[0m\n\u001b[1;32m   2362\u001b[0m     vargs \u001b[38;5;241m=\u001b[39m [args[_i] \u001b[38;5;28;01mfor\u001b[39;00m _i \u001b[38;5;129;01min\u001b[39;00m inds]\n\u001b[1;32m   2363\u001b[0m     vargs\u001b[38;5;241m.\u001b[39mextend([kwargs[_n] \u001b[38;5;28;01mfor\u001b[39;00m _n \u001b[38;5;129;01min\u001b[39;00m names])\n\u001b[0;32m-> 2365\u001b[0m \u001b[38;5;28;01mreturn\u001b[39;00m \u001b[38;5;28;43mself\u001b[39;49m\u001b[38;5;241;43m.\u001b[39;49m\u001b[43m_vectorize_call\u001b[49m\u001b[43m(\u001b[49m\u001b[43mfunc\u001b[49m\u001b[38;5;241;43m=\u001b[39;49m\u001b[43mfunc\u001b[49m\u001b[43m,\u001b[49m\u001b[43m \u001b[49m\u001b[43margs\u001b[49m\u001b[38;5;241;43m=\u001b[39;49m\u001b[43mvargs\u001b[49m\u001b[43m)\u001b[49m\n",
      "File \u001b[0;32m~/dev/PythonCode/tm/env/lib/python3.11/site-packages/numpy/lib/function_base.py:2455\u001b[0m, in \u001b[0;36mvectorize._vectorize_call\u001b[0;34m(self, func, args)\u001b[0m\n\u001b[1;32m   2452\u001b[0m \u001b[38;5;66;03m# Convert args to object arrays first\u001b[39;00m\n\u001b[1;32m   2453\u001b[0m inputs \u001b[38;5;241m=\u001b[39m [asanyarray(a, dtype\u001b[38;5;241m=\u001b[39m\u001b[38;5;28mobject\u001b[39m) \u001b[38;5;28;01mfor\u001b[39;00m a \u001b[38;5;129;01min\u001b[39;00m args]\n\u001b[0;32m-> 2455\u001b[0m outputs \u001b[38;5;241m=\u001b[39m \u001b[43mufunc\u001b[49m\u001b[43m(\u001b[49m\u001b[38;5;241;43m*\u001b[39;49m\u001b[43minputs\u001b[49m\u001b[43m)\u001b[49m\n\u001b[1;32m   2457\u001b[0m \u001b[38;5;28;01mif\u001b[39;00m ufunc\u001b[38;5;241m.\u001b[39mnout \u001b[38;5;241m==\u001b[39m \u001b[38;5;241m1\u001b[39m:\n\u001b[1;32m   2458\u001b[0m     res \u001b[38;5;241m=\u001b[39m asanyarray(outputs, dtype\u001b[38;5;241m=\u001b[39motypes[\u001b[38;5;241m0\u001b[39m])\n",
      "File \u001b[0;32m~/dev/PythonCode/tm/tools/tools.py:86\u001b[0m, in \u001b[0;36m_deriv_logsig\u001b[0;34m(x)\u001b[0m\n\u001b[1;32m     85\u001b[0m \u001b[38;5;28;01mdef\u001b[39;00m \u001b[38;5;21m_deriv_logsig\u001b[39m(x):\n\u001b[0;32m---> 86\u001b[0m     \u001b[38;5;28;01mreturn\u001b[39;00m (\u001b[38;5;241m1\u001b[39m\u001b[38;5;241m-\u001b[39m_logsig(x)) \u001b[38;5;241m*\u001b[39m \u001b[43m_logsig\u001b[49m\u001b[43m(\u001b[49m\u001b[43mx\u001b[49m\u001b[43m)\u001b[49m\n",
      "File \u001b[0;32m~/dev/PythonCode/tm/tools/tools.py:67\u001b[0m, in \u001b[0;36m_logsig\u001b[0;34m(x)\u001b[0m\n\u001b[1;32m     66\u001b[0m \u001b[38;5;28;01mdef\u001b[39;00m \u001b[38;5;21m_logsig\u001b[39m(x):\n\u001b[0;32m---> 67\u001b[0m     \u001b[38;5;28;01mreturn\u001b[39;00m \u001b[38;5;241m1\u001b[39m\u001b[38;5;241m/\u001b[39m(\u001b[38;5;241m1\u001b[39m\u001b[38;5;241m+\u001b[39m\u001b[43mexp\u001b[49m\u001b[43m(\u001b[49m\u001b[38;5;241;43m-\u001b[39;49m\u001b[43mx\u001b[49m\u001b[43m)\u001b[49m)\n",
      "\u001b[0;31mKeyboardInterrupt\u001b[0m: "
     ]
    }
   ],
   "source": [
    "# Test for epochs going from 100 to 5000\n",
    "for i in range(1, 51):\n",
    "    # Reset all network parameters\n",
    "    reset_params()\n",
    "    \n",
    "    print(f'-----Epochs: {i*100}-----')\n",
    "    \n",
    "    # Train the network\n",
    "    train_network(learning_rate=0.0078125, epochs=i*100)\n",
    "\n",
    "    # Get performance\n",
    "    print(performance())"
   ]
  },
  {
   "cell_type": "code",
   "execution_count": 42,
   "id": "aef4d83a-6152-4c0b-995f-f866f789a1da",
   "metadata": {
    "scrolled": true
   },
   "outputs": [
    {
     "name": "stdout",
     "output_type": "stream",
     "text": [
      "[  4 256  32   3]\n",
      "17.183216448290473\n",
      "17.183216448290466\n",
      "17.18321644829047\n",
      "17.183216448290484\n",
      "17.183216448290498\n",
      "17.183216448290477\n",
      "17.183216448290473\n",
      "17.183216448290487\n",
      "17.18321644829047\n",
      "17.183216448290473\n",
      "17.18321644829047\n",
      "17.183216448290477\n",
      "17.183216448290466\n",
      "17.183216448290477\n",
      "17.18321644829047\n",
      "17.183216448290477\n",
      "17.18321644829048\n",
      "17.183216448290473\n",
      "17.18321644829049\n",
      "17.183216448290494\n",
      "17.183216448290466\n",
      "17.18321644829049\n",
      "17.18321644829048\n",
      "17.18321644829049\n",
      "17.183216448290477\n",
      "17.183216448290473\n",
      "17.18321644829047\n",
      "17.183216448290494\n",
      "17.183216448290477\n",
      "17.183216448290484\n",
      "17.183216448290473\n",
      "17.183216448290473\n",
      "17.18321644829049\n",
      "17.18321644829047\n",
      "17.183216448290466\n",
      "17.183216448290477\n",
      "17.183216448290462\n",
      "17.183216448290473\n",
      "17.18321644829047\n",
      "17.183216448290477\n",
      "17.183216448290473\n",
      "17.18321644829048\n",
      "17.18321644829047\n",
      "17.18321644829049\n",
      "17.183216448290494\n",
      "17.183216448290473\n",
      "17.183216448290462\n",
      "17.183216448290473\n",
      "17.183216448290484\n",
      "17.183216448290473\n",
      "17.18321644829049\n",
      "17.183216448290487\n",
      "17.18321644829047\n",
      "17.18321644829048\n",
      "17.183216448290484\n",
      "17.18321644829048\n",
      "17.18321644829048\n",
      "17.183216448290473\n",
      "17.18321644829048\n",
      "17.183216448290473\n",
      "17.183216448290473\n",
      "17.183216448290473\n",
      "17.183216448290484\n",
      "17.183216448290477\n",
      "17.18321644829047\n",
      "17.183216448290487\n",
      "17.18321644829047\n",
      "17.183216448290477\n",
      "17.183216448290477\n",
      "17.183216448290477\n",
      "17.18321644829048\n",
      "17.183216448290484\n",
      "17.183216448290473\n",
      "17.183216448290466\n",
      "17.183216448290477\n",
      "17.18321644829048\n",
      "17.183216448290466\n",
      "17.183216448290477\n",
      "17.183216448290473\n",
      "17.183216448290484\n",
      "17.183216448290473\n",
      "17.183216448290484\n",
      "17.183216448290477\n",
      "17.18321644829049\n",
      "17.183216448290477\n",
      "17.183216448290477\n",
      "17.183216448290473\n",
      "17.18321644829048\n",
      "17.18321644829047\n",
      "17.183216448290466\n",
      "17.183216448290466\n",
      "17.18321644829048\n",
      "17.183216448290477\n",
      "17.18321644829049\n",
      "17.183216448290477\n",
      "17.18321644829049\n",
      "17.18321644829048\n",
      "17.183216448290477\n",
      "17.18321644829047\n",
      "17.18321644829048\n"
     ]
    }
   ],
   "source": [
    "print(layer_sizes)\n",
    "for i in range(100):\n",
    "    reset_params()\n",
    "    train_network(learning_rate=0.0078125, epochs=14)\n",
    "    print(performance())"
   ]
  },
  {
   "cell_type": "code",
   "execution_count": 38,
   "id": "08373ff9-998a-4310-8d7b-7776a93db64b",
   "metadata": {},
   "outputs": [
    {
     "name": "stdout",
     "output_type": "stream",
     "text": [
      "[  4   2 128   3]\n",
      "38.46221565424534\n"
     ]
    }
   ],
   "source": [
    "print(layer_sizes)\n",
    "cum_sum = 0\n",
    "for i in range(100):\n",
    "    reset_params()\n",
    "    train_network(learning_rate=0.0078125, epochs=14)\n",
    "    cum_sum += performance()\n",
    "print(cum_sum/100)"
   ]
  },
  {
   "cell_type": "code",
   "execution_count": 70,
   "id": "c86b4f73",
   "metadata": {},
   "outputs": [],
   "source": [
    "transfer_functions = [logsig, hardlim]"
   ]
  },
  {
   "cell_type": "code",
   "execution_count": 74,
   "id": "dfde137b",
   "metadata": {},
   "outputs": [
    {
     "data": {
      "text/plain": [
       "26.0"
      ]
     },
     "execution_count": 74,
     "metadata": {},
     "output_type": "execute_result"
    }
   ],
   "source": [
    "performance()"
   ]
  },
  {
   "cell_type": "code",
   "execution_count": 72,
   "id": "421b78ad",
   "metadata": {},
   "outputs": [],
   "source": [
    "run_network(inputs[0].reshape(len(inputs[0]), 1))"
   ]
  },
  {
   "cell_type": "code",
   "execution_count": 73,
   "id": "516963a0",
   "metadata": {},
   "outputs": [
    {
     "name": "stdout",
     "output_type": "stream",
     "text": [
      "[[1]\n",
      " [1]\n",
      " [1]]\n",
      "[0 1 1]\n"
     ]
    }
   ],
   "source": [
    "print(a_list[-1])\n",
    "print(outputs[3])"
   ]
  },
  {
   "cell_type": "code",
   "execution_count": 13,
   "id": "5649a34f-a7ad-463a-9402-b72e5a9e3c2c",
   "metadata": {},
   "outputs": [],
   "source": [
    "# Test the model with keras\n",
    "from tensorflow.keras.models import Sequential\n",
    "from tensorflow.keras.layers import Dense\n",
    "from tensorflow.keras.optimizers import SGD"
   ]
  },
  {
   "cell_type": "code",
   "execution_count": 14,
   "id": "18f00e57-ffe2-4019-befa-371b308d4aaa",
   "metadata": {},
   "outputs": [],
   "source": [
    "model = Sequential()\n",
    "model.add(Dense(layer_sizes[1], input_shape=(layer_sizes[0],), activation='sigmoid'))\n",
    "model.add(Dense(layer_sizes[2], activation='linear'))"
   ]
  },
  {
   "cell_type": "code",
   "execution_count": 15,
   "id": "a1461c9e-d5ff-46f6-bf5d-d3d912900cda",
   "metadata": {},
   "outputs": [
    {
     "name": "stdout",
     "output_type": "stream",
     "text": [
      "\u001b[1m1/1\u001b[0m \u001b[32m━━━━━━━━━━━━━━━━━━━━\u001b[0m\u001b[37m\u001b[0m \u001b[1m0s\u001b[0m 196ms/step - accuracy: 0.5000 - loss: 7.0425\n"
     ]
    },
    {
     "data": {
      "text/plain": [
       "<keras.src.callbacks.history.History at 0x1672a4dd0>"
      ]
     },
     "execution_count": 15,
     "metadata": {},
     "output_type": "execute_result"
    }
   ],
   "source": [
    "sdg = SGD(.9)\n",
    "model.compile(loss=\"categorical_crossentropy\", optimizer=sdg,\n",
    "\tmetrics=[\"accuracy\"])\n",
    "model.fit(inputs, outputs)"
   ]
  },
  {
   "cell_type": "code",
   "execution_count": 16,
   "id": "94cda203-692a-464f-a3e4-0ef7c23a265e",
   "metadata": {},
   "outputs": [
    {
     "name": "stdout",
     "output_type": "stream",
     "text": [
      "\u001b[1m1/1\u001b[0m \u001b[32m━━━━━━━━━━━━━━━━━━━━\u001b[0m\u001b[37m\u001b[0m \u001b[1m0s\u001b[0m 28ms/step\n"
     ]
    },
    {
     "data": {
      "text/plain": [
       "array([[ 0.01186371, -8.282264  , -1.4656483 ],\n",
       "       [ 0.0887537 , -9.469966  , -1.5549538 ],\n",
       "       [ 0.15937938, -8.323184  , -1.3819622 ],\n",
       "       [ 0.22767666, -9.4916    , -1.4718292 ],\n",
       "       [-0.01628557, -8.611647  , -1.6199257 ],\n",
       "       [ 0.04203045, -9.72632   , -1.6907108 ],\n",
       "       [ 0.14307892, -8.662352  , -1.5352875 ],\n",
       "       [ 0.20412186, -9.765932  , -1.603532  ]], dtype=float32)"
      ]
     },
     "execution_count": 16,
     "metadata": {},
     "output_type": "execute_result"
    }
   ],
   "source": [
    "model.predict(inputs)"
   ]
  }
 ],
 "metadata": {
  "kernelspec": {
   "display_name": "tm",
   "language": "python",
   "name": "tm"
  },
  "language_info": {
   "codemirror_mode": {
    "name": "ipython",
    "version": 3
   },
   "file_extension": ".py",
   "mimetype": "text/x-python",
   "name": "python",
   "nbconvert_exporter": "python",
   "pygments_lexer": "ipython3",
   "version": "3.11.4"
  }
 },
 "nbformat": 4,
 "nbformat_minor": 5
}
