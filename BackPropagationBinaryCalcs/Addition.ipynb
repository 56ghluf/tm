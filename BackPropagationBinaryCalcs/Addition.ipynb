{
 "cells": [
  {
   "cell_type": "code",
   "execution_count": 1,
   "id": "b84f3c0d-0ef4-4786-a173-f84ae624f253",
   "metadata": {},
   "outputs": [],
   "source": [
    "# Imports\n",
    "import numpy as np"
   ]
  },
  {
   "cell_type": "code",
   "execution_count": 2,
   "id": "6f472b88-a3a4-4b8d-a53e-18e34ff70219",
   "metadata": {},
   "outputs": [],
   "source": [
    "# Import the tools\n",
    "from sys import path\n",
    "path.append('/Users/reid/dev/PythonCode/tm/tools')\n",
    "path.append('D:/PythonCode/tm/tools')\n",
    "from tools import gen_inputs_outputs, logsig, lin, deriv_logsig, deriv_lin, e2"
   ]
  },
  {
   "cell_type": "code",
   "execution_count": 3,
   "id": "6bfddd31-1531-4b5f-9b6e-26726405aef0",
   "metadata": {},
   "outputs": [],
   "source": [
    "# Define the size of the network\n",
    "# Order by layers (input, layer1, layer2, ...)\n",
    "# !!! No output layer yet, wait to gen inputs\n",
    "layer_sizes = [4, 7]"
   ]
  },
  {
   "cell_type": "code",
   "execution_count": 4,
   "id": "79899160-bb87-42b0-9724-442688c4fcbe",
   "metadata": {},
   "outputs": [],
   "source": [
    "# Gen inputs, outputs and size of the last layer\n",
    "inputs, outputs, S = gen_inputs_outputs(layer_sizes[0])"
   ]
  },
  {
   "cell_type": "code",
   "execution_count": 5,
   "id": "bbf53b7f-a7bc-44b9-82df-d9f112726b92",
   "metadata": {},
   "outputs": [],
   "source": [
    "# Append the output layer size\n",
    "layer_sizes = np.array(layer_sizes + [S], dtype=int)"
   ]
  },
  {
   "cell_type": "code",
   "execution_count": 6,
   "id": "3c1a6b04-33fd-4159-80c3-4590112d951b",
   "metadata": {},
   "outputs": [
    {
     "data": {
      "text/plain": [
       "array([4, 7, 3])"
      ]
     },
     "execution_count": 6,
     "metadata": {},
     "output_type": "execute_result"
    }
   ],
   "source": [
    "# Network shape\n",
    "layer_sizes"
   ]
  },
  {
   "cell_type": "code",
   "execution_count": 7,
   "id": "b93dbe42-c6ff-40d8-963b-d38d7c9c6381",
   "metadata": {},
   "outputs": [
    {
     "data": {
      "text/plain": [
       "array([[0, 0, 0, 0],\n",
       "       [0, 0, 0, 1],\n",
       "       [0, 0, 1, 0],\n",
       "       [0, 0, 1, 1],\n",
       "       [0, 1, 0, 0],\n",
       "       [0, 1, 0, 1],\n",
       "       [0, 1, 1, 0],\n",
       "       [0, 1, 1, 1],\n",
       "       [1, 0, 0, 0],\n",
       "       [1, 0, 0, 1],\n",
       "       [1, 0, 1, 0],\n",
       "       [1, 0, 1, 1],\n",
       "       [1, 1, 0, 0],\n",
       "       [1, 1, 0, 1],\n",
       "       [1, 1, 1, 0],\n",
       "       [1, 1, 1, 1]])"
      ]
     },
     "execution_count": 7,
     "metadata": {},
     "output_type": "execute_result"
    }
   ],
   "source": [
    "# Inputs\n",
    "inputs"
   ]
  },
  {
   "cell_type": "code",
   "execution_count": 8,
   "id": "ae97cbdf-c716-48e4-ae91-3d6fab5fbc0d",
   "metadata": {},
   "outputs": [
    {
     "data": {
      "text/plain": [
       "array([[0, 0, 0],\n",
       "       [0, 0, 1],\n",
       "       [0, 1, 0],\n",
       "       [0, 1, 1],\n",
       "       [0, 0, 1],\n",
       "       [0, 1, 0],\n",
       "       [0, 1, 1],\n",
       "       [1, 0, 0],\n",
       "       [0, 1, 0],\n",
       "       [0, 1, 1],\n",
       "       [1, 0, 0],\n",
       "       [1, 0, 1],\n",
       "       [0, 1, 1],\n",
       "       [1, 0, 0],\n",
       "       [1, 0, 1],\n",
       "       [1, 1, 0]])"
      ]
     },
     "execution_count": 8,
     "metadata": {},
     "output_type": "execute_result"
    }
   ],
   "source": [
    "# Outputs\n",
    "outputs"
   ]
  },
  {
   "cell_type": "code",
   "execution_count": 9,
   "id": "df41116d-c038-4df0-a8b7-bbd6672d9192",
   "metadata": {},
   "outputs": [],
   "source": [
    "# Intialize the weights and biases randomly\n",
    "# Also create the list to store the outputs of each layer\n",
    "# Store the outptut for each layer\n",
    "# Finally create the list of the sensitivities\n",
    "weights_list = []\n",
    "biases_list = []\n",
    "n_list = []\n",
    "a_list = []\n",
    "s_list = []"
   ]
  },
  {
   "cell_type": "code",
   "execution_count": 10,
   "id": "ff640418-72ed-4f90-b9eb-833bc8e09cfe",
   "metadata": {},
   "outputs": [],
   "source": [
    "# Define a function to reset all the parameters\n",
    "# This is done to test multiple different network types\n",
    "def reset_params():\n",
    "    weights_list.clear()\n",
    "    biases_list.clear()\n",
    "    n_list.clear()\n",
    "    a_list.clear()\n",
    "    s_list.clear()\n",
    "    for i in range(1, len(layer_sizes)):\n",
    "        weights_list.append(np.random.rand(layer_sizes[i], layer_sizes[i-1]))\n",
    "        biases_list.append(np.random.rand(layer_sizes[i], 1))\n",
    "        n_list.append(np.empty((layer_sizes[i], 1), dtype=float))\n",
    "        a_list.append(np.empty((layer_sizes[i], 1), dtype=float))\n",
    "        s_list.append(np.empty((layer_sizes[i], 1), dtype=float))"
   ]
  },
  {
   "cell_type": "code",
   "execution_count": 11,
   "id": "040cdd31-cac6-4a10-9c96-2948d962c54b",
   "metadata": {},
   "outputs": [],
   "source": [
    "# Define the transfer functions\n",
    "transfer_functions = [logsig, lin]"
   ]
  },
  {
   "cell_type": "code",
   "execution_count": 12,
   "id": "f34b2228",
   "metadata": {},
   "outputs": [],
   "source": [
    "# Define the vectors with the derivatives of the transfer functions\n",
    "# These need to be converted to dialation matrices\n",
    "# but this is done after the partial derivatives are calculated\n",
    "# so that the numerical values can be multiplied by the identity matrix\n",
    "# makes my life easier\n",
    "deriv_transfer_functions = [deriv_logsig, deriv_lin]"
   ]
  },
  {
   "cell_type": "code",
   "execution_count": 13,
   "id": "727d6d3b-bb81-41b1-a20e-79d86f88da64",
   "metadata": {},
   "outputs": [],
   "source": [
    "# Define a function to calculate the output of the network\n",
    "# while also saving the data\n",
    "# Assuming that the input is already a Rx1 matrix\n",
    "def run_network(X):\n",
    "    # Get the input for the first layer so that\n",
    "    # no need to use X and can calculate\n",
    "    # recursively\n",
    "    n_list[0] = np.matmul(weights_list[0], X) + biases_list[0]\n",
    "    a_list[0] = transfer_functions[0](n_list[0])\n",
    "\n",
    "    # Calculate the rest of the outptut\n",
    "    for i in range(1, len(weights_list)):\n",
    "        n_list[i] = np.matmul(weights_list[i], a_list[i-1]) + biases_list[i]\n",
    "        a_list[i] = transfer_functions[i](n_list[i])"
   ]
  },
  {
   "cell_type": "code",
   "execution_count": 14,
   "id": "430cdf1f-3c41-4f7b-8f10-7fe740c3fef5",
   "metadata": {},
   "outputs": [],
   "source": [
    "# Calculate the senstivites for the last layer\n",
    "# Write a function to fill the diagonal of the matrix\n",
    "def fill_F_dot(layer_num):\n",
    "    a = np.identity(len(n_list[layer_num]), float)\n",
    "    np.fill_diagonal(a, deriv_transfer_functions[layer_num](n_list[layer_num]).flatten())\n",
    "    return a\n",
    "\n",
    "def train_network(learning_rate=.1, epochs=1):\n",
    "    for i in range(epochs):\n",
    "        # Iterate through the inputs and outputs\n",
    "        for i in range(len(inputs)):\n",
    "            # Run the network\n",
    "            run_network(inputs[i].reshape(layer_sizes[0], 1))\n",
    "\n",
    "            # Get the dialation matrix for the last layer\n",
    "            F_dot = fill_F_dot(-1)\n",
    "\n",
    "            # Calculate the sensitivites for the last layer\n",
    "            s_list[-1] = -2 * np.matmul(F_dot, outputs[i].reshape(layer_sizes[-1], 1)-a_list[-1])\n",
    "\n",
    "            # Update the weights and biases for the last layer\n",
    "            weights_list[-1] += -learning_rate*np.matmul(s_list[-1], a_list[-2].T)\n",
    "            biases_list[-1] += -learning_rate*s_list[-1]\n",
    "\n",
    "            # Iterate through the remaining layers backwards\n",
    "            for i in range(len(n_list)-2, 0, -1):\n",
    "                s_list[i] = (1/layer_sizes[i+1]) * np.matmul(np.matmul(fill_F_dot(i), weights_list[i+1].T), s_list[i+1])\n",
    "                weights_list[i] += -learning_rate*np.matmul(s_list[i], a_list[i-1].T)\n",
    "                biases_list[i] += -learning_rate*s_list[i]"
   ]
  },
  {
   "cell_type": "code",
   "execution_count": 15,
   "id": "a2795ae9-2a81-4d6d-8985-3d59af9425e5",
   "metadata": {
    "scrolled": true
   },
   "outputs": [],
   "source": [
    "# Function to evaluate the performance\n",
    "# of the network\n",
    "def performance():\n",
    "    results = np.empty((len(inputs), layer_sizes[-1]), dtype=float)\n",
    "    for i in range(len(inputs)):\n",
    "        run_network(inputs[i].reshape(layer_sizes[0], 1))\n",
    "        results[i] = outputs[i] - a_list[-1].flatten()\n",
    "    return e2(results)"
   ]
  },
  {
   "cell_type": "code",
   "execution_count": 16,
   "id": "e825b533-0f93-4b76-8195-415d5b3b9065",
   "metadata": {},
   "outputs": [],
   "source": [
    "# Print performance\n",
    "def print_performance_dict(performance_dict):\n",
    "    for a in sorted(performance_dict.items(), key=lambda x: x[1]):\n",
    "        print(f'Error: {a[1]} | ' + a[0])"
   ]
  },
  {
   "cell_type": "code",
   "execution_count": 17,
   "id": "ac7602d8",
   "metadata": {},
   "outputs": [],
   "source": [
    "# Trains netowrk using the parameters for each bit size\n",
    "def update_performance_dict(layer_sizes_list, performance_dict):\n",
    "    for layer_sizes in layer_sizes_list:\n",
    "        # Get the inputs and outputs for the specifiq network size\n",
    "        inputs, outputs, S = gen_inputs_outputs(layer_sizes[0])\n",
    "        layer_sizes.append(S)\n",
    "    \n",
    "        # Iterate through the different learning rates\n",
    "        # and epochs\n",
    "        for rate in learning_rates:\n",
    "            for epochs in epochs_list:\n",
    "                # Reset weights and biases\n",
    "                reset_params()\n",
    "                # Train the network\n",
    "                train_network(learning_rate=rate, epochs=epochs)\n",
    "                # Update the performance dict\n",
    "                performance_dict.update({f'Layers: {layer_sizes}, Learning rate: {rate}, Epochs: {epochs}': performance()})"
   ]
  },
  {
   "cell_type": "code",
   "execution_count": 18,
   "id": "60afa525-7577-458f-b6e3-8a4cf362b952",
   "metadata": {},
   "outputs": [],
   "source": [
    "### !!! Do not run code underneath until saving to the file\n",
    "### It trains 22000 different networks\n",
    "# Performance dictionnaries of the network\n",
    "performance_dict_2bits = {}\n",
    "performance_dict_4bits = {}\n",
    "performance_dict_8bits = {}"
   ]
  },
  {
   "cell_type": "code",
   "execution_count": 19,
   "id": "957eb418-c39e-4a66-9023-4af7573462b0",
   "metadata": {},
   "outputs": [],
   "source": [
    "# Parameters that won't change despite differnt layer sizes\n",
    "# Set different learning rates\n",
    "learning_rates = [1/(16*(2**i)) for i in range(10)]\n",
    "\n",
    "# Set the diffrent epochs\n",
    "epochs_list = [i for i in range(1, 21)]"
   ]
  },
  {
   "cell_type": "code",
   "execution_count": 20,
   "id": "48a0e709",
   "metadata": {
    "scrolled": true
   },
   "outputs": [],
   "source": [
    "# Multiple different layer sizes\n",
    "# Start with 1 hidden layer\n",
    "layer_sizes_list_2bits = [[4, 2*(2**i)]for i in range(10)]\n",
    "layer_sizes_list_4bits = [[8, 2*(2**i)]for i in range(10)]\n",
    "layer_sizes_list_8bits = [[16, 2*(2**i)]for i in range(10)]"
   ]
  },
  {
   "cell_type": "code",
   "execution_count": 21,
   "id": "6d0f0575-efb5-4c96-85df-fc0e1450e68b",
   "metadata": {},
   "outputs": [],
   "source": [
    "# Calculate performance for 1 hidden layer\n",
    "# 2 bits\n",
    "update_performance_dict(layer_sizes_list_2bits, performance_dict_2bits)\n",
    "# 4 bits\n",
    "update_performance_dict(layer_sizes_list_4bits, performance_dict_4bits)\n",
    "# 8 bits\n",
    "update_performance_dict(layer_sizes_list_8bits, performance_dict_8bits)"
   ]
  },
  {
   "cell_type": "code",
   "execution_count": 22,
   "id": "c10735f5-04b3-4432-8436-af626574fe26",
   "metadata": {},
   "outputs": [],
   "source": [
    "# 2 Hidden layers\n",
    "# Redefine the transfer functions\n",
    "transfer_funtions = [logsig, logsig, lin]\n",
    "deriv_transfer_functions = [deriv_logsig, deriv_logsig, deriv_lin]\n",
    "\n",
    "# New layer sizes\n",
    "layer_sizes_list_2bits = [[4, 2*(2**i), 2*(2**j)] for j in range(10) for i in range(10)]\n",
    "layer_sizes_list_4bits = [[8, 2*(2**i), 2*(2**j)] for j in range(10) for i in range(10)]\n",
    "layer_sizes_list_8bits = [[16, 2*(2**i), 2*(2**j)] for j in range(10) for i in range(10)]"
   ]
  },
  {
   "cell_type": "code",
   "execution_count": 23,
   "id": "3f90dadf-2fc3-49be-a7c8-4248f4b59ec4",
   "metadata": {},
   "outputs": [],
   "source": [
    "# Calculate the performance for 2 hidden layers\n",
    "# 2 bits\n",
    "update_performance_dict(layer_sizes_list_2bits, performance_dict_2bits)\n",
    "# 4 bits\n",
    "update_performance_dict(layer_sizes_list_4bits, performance_dict_4bits)\n",
    "# 8 bits\n",
    "update_performance_dict(layer_sizes_list_8bits, performance_dict_8bits)"
   ]
  },
  {
   "cell_type": "code",
   "execution_count": 24,
   "id": "7df991ea-5884-49ee-b418-1e9edd3e688c",
   "metadata": {},
   "outputs": [
    {
     "name": "stderr",
     "output_type": "stream",
     "text": [
      "IOPub data rate exceeded.\n",
      "The Jupyter server will temporarily stop sending output\n",
      "to the client in order to avoid crashing it.\n",
      "To change this limit, set the config variable\n",
      "`--ServerApp.iopub_data_rate_limit`.\n",
      "\n",
      "Current values:\n",
      "ServerApp.iopub_data_rate_limit=1000000.0 (bytes/sec)\n",
      "ServerApp.rate_limit_window=3.0 (secs)\n",
      "\n"
     ]
    }
   ],
   "source": [
    "print('-'*7 + '2bits' + '-'*7)\n",
    "print_performance_dict(performance_dict_2bits)\n",
    "print('-'*7 + '4bits' + '-'*7)\n",
    "print_performance_dict(performance_dict_4bits)\n",
    "print('-'*7 + '8bits' + '-'*7)\n",
    "print_performance_dict(performance_dict_8bits)"
   ]
  },
  {
   "cell_type": "code",
   "execution_count": 25,
   "id": "bb685cf8-803e-450a-a063-e21cdd3fc840",
   "metadata": {},
   "outputs": [],
   "source": [
    "# Save the data of the performance dicts\n",
    "performance_dicts = [performance_dict_2bits, performance_dict_4bits, performance_dict_8bits]\n",
    "for i in range(len(performance_dicts)):\n",
    "    with open(f'/Users/reid/dev/PythonCode/tm/BackPropagationBinaryCalcs/data/{2**(i+1)}bit_performance.txt', 'w') as f:\n",
    "        f.write('parameters,performance\\n')\n",
    "        f.writelines([f'{x}\\n' for x in sorted(list(performance_dicts[i].items()), key=lambda x: x[1], reverse=True)])\n",
    "### You can run code below this"
   ]
  },
  {
   "cell_type": "code",
   "execution_count": 26,
   "id": "2379fd6e-0469-46dc-9b68-d910b7c469bc",
   "metadata": {},
   "outputs": [],
   "source": [
    "# Chose a few networks from the data file to run tests on\n",
    "# General parameters\n",
    "learning_rates = [0.001953125, 0.00390625, 0.0078125]\n",
    "epochs_list = [12, 15, 17, 5, 14, 19]"
   ]
  },
  {
   "cell_type": "code",
   "execution_count": 27,
   "id": "3934c577-4e55-4162-b10e-39b5740597da",
   "metadata": {},
   "outputs": [],
   "source": [
    "# Start with one hidden layer\n",
    "transfer_funtions = [logsig, lin]\n",
    "deriv_transfer_functions = [deriv_logsig, deriv_lin]\n",
    "\n",
    "layer_sizes_list_2bits = [\n",
    "    [4, 16],\n",
    "    [4, 32],\n",
    "    [4, 64],\n",
    "]\n",
    "layer_sizes_list_4bits = [\n",
    "    [8, 64],\n",
    "    [8, 2],\n",
    "    [8, 8],\n",
    "]\n",
    "layer_sizes_list_8bits = [\n",
    "    [16, 16],\n",
    "    [16, 128],\n",
    "    [16, 4],\n",
    "]"
   ]
  },
  {
   "cell_type": "code",
   "execution_count": 28,
   "id": "b9e87e10-d95d-42b8-8073-6e2e0cee87e0",
   "metadata": {},
   "outputs": [],
   "source": [
    "# Write a function to calculate the average performance\n",
    "def update_average_performance_dict(layer_sizes_list, average_performance_dict, n_samples):\n",
    "    for layer_sizes in layer_sizes_list:\n",
    "        inputs, outputs, S = gen_inputs_outputs(layer_sizes[0])\n",
    "        layer_sizes.append(S)\n",
    "\n",
    "        cumulated_performance = 0\n",
    "        \n",
    "        for rate in learning_rates:\n",
    "                for epochs in epochs_list:\n",
    "                    for i in range(n_samples):\n",
    "                        reset_params()\n",
    "                        train_network(learning_rate=rate, epochs=epochs)\n",
    "                        cumulated_performance += performance()\n",
    "                        \n",
    "                    average_performance_dict.update({f'Layers: {layer_sizes}, Learning rate: {rate}, Epochs: {epochs}': cumulated_performance/n_samples})   "
   ]
  },
  {
   "cell_type": "code",
   "execution_count": 29,
   "id": "cc88c856-fd54-430b-8889-fec8af69db80",
   "metadata": {},
   "outputs": [],
   "source": [
    "average_performance_dict_2bits = {}\n",
    "average_performance_dict_4bits = {}\n",
    "average_performance_dict_8bits = {}"
   ]
  },
  {
   "cell_type": "code",
   "execution_count": 30,
   "id": "d8df65e5-bae1-47e5-814a-0cc1d73b5511",
   "metadata": {},
   "outputs": [],
   "source": [
    "update_average_performance_dict(layer_sizes_list_2bits, average_performance_dict_2bits, 100)\n",
    "update_average_performance_dict(layer_sizes_list_4bits, average_performance_dict_4bits, 100)\n",
    "update_average_performance_dict(layer_sizes_list_8bits, average_performance_dict_8bits, 100)"
   ]
  },
  {
   "cell_type": "code",
   "execution_count": 31,
   "id": "69fdb65c-6136-442b-8ccd-0f45f7daa461",
   "metadata": {},
   "outputs": [],
   "source": [
    "# Two hidden layers\n",
    "transfer_funtions = [logsig, logsig, lin]\n",
    "deriv_transfer_functions = [deriv_logsig, deriv_logsig, deriv_lin]\n",
    "\n",
    "layer_sizes_list_2bits = [\n",
    "    [4,  512, 4],\n",
    "    [4, 4, 32],\n",
    "    [4, 128, 128],\n",
    "]\n",
    "layer_sizes_list_4bits = [\n",
    "    [8, 16, 16],\n",
    "    [8, 1024, 4],\n",
    "    [8, 128, 16],\n",
    "]\n",
    "layer_sizes_list_8bits = [\n",
    "    [16, 256, 32],\n",
    "    [16, 2, 4],\n",
    "    [16, 128, 64],\n",
    "]"
   ]
  },
  {
   "cell_type": "code",
   "execution_count": 32,
   "id": "b8214975-888b-47c6-a8b1-023ff536c2e4",
   "metadata": {},
   "outputs": [],
   "source": [
    "update_average_performance_dict(layer_sizes_list_2bits, average_performance_dict_2bits, 100)\n",
    "update_average_performance_dict(layer_sizes_list_4bits, average_performance_dict_4bits, 100)\n",
    "update_average_performance_dict(layer_sizes_list_8bits, average_performance_dict_8bits, 100)"
   ]
  },
  {
   "cell_type": "code",
   "execution_count": 33,
   "id": "b4f42f99-ecc1-4622-bbac-6ef2ae645b5a",
   "metadata": {},
   "outputs": [
    {
     "name": "stdout",
     "output_type": "stream",
     "text": [
      "----------2 bit average----------\n",
      "Error: 11.49266350051982 | Layers: [4, 128, 128, 3], Learning rate: 0.001953125, Epochs: 12\n",
      "Error: 11.50632322744623 | Layers: [4, 512, 4, 3], Learning rate: 0.001953125, Epochs: 12\n",
      "Error: 11.53076541388042 | Layers: [4, 64, 3], Learning rate: 0.001953125, Epochs: 12\n",
      "Error: 11.534293037312786 | Layers: [4, 32, 3], Learning rate: 0.001953125, Epochs: 12\n",
      "Error: 11.54863895176254 | Layers: [4, 4, 32, 3], Learning rate: 0.001953125, Epochs: 12\n",
      "Error: 11.555204743697272 | Layers: [4, 16, 3], Learning rate: 0.001953125, Epochs: 12\n",
      "Error: 22.911227254342013 | Layers: [4, 512, 4, 3], Learning rate: 0.001953125, Epochs: 15\n",
      "Error: 22.91988389251097 | Layers: [4, 128, 128, 3], Learning rate: 0.001953125, Epochs: 15\n",
      "Error: 22.9244920739668 | Layers: [4, 32, 3], Learning rate: 0.001953125, Epochs: 15\n",
      "Error: 22.959806821962275 | Layers: [4, 4, 32, 3], Learning rate: 0.001953125, Epochs: 15\n",
      "Error: 22.982206447267846 | Layers: [4, 64, 3], Learning rate: 0.001953125, Epochs: 15\n",
      "Error: 22.989060438296374 | Layers: [4, 16, 3], Learning rate: 0.001953125, Epochs: 15\n",
      "Error: 34.27326860069758 | Layers: [4, 32, 3], Learning rate: 0.001953125, Epochs: 17\n",
      "Error: 34.32719017346131 | Layers: [4, 4, 32, 3], Learning rate: 0.001953125, Epochs: 17\n",
      "Error: 34.344871879151604 | Layers: [4, 512, 4, 3], Learning rate: 0.001953125, Epochs: 17\n",
      "Error: 34.364601525585684 | Layers: [4, 128, 128, 3], Learning rate: 0.001953125, Epochs: 17\n",
      "Error: 34.366000777148216 | Layers: [4, 64, 3], Learning rate: 0.001953125, Epochs: 17\n",
      "Error: 34.37234177609298 | Layers: [4, 16, 3], Learning rate: 0.001953125, Epochs: 17\n",
      "Error: 58.26964009226719 | Layers: [4, 4, 32, 3], Learning rate: 0.001953125, Epochs: 5\n",
      "Error: 58.68506913211995 | Layers: [4, 512, 4, 3], Learning rate: 0.001953125, Epochs: 5\n",
      "Error: 58.85806181949971 | Layers: [4, 16, 3], Learning rate: 0.001953125, Epochs: 5\n",
      "Error: 58.90841565938101 | Layers: [4, 32, 3], Learning rate: 0.001953125, Epochs: 5\n",
      "Error: 58.96502929397748 | Layers: [4, 64, 3], Learning rate: 0.001953125, Epochs: 5\n",
      "Error: 59.07542424739356 | Layers: [4, 128, 128, 3], Learning rate: 0.001953125, Epochs: 5\n",
      "Error: 69.70935370525747 | Layers: [4, 4, 32, 3], Learning rate: 0.001953125, Epochs: 14\n",
      "Error: 70.10545248033131 | Layers: [4, 512, 4, 3], Learning rate: 0.001953125, Epochs: 14\n",
      "Error: 70.2681069051036 | Layers: [4, 16, 3], Learning rate: 0.001953125, Epochs: 14\n",
      "Error: 70.31447483079045 | Layers: [4, 32, 3], Learning rate: 0.001953125, Epochs: 14\n",
      "Error: 70.43612721461699 | Layers: [4, 64, 3], Learning rate: 0.001953125, Epochs: 14\n",
      "Error: 70.52757389243098 | Layers: [4, 128, 128, 3], Learning rate: 0.001953125, Epochs: 14\n",
      "Error: 81.08283274692658 | Layers: [4, 4, 32, 3], Learning rate: 0.001953125, Epochs: 19\n",
      "Error: 81.51734336582743 | Layers: [4, 512, 4, 3], Learning rate: 0.001953125, Epochs: 19\n",
      "Error: 81.6409592258701 | Layers: [4, 16, 3], Learning rate: 0.001953125, Epochs: 19\n",
      "Error: 81.6620533024032 | Layers: [4, 32, 3], Learning rate: 0.001953125, Epochs: 19\n",
      "Error: 81.86443539846789 | Layers: [4, 64, 3], Learning rate: 0.001953125, Epochs: 19\n",
      "Error: 81.90689205562946 | Layers: [4, 128, 128, 3], Learning rate: 0.001953125, Epochs: 19\n",
      "Error: 92.56097711063155 | Layers: [4, 4, 32, 3], Learning rate: 0.00390625, Epochs: 12\n",
      "Error: 92.95836817640107 | Layers: [4, 512, 4, 3], Learning rate: 0.00390625, Epochs: 12\n",
      "Error: 93.09878339849962 | Layers: [4, 16, 3], Learning rate: 0.00390625, Epochs: 12\n",
      "Error: 93.10432674483636 | Layers: [4, 32, 3], Learning rate: 0.00390625, Epochs: 12\n",
      "Error: 93.2495666796317 | Layers: [4, 64, 3], Learning rate: 0.00390625, Epochs: 12\n",
      "Error: 93.25682913951805 | Layers: [4, 128, 128, 3], Learning rate: 0.00390625, Epochs: 12\n",
      "Error: 104.01444466462635 | Layers: [4, 4, 32, 3], Learning rate: 0.00390625, Epochs: 15\n",
      "Error: 104.39792693147656 | Layers: [4, 512, 4, 3], Learning rate: 0.00390625, Epochs: 15\n",
      "Error: 104.50399316158455 | Layers: [4, 32, 3], Learning rate: 0.00390625, Epochs: 15\n",
      "Error: 104.54889970903547 | Layers: [4, 16, 3], Learning rate: 0.00390625, Epochs: 15\n",
      "Error: 104.66484219332726 | Layers: [4, 128, 128, 3], Learning rate: 0.00390625, Epochs: 15\n",
      "Error: 104.66585898450258 | Layers: [4, 64, 3], Learning rate: 0.00390625, Epochs: 15\n",
      "Error: 115.45395312869925 | Layers: [4, 4, 32, 3], Learning rate: 0.00390625, Epochs: 17\n",
      "Error: 115.73107044261414 | Layers: [4, 512, 4, 3], Learning rate: 0.00390625, Epochs: 17\n",
      "Error: 115.88297168753687 | Layers: [4, 32, 3], Learning rate: 0.00390625, Epochs: 17\n",
      "Error: 115.96523393233176 | Layers: [4, 16, 3], Learning rate: 0.00390625, Epochs: 17\n",
      "Error: 116.04704743553155 | Layers: [4, 128, 128, 3], Learning rate: 0.00390625, Epochs: 17\n",
      "Error: 116.06700230286962 | Layers: [4, 64, 3], Learning rate: 0.00390625, Epochs: 17\n",
      "Error: 127.37048552944185 | Layers: [4, 4, 32, 3], Learning rate: 0.00390625, Epochs: 5\n",
      "Error: 127.71390121785639 | Layers: [4, 512, 4, 3], Learning rate: 0.00390625, Epochs: 5\n",
      "Error: 127.83005988684155 | Layers: [4, 32, 3], Learning rate: 0.00390625, Epochs: 5\n",
      "Error: 127.902247480932 | Layers: [4, 16, 3], Learning rate: 0.00390625, Epochs: 5\n",
      "Error: 127.97383896234537 | Layers: [4, 128, 128, 3], Learning rate: 0.00390625, Epochs: 5\n",
      "Error: 128.02915009542946 | Layers: [4, 64, 3], Learning rate: 0.00390625, Epochs: 5\n",
      "Error: 138.74620758467262 | Layers: [4, 4, 32, 3], Learning rate: 0.00390625, Epochs: 14\n",
      "Error: 139.1221434778115 | Layers: [4, 512, 4, 3], Learning rate: 0.00390625, Epochs: 14\n",
      "Error: 139.2911533847976 | Layers: [4, 32, 3], Learning rate: 0.00390625, Epochs: 14\n",
      "Error: 139.33322895017818 | Layers: [4, 16, 3], Learning rate: 0.00390625, Epochs: 14\n",
      "Error: 139.4248027001004 | Layers: [4, 128, 128, 3], Learning rate: 0.00390625, Epochs: 14\n",
      "Error: 139.44847640287287 | Layers: [4, 64, 3], Learning rate: 0.00390625, Epochs: 14\n",
      "Error: 150.15944372468974 | Layers: [4, 4, 32, 3], Learning rate: 0.00390625, Epochs: 19\n",
      "Error: 150.51827705898143 | Layers: [4, 512, 4, 3], Learning rate: 0.00390625, Epochs: 19\n",
      "Error: 150.70450104216704 | Layers: [4, 32, 3], Learning rate: 0.00390625, Epochs: 19\n",
      "Error: 150.77583619907557 | Layers: [4, 16, 3], Learning rate: 0.00390625, Epochs: 19\n",
      "Error: 150.82761715484796 | Layers: [4, 128, 128, 3], Learning rate: 0.00390625, Epochs: 19\n",
      "Error: 150.84606128972672 | Layers: [4, 64, 3], Learning rate: 0.00390625, Epochs: 19\n",
      "Error: 161.73517668067714 | Layers: [4, 4, 32, 3], Learning rate: 0.0078125, Epochs: 12\n",
      "Error: 162.07520120759642 | Layers: [4, 512, 4, 3], Learning rate: 0.0078125, Epochs: 12\n",
      "Error: 162.32775090322764 | Layers: [4, 32, 3], Learning rate: 0.0078125, Epochs: 12\n",
      "Error: 162.3620609889671 | Layers: [4, 16, 3], Learning rate: 0.0078125, Epochs: 12\n",
      "Error: 162.41657286479966 | Layers: [4, 64, 3], Learning rate: 0.0078125, Epochs: 12\n",
      "Error: 162.4535042057439 | Layers: [4, 128, 128, 3], Learning rate: 0.0078125, Epochs: 12\n",
      "Error: 173.28028166901981 | Layers: [4, 4, 32, 3], Learning rate: 0.0078125, Epochs: 15\n",
      "Error: 173.58188327794795 | Layers: [4, 512, 4, 3], Learning rate: 0.0078125, Epochs: 15\n",
      "Error: 173.89842984407656 | Layers: [4, 16, 3], Learning rate: 0.0078125, Epochs: 15\n",
      "Error: 173.90102539230725 | Layers: [4, 32, 3], Learning rate: 0.0078125, Epochs: 15\n",
      "Error: 173.99952380709615 | Layers: [4, 64, 3], Learning rate: 0.0078125, Epochs: 15\n",
      "Error: 174.01843252366473 | Layers: [4, 128, 128, 3], Learning rate: 0.0078125, Epochs: 15\n",
      "Error: 184.80144484129585 | Layers: [4, 4, 32, 3], Learning rate: 0.0078125, Epochs: 17\n",
      "Error: 185.0937074045499 | Layers: [4, 512, 4, 3], Learning rate: 0.0078125, Epochs: 17\n",
      "Error: 185.46934263683673 | Layers: [4, 16, 3], Learning rate: 0.0078125, Epochs: 17\n",
      "Error: 185.48787438520662 | Layers: [4, 32, 3], Learning rate: 0.0078125, Epochs: 17\n",
      "Error: 185.55602792431534 | Layers: [4, 128, 128, 3], Learning rate: 0.0078125, Epochs: 17\n",
      "Error: 185.56588155173569 | Layers: [4, 64, 3], Learning rate: 0.0078125, Epochs: 17\n",
      "Error: 196.51297548716875 | Layers: [4, 4, 32, 3], Learning rate: 0.0078125, Epochs: 5\n",
      "Error: 196.79117388252212 | Layers: [4, 512, 4, 3], Learning rate: 0.0078125, Epochs: 5\n",
      "Error: 197.08319001685658 | Layers: [4, 16, 3], Learning rate: 0.0078125, Epochs: 5\n",
      "Error: 197.13025195606298 | Layers: [4, 32, 3], Learning rate: 0.0078125, Epochs: 5\n",
      "Error: 197.19368552991168 | Layers: [4, 128, 128, 3], Learning rate: 0.0078125, Epochs: 5\n",
      "Error: 197.19513750334553 | Layers: [4, 64, 3], Learning rate: 0.0078125, Epochs: 5\n",
      "Error: 208.07207919853593 | Layers: [4, 4, 32, 3], Learning rate: 0.0078125, Epochs: 14\n",
      "Error: 208.3452662701726 | Layers: [4, 512, 4, 3], Learning rate: 0.0078125, Epochs: 14\n",
      "Error: 208.6352451450305 | Layers: [4, 16, 3], Learning rate: 0.0078125, Epochs: 14\n",
      "Error: 208.7036726283502 | Layers: [4, 32, 3], Learning rate: 0.0078125, Epochs: 14\n",
      "Error: 208.71740557208992 | Layers: [4, 64, 3], Learning rate: 0.0078125, Epochs: 14\n",
      "Error: 208.78990776376696 | Layers: [4, 128, 128, 3], Learning rate: 0.0078125, Epochs: 14\n",
      "Error: 219.63684512846467 | Layers: [4, 4, 32, 3], Learning rate: 0.0078125, Epochs: 19\n",
      "Error: 219.8695450710912 | Layers: [4, 512, 4, 3], Learning rate: 0.0078125, Epochs: 19\n",
      "Error: 220.09576327323745 | Layers: [4, 16, 3], Learning rate: 0.0078125, Epochs: 19\n",
      "Error: 220.17101999213224 | Layers: [4, 64, 3], Learning rate: 0.0078125, Epochs: 19\n",
      "Error: 220.22445748194198 | Layers: [4, 32, 3], Learning rate: 0.0078125, Epochs: 19\n",
      "Error: 220.30068635848727 | Layers: [4, 128, 128, 3], Learning rate: 0.0078125, Epochs: 19\n",
      "----------4 bit average----------\n",
      "Error: 11.481112462936085 | Layers: [8, 1024, 4, 5], Learning rate: 0.001953125, Epochs: 12\n",
      "Error: 11.505262740782406 | Layers: [8, 8, 5], Learning rate: 0.001953125, Epochs: 12\n",
      "Error: 11.515236154457687 | Layers: [8, 128, 16, 5], Learning rate: 0.001953125, Epochs: 12\n",
      "Error: 11.537800935048022 | Layers: [8, 2, 5], Learning rate: 0.001953125, Epochs: 12\n",
      "Error: 11.54189823436914 | Layers: [8, 64, 5], Learning rate: 0.001953125, Epochs: 12\n",
      "Error: 11.581643029503509 | Layers: [8, 16, 16, 5], Learning rate: 0.001953125, Epochs: 12\n",
      "Error: 22.909211914915453 | Layers: [8, 8, 5], Learning rate: 0.001953125, Epochs: 15\n",
      "Error: 22.918191077022087 | Layers: [8, 128, 16, 5], Learning rate: 0.001953125, Epochs: 15\n",
      "Error: 22.92920009313317 | Layers: [8, 1024, 4, 5], Learning rate: 0.001953125, Epochs: 15\n",
      "Error: 22.948668892249138 | Layers: [8, 2, 5], Learning rate: 0.001953125, Epochs: 15\n",
      "Error: 22.958001413000243 | Layers: [8, 64, 5], Learning rate: 0.001953125, Epochs: 15\n",
      "Error: 23.012663650209625 | Layers: [8, 16, 16, 5], Learning rate: 0.001953125, Epochs: 15\n",
      "Error: 34.2926663763846 | Layers: [8, 8, 5], Learning rate: 0.001953125, Epochs: 17\n",
      "Error: 34.34918279917819 | Layers: [8, 2, 5], Learning rate: 0.001953125, Epochs: 17\n",
      "Error: 34.35125223952758 | Layers: [8, 128, 16, 5], Learning rate: 0.001953125, Epochs: 17\n",
      "Error: 34.35410789019305 | Layers: [8, 64, 5], Learning rate: 0.001953125, Epochs: 17\n",
      "Error: 34.376151019147144 | Layers: [8, 1024, 4, 5], Learning rate: 0.001953125, Epochs: 17\n",
      "Error: 34.38227118600682 | Layers: [8, 16, 16, 5], Learning rate: 0.001953125, Epochs: 17\n",
      "Error: 58.33731432914511 | Layers: [8, 2, 5], Learning rate: 0.001953125, Epochs: 5\n",
      "Error: 58.5285672083642 | Layers: [8, 16, 16, 5], Learning rate: 0.001953125, Epochs: 5\n",
      "Error: 58.81737052305397 | Layers: [8, 128, 16, 5], Learning rate: 0.001953125, Epochs: 5\n",
      "Error: 58.98408664886541 | Layers: [8, 8, 5], Learning rate: 0.001953125, Epochs: 5\n",
      "Error: 58.98718075307736 | Layers: [8, 1024, 4, 5], Learning rate: 0.001953125, Epochs: 5\n",
      "Error: 59.540685645397886 | Layers: [8, 64, 5], Learning rate: 0.001953125, Epochs: 5\n",
      "Error: 69.79030897122144 | Layers: [8, 2, 5], Learning rate: 0.001953125, Epochs: 14\n",
      "Error: 69.98464091765392 | Layers: [8, 16, 16, 5], Learning rate: 0.001953125, Epochs: 14\n",
      "Error: 70.29676558990866 | Layers: [8, 128, 16, 5], Learning rate: 0.001953125, Epochs: 14\n",
      "Error: 70.43183571429446 | Layers: [8, 8, 5], Learning rate: 0.001953125, Epochs: 14\n",
      "Error: 70.46119104205327 | Layers: [8, 1024, 4, 5], Learning rate: 0.001953125, Epochs: 14\n",
      "Error: 70.98662860252072 | Layers: [8, 64, 5], Learning rate: 0.001953125, Epochs: 14\n",
      "Error: 81.18539550137912 | Layers: [8, 2, 5], Learning rate: 0.001953125, Epochs: 19\n",
      "Error: 81.41538157577043 | Layers: [8, 16, 16, 5], Learning rate: 0.001953125, Epochs: 19\n",
      "Error: 81.658396612053 | Layers: [8, 128, 16, 5], Learning rate: 0.001953125, Epochs: 19\n",
      "Error: 81.7911823279199 | Layers: [8, 8, 5], Learning rate: 0.001953125, Epochs: 19\n",
      "Error: 81.8704285748766 | Layers: [8, 1024, 4, 5], Learning rate: 0.001953125, Epochs: 19\n",
      "Error: 82.36873151102364 | Layers: [8, 64, 5], Learning rate: 0.001953125, Epochs: 19\n",
      "Error: 92.60863958987055 | Layers: [8, 2, 5], Learning rate: 0.00390625, Epochs: 12\n",
      "Error: 92.84766060303555 | Layers: [8, 16, 16, 5], Learning rate: 0.00390625, Epochs: 12\n",
      "Error: 93.0992311959416 | Layers: [8, 128, 16, 5], Learning rate: 0.00390625, Epochs: 12\n",
      "Error: 93.16200365503465 | Layers: [8, 8, 5], Learning rate: 0.00390625, Epochs: 12\n",
      "Error: 93.25666294828712 | Layers: [8, 1024, 4, 5], Learning rate: 0.00390625, Epochs: 12\n",
      "Error: 93.75817320411633 | Layers: [8, 64, 5], Learning rate: 0.00390625, Epochs: 12\n",
      "Error: 103.98461394129055 | Layers: [8, 2, 5], Learning rate: 0.00390625, Epochs: 15\n",
      "Error: 104.25497517962609 | Layers: [8, 16, 16, 5], Learning rate: 0.00390625, Epochs: 15\n",
      "Error: 104.50306673075744 | Layers: [8, 128, 16, 5], Learning rate: 0.00390625, Epochs: 15\n",
      "Error: 104.53156017255743 | Layers: [8, 8, 5], Learning rate: 0.00390625, Epochs: 15\n",
      "Error: 104.71175585172709 | Layers: [8, 1024, 4, 5], Learning rate: 0.00390625, Epochs: 15\n",
      "Error: 105.15395020396898 | Layers: [8, 64, 5], Learning rate: 0.00390625, Epochs: 15\n",
      "Error: 115.33199372596755 | Layers: [8, 2, 5], Learning rate: 0.00390625, Epochs: 17\n",
      "Error: 115.6971365422406 | Layers: [8, 16, 16, 5], Learning rate: 0.00390625, Epochs: 17\n",
      "Error: 115.95491246777145 | Layers: [8, 8, 5], Learning rate: 0.00390625, Epochs: 17\n",
      "Error: 115.95619360773154 | Layers: [8, 128, 16, 5], Learning rate: 0.00390625, Epochs: 17\n",
      "Error: 116.11649894119957 | Layers: [8, 1024, 4, 5], Learning rate: 0.00390625, Epochs: 17\n",
      "Error: 116.51302795600279 | Layers: [8, 64, 5], Learning rate: 0.00390625, Epochs: 17\n",
      "Error: 127.24780243890909 | Layers: [8, 2, 5], Learning rate: 0.00390625, Epochs: 5\n",
      "Error: 127.62316025196448 | Layers: [8, 16, 16, 5], Learning rate: 0.00390625, Epochs: 5\n",
      "Error: 127.85569833331178 | Layers: [8, 8, 5], Learning rate: 0.00390625, Epochs: 5\n",
      "Error: 127.9289591157975 | Layers: [8, 128, 16, 5], Learning rate: 0.00390625, Epochs: 5\n",
      "Error: 128.10794427118336 | Layers: [8, 1024, 4, 5], Learning rate: 0.00390625, Epochs: 5\n",
      "Error: 128.41498478804527 | Layers: [8, 64, 5], Learning rate: 0.00390625, Epochs: 5\n",
      "Error: 138.7123639647978 | Layers: [8, 2, 5], Learning rate: 0.00390625, Epochs: 14\n",
      "Error: 139.03826792568367 | Layers: [8, 16, 16, 5], Learning rate: 0.00390625, Epochs: 14\n",
      "Error: 139.252785872826 | Layers: [8, 8, 5], Learning rate: 0.00390625, Epochs: 14\n",
      "Error: 139.31460560075334 | Layers: [8, 128, 16, 5], Learning rate: 0.00390625, Epochs: 14\n",
      "Error: 139.47310706647517 | Layers: [8, 1024, 4, 5], Learning rate: 0.00390625, Epochs: 14\n",
      "Error: 139.86439309031226 | Layers: [8, 64, 5], Learning rate: 0.00390625, Epochs: 14\n",
      "Error: 150.12741050993648 | Layers: [8, 2, 5], Learning rate: 0.00390625, Epochs: 19\n",
      "Error: 150.45518454771604 | Layers: [8, 16, 16, 5], Learning rate: 0.00390625, Epochs: 19\n",
      "Error: 150.64746777608906 | Layers: [8, 8, 5], Learning rate: 0.00390625, Epochs: 19\n",
      "Error: 150.6761855675374 | Layers: [8, 128, 16, 5], Learning rate: 0.00390625, Epochs: 19\n",
      "Error: 150.8725496694749 | Layers: [8, 1024, 4, 5], Learning rate: 0.00390625, Epochs: 19\n",
      "Error: 151.28427921957112 | Layers: [8, 64, 5], Learning rate: 0.00390625, Epochs: 19\n",
      "Error: 161.71408111923685 | Layers: [8, 2, 5], Learning rate: 0.0078125, Epochs: 12\n",
      "Error: 162.00090918193706 | Layers: [8, 16, 16, 5], Learning rate: 0.0078125, Epochs: 12\n",
      "Error: 162.18732114881612 | Layers: [8, 8, 5], Learning rate: 0.0078125, Epochs: 12\n",
      "Error: 162.24184832369355 | Layers: [8, 128, 16, 5], Learning rate: 0.0078125, Epochs: 12\n",
      "Error: 162.4908056040085 | Layers: [8, 1024, 4, 5], Learning rate: 0.0078125, Epochs: 12\n",
      "Error: 162.86776028703014 | Layers: [8, 64, 5], Learning rate: 0.0078125, Epochs: 12\n",
      "Error: 173.28677875110006 | Layers: [8, 2, 5], Learning rate: 0.0078125, Epochs: 15\n",
      "Error: 173.51820351875233 | Layers: [8, 16, 16, 5], Learning rate: 0.0078125, Epochs: 15\n",
      "Error: 173.7314207557821 | Layers: [8, 8, 5], Learning rate: 0.0078125, Epochs: 15\n",
      "Error: 173.7944367386617 | Layers: [8, 128, 16, 5], Learning rate: 0.0078125, Epochs: 15\n",
      "Error: 174.05665338319818 | Layers: [8, 1024, 4, 5], Learning rate: 0.0078125, Epochs: 15\n",
      "Error: 174.42941817937776 | Layers: [8, 64, 5], Learning rate: 0.0078125, Epochs: 15\n",
      "Error: 184.8268180654979 | Layers: [8, 2, 5], Learning rate: 0.0078125, Epochs: 17\n",
      "Error: 185.0376767759546 | Layers: [8, 16, 16, 5], Learning rate: 0.0078125, Epochs: 17\n",
      "Error: 185.26921353302706 | Layers: [8, 8, 5], Learning rate: 0.0078125, Epochs: 17\n",
      "Error: 185.32632044518158 | Layers: [8, 128, 16, 5], Learning rate: 0.0078125, Epochs: 17\n",
      "Error: 185.57117498509717 | Layers: [8, 1024, 4, 5], Learning rate: 0.0078125, Epochs: 17\n",
      "Error: 185.9784911588409 | Layers: [8, 64, 5], Learning rate: 0.0078125, Epochs: 17\n",
      "Error: 196.46854056426974 | Layers: [8, 2, 5], Learning rate: 0.0078125, Epochs: 5\n",
      "Error: 196.7140559281662 | Layers: [8, 16, 16, 5], Learning rate: 0.0078125, Epochs: 5\n",
      "Error: 196.93420715756528 | Layers: [8, 8, 5], Learning rate: 0.0078125, Epochs: 5\n",
      "Error: 196.9629408601865 | Layers: [8, 128, 16, 5], Learning rate: 0.0078125, Epochs: 5\n",
      "Error: 197.25578881285475 | Layers: [8, 1024, 4, 5], Learning rate: 0.0078125, Epochs: 5\n",
      "Error: 197.63295890108645 | Layers: [8, 64, 5], Learning rate: 0.0078125, Epochs: 5\n",
      "Error: 208.05567694964637 | Layers: [8, 2, 5], Learning rate: 0.0078125, Epochs: 14\n",
      "Error: 208.30584757395886 | Layers: [8, 16, 16, 5], Learning rate: 0.0078125, Epochs: 14\n",
      "Error: 208.4435730392751 | Layers: [8, 8, 5], Learning rate: 0.0078125, Epochs: 14\n",
      "Error: 208.53524446671375 | Layers: [8, 128, 16, 5], Learning rate: 0.0078125, Epochs: 14\n",
      "Error: 208.81270382189282 | Layers: [8, 1024, 4, 5], Learning rate: 0.0078125, Epochs: 14\n",
      "Error: 209.20985700005008 | Layers: [8, 64, 5], Learning rate: 0.0078125, Epochs: 14\n",
      "Error: 219.56857181918969 | Layers: [8, 2, 5], Learning rate: 0.0078125, Epochs: 19\n",
      "Error: 219.82195573114342 | Layers: [8, 16, 16, 5], Learning rate: 0.0078125, Epochs: 19\n",
      "Error: 219.97387491738962 | Layers: [8, 8, 5], Learning rate: 0.0078125, Epochs: 19\n",
      "Error: 220.09897772514643 | Layers: [8, 128, 16, 5], Learning rate: 0.0078125, Epochs: 19\n",
      "Error: 220.33780251160076 | Layers: [8, 1024, 4, 5], Learning rate: 0.0078125, Epochs: 19\n",
      "Error: 220.7308788330381 | Layers: [8, 64, 5], Learning rate: 0.0078125, Epochs: 19\n",
      "----------8 bit average----------\n",
      "Error: 11.482597508483236 | Layers: [16, 16, 9], Learning rate: 0.001953125, Epochs: 12\n",
      "Error: 11.500887408256244 | Layers: [16, 4, 9], Learning rate: 0.001953125, Epochs: 12\n",
      "Error: 11.526608386624673 | Layers: [16, 2, 4, 9], Learning rate: 0.001953125, Epochs: 12\n",
      "Error: 11.53495194475342 | Layers: [16, 256, 32, 9], Learning rate: 0.001953125, Epochs: 12\n",
      "Error: 11.541188214860554 | Layers: [16, 128, 64, 9], Learning rate: 0.001953125, Epochs: 12\n",
      "Error: 11.558861158464884 | Layers: [16, 128, 9], Learning rate: 0.001953125, Epochs: 12\n",
      "Error: 22.897172529621425 | Layers: [16, 16, 9], Learning rate: 0.001953125, Epochs: 15\n",
      "Error: 22.912336993634586 | Layers: [16, 4, 9], Learning rate: 0.001953125, Epochs: 15\n",
      "Error: 22.91472664939403 | Layers: [16, 128, 64, 9], Learning rate: 0.001953125, Epochs: 15\n",
      "Error: 22.92092316169667 | Layers: [16, 2, 4, 9], Learning rate: 0.001953125, Epochs: 15\n",
      "Error: 22.92912421402589 | Layers: [16, 256, 32, 9], Learning rate: 0.001953125, Epochs: 15\n",
      "Error: 23.00467563273984 | Layers: [16, 128, 9], Learning rate: 0.001953125, Epochs: 15\n",
      "Error: 34.25392130464436 | Layers: [16, 16, 9], Learning rate: 0.001953125, Epochs: 17\n",
      "Error: 34.31157105333626 | Layers: [16, 128, 64, 9], Learning rate: 0.001953125, Epochs: 17\n",
      "Error: 34.32039266021401 | Layers: [16, 4, 9], Learning rate: 0.001953125, Epochs: 17\n",
      "Error: 34.336183602042574 | Layers: [16, 256, 32, 9], Learning rate: 0.001953125, Epochs: 17\n",
      "Error: 34.33851688652859 | Layers: [16, 2, 4, 9], Learning rate: 0.001953125, Epochs: 17\n",
      "Error: 34.40268458246821 | Layers: [16, 128, 9], Learning rate: 0.001953125, Epochs: 17\n",
      "Error: 58.184667542689866 | Layers: [16, 2, 4, 9], Learning rate: 0.001953125, Epochs: 5\n",
      "Error: 58.37485969771218 | Layers: [16, 4, 9], Learning rate: 0.001953125, Epochs: 5\n",
      "Error: 58.44465058919499 | Layers: [16, 256, 32, 9], Learning rate: 0.001953125, Epochs: 5\n",
      "Error: 58.763189363217414 | Layers: [16, 128, 9], Learning rate: 0.001953125, Epochs: 5\n",
      "Error: 58.84555756054792 | Layers: [16, 16, 9], Learning rate: 0.001953125, Epochs: 5\n",
      "Error: 58.955309371788786 | Layers: [16, 128, 64, 9], Learning rate: 0.001953125, Epochs: 5\n",
      "Error: 69.61569084979006 | Layers: [16, 2, 4, 9], Learning rate: 0.001953125, Epochs: 14\n",
      "Error: 69.83837291978939 | Layers: [16, 4, 9], Learning rate: 0.001953125, Epochs: 14\n",
      "Error: 69.86904515949983 | Layers: [16, 256, 32, 9], Learning rate: 0.001953125, Epochs: 14\n",
      "Error: 70.1993112647197 | Layers: [16, 128, 9], Learning rate: 0.001953125, Epochs: 14\n",
      "Error: 70.32489756757718 | Layers: [16, 16, 9], Learning rate: 0.001953125, Epochs: 14\n",
      "Error: 70.36343596110511 | Layers: [16, 128, 64, 9], Learning rate: 0.001953125, Epochs: 14\n",
      "Error: 81.00183238981055 | Layers: [16, 2, 4, 9], Learning rate: 0.001953125, Epochs: 19\n",
      "Error: 81.23452687448872 | Layers: [16, 256, 32, 9], Learning rate: 0.001953125, Epochs: 19\n",
      "Error: 81.24492712731727 | Layers: [16, 4, 9], Learning rate: 0.001953125, Epochs: 19\n",
      "Error: 81.60588977596771 | Layers: [16, 128, 9], Learning rate: 0.001953125, Epochs: 19\n",
      "Error: 81.67780075678687 | Layers: [16, 128, 64, 9], Learning rate: 0.001953125, Epochs: 19\n",
      "Error: 81.75088091350945 | Layers: [16, 16, 9], Learning rate: 0.001953125, Epochs: 19\n",
      "Error: 92.46649227911239 | Layers: [16, 2, 4, 9], Learning rate: 0.00390625, Epochs: 12\n",
      "Error: 92.68206932636227 | Layers: [16, 256, 32, 9], Learning rate: 0.00390625, Epochs: 12\n",
      "Error: 92.69103529401113 | Layers: [16, 4, 9], Learning rate: 0.00390625, Epochs: 12\n",
      "Error: 93.06017869551401 | Layers: [16, 128, 9], Learning rate: 0.00390625, Epochs: 12\n",
      "Error: 93.16409478882413 | Layers: [16, 128, 64, 9], Learning rate: 0.00390625, Epochs: 12\n",
      "Error: 93.18446884241816 | Layers: [16, 16, 9], Learning rate: 0.00390625, Epochs: 12\n",
      "Error: 103.87334685461532 | Layers: [16, 2, 4, 9], Learning rate: 0.00390625, Epochs: 15\n",
      "Error: 104.14135722384897 | Layers: [16, 4, 9], Learning rate: 0.00390625, Epochs: 15\n",
      "Error: 104.14224705778939 | Layers: [16, 256, 32, 9], Learning rate: 0.00390625, Epochs: 15\n",
      "Error: 104.48180177078574 | Layers: [16, 128, 9], Learning rate: 0.00390625, Epochs: 15\n",
      "Error: 104.61212642731043 | Layers: [16, 128, 64, 9], Learning rate: 0.00390625, Epochs: 15\n",
      "Error: 104.61259158298124 | Layers: [16, 16, 9], Learning rate: 0.00390625, Epochs: 15\n",
      "Error: 115.34071311930202 | Layers: [16, 2, 4, 9], Learning rate: 0.00390625, Epochs: 17\n",
      "Error: 115.54826166982845 | Layers: [16, 256, 32, 9], Learning rate: 0.00390625, Epochs: 17\n",
      "Error: 115.55168913672708 | Layers: [16, 4, 9], Learning rate: 0.00390625, Epochs: 17\n",
      "Error: 115.86073762625288 | Layers: [16, 128, 9], Learning rate: 0.00390625, Epochs: 17\n",
      "Error: 116.03319220324529 | Layers: [16, 128, 64, 9], Learning rate: 0.00390625, Epochs: 17\n",
      "Error: 116.03488649340659 | Layers: [16, 16, 9], Learning rate: 0.00390625, Epochs: 17\n",
      "Error: 127.33103304970133 | Layers: [16, 2, 4, 9], Learning rate: 0.00390625, Epochs: 5\n",
      "Error: 127.50895570524422 | Layers: [16, 256, 32, 9], Learning rate: 0.00390625, Epochs: 5\n",
      "Error: 127.548203103645 | Layers: [16, 4, 9], Learning rate: 0.00390625, Epochs: 5\n",
      "Error: 127.79561821617496 | Layers: [16, 128, 9], Learning rate: 0.00390625, Epochs: 5\n",
      "Error: 127.98526545406969 | Layers: [16, 128, 64, 9], Learning rate: 0.00390625, Epochs: 5\n",
      "Error: 127.99097832844672 | Layers: [16, 16, 9], Learning rate: 0.00390625, Epochs: 5\n",
      "Error: 138.7550780443042 | Layers: [16, 2, 4, 9], Learning rate: 0.00390625, Epochs: 14\n",
      "Error: 138.90896276843026 | Layers: [16, 4, 9], Learning rate: 0.00390625, Epochs: 14\n",
      "Error: 138.9258933763855 | Layers: [16, 256, 32, 9], Learning rate: 0.00390625, Epochs: 14\n",
      "Error: 139.23860702186226 | Layers: [16, 128, 9], Learning rate: 0.00390625, Epochs: 14\n",
      "Error: 139.38975661729617 | Layers: [16, 16, 9], Learning rate: 0.00390625, Epochs: 14\n",
      "Error: 139.39898661904184 | Layers: [16, 128, 64, 9], Learning rate: 0.00390625, Epochs: 14\n",
      "Error: 150.14987432151253 | Layers: [16, 2, 4, 9], Learning rate: 0.00390625, Epochs: 19\n",
      "Error: 150.30019856672757 | Layers: [16, 4, 9], Learning rate: 0.00390625, Epochs: 19\n",
      "Error: 150.30702523245654 | Layers: [16, 256, 32, 9], Learning rate: 0.00390625, Epochs: 19\n",
      "Error: 150.6408426523284 | Layers: [16, 128, 9], Learning rate: 0.00390625, Epochs: 19\n",
      "Error: 150.73198182349458 | Layers: [16, 16, 9], Learning rate: 0.00390625, Epochs: 19\n",
      "Error: 150.7521945420676 | Layers: [16, 128, 64, 9], Learning rate: 0.00390625, Epochs: 19\n",
      "Error: 161.74313387980203 | Layers: [16, 2, 4, 9], Learning rate: 0.0078125, Epochs: 12\n",
      "Error: 161.85559865328258 | Layers: [16, 4, 9], Learning rate: 0.0078125, Epochs: 12\n",
      "Error: 161.87171865234535 | Layers: [16, 256, 32, 9], Learning rate: 0.0078125, Epochs: 12\n",
      "Error: 162.23603915797375 | Layers: [16, 128, 9], Learning rate: 0.0078125, Epochs: 12\n",
      "Error: 162.24621134294614 | Layers: [16, 16, 9], Learning rate: 0.0078125, Epochs: 12\n",
      "Error: 162.32755077006263 | Layers: [16, 128, 64, 9], Learning rate: 0.0078125, Epochs: 12\n",
      "Error: 173.28364892449503 | Layers: [16, 2, 4, 9], Learning rate: 0.0078125, Epochs: 15\n",
      "Error: 173.41910335114474 | Layers: [16, 4, 9], Learning rate: 0.0078125, Epochs: 15\n",
      "Error: 173.4325221333767 | Layers: [16, 256, 32, 9], Learning rate: 0.0078125, Epochs: 15\n",
      "Error: 173.72910716111397 | Layers: [16, 16, 9], Learning rate: 0.0078125, Epochs: 15\n",
      "Error: 173.75213759837658 | Layers: [16, 128, 9], Learning rate: 0.0078125, Epochs: 15\n",
      "Error: 173.82792320453652 | Layers: [16, 128, 64, 9], Learning rate: 0.0078125, Epochs: 15\n",
      "Error: 184.8076554509593 | Layers: [16, 2, 4, 9], Learning rate: 0.0078125, Epochs: 17\n",
      "Error: 184.9745964288099 | Layers: [16, 4, 9], Learning rate: 0.0078125, Epochs: 17\n",
      "Error: 185.0020200127218 | Layers: [16, 256, 32, 9], Learning rate: 0.0078125, Epochs: 17\n",
      "Error: 185.26030433513924 | Layers: [16, 16, 9], Learning rate: 0.0078125, Epochs: 17\n",
      "Error: 185.2828136042335 | Layers: [16, 128, 9], Learning rate: 0.0078125, Epochs: 17\n",
      "Error: 185.38951626872026 | Layers: [16, 128, 64, 9], Learning rate: 0.0078125, Epochs: 17\n",
      "Error: 196.46128063786713 | Layers: [16, 2, 4, 9], Learning rate: 0.0078125, Epochs: 5\n",
      "Error: 196.5833621309682 | Layers: [16, 4, 9], Learning rate: 0.0078125, Epochs: 5\n",
      "Error: 196.6195825670727 | Layers: [16, 256, 32, 9], Learning rate: 0.0078125, Epochs: 5\n",
      "Error: 196.89590789538036 | Layers: [16, 16, 9], Learning rate: 0.0078125, Epochs: 5\n",
      "Error: 196.96218112387749 | Layers: [16, 128, 9], Learning rate: 0.0078125, Epochs: 5\n",
      "Error: 197.0346358792687 | Layers: [16, 128, 64, 9], Learning rate: 0.0078125, Epochs: 5\n",
      "Error: 208.09085387505482 | Layers: [16, 2, 4, 9], Learning rate: 0.0078125, Epochs: 14\n",
      "Error: 208.14863938386617 | Layers: [16, 4, 9], Learning rate: 0.0078125, Epochs: 14\n",
      "Error: 208.18046139772142 | Layers: [16, 256, 32, 9], Learning rate: 0.0078125, Epochs: 14\n",
      "Error: 208.48804989072568 | Layers: [16, 16, 9], Learning rate: 0.0078125, Epochs: 14\n",
      "Error: 208.54347812511102 | Layers: [16, 128, 9], Learning rate: 0.0078125, Epochs: 14\n",
      "Error: 208.59466480135958 | Layers: [16, 128, 64, 9], Learning rate: 0.0078125, Epochs: 14\n",
      "Error: 219.6333359240597 | Layers: [16, 2, 4, 9], Learning rate: 0.0078125, Epochs: 19\n",
      "Error: 219.69160900359995 | Layers: [16, 256, 32, 9], Learning rate: 0.0078125, Epochs: 19\n",
      "Error: 219.70095417509955 | Layers: [16, 4, 9], Learning rate: 0.0078125, Epochs: 19\n",
      "Error: 220.04837517877274 | Layers: [16, 128, 9], Learning rate: 0.0078125, Epochs: 19\n",
      "Error: 220.05211295573372 | Layers: [16, 16, 9], Learning rate: 0.0078125, Epochs: 19\n",
      "Error: 220.08459992782122 | Layers: [16, 128, 64, 9], Learning rate: 0.0078125, Epochs: 19\n"
     ]
    }
   ],
   "source": [
    "print('----------2 bit average----------')\n",
    "print_performance_dict(average_performance_dict_2bits)\n",
    "print('----------4 bit average----------')\n",
    "print_performance_dict(average_performance_dict_4bits)\n",
    "print('----------8 bit average----------')\n",
    "print_performance_dict(average_performance_dict_8bits)"
   ]
  },
  {
   "cell_type": "code",
   "execution_count": 34,
   "id": "cf111c91-cfaf-4293-b004-0b1b0014e768",
   "metadata": {},
   "outputs": [],
   "source": [
    "# Save the average performance data\n",
    "performance_dicts = [average_performance_dict_2bits, average_performance_dict_4bits, average_performance_dict_8bits]\n",
    "for i in range(len(performance_dicts)):\n",
    "    with open(f'/Users/reid/dev/PythonCode/tm/BackPropagationBinaryCalcs/data/{2**(i+1)}bit_average_performance.txt', 'w') as f:\n",
    "        f.write('parameters,performance\\n')\n",
    "        f.writelines([f'{x}\\n' for x in sorted(list(performance_dicts[i].items()), key=lambda x: x[1], reverse=True)])"
   ]
  },
  {
   "cell_type": "code",
   "execution_count": 133,
   "id": "ac04ca1e-3c6b-40af-b6b7-99cb032265f2",
   "metadata": {},
   "outputs": [],
   "source": [
    "# TODO: test a stable network for extremely large epochs and compare\n",
    "# TODO: test stable network performance on hard lim transfer functions\n",
    "# TODO: redo all this with symetrical network\n",
    "# TODO: test stable network performance but training it with a hardlim transfer function last layer"
   ]
  },
  {
   "cell_type": "code",
   "execution_count": 13,
   "id": "5649a34f-a7ad-463a-9402-b72e5a9e3c2c",
   "metadata": {},
   "outputs": [],
   "source": [
    "# Test the model with keras\n",
    "from tensorflow.keras.models import Sequential\n",
    "from tensorflow.keras.layers import Dense\n",
    "from tensorflow.keras.optimizers import SGD"
   ]
  },
  {
   "cell_type": "code",
   "execution_count": 14,
   "id": "18f00e57-ffe2-4019-befa-371b308d4aaa",
   "metadata": {},
   "outputs": [],
   "source": [
    "model = Sequential()\n",
    "model.add(Dense(layer_sizes[1], input_shape=(layer_sizes[0],), activation='sigmoid'))\n",
    "model.add(Dense(layer_sizes[2], activation='linear'))"
   ]
  },
  {
   "cell_type": "code",
   "execution_count": 15,
   "id": "a1461c9e-d5ff-46f6-bf5d-d3d912900cda",
   "metadata": {},
   "outputs": [
    {
     "name": "stdout",
     "output_type": "stream",
     "text": [
      "\u001b[1m1/1\u001b[0m \u001b[32m━━━━━━━━━━━━━━━━━━━━\u001b[0m\u001b[37m\u001b[0m \u001b[1m0s\u001b[0m 196ms/step - accuracy: 0.5000 - loss: 7.0425\n"
     ]
    },
    {
     "data": {
      "text/plain": [
       "<keras.src.callbacks.history.History at 0x1672a4dd0>"
      ]
     },
     "execution_count": 15,
     "metadata": {},
     "output_type": "execute_result"
    }
   ],
   "source": [
    "sdg = SGD(.9)\n",
    "model.compile(loss=\"categorical_crossentropy\", optimizer=sdg,\n",
    "\tmetrics=[\"accuracy\"])\n",
    "model.fit(inputs, outputs)"
   ]
  },
  {
   "cell_type": "code",
   "execution_count": 16,
   "id": "94cda203-692a-464f-a3e4-0ef7c23a265e",
   "metadata": {},
   "outputs": [
    {
     "name": "stdout",
     "output_type": "stream",
     "text": [
      "\u001b[1m1/1\u001b[0m \u001b[32m━━━━━━━━━━━━━━━━━━━━\u001b[0m\u001b[37m\u001b[0m \u001b[1m0s\u001b[0m 28ms/step\n"
     ]
    },
    {
     "data": {
      "text/plain": [
       "array([[ 0.01186371, -8.282264  , -1.4656483 ],\n",
       "       [ 0.0887537 , -9.469966  , -1.5549538 ],\n",
       "       [ 0.15937938, -8.323184  , -1.3819622 ],\n",
       "       [ 0.22767666, -9.4916    , -1.4718292 ],\n",
       "       [-0.01628557, -8.611647  , -1.6199257 ],\n",
       "       [ 0.04203045, -9.72632   , -1.6907108 ],\n",
       "       [ 0.14307892, -8.662352  , -1.5352875 ],\n",
       "       [ 0.20412186, -9.765932  , -1.603532  ]], dtype=float32)"
      ]
     },
     "execution_count": 16,
     "metadata": {},
     "output_type": "execute_result"
    }
   ],
   "source": [
    "model.predict(inputs)"
   ]
  }
 ],
 "metadata": {
  "kernelspec": {
   "display_name": "tm",
   "language": "python",
   "name": "tm"
  },
  "language_info": {
   "codemirror_mode": {
    "name": "ipython",
    "version": 3
   },
   "file_extension": ".py",
   "mimetype": "text/x-python",
   "name": "python",
   "nbconvert_exporter": "python",
   "pygments_lexer": "ipython3",
   "version": "3.11.4"
  }
 },
 "nbformat": 4,
 "nbformat_minor": 5
}
