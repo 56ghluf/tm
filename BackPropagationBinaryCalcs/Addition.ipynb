{
 "cells": [
  {
   "cell_type": "code",
   "execution_count": 1,
   "id": "b84f3c0d-0ef4-4786-a173-f84ae624f253",
   "metadata": {},
   "outputs": [],
   "source": [
    "# Imports\n",
    "import numpy as np"
   ]
  },
  {
   "cell_type": "code",
   "execution_count": 2,
   "id": "6f472b88-a3a4-4b8d-a53e-18e34ff70219",
   "metadata": {},
   "outputs": [],
   "source": [
    "# Import the tools\n",
    "from sys import path\n",
    "path.append('/Users/reid/dev/PythonCode/tm/tools')\n",
    "# path.append('D:/PythonCode/tm/tools')\n",
    "from tools import gen_inputs_outputs, logsig, lin, deriv_logsig, deriv_lin"
   ]
  },
  {
   "cell_type": "code",
   "execution_count": 3,
   "id": "6bfddd31-1531-4b5f-9b6e-26726405aef0",
   "metadata": {},
   "outputs": [],
   "source": [
    "# Define the size of the network\n",
    "# Order by layers (input, layer1, layer2, ...)\n",
    "# !!! No output layer yet, wait to gen inputs\n",
    "layer_sizes = [3, 7]"
   ]
  },
  {
   "cell_type": "code",
   "execution_count": 4,
   "id": "79899160-bb87-42b0-9724-442688c4fcbe",
   "metadata": {},
   "outputs": [],
   "source": [
    "# Gen inputs, outputs and size of the last layer\n",
    "inputs, outputs, S = gen_inputs_outputs(layer_sizes[0])"
   ]
  },
  {
   "cell_type": "code",
   "execution_count": 5,
   "id": "bbf53b7f-a7bc-44b9-82df-d9f112726b92",
   "metadata": {},
   "outputs": [],
   "source": [
    "# Append the output layer size\n",
    "layer_sizes = np.array(layer_sizes + [S], dtype=int)"
   ]
  },
  {
   "cell_type": "code",
   "execution_count": 6,
   "id": "3c1a6b04-33fd-4159-80c3-4590112d951b",
   "metadata": {},
   "outputs": [
    {
     "data": {
      "text/plain": [
       "array([3, 7, 3])"
      ]
     },
     "execution_count": 6,
     "metadata": {},
     "output_type": "execute_result"
    }
   ],
   "source": [
    "# Network shape\n",
    "layer_sizes"
   ]
  },
  {
   "cell_type": "code",
   "execution_count": 7,
   "id": "ffba48b1-e056-48a3-b173-289ab719ff61",
   "metadata": {},
   "outputs": [],
   "source": [
    "#####\n",
    "# layer_sizes = np.array([1,2,1])"
   ]
  },
  {
   "cell_type": "code",
   "execution_count": 8,
   "id": "b93dbe42-c6ff-40d8-963b-d38d7c9c6381",
   "metadata": {},
   "outputs": [
    {
     "data": {
      "text/plain": [
       "array([[0, 0, 0],\n",
       "       [0, 0, 1],\n",
       "       [0, 1, 0],\n",
       "       [0, 1, 1],\n",
       "       [1, 0, 0],\n",
       "       [1, 0, 1],\n",
       "       [1, 1, 0],\n",
       "       [1, 1, 1]])"
      ]
     },
     "execution_count": 8,
     "metadata": {},
     "output_type": "execute_result"
    }
   ],
   "source": [
    "# Inputs\n",
    "inputs"
   ]
  },
  {
   "cell_type": "code",
   "execution_count": 9,
   "id": "ae97cbdf-c716-48e4-ae91-3d6fab5fbc0d",
   "metadata": {},
   "outputs": [
    {
     "data": {
      "text/plain": [
       "array([[0, 0, 0],\n",
       "       [0, 0, 1],\n",
       "       [0, 1, 0],\n",
       "       [0, 1, 1],\n",
       "       [0, 0, 1],\n",
       "       [0, 1, 0],\n",
       "       [0, 1, 1],\n",
       "       [1, 0, 0]])"
      ]
     },
     "execution_count": 9,
     "metadata": {},
     "output_type": "execute_result"
    }
   ],
   "source": [
    "# Outputs\n",
    "outputs"
   ]
  },
  {
   "cell_type": "code",
   "execution_count": 60,
   "id": "df41116d-c038-4df0-a8b7-bbd6672d9192",
   "metadata": {},
   "outputs": [],
   "source": [
    "# Intialize the weights and biases randomly\n",
    "# Also create the list to store the outputs of each layer\n",
    "# Store the outptut for each layer\n",
    "# Finally create the list of the sensitivities\n",
    "weights_list = []\n",
    "biases_list = []\n",
    "n_list = []\n",
    "a_list = []\n",
    "s_list = []"
   ]
  },
  {
   "cell_type": "code",
   "execution_count": 61,
   "id": "ff640418-72ed-4f90-b9eb-833bc8e09cfe",
   "metadata": {},
   "outputs": [],
   "source": [
    "for i in range(1, len(layer_sizes)):\n",
    "    weights_list.append(np.random.rand(layer_sizes[i], layer_sizes[i-1]))\n",
    "    biases_list.append(np.random.rand(layer_sizes[i], 1))\n",
    "    n_list.append(np.empty((layer_sizes[i], 1), dtype=float))\n",
    "    a_list.append(np.empty((layer_sizes[i], 1), dtype=float))\n",
    "    s_list.append(np.empty((layer_sizes[i], 1), dtype=float))"
   ]
  },
  {
   "cell_type": "code",
   "execution_count": 62,
   "id": "b5310046-aedc-4366-9e10-5979dede1695",
   "metadata": {},
   "outputs": [
    {
     "data": {
      "text/plain": [
       "'weights_list = [\\n    np.array([[-0.27],[-0.41]]),\\n    np.array([[0.09, -0.17]])\\n]\\nbiases_list = [\\n    np.array([[-0.48], [-0.13]]),\\n    np.array([[0.48]])\\n]\\nn_list = [\\n    np.array([[0], [0]]),\\n    np.array([[0]])\\n]\\na_list = [\\n    np.array([[0], [0]]),\\n    np.array([[0]])\\n]'"
      ]
     },
     "execution_count": 62,
     "metadata": {},
     "output_type": "execute_result"
    }
   ],
   "source": [
    "#####\n",
    "'''weights_list = [\n",
    "    np.array([[-0.27],[-0.41]]),\n",
    "    np.array([[0.09, -0.17]])\n",
    "]\n",
    "biases_list = [\n",
    "    np.array([[-0.48], [-0.13]]),\n",
    "    np.array([[0.48]])\n",
    "]\n",
    "n_list = [\n",
    "    np.array([[0], [0]]),\n",
    "    np.array([[0]])\n",
    "]\n",
    "a_list = [\n",
    "    np.array([[0], [0]]),\n",
    "    np.array([[0]])\n",
    "]'''"
   ]
  },
  {
   "cell_type": "code",
   "execution_count": 63,
   "id": "040cdd31-cac6-4a10-9c96-2948d962c54b",
   "metadata": {},
   "outputs": [],
   "source": [
    "# Define the transfer functions\n",
    "transfer_functions = [logsig, lin]"
   ]
  },
  {
   "cell_type": "code",
   "execution_count": 64,
   "id": "f34b2228",
   "metadata": {},
   "outputs": [],
   "source": [
    "# Define the vectors with the derivatives of the transfer functions\n",
    "# These need to be converted to dialation matrices\n",
    "# but this is done after the partial derivatives are calculated\n",
    "# so that the numerical values can be multiplied by the identity matrix\n",
    "# makes my life easier\n",
    "deriv_transfer_functions = [deriv_logsig, deriv_lin]"
   ]
  },
  {
   "cell_type": "code",
   "execution_count": 65,
   "id": "727d6d3b-bb81-41b1-a20e-79d86f88da64",
   "metadata": {},
   "outputs": [],
   "source": [
    "# Define a function to calculate the output of the network\n",
    "# while also saving the data\n",
    "# Assuming that the input is already a Rx1 matrix\n",
    "def run_network(X):\n",
    "    # Get the input for the first layer so that\n",
    "    # no need to use X and can calculate\n",
    "    # recursively\n",
    "    n_list[0] = np.matmul(weights_list[0], X) + biases_list[0]\n",
    "    a_list[0] = transfer_functions[0](n_list[0])\n",
    "\n",
    "    # Calculate the rest of the outptut\n",
    "    for i in range(1, len(weights_list)):\n",
    "        n_list[i] = np.matmul(weights_list[i], a_list[i-1]) + biases_list[i]\n",
    "        a_list[i] = transfer_functions[i](n_list[i])"
   ]
  },
  {
   "cell_type": "code",
   "execution_count": 66,
   "id": "8cafc430-69d4-4dfa-ac09-6a363a54a932",
   "metadata": {},
   "outputs": [],
   "source": [
    "run_network(inputs[1].reshape(layer_sizes[0], 1))\n",
    "####\n",
    "# run_network(np.array([2], dtype=float).reshape(1, 1))"
   ]
  },
  {
   "cell_type": "code",
   "execution_count": 67,
   "id": "e042830f-3af6-46e5-a694-04908b020278",
   "metadata": {},
   "outputs": [
    {
     "name": "stdout",
     "output_type": "stream",
     "text": [
      "[array([[0.64710373],\n",
      "       [0.68921108],\n",
      "       [0.77334232],\n",
      "       [0.72906554],\n",
      "       [1.80432772],\n",
      "       [1.40324663],\n",
      "       [1.10607694]]), array([[2.99650275],\n",
      "       [2.55570339],\n",
      "       [3.05383181]])]\n",
      "\n",
      "[array([[0.6563575 ],\n",
      "       [0.6657914 ],\n",
      "       [0.68424346],\n",
      "       [0.67460018],\n",
      "       [0.85867493],\n",
      "       [0.80269857],\n",
      "       [0.75139701]]), array([[2.99650275],\n",
      "       [2.55570339],\n",
      "       [3.05383181]])]\n"
     ]
    }
   ],
   "source": [
    "print(n_list, a_list, sep='\\n\\n')"
   ]
  },
  {
   "cell_type": "code",
   "execution_count": 68,
   "id": "430cdf1f-3c41-4f7b-8f10-7fe740c3fef5",
   "metadata": {},
   "outputs": [],
   "source": [
    "# Calculate the senstivites for the last layer\n",
    "# Write a function to fill the diagonal of the matrix\n",
    "def fill_F_dot(layer_num):\n",
    "    a = np.identity(len(n_list[layer_num]), float)\n",
    "    np.fill_diagonal(a, deriv_transfer_functions[layer_num](n_list[layer_num]).flatten())\n",
    "    return a\n",
    "\n",
    "learning_rate = .01\n",
    "# Iterate through the inputs and outputs\n",
    "for i in range(len(inputs)):\n",
    "    # Run the network\n",
    "    run_network(inputs[i].reshape(layer_sizes[0], 1))\n",
    "\n",
    "    # Get the dialation matrix for the last layer\n",
    "    F_dot = fill_F_dot(-1)\n",
    "    \n",
    "    # Calculate the sensitivites for the last layer\n",
    "    s_list[-1] = -2 * np.matmul(F_dot, outputs[i].reshape(layer_sizes[-1], 1)-a_list[-1])\n",
    "\n",
    "    # Update the weights and biases for the last layer\n",
    "    weights_list[-1] += -learning_rate*np.matmul(s_list[-1], a_list[-2].T)\n",
    "    biases_list[-1] += -learning_rate*s_list[-1]\n",
    "\n",
    "    # Iterate through the remaining layers backwards\n",
    "    for i in range(len(n_list)-2, 0, -1):\n",
    "        s_list[i] = np.matmul(np.matmul(fill_F_dot(i), weights_list[i+1].T), s_list[i+1])\n",
    "        weights_list[i] += -learning_rate*np.matmul(s_list[i], a_list[i-1].T)\n",
    "        biases_list[i] += -learning_rate*s_list[i]"
   ]
  },
  {
   "cell_type": "code",
   "execution_count": 69,
   "id": "f6542904-9fa8-4487-97db-b0763eb548fd",
   "metadata": {},
   "outputs": [
    {
     "name": "stdout",
     "output_type": "stream",
     "text": [
      "[array([[0.08318732],\n",
      "       [0.6225437 ],\n",
      "       [0.65933107],\n",
      "       [0.12758467],\n",
      "       [0.83037111],\n",
      "       [0.63507649],\n",
      "       [0.45073752]]), array([[0.4338214],\n",
      "       [0.1071451],\n",
      "       [0.4305847]])]\n"
     ]
    }
   ],
   "source": [
    "print(biases_list)"
   ]
  },
  {
   "cell_type": "code",
   "execution_count": 70,
   "id": "a2795ae9-2a81-4d6d-8985-3d59af9425e5",
   "metadata": {},
   "outputs": [
    {
     "name": "stdout",
     "output_type": "stream",
     "text": [
      "[[-1.22613753]\n",
      " [-1.19846589]\n",
      " [-1.36370064]]\n",
      "[[-1.4132286 ]\n",
      " [-1.36589764]\n",
      " [-0.56587789]]\n",
      "[[-1.33496565]\n",
      " [-0.27620463]\n",
      " [-1.47582177]]\n",
      "[[-1.47554622]\n",
      " [-0.41977342]\n",
      " [-0.66111117]]\n",
      "[[-1.30135037]\n",
      " [-1.38440527]\n",
      " [-0.53567577]]\n",
      "[[-1.45648567]\n",
      " [-0.51399554]\n",
      " [-1.69982243]]\n",
      "[[-1.37973376]\n",
      " [-0.44245657]\n",
      " [-0.61450086]]\n",
      "[[-0.4980077 ]\n",
      " [-1.5506066 ]\n",
      " [-1.75901901]]\n"
     ]
    }
   ],
   "source": [
    "for i in range(len(inputs)):\n",
    "    run_network(inputs[i].reshape(layer_sizes[0], 1))\n",
    "    print(outputs[i].reshape(layer_sizes[-1], 1)-a_list[-1])"
   ]
  },
  {
   "cell_type": "code",
   "execution_count": null,
   "id": "5649a34f-a7ad-463a-9402-b72e5a9e3c2c",
   "metadata": {},
   "outputs": [],
   "source": []
  }
 ],
 "metadata": {
  "kernelspec": {
   "display_name": "tm",
   "language": "python",
   "name": "tm"
  },
  "language_info": {
   "codemirror_mode": {
    "name": "ipython",
    "version": 3
   },
   "file_extension": ".py",
   "mimetype": "text/x-python",
   "name": "python",
   "nbconvert_exporter": "python",
   "pygments_lexer": "ipython3",
   "version": "3.11.4"
  }
 },
 "nbformat": 4,
 "nbformat_minor": 5
}
