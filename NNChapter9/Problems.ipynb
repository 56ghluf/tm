{
 "cells": [
  {
   "cell_type": "code",
   "execution_count": 1,
   "id": "cf40f00f",
   "metadata": {},
   "outputs": [],
   "source": [
    "import numpy as np\n",
    "from numpy import linalg\n",
    "import matplotlib.pyplot as plt\n",
    "from sympy import init_printing, symbols, Matrix"
   ]
  },
  {
   "cell_type": "code",
   "execution_count": 2,
   "id": "b7fa5fbc",
   "metadata": {},
   "outputs": [],
   "source": [
    "init_printing(use_unicode=True)"
   ]
  },
  {
   "cell_type": "markdown",
   "id": "b6079304",
   "metadata": {},
   "source": [
    "### Problem 9.4 p.9-29"
   ]
  },
  {
   "cell_type": "code",
   "execution_count": 3,
   "id": "3e8a1da5",
   "metadata": {},
   "outputs": [],
   "source": [
    "# Define the function\n",
    "def f(x1, x2):\n",
    "    return np.exp(x1**2 - x1 + 2*(x2**2) + 4)"
   ]
  },
  {
   "cell_type": "code",
   "execution_count": 18,
   "id": "136eb1a0",
   "metadata": {},
   "outputs": [],
   "source": [
    "# Define the gradient\n",
    "\n",
    "def d_f_1(x1, x2):\n",
    "    return np.exp(x1**2 - x1 + 2*(x2**2) + 4) * (2*x1 -1)\n",
    "    \n",
    "def d_f_2(x1, x2):\n",
    "    return np.exp(x1**2 - x1 + 2*(x2**2) + 4) * (4*x2)\n",
    "\n",
    "def d_f(x1, x2):\n",
    "    return np.array([d_f_1(x1, x2), d_f_2(x1, x2)]).reshape(2, 1)"
   ]
  },
  {
   "cell_type": "code",
   "execution_count": 19,
   "id": "ec4ad5ec",
   "metadata": {},
   "outputs": [],
   "source": [
    "# Define the hessian\n",
    "\n",
    "def d2_f_11(x1, x2):\n",
    "    return np.exp(x1**2 - x1 + 2*(x2**2) + 4) * (4*(x1**2) - 4*x1 + 3)\n",
    "\n",
    "def d2_f_22(x1, x2):\n",
    "    return np.exp(x1**2 - x1 + 2*(x2**2) + 4) * (16*(x2**2) + 4)\n",
    "\n",
    "def d2_f_21(x1, x2):\n",
    "    return np.exp(x1**2 - x1 + 2*(x2**2) + 4) * ((2*x1 - 1) * 4*x2)\n",
    "\n",
    "def d2_f_12(x1, x2):\n",
    "    return np.exp(x1**2 - x1 + 2*(x2**2) + 4) * ((2*x1 - 1) * 4*x2)\n",
    "\n",
    "def d2_f(x1, x2):\n",
    "    return np.array([d2_f_11(x1, x2), d2_f_12(x1, x2), d2_f_21(x1, x2), d2_f_22(x1, x2)]).reshape(2, 2)"
   ]
  },
  {
   "cell_type": "code",
   "execution_count": 20,
   "id": "c57dd8d5",
   "metadata": {},
   "outputs": [],
   "source": [
    "# Define the initale point\n",
    "x = [np.array([1, -2]).reshape(2, 1)]"
   ]
  },
  {
   "cell_type": "code",
   "execution_count": 21,
   "id": "1df738d8",
   "metadata": {},
   "outputs": [],
   "source": [
    "# Calculate the next point\n",
    "for i in range(15):\n",
    "    x.append(x[i] - np.matmul(linalg.inv(d2_f(x[i][0][0], x[i][1][0])), d_f(x[i][0][0], x[i][1][0])))"
   ]
  },
  {
   "cell_type": "code",
   "execution_count": 22,
   "id": "4c5b8d36",
   "metadata": {},
   "outputs": [
    {
     "data": {
      "text/plain": [
       "Text(0.5, 1.0, \"Newton's method for optimization\")"
      ]
     },
     "execution_count": 22,
     "metadata": {},
     "output_type": "execute_result"
    },
    {
     "data": {
      "image/png": "[encoded data removed]",
      "text/plain": [
       "<Figure size 640x480 with 1 Axes>"
      ]
     },
     "metadata": {},
     "output_type": "display_data"
    }
   ],
   "source": [
    "# Plot the function with the approximations\n",
    "\n",
    "X = np.linspace(-3, 3, 1000)\n",
    "Y = np.linspace(-3, 3, 1000)\n",
    "X, Y = np.meshgrid(X, Y)\n",
    "Z = f(X, Y)\n",
    "\n",
    "fig, ax = plt.subplots()\n",
    "CS = ax.contour(X, Y, Z)\n",
    "ax.set_title('Newton\\'s method for optimization')"
   ]
  },
  {
   "cell_type": "markdown",
   "id": "7ff24e5c",
   "metadata": {},
   "source": [
    "### Problem 9.5 p.9-31 "
   ]
  },
  {
   "cell_type": "code",
   "execution_count": 23,
   "id": "9406b8ae",
   "metadata": {},
   "outputs": [],
   "source": [
    "# Define the variables\n",
    "x1, x2 = symbols('x_1 x_2')\n",
    "x = Matrix([x1, x2])\n",
    "al = 0.1\n",
    "\n",
    "A = Matrix([[1, -1], [-1, 1]])\n",
    "\n",
    "f = 1/2 * x.dot(A * x) "
   ]
  },
  {
   "cell_type": "code",
   "execution_count": 24,
   "id": "c2abd2f0",
   "metadata": {},
   "outputs": [],
   "source": [
    "df = Matrix([f.diff(i) for i in x])\n",
    "d2f = Matrix([f.diff(i).diff(j) for j in x for i in x]).reshape(2, 2)"
   ]
  },
  {
   "cell_type": "code",
   "execution_count": 25,
   "id": "b1db02c6",
   "metadata": {},
   "outputs": [],
   "source": [
    "# Create function to calculate gradient at given x\n",
    "def dfx(x1_, x2_):\n",
    "    return df.subs([(x1, x1_), (x2, x2_)])"
   ]
  },
  {
   "cell_type": "code",
   "execution_count": 26,
   "id": "15999505",
   "metadata": {},
   "outputs": [],
   "source": [
    "# Solve using Newtons method \n",
    "u = [(1, 0)]\n",
    "# As A is not invertible, a stationary point \n",
    "# for the function does not exist\n",
    "# u.append(u[0] - d2f**-1 * dfx(*u[0]))"
   ]
  },
  {
   "cell_type": "code",
   "execution_count": 27,
   "id": "de521313",
   "metadata": {},
   "outputs": [],
   "source": [
    "# Solve using gradient descent\n",
    "# Using alpha = 0.1\n",
    "u = [Matrix([1, 0])]\n",
    "for i in range(20):\n",
    "    u.append(u[i] - al * dfx(u[i][0], u[i][1]))"
   ]
  },
  {
   "cell_type": "code",
   "execution_count": 28,
   "id": "675e0652",
   "metadata": {},
   "outputs": [
    {
     "data": {
      "text/latex": [
       "$\\displaystyle \\left[ \\left[\\begin{matrix}1\\\\0\\end{matrix}\\right], \\  \\left[\\begin{matrix}0.9\\\\0.1\\end{matrix}\\right], \\  \\left[\\begin{matrix}0.82\\\\0.18\\end{matrix}\\right], \\  \\left[\\begin{matrix}0.756\\\\0.244\\end{matrix}\\right], \\  \\left[\\begin{matrix}0.7048\\\\0.2952\\end{matrix}\\right], \\  \\left[\\begin{matrix}0.66384\\\\0.33616\\end{matrix}\\right], \\  \\left[\\begin{matrix}0.631072\\\\0.368928\\end{matrix}\\right], \\  \\left[\\begin{matrix}0.6048576\\\\0.3951424\\end{matrix}\\right], \\  \\left[\\begin{matrix}0.58388608\\\\0.41611392\\end{matrix}\\right], \\  \\left[\\begin{matrix}0.567108864\\\\0.432891136\\end{matrix}\\right], \\  \\left[\\begin{matrix}0.5536870912\\\\0.4463129088\\end{matrix}\\right], \\  \\left[\\begin{matrix}0.54294967296\\\\0.45705032704\\end{matrix}\\right], \\  \\left[\\begin{matrix}0.534359738368\\\\0.465640261632\\end{matrix}\\right], \\  \\left[\\begin{matrix}0.5274877906944\\\\0.4725122093056\\end{matrix}\\right], \\  \\left[\\begin{matrix}0.52199023255552\\\\0.47800976744448\\end{matrix}\\right], \\  \\left[\\begin{matrix}0.517592186044416\\\\0.482407813955584\\end{matrix}\\right], \\  \\left[\\begin{matrix}0.514073748835533\\\\0.485926251164467\\end{matrix}\\right], \\  \\left[\\begin{matrix}0.511258999068426\\\\0.488741000931574\\end{matrix}\\right], \\  \\left[\\begin{matrix}0.509007199254741\\\\0.490992800745259\\end{matrix}\\right], \\  \\left[\\begin{matrix}0.507205759403793\\\\0.492794240596207\\end{matrix}\\right], \\  \\left[\\begin{matrix}0.505764607523034\\\\0.494235392476966\\end{matrix}\\right]\\right]$"
      ],
      "text/plain": [
       "⎡⎡1⎤  ⎡0.9⎤  ⎡0.82⎤  ⎡0.756⎤  ⎡0.7048⎤  ⎡0.66384⎤  ⎡0.631072⎤  ⎡0.6048576⎤  ⎡0.58388608⎤  ⎡0.567108864⎤  ⎡0.5536870912⎤  ⎡0.54294967296⎤  ⎡0.\n",
       "⎢⎢ ⎥, ⎢   ⎥, ⎢    ⎥, ⎢     ⎥, ⎢      ⎥, ⎢       ⎥, ⎢        ⎥, ⎢         ⎥, ⎢          ⎥, ⎢           ⎥, ⎢            ⎥, ⎢             ⎥, ⎢  \n",
       "⎣⎣0⎦  ⎣0.1⎦  ⎣0.18⎦  ⎣0.244⎦  ⎣0.2952⎦  ⎣0.33616⎦  ⎣0.368928⎦  ⎣0.3951424⎦  ⎣0.41611392⎦  ⎣0.432891136⎦  ⎣0.4463129088⎦  ⎣0.45705032704⎦  ⎣0.\n",
       "\n",
       "534359738368⎤  ⎡0.5274877906944⎤  ⎡0.52199023255552⎤  ⎡0.517592186044416⎤  ⎡0.514073748835533⎤  ⎡0.511258999068426⎤  ⎡0.509007199254741⎤  ⎡0.\n",
       "            ⎥, ⎢               ⎥, ⎢                ⎥, ⎢                 ⎥, ⎢                 ⎥, ⎢                 ⎥, ⎢                 ⎥, ⎢  \n",
       "465640261632⎦  ⎣0.4725122093056⎦  ⎣0.47800976744448⎦  ⎣0.482407813955584⎦  ⎣0.485926251164467⎦  ⎣0.488741000931574⎦  ⎣0.490992800745259⎦  ⎣0.\n",
       "\n",
       "507205759403793⎤  ⎡0.505764607523034⎤⎤\n",
       "               ⎥, ⎢                 ⎥⎥\n",
       "492794240596207⎦  ⎣0.494235392476966⎦⎦"
      ]
     },
     "execution_count": 28,
     "metadata": {},
     "output_type": "execute_result"
    }
   ],
   "source": [
    "u"
   ]
  },
  {
   "cell_type": "markdown",
   "id": "6beff0ac",
   "metadata": {},
   "source": [
    "### Problem 9.6 p.9-32"
   ]
  },
  {
   "cell_type": "code",
   "execution_count": 29,
   "id": "96216bea",
   "metadata": {},
   "outputs": [],
   "source": [
    "# Define the variables\n",
    "x1, x2 = symbols('x_1 x_2')\n",
    "x = Matrix([x1, x2])\n",
    "\n",
    "f = x1**3 + x1*x2 - (x1**2)*(x2**2)"
   ]
  },
  {
   "cell_type": "code",
   "execution_count": 30,
   "id": "911f72a9",
   "metadata": {},
   "outputs": [],
   "source": [
    "df = Matrix([f.diff(i) for i in x])\n",
    "d2f = Matrix([f.diff(i).diff(j) for j in x for i in x]).reshape(2, 2)"
   ]
  },
  {
   "cell_type": "code",
   "execution_count": 31,
   "id": "c5caa5d6",
   "metadata": {},
   "outputs": [],
   "source": [
    "def fx(x1_, x2_):\n",
    "    return f.subs([(x1, x1_), (x2, x2_)])\n",
    "def dfx(x1_, x2_):\n",
    "    return df.subs([(x1, x1_), (x2, x2_)])\n",
    "\n",
    "def d2fx(x1_, x2_):\n",
    "    return d2f.subs([(x1, x1_), (x2, x2_)])"
   ]
  },
  {
   "cell_type": "code",
   "execution_count": 32,
   "id": "3cd2d079",
   "metadata": {},
   "outputs": [
    {
     "data": {
      "text/latex": [
       "$\\displaystyle \\left( \\left[\\begin{matrix}3 x_{1}^{2} - 2 x_{1} x_{2}^{2} + x_{2}\\\\- 2 x_{1}^{2} x_{2} + x_{1}\\end{matrix}\\right], \\  \\left[\\begin{matrix}6 x_{1} - 2 x_{2}^{2} & - 4 x_{1} x_{2} + 1\\\\- 4 x_{1} x_{2} + 1 & - 2 x_{1}^{2}\\end{matrix}\\right]\\right)$"
      ],
      "text/plain": [
       "⎛⎡    2          2     ⎤  ⎡           2              ⎤⎞\n",
       "⎜⎢3⋅x₁  - 2⋅x₁⋅x₂  + x₂⎥  ⎢6⋅x₁ - 2⋅x₂   -4⋅x₁⋅x₂ + 1⎥⎟\n",
       "⎜⎢                     ⎥, ⎢                          ⎥⎟\n",
       "⎜⎢         2           ⎥  ⎢                      2   ⎥⎟\n",
       "⎝⎣   - 2⋅x₁ ⋅x₂ + x₁   ⎦  ⎣-4⋅x₁⋅x₂ + 1     -2⋅x₁    ⎦⎠"
      ]
     },
     "execution_count": 32,
     "metadata": {},
     "output_type": "execute_result"
    }
   ],
   "source": [
    "df, d2f"
   ]
  },
  {
   "cell_type": "code",
   "execution_count": 33,
   "id": "f254651e",
   "metadata": {},
   "outputs": [],
   "source": [
    "u = [Matrix([1, 1])]\n",
    "\n",
    "u.append(u[0] - d2fx(*u[0])**-1 * dfx(*u[0]))"
   ]
  },
  {
   "cell_type": "code",
   "execution_count": 34,
   "id": "1a816450",
   "metadata": {},
   "outputs": [
    {
     "data": {
      "text/latex": [
       "$\\displaystyle \\left[\\begin{matrix}0.588235294117647\\\\1.11764705882353\\end{matrix}\\right]$"
      ],
      "text/plain": [
       "⎡0.588235294117647⎤\n",
       "⎢                 ⎥\n",
       "⎣1.11764705882353 ⎦"
      ]
     },
     "execution_count": 34,
     "metadata": {},
     "output_type": "execute_result"
    }
   ],
   "source": [
    "u[1].evalf()"
   ]
  },
  {
   "cell_type": "code",
   "execution_count": 35,
   "id": "93f9e39e",
   "metadata": {},
   "outputs": [],
   "source": [
    "dx = Matrix([x1, x2]) - u[0]\n",
    "f2 = fx(*u[0]) + dfx(*u[0]).dot(dx) + 1/2 * dx.dot(d2fx(*u[0]) * dx)"
   ]
  },
  {
   "cell_type": "code",
   "execution_count": 36,
   "id": "ba3cb161",
   "metadata": {},
   "outputs": [
    {
     "data": {
      "image/png": "[encoded data removed]",
      "text/latex": [
       "$\\displaystyle 2 x_{1} - x_{2} + 0.5 \\left(x_{1} - 1\\right) \\left(4 x_{1} - 3 x_{2} - 1\\right) + 0.5 \\left(x_{2} - 1\\right) \\left(- 3 x_{1} - 2 x_{2} + 5\\right)$"
      ],
      "text/plain": [
       "2⋅x₁ - x₂ + 0.5⋅(x₁ - 1)⋅(4⋅x₁ - 3⋅x₂ - 1) + 0.5⋅(x₂ - 1)⋅(-3⋅x₁ - 2⋅x₂ + 5)"
      ]
     },
     "execution_count": 36,
     "metadata": {},
     "output_type": "execute_result"
    }
   ],
   "source": [
    "f2"
   ]
  },
  {
   "cell_type": "markdown",
   "id": "e13104be",
   "metadata": {},
   "source": [
    "### Problem 9.7 p.9.34"
   ]
  },
  {
   "cell_type": "code",
   "execution_count": 37,
   "id": "cce0f733",
   "metadata": {},
   "outputs": [],
   "source": [
    "# Initialize the variables\n",
    "x1, x2 = symbols('x_1 x_2')\n",
    "x = Matrix([x1, x2])\n",
    "\n",
    "A = Matrix([[10, 2], [2, 4]])\n",
    "d = Matrix([-2, -1])\n",
    "c = 0.24\n",
    "\n",
    "f = c + d.dot(x) + 1/2 * x.dot(A*x)"
   ]
  },
  {
   "cell_type": "code",
   "execution_count": 38,
   "id": "a2ddc128",
   "metadata": {},
   "outputs": [],
   "source": [
    "df = Matrix([f.diff(i) for i in x])\n",
    "d2f = Matrix([f.diff(i).diff(j) for j in x for i in x]).reshape(2, 2)"
   ]
  },
  {
   "cell_type": "code",
   "execution_count": 39,
   "id": "6d277cf6",
   "metadata": {},
   "outputs": [],
   "source": [
    "def dfx(x1_, x2_):\n",
    "    return df.subs([(x1, x1_), (x2, x2_)])\n",
    "\n",
    "def d2fx(x1_, x2_):\n",
    "    return d2f.subs([(x1, x1_), (x2, x2_)])\n",
    "\n",
    "def calcalpha(g, p):\n",
    "    return -(g.dot(p)) / p.dot(A * p)"
   ]
  },
  {
   "cell_type": "code",
   "execution_count": 40,
   "id": "542a5409",
   "metadata": {},
   "outputs": [
    {
     "data": {
      "text/latex": [
       "$\\displaystyle \\left[ \\left[\\begin{matrix}-10.0\\\\-5.0\\end{matrix}\\right]\\right]$"
      ],
      "text/plain": [
       "⎡⎡-10.0⎤⎤\n",
       "⎢⎢     ⎥⎥\n",
       "⎣⎣-5.0 ⎦⎦"
      ]
     },
     "execution_count": 40,
     "metadata": {},
     "output_type": "execute_result"
    }
   ],
   "source": [
    "u = [Matrix([1, 1])]\n",
    "p = [-dfx(*u[0])]\n",
    "g = [dfx(*u[0])]\n",
    "\n",
    "u.append(u[0] + calcalpha(g[0], p[0]) * p[0])\n",
    "p"
   ]
  },
  {
   "cell_type": "code",
   "execution_count": 41,
   "id": "2b0f3660",
   "metadata": {},
   "outputs": [
    {
     "data": {
      "text/latex": [
       "$\\displaystyle \\left[ \\left[\\begin{matrix}10.0\\\\5.0\\end{matrix}\\right]\\right]$"
      ],
      "text/plain": [
       "⎡⎡10.0⎤⎤\n",
       "⎢⎢    ⎥⎥\n",
       "⎣⎣5.0 ⎦⎦"
      ]
     },
     "execution_count": 41,
     "metadata": {},
     "output_type": "execute_result"
    }
   ],
   "source": [
    "g"
   ]
  },
  {
   "cell_type": "code",
   "execution_count": 42,
   "id": "1481a55b",
   "metadata": {},
   "outputs": [
    {
     "data": {
      "text/latex": [
       "$\\displaystyle \\left[ \\left[\\begin{matrix}1\\\\1\\end{matrix}\\right], \\  \\left[\\begin{matrix}0.0384615384615384\\\\0.519230769230769\\end{matrix}\\right]\\right]$"
      ],
      "text/plain": [
       "⎡⎡1⎤  ⎡0.0384615384615384⎤⎤\n",
       "⎢⎢ ⎥, ⎢                  ⎥⎥\n",
       "⎣⎣1⎦  ⎣0.519230769230769 ⎦⎦"
      ]
     },
     "execution_count": 42,
     "metadata": {},
     "output_type": "execute_result"
    }
   ],
   "source": [
    "u"
   ]
  },
  {
   "cell_type": "code",
   "execution_count": 43,
   "id": "83428aac",
   "metadata": {},
   "outputs": [],
   "source": [
    "for i in range(len(x)-1):\n",
    "    g.append(dfx(*u[i+1]))\n",
    "    beta = g[i+1].dot(g[i+1]) / g[i].dot(g[i])\n",
    "    p.append(-g[i+1] + beta*p[i])\n",
    "    u.append(u[i+1] + calcalpha(g[i+1], p[i+1])*p[i+1])"
   ]
  },
  {
   "cell_type": "code",
   "execution_count": 44,
   "id": "954b783b",
   "metadata": {},
   "outputs": [
    {
     "data": {
      "text/latex": [
       "$\\displaystyle \\left[ \\left[\\begin{matrix}1\\\\1\\end{matrix}\\right], \\  \\left[\\begin{matrix}0.0384615384615384\\\\0.519230769230769\\end{matrix}\\right], \\  \\left[\\begin{matrix}0.166666666666667\\\\0.166666666666667\\end{matrix}\\right]\\right]$"
      ],
      "text/plain": [
       "⎡⎡1⎤  ⎡0.0384615384615384⎤  ⎡0.166666666666667⎤⎤\n",
       "⎢⎢ ⎥, ⎢                  ⎥, ⎢                 ⎥⎥\n",
       "⎣⎣1⎦  ⎣0.519230769230769 ⎦  ⎣0.166666666666667⎦⎦"
      ]
     },
     "execution_count": 44,
     "metadata": {},
     "output_type": "execute_result"
    }
   ],
   "source": [
    "u"
   ]
  }
 ],
 "metadata": {
  "kernelspec": {
   "display_name": "tm",
   "language": "python",
   "name": "tm"
  },
  "language_info": {
   "codemirror_mode": {
    "name": "ipython",
    "version": 3
   },
   "file_extension": ".py",
   "mimetype": "text/x-python",
   "name": "python",
   "nbconvert_exporter": "python",
   "pygments_lexer": "ipython3",
   "version": "3.11.4"
  }
 },
 "nbformat": 4,
 "nbformat_minor": 5
}
