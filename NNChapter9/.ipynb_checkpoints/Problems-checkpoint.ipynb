{
 "cells": [
  {
   "cell_type": "code",
   "execution_count": 21,
   "id": "cf40f00f",
   "metadata": {},
   "outputs": [],
   "source": [
    "import numpy as np\n",
    "from numpy import linalg\n",
    "import matplotlib.pyplot as plt\n",
    "from sympy import symbols, Matrix"
   ]
  },
  {
   "cell_type": "markdown",
   "id": "b6079304",
   "metadata": {},
   "source": [
    "### Problem 9.4 p.9-29"
   ]
  },
  {
   "cell_type": "code",
   "execution_count": 11,
   "id": "3e8a1da5",
   "metadata": {},
   "outputs": [],
   "source": [
    "# Define the function\n",
    "def f(x1, x2):\n",
    "    return np.exp(x1**2 - x1 + 2*(x2**2) + 4)"
   ]
  },
  {
   "cell_type": "code",
   "execution_count": 12,
   "id": "136eb1a0",
   "metadata": {},
   "outputs": [],
   "source": [
    "# Define the gradient\n",
    "\n",
    "def d_f_1(x1, x2):\n",
    "    return np.exp(x1**2 - x1 + 2*(x2**2) + 4) * (2*x1 -1)\n",
    "    \n",
    "def d_f_2(x1, x2):\n",
    "    return np.exp(x1**2 - x1 + 2*(x2**2) + 4) * (4*x2)\n",
    "\n",
    "def d_f(x1, x2):\n",
    "    return np.array([d_f_1(x1, x2), d_f_2(x1, x2)]).reshape(2, 1)"
   ]
  },
  {
   "cell_type": "code",
   "execution_count": 13,
   "id": "ec4ad5ec",
   "metadata": {},
   "outputs": [],
   "source": [
    "# Define the hessian\n",
    "\n",
    "def d2_f_11(x1, x2):\n",
    "    return np.exp(x1**2 - x1 + 2*(x2**2) + 4) * (4*(x1**2) - 4*x1 + 3)\n",
    "\n",
    "def d2_f_22(x1, x2):\n",
    "    return np.exp(x1**2 - x1 + 2*(x2**2) + 4) * (16*(x2**2) + 4)\n",
    "\n",
    "def d2_f_21(x1, x2):\n",
    "    return np.exp(x1**2 - x1 + 2*(x2**2) + 4) * ((2*x1 - 1) * 4*x2)\n",
    "\n",
    "def d2_f_12(x1, x2):\n",
    "    return np.exp(x1**2 - x1 + 2*(x2**2) + 4) * ((2*x1 - 1) * 4*x2)\n",
    "\n",
    "def d2_f(x1, x2):\n",
    "    return np.array([d2_f_11(x1, x2), d2_f_12(x1, x2), d2_f_21(x1, x2), d2_f_22(x1, x2)]).reshape(2, 2)"
   ]
  },
  {
   "cell_type": "code",
   "execution_count": 14,
   "id": "c57dd8d5",
   "metadata": {},
   "outputs": [],
   "source": [
    "# Define the initale point\n",
    "x = [np.array([1, -2]).reshape(2, 1)]"
   ]
  },
  {
   "cell_type": "code",
   "execution_count": 15,
   "id": "1df738d8",
   "metadata": {},
   "outputs": [],
   "source": [
    "# Calculate the next point\n",
    "for i in range(15):\n",
    "    x.append(x[i] - np.matmul(linalg.inv(d2_f(x[i][0][0], x[i][1][0])), d_f(x[i][0][0], x[i][1][0])))"
   ]
  },
  {
   "cell_type": "code",
   "execution_count": 16,
   "id": "4c5b8d36",
   "metadata": {},
   "outputs": [
    {
     "data": {
      "text/plain": [
       "Text(0.5, 1.0, \"Newton's method for optimization\")"
      ]
     },
     "execution_count": 16,
     "metadata": {},
     "output_type": "execute_result"
    },
    {
     "data": {
      "image/png": "[encoded data removed]",
      "text/plain": [
       "<Figure size 640x480 with 1 Axes>"
      ]
     },
     "metadata": {},
     "output_type": "display_data"
    }
   ],
   "source": [
    "# Plot the function with the approximations\n",
    "\n",
    "X = np.linspace(-3, 3, 1000)\n",
    "Y = np.linspace(-3, 3, 1000)\n",
    "X, Y = np.meshgrid(X, Y)\n",
    "Z = f(X, Y)\n",
    "\n",
    "fig, ax = plt.subplots()\n",
    "CS = ax.contour(X, Y, Z)\n",
    "ax.set_title('Newton\\'s method for optimization')"
   ]
  },
  {
   "cell_type": "markdown",
   "id": "a7ac510c",
   "metadata": {},
   "source": [
    "### Problem 9.5 p.9-31 "
   ]
  },
  {
   "cell_type": "code",
   "execution_count": 89,
   "id": "ee825952",
   "metadata": {},
   "outputs": [],
   "source": [
    "# Define the variables\n",
    "x1, x2 = symbols('x_1 x_2')\n",
    "x = Matrix([x1, x2])\n",
    "al = 0.1\n",
    "\n",
    "A = Matrix([[1, -1], [-1, 1]])\n",
    "\n",
    "f = 1/2 * x.dot(A * x) "
   ]
  },
  {
   "cell_type": "code",
   "execution_count": 90,
   "id": "71ecefd3",
   "metadata": {},
   "outputs": [],
   "source": [
    "df = Matrix([f.diff(i) for i in x])\n",
    "d2f = Matrix([f.diff(i).diff(j) for j in x for i in x]).reshape(2, 2)"
   ]
  },
  {
   "cell_type": "code",
   "execution_count": 108,
   "id": "23d60da3",
   "metadata": {},
   "outputs": [],
   "source": [
    "# Create function to calculate gradient at given x\n",
    "def dfx(x1_, x2_):\n",
    "    return df.subs([(x1, x1_), (x2, x2_)])"
   ]
  },
  {
   "cell_type": "code",
   "execution_count": 109,
   "id": "e9b6ab7e",
   "metadata": {},
   "outputs": [],
   "source": [
    "# Solve using Newtons method \n",
    "u = [(1, 0)]\n",
    "# As A is not invertible, a stationary point \n",
    "# for the function does not exist\n",
    "# u.append(u[0] - d2f**-1 * dfx(*u[0]))"
   ]
  },
  {
   "cell_type": "code",
   "execution_count": 111,
   "id": "8a612b99",
   "metadata": {},
   "outputs": [],
   "source": [
    "# Solve using gradient descent\n",
    "# Using alpha = 0.1\n",
    "u = [Matrix([1, 0])]\n",
    "for i in range(10):\n",
    "    u.append(u[i] - al * dfx(u[i][0], u[i][1]))"
   ]
  },
  {
   "cell_type": "code",
   "execution_count": 115,
   "id": "1e025175",
   "metadata": {},
   "outputs": [
    {
     "data": {
      "text/plain": [
       "[Matrix([\n",
       " [1],\n",
       " [0]]),\n",
       " Matrix([\n",
       " [0.9],\n",
       " [0.1]]),\n",
       " Matrix([\n",
       " [0.82],\n",
       " [0.18]]),\n",
       " Matrix([\n",
       " [0.756],\n",
       " [0.244]]),\n",
       " Matrix([\n",
       " [0.7048],\n",
       " [0.2952]]),\n",
       " Matrix([\n",
       " [0.66384],\n",
       " [0.33616]]),\n",
       " Matrix([\n",
       " [0.631072],\n",
       " [0.368928]]),\n",
       " Matrix([\n",
       " [0.6048576],\n",
       " [0.3951424]]),\n",
       " Matrix([\n",
       " [0.58388608],\n",
       " [0.41611392]]),\n",
       " Matrix([\n",
       " [0.567108864],\n",
       " [0.432891136]]),\n",
       " Matrix([\n",
       " [0.5536870912],\n",
       " [0.4463129088]])]"
      ]
     },
     "execution_count": 115,
     "metadata": {},
     "output_type": "execute_result"
    }
   ],
   "source": [
    "u"
   ]
  },
  {
   "cell_type": "markdown",
   "id": "1e293745",
   "metadata": {},
   "source": [
    "### Problem 9.6 p.9-32"
   ]
  },
  {
   "cell_type": "code",
   "execution_count": null,
   "id": "f90632be",
   "metadata": {},
   "outputs": [],
   "source": []
  }
 ],
 "metadata": {
  "kernelspec": {
   "display_name": "tensorflow25",
   "language": "python",
   "name": "tensorflow25"
  },
  "language_info": {
   "codemirror_mode": {
    "name": "ipython",
    "version": 3
   },
   "file_extension": ".py",
   "mimetype": "text/x-python",
   "name": "python",
   "nbconvert_exporter": "python",
   "pygments_lexer": "ipython3",
   "version": "3.8.16"
  }
 },
 "nbformat": 4,
 "nbformat_minor": 5
}
