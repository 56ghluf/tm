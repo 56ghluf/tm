{
 "cells": [
  {
   "cell_type": "code",
   "execution_count": 34,
   "id": "214d2fc9",
   "metadata": {},
   "outputs": [],
   "source": [
    "import numpy as np"
   ]
  },
  {
   "cell_type": "code",
   "execution_count": 54,
   "id": "e19030e0",
   "metadata": {},
   "outputs": [],
   "source": [
    "# Define the network architecture\n",
    "R = 3\n",
    "S = round(R/2) + 1"
   ]
  },
  {
   "cell_type": "code",
   "execution_count": 59,
   "id": "0a421358",
   "metadata": {},
   "outputs": [
    {
     "name": "stdout",
     "output_type": "stream",
     "text": [
      "[('0', '00'), ('0', '01'), ('0', '10'), ('0', '11'), ('1', '00'), ('1', '01'), ('1', '10'), ('1', '11')]\n",
      "0\n"
     ]
    },
    {
     "ename": "TypeError",
     "evalue": "int() argument must be a string, a bytes-like object or a number, not 'NoneType'",
     "output_type": "error",
     "traceback": [
      "\u001b[1;31m---------------------------------------------------------------------------\u001b[0m",
      "\u001b[1;31mTypeError\u001b[0m                                 Traceback (most recent call last)",
      "Cell \u001b[1;32mIn[59], line 42\u001b[0m\n\u001b[0;32m     39\u001b[0m \u001b[38;5;28;01mfor\u001b[39;00m i, inp \u001b[38;5;129;01min\u001b[39;00m \u001b[38;5;28menumerate\u001b[39m(inputs_str):\n\u001b[0;32m     40\u001b[0m     \u001b[38;5;66;03m# inputs[i] = np.array([int(input[0][0]), int(input[0][1]), int(input[1][0]), int(input[1][1])])\u001b[39;00m\n\u001b[0;32m     41\u001b[0m     \u001b[38;5;28mprint\u001b[39m(inp[\u001b[38;5;241m0\u001b[39m])\n\u001b[1;32m---> 42\u001b[0m     \u001b[43minputs\u001b[49m\u001b[43m[\u001b[49m\u001b[43mi\u001b[49m\u001b[43m]\u001b[49m \u001b[38;5;241m=\u001b[39m np\u001b[38;5;241m.\u001b[39marray([\u001b[38;5;28mint\u001b[39m(x) \u001b[38;5;28;01mfor\u001b[39;00m x \u001b[38;5;129;01min\u001b[39;00m inp[\u001b[38;5;241m0\u001b[39m]]\u001b[38;5;241m.\u001b[39mextend([\u001b[38;5;28mint\u001b[39m(x) \u001b[38;5;28;01mfor\u001b[39;00m x \u001b[38;5;129;01min\u001b[39;00m inp[\u001b[38;5;241m1\u001b[39m]]))\n\u001b[0;32m     43\u001b[0m \u001b[38;5;28mprint\u001b[39m(inputs)\n",
      "\u001b[1;31mTypeError\u001b[0m: int() argument must be a string, a bytes-like object or a number, not 'NoneType'"
     ]
    }
   ],
   "source": [
    "# Function to create binary string from number\n",
    "def bin_str_from_num(num, length):\n",
    "    num_str = str(bin(num)).split('b')[-1]\n",
    "    if len(num_str) < length:\n",
    "        num_str = (length - len(num_str)) * '0' + num_str\n",
    "    return num_str\n",
    "\n",
    "# Create the inputs and outupts\n",
    "raw_inputs = np.array(range(2**R), dtype=int)\n",
    "\n",
    "inputs_str = []\n",
    "\n",
    "# Populate inputs_str\n",
    "for num in raw_inputs:\n",
    "    num_str = bin_str_from_num(num, R)\n",
    "    inputs_str.append((num_str[0:R//2], num_str[R//2:]))\n",
    "print(inputs_str)\n",
    "'''\n",
    "# Sort the input pairs\n",
    "for i in range(len(inputs_str)):\n",
    "    inputs_str[i] = sorted(inputs_str[i])\n",
    "\n",
    "# Remove duplicates\n",
    "result = []\n",
    "[result.append(x) for x in inputs_str if x not in result]\n",
    "inputs_str = result\n",
    "'''\n",
    "\n",
    "# Generate outputs\n",
    "outputs = np.empty([len(inputs_str), S], dtype=int)\n",
    "for i, nums in enumerate(inputs_str):\n",
    "    outputs[i] = np.array([int(char) for char in bin_str_from_num(int(nums[0], 2) + int(nums[1], 2), S)])\n",
    "    \n",
    "length = len(bin(int('1'*(R//2), 2) + int('1'*(R//2 + R%2), 2)).split('b')[-1])\n",
    "\n",
    "# Convert inputs_str\n",
    "inputs = np.empty([len(inputs_str), R], dtype=int)\n",
    "\n",
    "for i, inp in enumerate(inputs_str):\n",
    "    # inputs[i] = np.array([int(input[0][0]), int(input[0][1]), int(input[1][0]), int(input[1][1])])\n",
    "    print(inp[0])\n",
    "    inputs[i] = np.array([int(x) for x in inp[0]].extend([int(x) for x in inp[1]]))\n",
    "print(inputs)"
   ]
  },
  {
   "cell_type": "code",
   "execution_count": 44,
   "id": "c02a86f2",
   "metadata": {},
   "outputs": [
    {
     "data": {
      "text/plain": [
       "array([[0, 0, 0, 0],\n",
       "       [0, 0, 0, 1],\n",
       "       [0, 0, 1, 0],\n",
       "       [0, 0, 1, 1],\n",
       "       [0, 1, 0, 0],\n",
       "       [0, 1, 0, 1],\n",
       "       [0, 1, 1, 0],\n",
       "       [0, 1, 1, 1],\n",
       "       [1, 0, 0, 0],\n",
       "       [1, 0, 0, 1],\n",
       "       [1, 0, 1, 0],\n",
       "       [1, 0, 1, 1],\n",
       "       [1, 1, 0, 0],\n",
       "       [1, 1, 0, 1],\n",
       "       [1, 1, 1, 0],\n",
       "       [1, 1, 1, 1]])"
      ]
     },
     "execution_count": 44,
     "metadata": {},
     "output_type": "execute_result"
    }
   ],
   "source": [
    "inputs"
   ]
  },
  {
   "cell_type": "code",
   "execution_count": 45,
   "id": "9de8155d",
   "metadata": {},
   "outputs": [
    {
     "data": {
      "text/plain": [
       "array([[0, 0, 0],\n",
       "       [0, 0, 1],\n",
       "       [0, 1, 0],\n",
       "       [0, 1, 1],\n",
       "       [0, 0, 1],\n",
       "       [0, 1, 0],\n",
       "       [0, 1, 1],\n",
       "       [1, 0, 0],\n",
       "       [0, 1, 0],\n",
       "       [0, 1, 1],\n",
       "       [1, 0, 0],\n",
       "       [1, 0, 1],\n",
       "       [0, 1, 1],\n",
       "       [1, 0, 0],\n",
       "       [1, 0, 1],\n",
       "       [1, 1, 0]])"
      ]
     },
     "execution_count": 45,
     "metadata": {},
     "output_type": "execute_result"
    }
   ],
   "source": [
    "outputs"
   ]
  },
  {
   "cell_type": "code",
   "execution_count": 50,
   "id": "036e0956",
   "metadata": {},
   "outputs": [],
   "source": [
    "# Initialize the weights\n",
    "W = np.zeros(shape=(S, R), dtype=float)"
   ]
  },
  {
   "cell_type": "code",
   "execution_count": 51,
   "id": "a2b0a5e9",
   "metadata": {},
   "outputs": [],
   "source": [
    "# Train the weights\n",
    "for i in range(len(inputs)):\n",
    "    W = W + .5*np.matmul(outputs[i].reshape(S, 1), inputs[i].reshape(1, R))"
   ]
  },
  {
   "cell_type": "code",
   "execution_count": 52,
   "id": "08644b64",
   "metadata": {},
   "outputs": [
    {
     "data": {
      "text/plain": [
       "array([[2.5, 2. , 2.5, 2. ],\n",
       "       [2. , 2. , 2. , 2. ],\n",
       "       [2. , 2. , 2. , 2. ]])"
      ]
     },
     "execution_count": 52,
     "metadata": {},
     "output_type": "execute_result"
    }
   ],
   "source": [
    "W"
   ]
  },
  {
   "cell_type": "code",
   "execution_count": 53,
   "id": "f89287ab",
   "metadata": {},
   "outputs": [
    {
     "name": "stdout",
     "output_type": "stream",
     "text": [
      "[[0.]\n",
      " [0.]\n",
      " [0.]]\n",
      "[[-2.]\n",
      " [-2.]\n",
      " [-1.]]\n",
      "[[-2.5]\n",
      " [-1. ]\n",
      " [-2. ]]\n",
      "[[-4.5]\n",
      " [-3. ]\n",
      " [-3. ]]\n",
      "[[-2.]\n",
      " [-2.]\n",
      " [-1.]]\n",
      "[[-4.]\n",
      " [-3.]\n",
      " [-4.]]\n",
      "[[-4.5]\n",
      " [-3. ]\n",
      " [-3. ]]\n",
      "[[-5.5]\n",
      " [-6. ]\n",
      " [-6. ]]\n",
      "[[-2.5]\n",
      " [-1. ]\n",
      " [-2. ]]\n",
      "[[-4.5]\n",
      " [-3. ]\n",
      " [-3. ]]\n",
      "[[-4.]\n",
      " [-4.]\n",
      " [-4.]]\n",
      "[[-6.]\n",
      " [-6.]\n",
      " [-5.]]\n",
      "[[-4.5]\n",
      " [-3. ]\n",
      " [-3. ]]\n",
      "[[-5.5]\n",
      " [-6. ]\n",
      " [-6. ]]\n",
      "[[-6.]\n",
      " [-6.]\n",
      " [-5.]]\n",
      "[[-8.]\n",
      " [-7.]\n",
      " [-8.]]\n"
     ]
    }
   ],
   "source": [
    "# Test the weights\n",
    "for i in range(len(inputs)):\n",
    "    print(outputs[i].reshape(S, 1) - np.matmul(W, inputs[i].reshape(R, 1)))"
   ]
  },
  {
   "cell_type": "code",
   "execution_count": null,
   "id": "95b56e4b",
   "metadata": {},
   "outputs": [],
   "source": []
  }
 ],
 "metadata": {
  "kernelspec": {
   "display_name": "tensorflow25",
   "language": "python",
   "name": "tensorflow25"
  },
  "language_info": {
   "codemirror_mode": {
    "name": "ipython",
    "version": 3
   },
   "file_extension": ".py",
   "mimetype": "text/x-python",
   "name": "python",
   "nbconvert_exporter": "python",
   "pygments_lexer": "ipython3",
   "version": "3.8.16"
  }
 },
 "nbformat": 4,
 "nbformat_minor": 5
}
