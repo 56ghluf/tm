{
 "cells": [
  {
   "cell_type": "code",
   "execution_count": 1,
   "id": "214d2fc9",
   "metadata": {},
   "outputs": [],
   "source": [
    "import numpy as np\n",
    "from math import ceil\n",
    "from sys import path\n",
    "path.append(\"../tools\")\n",
    "from tools import *"
   ]
  },
  {
   "cell_type": "code",
   "execution_count": 2,
   "id": "9ed678d4-9941-4919-bac8-b868a46be6f3",
   "metadata": {},
   "outputs": [],
   "source": [
    "# Define network architecture and inputs and outputs\n",
    "R = 4\n",
    "inputs, outputs, S = gen_inputs_outputs(R)"
   ]
  },
  {
   "cell_type": "code",
   "execution_count": 3,
   "id": "c02a86f2",
   "metadata": {},
   "outputs": [],
   "source": [
    "# Generate symetric inputs and outpts\n",
    "s_inputs = hardsym(inputs)\n",
    "s_outputs = hardsym(outputs)"
   ]
  },
  {
   "cell_type": "code",
   "execution_count": 4,
   "id": "9de8155d",
   "metadata": {
    "scrolled": true
   },
   "outputs": [
    {
     "name": "stdout",
     "output_type": "stream",
     "text": [
      "[[0 0 0 0]\n",
      " [0 0 0 1]\n",
      " [0 0 1 0]\n",
      " [0 0 1 1]\n",
      " [0 1 0 0]\n",
      " [0 1 0 1]\n",
      " [0 1 1 0]\n",
      " [0 1 1 1]\n",
      " [1 0 0 0]\n",
      " [1 0 0 1]\n",
      " [1 0 1 0]\n",
      " [1 0 1 1]\n",
      " [1 1 0 0]\n",
      " [1 1 0 1]\n",
      " [1 1 1 0]\n",
      " [1 1 1 1]] [[-1 -1 -1 -1]\n",
      " [-1 -1 -1  1]\n",
      " [-1 -1  1 -1]\n",
      " [-1 -1  1  1]\n",
      " [-1  1 -1 -1]\n",
      " [-1  1 -1  1]\n",
      " [-1  1  1 -1]\n",
      " [-1  1  1  1]\n",
      " [ 1 -1 -1 -1]\n",
      " [ 1 -1 -1  1]\n",
      " [ 1 -1  1 -1]\n",
      " [ 1 -1  1  1]\n",
      " [ 1  1 -1 -1]\n",
      " [ 1  1 -1  1]\n",
      " [ 1  1  1 -1]\n",
      " [ 1  1  1  1]]\n"
     ]
    }
   ],
   "source": [
    "print(inputs, s_inputs)"
   ]
  },
  {
   "cell_type": "code",
   "execution_count": 5,
   "id": "3f019c2a-351e-4fc6-9bbb-fb0bb6d85727",
   "metadata": {},
   "outputs": [
    {
     "name": "stdout",
     "output_type": "stream",
     "text": [
      "[[0 0 0]\n",
      " [0 0 1]\n",
      " [0 1 0]\n",
      " [0 1 1]\n",
      " [0 0 1]\n",
      " [0 1 0]\n",
      " [0 1 1]\n",
      " [1 0 0]\n",
      " [0 1 0]\n",
      " [0 1 1]\n",
      " [1 0 0]\n",
      " [1 0 1]\n",
      " [0 1 1]\n",
      " [1 0 0]\n",
      " [1 0 1]\n",
      " [1 1 0]] [[-1 -1 -1]\n",
      " [-1 -1  1]\n",
      " [-1  1 -1]\n",
      " [-1  1  1]\n",
      " [-1 -1  1]\n",
      " [-1  1 -1]\n",
      " [-1  1  1]\n",
      " [ 1 -1 -1]\n",
      " [-1  1 -1]\n",
      " [-1  1  1]\n",
      " [ 1 -1 -1]\n",
      " [ 1 -1  1]\n",
      " [-1  1  1]\n",
      " [ 1 -1 -1]\n",
      " [ 1 -1  1]\n",
      " [ 1  1 -1]]\n"
     ]
    }
   ],
   "source": [
    "print(outputs, s_outputs)"
   ]
  },
  {
   "cell_type": "code",
   "execution_count": 6,
   "id": "036e0956",
   "metadata": {},
   "outputs": [],
   "source": [
    "# Initialize the weights \n",
    "W = np.zeros(shape=(S, R), dtype=float)\n",
    "\n",
    "# Initialize the weights for a symetric network\n",
    "s_W = np.zeros(shape=(S, R), dtype=float)"
   ]
  },
  {
   "cell_type": "code",
   "execution_count": 7,
   "id": "a2b0a5e9",
   "metadata": {},
   "outputs": [],
   "source": [
    "# Train the weights\n",
    "for i in range(len(inputs)):\n",
    "    W = W + np.matmul(outputs[i].reshape(S, 1), inputs[i].reshape(1, R))\n",
    "\n",
    "# Train the weights for the symetric network\n",
    "for i in range(len(s_inputs)):\n",
    "    s_W = s_W + np.matmul(s_outputs[i].reshape(S, 1), s_inputs[i].reshape(1, R))"
   ]
  },
  {
   "cell_type": "code",
   "execution_count": 8,
   "id": "08644b64",
   "metadata": {},
   "outputs": [
    {
     "data": {
      "text/plain": [
       "array([[5., 4., 5., 4.],\n",
       "       [4., 4., 4., 4.],\n",
       "       [4., 4., 4., 4.]])"
      ]
     },
     "execution_count": 8,
     "metadata": {},
     "output_type": "execute_result"
    }
   ],
   "source": [
    "W"
   ]
  },
  {
   "cell_type": "code",
   "execution_count": 9,
   "id": "9be3418a-76b7-412a-aa25-4b9d878940c6",
   "metadata": {},
   "outputs": [
    {
     "data": {
      "text/plain": [
       "array([[8., 4., 8., 4.],\n",
       "       [0., 0., 0., 0.],\n",
       "       [0., 0., 0., 0.]])"
      ]
     },
     "execution_count": 9,
     "metadata": {},
     "output_type": "execute_result"
    }
   ],
   "source": [
    "s_W"
   ]
  },
  {
   "cell_type": "code",
   "execution_count": 10,
   "id": "f89287ab",
   "metadata": {},
   "outputs": [
    {
     "name": "stdout",
     "output_type": "stream",
     "text": [
      "[23]\n"
     ]
    }
   ],
   "source": [
    "# Test the weights for hardlim\n",
    "err = []\n",
    "\n",
    "for i in range(len(inputs)):\n",
    "    err.append(outputs[i].reshape(S, 1) - hardlim(np.matmul(W, inputs[i].reshape(R, 1))))\n",
    "\n",
    "print(e2(err))"
   ]
  },
  {
   "cell_type": "code",
   "execution_count": 11,
   "id": "5c9118e4",
   "metadata": {},
   "outputs": [
    {
     "name": "stdout",
     "output_type": "stream",
     "text": [
      "[[24.]\n",
      " [ 0.]\n",
      " [ 0.]]\n",
      "[[16.]\n",
      " [ 0.]\n",
      " [ 1.]]\n",
      "[[8.]\n",
      " [1.]\n",
      " [0.]]\n",
      "[[0.]\n",
      " [1.]\n",
      " [1.]]\n",
      "[[16.]\n",
      " [ 0.]\n",
      " [ 1.]]\n",
      "[[8.]\n",
      " [1.]\n",
      " [0.]]\n",
      "[[0.]\n",
      " [1.]\n",
      " [1.]]\n",
      "[[-7.]\n",
      " [ 0.]\n",
      " [ 0.]]\n",
      "[[8.]\n",
      " [1.]\n",
      " [0.]]\n",
      "[[0.]\n",
      " [1.]\n",
      " [1.]]\n",
      "[[-7.]\n",
      " [ 0.]\n",
      " [ 0.]]\n",
      "[[-15.]\n",
      " [  0.]\n",
      " [  1.]]\n",
      "[[0.]\n",
      " [1.]\n",
      " [1.]]\n",
      "[[-7.]\n",
      " [ 0.]\n",
      " [ 0.]]\n",
      "[[-15.]\n",
      " [  0.]\n",
      " [  1.]]\n",
      "[[-23.]\n",
      " [  1.]\n",
      " [  0.]]\n"
     ]
    }
   ],
   "source": [
    "# Test the weights without transfer function\n",
    "for i in range(len(inputs)):\n",
    "    print(outputs[i].reshape(S, 1) - np.matmul(s_W, s_inputs[i].reshape(R, 1)))"
   ]
  },
  {
   "cell_type": "code",
   "execution_count": 12,
   "id": "95b56e4b",
   "metadata": {},
   "outputs": [
    {
     "name": "stdout",
     "output_type": "stream",
     "text": [
      "[[0]\n",
      " [0]\n",
      " [0]]\n",
      "[[-1]\n",
      " [-1]\n",
      " [ 0]]\n",
      "[[-1]\n",
      " [ 0]\n",
      " [-1]]\n",
      "[[-1]\n",
      " [ 0]\n",
      " [ 0]]\n",
      "[[-1]\n",
      " [-1]\n",
      " [ 0]]\n",
      "[[-1]\n",
      " [ 0]\n",
      " [-1]]\n",
      "[[-1]\n",
      " [ 0]\n",
      " [ 0]]\n",
      "[[ 0]\n",
      " [-1]\n",
      " [-1]]\n",
      "[[-1]\n",
      " [ 0]\n",
      " [-1]]\n",
      "[[-1]\n",
      " [ 0]\n",
      " [ 0]]\n",
      "[[ 0]\n",
      " [-1]\n",
      " [-1]]\n",
      "[[ 0]\n",
      " [-1]\n",
      " [ 0]]\n",
      "[[-1]\n",
      " [ 0]\n",
      " [ 0]]\n",
      "[[ 0]\n",
      " [-1]\n",
      " [-1]]\n",
      "[[ 0]\n",
      " [-1]\n",
      " [ 0]]\n",
      "[[ 0]\n",
      " [ 0]\n",
      " [-1]]\n"
     ]
    }
   ],
   "source": [
    "# Test the with the hardlim transfert function\n",
    "for i in range(len(inputs)):\n",
    "    print(outputs[i].reshape(S, 1) - hardlim(np.matmul(W, inputs[i].reshape(R, 1))))"
   ]
  }
 ],
 "metadata": {
  "kernelspec": {
   "display_name": "tensorflow25",
   "language": "python",
   "name": "tensorflow25"
  },
  "language_info": {
   "codemirror_mode": {
    "name": "ipython",
    "version": 3
   },
   "file_extension": ".py",
   "mimetype": "text/x-python",
   "name": "python",
   "nbconvert_exporter": "python",
   "pygments_lexer": "ipython3",
   "version": "3.8.16"
  }
 },
 "nbformat": 4,
 "nbformat_minor": 5
}
