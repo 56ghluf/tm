{
 "cells": [
  {
   "cell_type": "markdown",
   "id": "42b4899a",
   "metadata": {},
   "source": [
    "# This model uses https://hagan.okstate.edu/NNDesign.pdf p.68"
   ]
  },
  {
   "cell_type": "code",
   "execution_count": 1,
   "id": "0dbe90d1",
   "metadata": {},
   "outputs": [],
   "source": [
    "import numpy as np"
   ]
  },
  {
   "cell_type": "code",
   "execution_count": 2,
   "id": "cc3c7c36",
   "metadata": {},
   "outputs": [
    {
     "data": {
      "text/plain": [
       "array([[-1,  1, -1, -1, -1,  1,  1,  1,  1, -1,  1],\n",
       "       [-1,  1, -1, -1,  1, -1,  1, -1,  1, -1,  1],\n",
       "       [ 1, -1,  1, -1, -1, -1,  1, -1, -1, -1,  1],\n",
       "       [-1, -1, -1,  1, -1, -1, -1, -1, -1,  1, -1]])"
      ]
     },
     "execution_count": 2,
     "metadata": {},
     "output_type": "execute_result"
    }
   ],
   "source": [
    "# Define first layer's weights based off of the different prototype arrays\n",
    "# The different caracteristics are:\n",
    "# 2 legs | 4 legs | wings | fins | pointy ears | floppy ears | tail | big | hair | scales | claws\n",
    "# The different animals are:\n",
    "# Dog\n",
    "# Cat\n",
    "# Bird\n",
    "# Fish\n",
    "w_1 = np.array([\n",
    "    [-1, 1, -1, -1, -1, 1, 1, 1, 1, -1, 1],\n",
    "    [-1, 1, -1, -1, 1, -1, 1, -1, 1, -1, 1],\n",
    "    [1, -1, 1, -1, -1, -1, 1, -1, -1, -1, 1],\n",
    "    [-1, -1, -1, 1, -1, -1, -1, -1, -1, 1, -1],\n",
    "])\n",
    "w_1"
   ]
  },
  {
   "cell_type": "code",
   "execution_count": 3,
   "id": "58de05eb",
   "metadata": {},
   "outputs": [],
   "source": [
    "# Define the first layers biases\n",
    "b_1 = np.array([len(w_1[0]) for i in range(len(w_1))]).reshape(len(w_1), 1)"
   ]
  },
  {
   "cell_type": "code",
   "execution_count": 4,
   "id": "3a5f1cec",
   "metadata": {},
   "outputs": [
    {
     "data": {
      "text/plain": [
       "array([[11],\n",
       "       [11],\n",
       "       [11],\n",
       "       [11]])"
      ]
     },
     "execution_count": 4,
     "metadata": {},
     "output_type": "execute_result"
    }
   ],
   "source": [
    "b_1"
   ]
  },
  {
   "cell_type": "code",
   "execution_count": 5,
   "id": "0d49b617",
   "metadata": {},
   "outputs": [],
   "source": [
    "# Define a function to cacluate output of first layer"
   ]
  },
  {
   "cell_type": "code",
   "execution_count": 6,
   "id": "87df6597",
   "metadata": {},
   "outputs": [],
   "source": [
    "def calc_first_layer(p):\n",
    "    return np.matmul(w_1, p) + b_1"
   ]
  },
  {
   "cell_type": "code",
   "execution_count": 7,
   "id": "a75963ef",
   "metadata": {},
   "outputs": [],
   "source": [
    "# Define the weights for the second layer\n",
    "w_2 = np.identity(len(w_1))\n",
    "for i, array in enumerate(w_2):\n",
    "    w_2[i][array == 0] = -(1/(len(w_1)-1))"
   ]
  },
  {
   "cell_type": "code",
   "execution_count": 8,
   "id": "459022b8",
   "metadata": {},
   "outputs": [
    {
     "data": {
      "text/plain": [
       "array([[ 1.        , -0.33333333, -0.33333333, -0.33333333],\n",
       "       [-0.33333333,  1.        , -0.33333333, -0.33333333],\n",
       "       [-0.33333333, -0.33333333,  1.        , -0.33333333],\n",
       "       [-0.33333333, -0.33333333, -0.33333333,  1.        ]])"
      ]
     },
     "execution_count": 8,
     "metadata": {},
     "output_type": "execute_result"
    }
   ],
   "source": [
    "w_2"
   ]
  },
  {
   "cell_type": "code",
   "execution_count": 9,
   "id": "f62bd170",
   "metadata": {},
   "outputs": [],
   "source": [
    "# Define a function to compete on the second layer\n",
    "def recurrent_layer(a):\n",
    "    n = np.matmul(w_2, a)\n",
    "    output = np.ones(shape=(len(w_1), 1))\n",
    "    for i in range(len(n)):\n",
    "        output[i][0] = n[i][0] if n[i][0] > 0 else 0\n",
    "    return output"
   ]
  },
  {
   "cell_type": "markdown",
   "id": "b4537c0c",
   "metadata": {},
   "source": [
    "# Test the network"
   ]
  },
  {
   "cell_type": "code",
   "execution_count": 13,
   "id": "7e5e8d48",
   "metadata": {},
   "outputs": [],
   "source": [
    "# Define an input\n",
    "# Pig\n",
    "p = np.array([-1, 1, -1, -1, 1, -1, 1, 1, 1, -1, -1]).reshape(11, 1)"
   ]
  },
  {
   "cell_type": "code",
   "execution_count": 14,
   "id": "4863a43d",
   "metadata": {},
   "outputs": [],
   "source": [
    "# Get the output for the first layer\n",
    "a_1 = calc_first_layer(p)"
   ]
  },
  {
   "cell_type": "code",
   "execution_count": 15,
   "id": "4890a472",
   "metadata": {},
   "outputs": [
    {
     "data": {
      "text/plain": [
       "array([[16],\n",
       "       [18],\n",
       "       [ 8],\n",
       "       [ 8]])"
      ]
     },
     "execution_count": 15,
     "metadata": {},
     "output_type": "execute_result"
    }
   ],
   "source": [
    "a_1"
   ]
  },
  {
   "cell_type": "code",
   "execution_count": 16,
   "id": "5597f5ad",
   "metadata": {},
   "outputs": [
    {
     "data": {
      "text/plain": [
       "array([[0.       ],\n",
       "       [4.9382716],\n",
       "       [0.       ],\n",
       "       [0.       ]])"
      ]
     },
     "execution_count": 16,
     "metadata": {},
     "output_type": "execute_result"
    }
   ],
   "source": [
    "# Now compete for which one is best\n",
    "a_2 = a_1\n",
    "while True:\n",
    "    old_a_2 = a_2\n",
    "    a_2 = recurrent_layer(a_2)\n",
    "    same = False\n",
    "    for i in range(len(a_2)):\n",
    "        if a_2[i] != old_a_2[i]:\n",
    "            break\n",
    "        same = True\n",
    "\n",
    "    if same == True:\n",
    "        break\n",
    "        \n",
    "a_2"
   ]
  },
  {
   "cell_type": "code",
   "execution_count": null,
   "id": "980895fe",
   "metadata": {},
   "outputs": [],
   "source": []
  }
 ],
 "metadata": {
  "kernelspec": {
   "display_name": "tm",
   "language": "python",
   "name": "tm"
  },
  "language_info": {
   "codemirror_mode": {
    "name": "ipython",
    "version": 3
   },
   "file_extension": ".py",
   "mimetype": "text/x-python",
   "name": "python",
   "nbconvert_exporter": "python",
   "pygments_lexer": "ipython3",
   "version": "3.11.4"
  }
 },
 "nbformat": 4,
 "nbformat_minor": 5
}
