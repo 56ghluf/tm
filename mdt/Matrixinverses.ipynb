{
 "cells": [
  {
   "cell_type": "code",
   "execution_count": 1,
   "id": "8d777d68",
   "metadata": {},
   "outputs": [],
   "source": [
    "# Using method with cofactors"
   ]
  },
  {
   "cell_type": "code",
   "execution_count": 4,
   "id": "7f72d4d2",
   "metadata": {},
   "outputs": [],
   "source": [
    "import numpy as np"
   ]
  },
  {
   "cell_type": "code",
   "execution_count": 115,
   "id": "c079ca87",
   "metadata": {},
   "outputs": [],
   "source": [
    "def get_minor(A, i, j):\n",
    "    useful_elements = np.array([])\n",
    "    for i_ in range(len(A)):\n",
    "        if i == i_:\n",
    "            continue\n",
    "        for j_ in range(len(A[0])):\n",
    "            if j == j_:\n",
    "                continue\n",
    "            \n",
    "            useful_elements = np.append(useful_elements, A[i_][j_])\n",
    "            \n",
    "    return np.linalg.det(useful_elements.reshape((A.shape[0]-1, A.shape[1]-1)))\n",
    "\n",
    "def get_cofactors(A):\n",
    "    cofactors = np.empty_like(A, dtype=float)\n",
    "    for i in range(len(A)):\n",
    "        for j in range(len(A[0])):\n",
    "            cofactors[i][j] = ((-1)**(i+j+2))*get_minor(A, i, j)\n",
    "    return cofactors\n",
    "\n",
    "def get_inverse(A):\n",
    "    detA = np.linalg.det(A)\n",
    "    if detA == 0:\n",
    "        return None\n",
    "    return (1/detA) * get_cofactors(A).T"
   ]
  },
  {
   "cell_type": "code",
   "execution_count": 117,
   "id": "5dc8eea8",
   "metadata": {},
   "outputs": [
    {
     "name": "stdout",
     "output_type": "stream",
     "text": [
      "[[-0.5         1.         -0.5       ]\n",
      " [-0.5        -2.          1.5       ]\n",
      " [ 0.83333333  1.         -0.83333333]]\n",
      "[[1.0000000e+00 0.0000000e+00 4.4408921e-16]\n",
      " [8.8817842e-16 1.0000000e+00 8.8817842e-16]\n",
      " [0.0000000e+00 0.0000000e+00 1.0000000e+00]]\n"
     ]
    }
   ],
   "source": [
    "print(get_inverse(A))\n",
    "print(np.matmul(A, get_inverse(A)))"
   ]
  },
  {
   "cell_type": "code",
   "execution_count": null,
   "id": "a4790b14",
   "metadata": {},
   "outputs": [],
   "source": []
  }
 ],
 "metadata": {
  "kernelspec": {
   "display_name": "tensorflow25",
   "language": "python",
   "name": "tensorflow25"
  },
  "language_info": {
   "codemirror_mode": {
    "name": "ipython",
    "version": 3
   },
   "file_extension": ".py",
   "mimetype": "text/x-python",
   "name": "python",
   "nbconvert_exporter": "python",
   "pygments_lexer": "ipython3",
   "version": "3.8.16"
  }
 },
 "nbformat": 4,
 "nbformat_minor": 5
}
