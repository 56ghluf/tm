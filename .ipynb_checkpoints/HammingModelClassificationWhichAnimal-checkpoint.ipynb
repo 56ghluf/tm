{
 "cells": [
  {
   "cell_type": "markdown",
   "id": "3a2add0b",
   "metadata": {},
   "source": [
    "This model uses https://hagan.okstate.edu/NNDesign.pdf p.68"
   ]
  },
  {
   "cell_type": "code",
   "execution_count": null,
   "id": "7f952345",
   "metadata": {},
   "outputs": [],
   "source": [
    "# Define first layer's weights based off of the different prototype arrays\n",
    "# The different caracteristics are:\n",
    "# 2 legs | 4 legs | wings | fins | pointy ears | tail | big | hair | scales | claws\n",
    "# The different animals are:\n",
    "# Dog\n",
    "# Cat\n",
    "# Bird\n",
    "# Fish\n",
    "w_1 = [\n",
    "    [-1, ]\n",
    "]"
   ]
  }
 ],
 "metadata": {
  "kernelspec": {
   "display_name": "tensorflow25",
   "language": "python",
   "name": "tensorflow25"
  },
  "language_info": {
   "codemirror_mode": {
    "name": "ipython",
    "version": 3
   },
   "file_extension": ".py",
   "mimetype": "text/x-python",
   "name": "python",
   "nbconvert_exporter": "python",
   "pygments_lexer": "ipython3",
   "version": "3.8.16"
  }
 },
 "nbformat": 4,
 "nbformat_minor": 5
}
