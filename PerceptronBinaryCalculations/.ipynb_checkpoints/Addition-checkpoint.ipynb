{
 "cells": [
  {
   "cell_type": "code",
   "execution_count": 69,
   "id": "649209c5",
   "metadata": {},
   "outputs": [],
   "source": [
    "# Imports\n",
    "import numpy as np\n",
    "from collections import OrderedDict"
   ]
  },
  {
   "cell_type": "code",
   "execution_count": 70,
   "id": "dd00a3fb",
   "metadata": {},
   "outputs": [],
   "source": [
    "# Initialize the network architecture\n",
    "R = 4\n",
    "S = R + 1 # Need the plus one if a one gets carried\n",
    "\n",
    "W = np.empty(shape=(S, R), dtype=float)"
   ]
  },
  {
   "cell_type": "code",
   "execution_count": 112,
   "id": "94db9b56",
   "metadata": {},
   "outputs": [
    {
     "name": "stdout",
     "output_type": "stream",
     "text": [
      "[['00' '00']\n",
      " ['00' '01']\n",
      " ['00' '10']\n",
      " ['00' '11']\n",
      " ['01' '01']\n",
      " ['01' '10']\n",
      " ['01' '11']\n",
      " ['10' '10']\n",
      " ['10' '11']\n",
      " ['11' '11']]\n",
      "['000', '001', '010', '011', '010', '011', '100', '100', '101', '110']\n"
     ]
    }
   ],
   "source": [
    "# Function to create binary string from number\n",
    "def bin_str_from_num(num, length):\n",
    "    num_str = str(bin(num)).split('b')[-1]\n",
    "    if len(num_str) < length:\n",
    "        num_str = (length - len(num_str)) * '0' + num_str\n",
    "    return num_str\n",
    "\n",
    "# Create the inputs and outupts\n",
    "raw_inputs = np.array(range(2**R), dtype=int)\n",
    "\n",
    "inputs_str = []\n",
    "\n",
    "# Populate inputs_str\n",
    "for num in raw_inputs:\n",
    "    num_str = bin_str_from_num(num, R)\n",
    "    inputs_str.append((num_str[0:R//2], num_str[R//2:]))\n",
    "\n",
    "# Sort the inputs\n",
    "for i in range(len(inputs_str)):\n",
    "    inputs_str[i] = sorted(inputs_str[i])\n",
    "\n",
    "# Remove duplicates\n",
    "result = []\n",
    "[result.append(x) for x in inputs_str if x not in result]\n",
    "inputs_str = result\n",
    "\n",
    "# Generate outputs\n",
    "outputs_str = []\n",
    "for nums in inputs_str:\n",
    "    length = len(bin(int('1'*(R//2), 2) + int('1'*(R//2 + R%2), 2)).split('b')[-1])\n",
    "    outputs_str.append(bin_str_from_num(int(nums[0], 2) + int(nums[1], 2), length))\n",
    "    \n",
    "length = len(bin(int('1'*(R//2), 2) + int('1'*(R//2 + R%2), 2)).split('b')[-1])\n",
    "\n",
    "# Convert inputs_str and outputs_str to the format for training\n",
    "\n"
   ]
  },
  {
   "cell_type": "code",
   "execution_count": 50,
   "id": "5ca39681",
   "metadata": {
    "scrolled": true
   },
   "outputs": [
    {
     "data": {
      "text/plain": [
       "array([ 0,  1,  2,  3,  4,  5,  6,  7,  8,  9, 10, 11, 12, 13, 14, 15])"
      ]
     },
     "execution_count": 50,
     "metadata": {},
     "output_type": "execute_result"
    }
   ],
   "source": [
    "raw_inputs"
   ]
  },
  {
   "cell_type": "code",
   "execution_count": 53,
   "id": "0154179b",
   "metadata": {},
   "outputs": [
    {
     "name": "stdout",
     "output_type": "stream",
     "text": [
      "0b0\n",
      "0b1\n",
      "0b10\n",
      "0b11\n",
      "0b100\n",
      "0b101\n",
      "0b110\n",
      "0b111\n",
      "0b1000\n",
      "0b1001\n",
      "0b1010\n",
      "0b1011\n",
      "0b1100\n",
      "0b1101\n",
      "0b1110\n",
      "0b1111\n"
     ]
    }
   ],
   "source": [
    "for num in raw_inputs:\n",
    "    print(str(bin(num)))"
   ]
  },
  {
   "cell_type": "code",
   "execution_count": 92,
   "id": "54bc63d2",
   "metadata": {},
   "outputs": [],
   "source": [
    "s = ['111', '001', '111111', '0']"
   ]
  },
  {
   "cell_type": "code",
   "execution_count": 93,
   "id": "a68ba20a",
   "metadata": {},
   "outputs": [
    {
     "data": {
      "text/plain": [
       "'111111'"
      ]
     },
     "execution_count": 93,
     "metadata": {},
     "output_type": "execute_result"
    }
   ],
   "source": [
    "max(s, key=len)"
   ]
  },
  {
   "cell_type": "code",
   "execution_count": null,
   "id": "0d1ef047",
   "metadata": {},
   "outputs": [],
   "source": []
  }
 ],
 "metadata": {
  "kernelspec": {
   "display_name": "tensorflow25",
   "language": "python",
   "name": "tensorflow25"
  },
  "language_info": {
   "codemirror_mode": {
    "name": "ipython",
    "version": 3
   },
   "file_extension": ".py",
   "mimetype": "text/x-python",
   "name": "python",
   "nbconvert_exporter": "python",
   "pygments_lexer": "ipython3",
   "version": "3.8.16"
  }
 },
 "nbformat": 4,
 "nbformat_minor": 5
}
