{
 "cells": [
  {
   "cell_type": "code",
   "execution_count": 2,
   "id": "649209c5",
   "metadata": {},
   "outputs": [],
   "source": [
    "# Imports\n",
    "import numpy as np\n",
    "from collections import OrderedDict"
   ]
  },
  {
   "cell_type": "code",
   "execution_count": 109,
   "id": "dd00a3fb",
   "metadata": {},
   "outputs": [],
   "source": [
    "# Initialize the network architecture\n",
    "R = 4\n",
    "S = round(R/2) + 1 # Need the plus one if a one gets carried\n",
    "\n",
    "W = np.empty(shape=(S, R), dtype=float)"
   ]
  },
  {
   "cell_type": "code",
   "execution_count": 110,
   "id": "94db9b56",
   "metadata": {},
   "outputs": [],
   "source": [
    "# Function to create binary string from number\n",
    "def bin_str_from_num(num, length):\n",
    "    num_str = str(bin(num)).split('b')[-1]\n",
    "    if len(num_str) < length:\n",
    "        num_str = (length - len(num_str)) * '0' + num_str\n",
    "    return num_str\n",
    "\n",
    "# Create the inputs and outupts\n",
    "raw_inputs = np.array(range(2**R), dtype=int)\n",
    "\n",
    "inputs_str = []\n",
    "\n",
    "# Populate inputs_str\n",
    "for num in raw_inputs:\n",
    "    num_str = bin_str_from_num(num, R)\n",
    "    inputs_str.append((num_str[0:R//2], num_str[R//2:]))\n",
    "    \n",
    "# Sort the input pairs\n",
    "for i in range(len(inputs_str)):\n",
    "    inputs_str[i] = sorted(inputs_str[i])\n",
    "\n",
    "# Remove duplicates\n",
    "result = []\n",
    "[result.append(x) for x in inputs_str if x not in result]\n",
    "inputs_str = result\n",
    "\n",
    "# Generate outputs\n",
    "outputs = np.empty([len(inputs_str), S], dtype=int)\n",
    "for i, nums in enumerate(inputs_str):\n",
    "    outputs[i] = np.array([int(char) for char in bin_str_from_num(int(nums[0], 2) + int(nums[1], 2), S)])\n",
    "    \n",
    "length = len(bin(int('1'*(R//2), 2) + int('1'*(R//2 + R%2), 2)).split('b')[-1])\n",
    "\n",
    "# Convert inputs_str\n",
    "inputs = np.empty([len(inputs_str), R], dtype=int)\n",
    "\n",
    "for i, input in enumerate(inputs_str):\n",
    "    inputs[i] = np.array([int(input[0][0]), int(input[0][1]), int(input[1][0]), int(input[1][1])])"
   ]
  },
  {
   "cell_type": "code",
   "execution_count": 111,
   "id": "5ca39681",
   "metadata": {
    "scrolled": true
   },
   "outputs": [
    {
     "data": {
      "text/plain": [
       "array([[0, 0, 0, 0],\n",
       "       [0, 0, 0, 1],\n",
       "       [0, 0, 1, 0],\n",
       "       [0, 0, 1, 1],\n",
       "       [0, 1, 0, 1],\n",
       "       [0, 1, 1, 0],\n",
       "       [0, 1, 1, 1],\n",
       "       [1, 0, 1, 0],\n",
       "       [1, 0, 1, 1],\n",
       "       [1, 1, 1, 1]])"
      ]
     },
     "execution_count": 111,
     "metadata": {},
     "output_type": "execute_result"
    }
   ],
   "source": [
    "inputs"
   ]
  },
  {
   "cell_type": "code",
   "execution_count": 147,
   "id": "91c5764d-4ff8-4ea0-af0f-61af63f7eccb",
   "metadata": {},
   "outputs": [
    {
     "data": {
      "text/plain": [
       "array([[0, 0, 0],\n",
       "       [0, 0, 1],\n",
       "       [0, 1, 0],\n",
       "       [0, 1, 1],\n",
       "       [0, 1, 0],\n",
       "       [0, 1, 1],\n",
       "       [1, 0, 0],\n",
       "       [1, 0, 0],\n",
       "       [1, 0, 1],\n",
       "       [1, 1, 0]])"
      ]
     },
     "execution_count": 147,
     "metadata": {},
     "output_type": "execute_result"
    }
   ],
   "source": [
    "outputs"
   ]
  },
  {
   "cell_type": "code",
   "execution_count": 170,
   "id": "5bedbc08-bdeb-4f7f-935f-b1b847e48d32",
   "metadata": {},
   "outputs": [],
   "source": [
    "# Initialize empty weights and bias (only one layer)\n",
    "\n",
    "W = np.random.randint(0, 1, (S, R), dtype=int)\n",
    "b = np.random.randint(0, 1, (S, 1), dtype=int)"
   ]
  },
  {
   "cell_type": "code",
   "execution_count": 171,
   "id": "7b91788e-c7da-4400-8cce-e74c9fc3fbf6",
   "metadata": {},
   "outputs": [],
   "source": [
    "# Hardlimit function\n",
    "def hardlim(x):\n",
    "    if x >= 0:\n",
    "        return 1\n",
    "    return 0\n",
    "\n",
    "vec_hardlim = np.vectorize(hardlim)\n",
    "\n",
    "# Define function to calculate error\n",
    "def e(input, output):\n",
    "    return np.matmul(W, input.reshape(R, 1)) + b - output.reshape(S, 1)"
   ]
  },
  {
   "cell_type": "code",
   "execution_count": 172,
   "id": "c475a5e9-e042-455c-9c9c-003f87752363",
   "metadata": {},
   "outputs": [],
   "source": [
    "for i in range(100):\n",
    "    for i in range(len(inputs)):\n",
    "        W = W + 0.01*np.matmul(e(inputs[i], outputs[i]), inputs[i].reshape(R, 1).T)\n",
    "        b = b + 0.01*e(inputs[i], outputs[i])"
   ]
  },
  {
   "cell_type": "code",
   "execution_count": 174,
   "id": "0b0b0658-cd5c-41a4-b509-eb7567d98802",
   "metadata": {},
   "outputs": [
    {
     "data": {
      "text/plain": [
       "array([[-3.98090785e+08, -4.89992842e+08, -8.11213688e+08,\n",
       "        -6.99665366e+08],\n",
       "       [-4.52850986e+08, -5.57394838e+08, -9.22801880e+08,\n",
       "        -7.95909300e+08],\n",
       "       [-3.53928521e+08, -4.35635417e+08, -7.21221579e+08,\n",
       "        -6.22047892e+08]])"
      ]
     },
     "execution_count": 174,
     "metadata": {},
     "output_type": "execute_result"
    }
   ],
   "source": [
    "W"
   ]
  },
  {
   "cell_type": "code",
   "execution_count": 175,
   "id": "49a95ca8-8720-484e-a76d-3cb0e07312c1",
   "metadata": {},
   "outputs": [
    {
     "name": "stdout",
     "output_type": "stream",
     "text": [
      "[[-1.03983427e+09]\n",
      " [-1.18287085e+09]\n",
      " [-9.24480111e+08]]\n",
      "[[-1.73949964e+09]\n",
      " [-1.97878015e+09]\n",
      " [-1.54652800e+09]]\n",
      "[[-1.85104796e+09]\n",
      " [-2.10567273e+09]\n",
      " [-1.64570169e+09]]\n",
      "[[-2.55071333e+09]\n",
      " [-2.90158203e+09]\n",
      " [-2.26774958e+09]]\n",
      "[[-2.22949248e+09]\n",
      " [-2.53617499e+09]\n",
      " [-1.98216342e+09]]\n",
      "[[-2.34104080e+09]\n",
      " [-2.66306757e+09]\n",
      " [-2.08133711e+09]]\n",
      "[[-3.04070617e+09]\n",
      " [-3.45897687e+09]\n",
      " [-2.70338500e+09]]\n",
      "[[-2.24913875e+09]\n",
      " [-2.55852372e+09]\n",
      " [-1.99963021e+09]]\n",
      "[[-2.94880411e+09]\n",
      " [-3.35443302e+09]\n",
      " [-2.62167810e+09]]\n",
      "[[-3.43879695e+09]\n",
      " [-3.91182786e+09]\n",
      " [-3.05731352e+09]]\n"
     ]
    }
   ],
   "source": [
    "for i in range(len(inputs)):\n",
    "    print(e(inputs[i], outputs[i]))"
   ]
  },
  {
   "cell_type": "code",
   "execution_count": null,
   "id": "57a8a95b-bc6f-40e7-b735-789f63e53c55",
   "metadata": {},
   "outputs": [],
   "source": []
  }
 ],
 "metadata": {
  "kernelspec": {
   "display_name": "tm",
   "language": "python",
   "name": "tm"
  },
  "language_info": {
   "codemirror_mode": {
    "name": "ipython",
    "version": 3
   },
   "file_extension": ".py",
   "mimetype": "text/x-python",
   "name": "python",
   "nbconvert_exporter": "python",
   "pygments_lexer": "ipython3",
   "version": "3.11.4"
  }
 },
 "nbformat": 4,
 "nbformat_minor": 5
}
