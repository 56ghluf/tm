{
 "cells": [
  {
   "cell_type": "code",
   "execution_count": 1,
   "id": "649209c5",
   "metadata": {},
   "outputs": [],
   "source": [
    "# Imports\n",
    "import numpy as np\n",
    "from collections import OrderedDict"
   ]
  },
  {
   "cell_type": "code",
   "execution_count": 11,
   "id": "dd00a3fb",
   "metadata": {},
   "outputs": [],
   "source": [
    "# Initialize the network architecture\n",
    "R = 4\n",
    "S = round(R/2) + 1 # Need the plus one if a one gets carried\n",
    "\n",
    "W = np.empty(shape=(S, R), dtype=float)"
   ]
  },
  {
   "cell_type": "code",
   "execution_count": 14,
   "id": "94db9b56",
   "metadata": {},
   "outputs": [
    {
     "name": "stdout",
     "output_type": "stream",
     "text": [
      "[('00', '00'), ('00', '01'), ('00', '10'), ('00', '11'), ('01', '00'), ('01', '01'), ('01', '10'), ('01', '11'), ('10', '00'), ('10', '01'), ('10', '10'), ('10', '11'), ('11', '00'), ('11', '01'), ('11', '10'), ('11', '11')]\n",
      "[['00', '00'], ['00', '01'], ['00', '10'], ['00', '11'], ['00', '01'], ['01', '01'], ['01', '10'], ['01', '11'], ['00', '10'], ['01', '10'], ['10', '10'], ['10', '11'], ['00', '11'], ['01', '11'], ['10', '11'], ['11', '11']]\n"
     ]
    }
   ],
   "source": [
    "# Function to create binary string from number\n",
    "def bin_str_from_num(num, length):\n",
    "    num_str = str(bin(num)).split('b')[-1]\n",
    "    if len(num_str) < length:\n",
    "        num_str = (length - len(num_str)) * '0' + num_str\n",
    "    return num_str\n",
    "\n",
    "# Create the inputs and outupts\n",
    "raw_inputs = np.array(range(2**R), dtype=int)\n",
    "\n",
    "inputs_str = []\n",
    "\n",
    "# Populate inputs_str\n",
    "for num in raw_inputs:\n",
    "    num_str = bin_str_from_num(num, R)\n",
    "    inputs_str.append((num_str[0:R//2], num_str[R//2:]))\n",
    "    \n",
    "print(inputs_str)\n",
    "\n",
    "# Sort the input pairs\n",
    "for i in range(len(inputs_str)):\n",
    "    inputs_str[i] = sorted(inputs_str[i])\n",
    "\n",
    "print(inputs_str)\n",
    "\n",
    "# Remove duplicates\n",
    "result = []\n",
    "[result.append(x) for x in inputs_str if x not in result]\n",
    "inputs_str = result\n",
    "\n",
    "# Generate outputs\n",
    "outputs_str = []\n",
    "for nums in inputs_str:\n",
    "    outputs_str.append([char for char in bin_str_from_num(int(nums[0], 2) + int(nums[1], 2), S)])\n",
    "    \n",
    "length = len(bin(int('1'*(R//2), 2) + int('1'*(R//2 + R%2), 2)).split('b')[-1])\n",
    "\n",
    "# Convert inputs_str and outputs_str to the format for training\n",
    "\n"
   ]
  },
  {
   "cell_type": "code",
   "execution_count": 20,
   "id": "5ca39681",
   "metadata": {
    "scrolled": true
   },
   "outputs": [
    {
     "data": {
      "text/plain": [
       "[['00', '00'],\n",
       " ['00', '01'],\n",
       " ['00', '10'],\n",
       " ['00', '11'],\n",
       " ['01', '01'],\n",
       " ['01', '10'],\n",
       " ['01', '11'],\n",
       " ['10', '10'],\n",
       " ['10', '11'],\n",
       " ['11', '11']]"
      ]
     },
     "execution_count": 20,
     "metadata": {},
     "output_type": "execute_result"
    }
   ],
   "source": [
    "inputs_str"
   ]
  },
  {
   "cell_type": "code",
   "execution_count": 21,
   "id": "91c5764d-4ff8-4ea0-af0f-61af63f7eccb",
   "metadata": {},
   "outputs": [
    {
     "data": {
      "text/plain": [
       "[['0', '0', '0'],\n",
       " ['0', '0', '1'],\n",
       " ['0', '1', '0'],\n",
       " ['0', '1', '1'],\n",
       " ['0', '1', '0'],\n",
       " ['0', '1', '1'],\n",
       " ['1', '0', '0'],\n",
       " ['1', '0', '0'],\n",
       " ['1', '0', '1'],\n",
       " ['1', '1', '0']]"
      ]
     },
     "execution_count": 21,
     "metadata": {},
     "output_type": "execute_result"
    }
   ],
   "source": [
    "outputs_str"
   ]
  },
  {
   "cell_type": "code",
   "execution_count": null,
   "id": "1f25ffb4-de74-4bbb-a91d-9571e464eebc",
   "metadata": {},
   "outputs": [],
   "source": []
  }
 ],
 "metadata": {
  "kernelspec": {
   "display_name": "tm",
   "language": "python",
   "name": "tm"
  },
  "language_info": {
   "codemirror_mode": {
    "name": "ipython",
    "version": 3
   },
   "file_extension": ".py",
   "mimetype": "text/x-python",
   "name": "python",
   "nbconvert_exporter": "python",
   "pygments_lexer": "ipython3",
   "version": "3.11.4"
  }
 },
 "nbformat": 4,
 "nbformat_minor": 5
}
